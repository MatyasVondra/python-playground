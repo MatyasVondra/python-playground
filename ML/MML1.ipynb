{
 "cells": [
  {
   "cell_type": "code",
   "execution_count": 19,
   "id": "d6dc3b22",
   "metadata": {},
   "outputs": [
    {
     "name": "stdout",
     "output_type": "stream",
     "text": [
      "hi\n"
     ]
    }
   ],
   "source": [
    "print(\"hi\")"
   ]
  },
  {
   "cell_type": "markdown",
   "id": "b64461bb",
   "metadata": {},
   "source": [
    "# Derivace"
   ]
  },
  {
   "cell_type": "code",
   "execution_count": 52,
   "id": "a8364da8",
   "metadata": {},
   "outputs": [],
   "source": [
    "import matplotlib.pyplot as plt\n",
    "import scipy as sc\n",
    "import numpy as np"
   ]
  },
  {
   "cell_type": "code",
   "execution_count": 54,
   "id": "ba272e18",
   "metadata": {},
   "outputs": [
    {
     "name": "stdout",
     "output_type": "stream",
     "text": [
      "Requirement already satisfied: scipy in /Library/Frameworks/Python.framework/Versions/3.8/lib/python3.8/site-packages (1.10.1)\n",
      "Requirement already satisfied: numpy<1.27.0,>=1.19.5 in /Library/Frameworks/Python.framework/Versions/3.8/lib/python3.8/site-packages (from scipy) (1.24.2)\n",
      "Note: you may need to restart the kernel to use updated packages.\n"
     ]
    }
   ],
   "source": [
    "%pip install scipy"
   ]
  },
  {
   "cell_type": "code",
   "execution_count": null,
   "id": "b424479f",
   "metadata": {},
   "outputs": [],
   "source": []
  },
  {
   "cell_type": "code",
   "execution_count": 12,
   "id": "e66a3d07",
   "metadata": {},
   "outputs": [],
   "source": [
    "def quadratic(x):\n",
    "    return x**2\n",
    "\n",
    "def derivace(func, x, h=0.001):\n",
    "    return (func(x+h)-func(x))/h"
   ]
  },
  {
   "cell_type": "code",
   "execution_count": 13,
   "id": "5dfc420f",
   "metadata": {},
   "outputs": [
    {
     "data": {
      "text/plain": [
       "20.000999999993496"
      ]
     },
     "execution_count": 13,
     "metadata": {},
     "output_type": "execute_result"
    }
   ],
   "source": [
    "derivace(quadratic, 10)"
   ]
  },
  {
   "cell_type": "code",
   "execution_count": 23,
   "id": "add1e797",
   "metadata": {},
   "outputs": [
    {
     "data": {
      "text/plain": [
       "41.0"
      ]
     },
     "execution_count": 23,
     "metadata": {},
     "output_type": "execute_result"
    }
   ],
   "source": [
    "derivace(quadratic, 20, h=1)"
   ]
  },
  {
   "cell_type": "markdown",
   "id": "10945851",
   "metadata": {},
   "source": [
    "# Scipy linearni optimalizace"
   ]
  },
  {
   "cell_type": "code",
   "execution_count": 56,
   "id": "7e64edcf",
   "metadata": {
    "scrolled": true
   },
   "outputs": [],
   "source": [
    "from scipy.optimize import linprog"
   ]
  },
  {
   "cell_type": "code",
   "execution_count": null,
   "id": "6a0017f7",
   "metadata": {},
   "outputs": [],
   "source": []
  },
  {
   "cell_type": "code",
   "execution_count": null,
   "id": "fd352058",
   "metadata": {},
   "outputs": [],
   "source": []
  },
  {
   "cell_type": "code",
   "execution_count": 29,
   "id": "58cd40b8",
   "metadata": {},
   "outputs": [
    {
     "name": "stdout",
     "output_type": "stream",
     "text": [
      "Object `lingprog` not found.\n"
     ]
    }
   ],
   "source": [
    "?linprog"
   ]
  },
  {
   "cell_type": "code",
   "execution_count": 67,
   "id": "7af1bdd2",
   "metadata": {},
   "outputs": [],
   "source": [
    "c = [-10, -30]"
   ]
  },
  {
   "cell_type": "code",
   "execution_count": null,
   "id": "87bc605f",
   "metadata": {},
   "outputs": [],
   "source": []
  },
  {
   "cell_type": "code",
   "execution_count": 68,
   "id": "381800e9",
   "metadata": {},
   "outputs": [],
   "source": [
    "A = [[1, 50], [2,10], [-1, -1], [-1, 0], [0, -1]] #matice po radcich"
   ]
  },
  {
   "cell_type": "code",
   "execution_count": 69,
   "id": "72013bb4",
   "metadata": {},
   "outputs": [],
   "source": [
    "b = [1200, 500, -10, 0, 0]"
   ]
  },
  {
   "cell_type": "code",
   "execution_count": 70,
   "id": "4df80e02",
   "metadata": {},
   "outputs": [],
   "source": [
    "res = linprog(c, A_ub=A, b_ub=b)"
   ]
  },
  {
   "cell_type": "code",
   "execution_count": 71,
   "id": "6b4d43dd",
   "metadata": {},
   "outputs": [
    {
     "data": {
      "text/plain": [
       "        message: Optimization terminated successfully. (HiGHS Status 7: Optimal)\n",
       "        success: True\n",
       "         status: 0\n",
       "            fun: -2500.0\n",
       "              x: [ 2.500e+02  0.000e+00]\n",
       "            nit: 2\n",
       "          lower:  residual: [ 2.500e+02  0.000e+00]\n",
       "                 marginals: [ 0.000e+00  2.000e+01]\n",
       "          upper:  residual: [       inf        inf]\n",
       "                 marginals: [ 0.000e+00  0.000e+00]\n",
       "          eqlin:  residual: []\n",
       "                 marginals: []\n",
       "        ineqlin:  residual: [ 9.500e+02  0.000e+00  2.400e+02  2.500e+02\n",
       "                              0.000e+00]\n",
       "                 marginals: [-0.000e+00 -5.000e+00 -0.000e+00 -0.000e+00\n",
       "                             -0.000e+00]\n",
       " mip_node_count: 0\n",
       " mip_dual_bound: 0.0\n",
       "        mip_gap: 0.0"
      ]
     },
     "execution_count": 71,
     "metadata": {},
     "output_type": "execute_result"
    }
   ],
   "source": [
    "res"
   ]
  },
  {
   "cell_type": "code",
   "execution_count": 72,
   "id": "26c84256",
   "metadata": {},
   "outputs": [
    {
     "data": {
      "text/plain": [
       "array([250.,   0.])"
      ]
     },
     "execution_count": 72,
     "metadata": {},
     "output_type": "execute_result"
    }
   ],
   "source": [
    "res.x"
   ]
  },
  {
   "cell_type": "code",
   "execution_count": null,
   "id": "0be705f4",
   "metadata": {},
   "outputs": [],
   "source": []
  }
 ],
 "metadata": {
  "kernelspec": {
   "display_name": "Python 3 (ipykernel)",
   "language": "python",
   "name": "python3"
  },
  "language_info": {
   "codemirror_mode": {
    "name": "ipython",
    "version": 3
   },
   "file_extension": ".py",
   "mimetype": "text/x-python",
   "name": "python",
   "nbconvert_exporter": "python",
   "pygments_lexer": "ipython3",
   "version": "3.8.6"
  }
 },
 "nbformat": 4,
 "nbformat_minor": 5
}
