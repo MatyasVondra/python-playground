{
 "cells": [
  {
   "cell_type": "code",
   "execution_count": 1,
   "id": "16ea5f5d",
   "metadata": {},
   "outputs": [],
   "source": [
    "import pandas as pd\n",
    "import numpy as np\n",
    "from sklearn.preprocessing import MinMaxScaler\n",
    "\n",
    "# Načtení dat\n",
    "data = pd.read_csv(\"BTC-Daily.csv\")  \n",
    "#invertuji data aby nejstarsí ceny byli nahore, a nejnovejsí dole, dále prevádím na objekt pro LSTM - reshape\n",
    "prices = data['close'][::-1].values.reshape(-1,1) \n",
    "prices = (np.log(prices))#logaritmus cen, kvuli volatylite"
   ]
  },
  {
   "cell_type": "code",
   "execution_count": 2,
   "id": "772424b2",
   "metadata": {
    "scrolled": true
   },
   "outputs": [
    {
     "data": {
      "text/html": [
       "<div>\n",
       "<style scoped>\n",
       "    .dataframe tbody tr th:only-of-type {\n",
       "        vertical-align: middle;\n",
       "    }\n",
       "\n",
       "    .dataframe tbody tr th {\n",
       "        vertical-align: top;\n",
       "    }\n",
       "\n",
       "    .dataframe thead th {\n",
       "        text-align: right;\n",
       "    }\n",
       "</style>\n",
       "<table border=\"1\" class=\"dataframe\">\n",
       "  <thead>\n",
       "    <tr style=\"text-align: right;\">\n",
       "      <th></th>\n",
       "      <th>unix</th>\n",
       "      <th>date</th>\n",
       "      <th>symbol</th>\n",
       "      <th>open</th>\n",
       "      <th>high</th>\n",
       "      <th>low</th>\n",
       "      <th>close</th>\n",
       "      <th>Volume BTC</th>\n",
       "      <th>Volume USD</th>\n",
       "    </tr>\n",
       "  </thead>\n",
       "  <tbody>\n",
       "    <tr>\n",
       "      <th>0</th>\n",
       "      <td>1646092800</td>\n",
       "      <td>2022-03-01 00:00:00</td>\n",
       "      <td>BTC/USD</td>\n",
       "      <td>43221.71</td>\n",
       "      <td>43626.49</td>\n",
       "      <td>43185.48</td>\n",
       "      <td>43185.48</td>\n",
       "      <td>4.900629e+01</td>\n",
       "      <td>2.116360e+06</td>\n",
       "    </tr>\n",
       "    <tr>\n",
       "      <th>1</th>\n",
       "      <td>1646006400</td>\n",
       "      <td>2022-02-28 00:00:00</td>\n",
       "      <td>BTC/USD</td>\n",
       "      <td>37717.10</td>\n",
       "      <td>44256.08</td>\n",
       "      <td>37468.99</td>\n",
       "      <td>43178.98</td>\n",
       "      <td>3.160618e+03</td>\n",
       "      <td>1.364723e+08</td>\n",
       "    </tr>\n",
       "    <tr>\n",
       "      <th>2</th>\n",
       "      <td>1645920000</td>\n",
       "      <td>2022-02-27 00:00:00</td>\n",
       "      <td>BTC/USD</td>\n",
       "      <td>39146.66</td>\n",
       "      <td>39886.92</td>\n",
       "      <td>37015.74</td>\n",
       "      <td>37712.68</td>\n",
       "      <td>1.701817e+03</td>\n",
       "      <td>6.418008e+07</td>\n",
       "    </tr>\n",
       "    <tr>\n",
       "      <th>3</th>\n",
       "      <td>1645833600</td>\n",
       "      <td>2022-02-26 00:00:00</td>\n",
       "      <td>BTC/USD</td>\n",
       "      <td>39242.64</td>\n",
       "      <td>40330.99</td>\n",
       "      <td>38600.00</td>\n",
       "      <td>39146.66</td>\n",
       "      <td>9.127241e+02</td>\n",
       "      <td>3.573010e+07</td>\n",
       "    </tr>\n",
       "    <tr>\n",
       "      <th>4</th>\n",
       "      <td>1645747200</td>\n",
       "      <td>2022-02-25 00:00:00</td>\n",
       "      <td>BTC/USD</td>\n",
       "      <td>38360.93</td>\n",
       "      <td>39727.97</td>\n",
       "      <td>38027.61</td>\n",
       "      <td>39231.64</td>\n",
       "      <td>2.202852e+03</td>\n",
       "      <td>8.642149e+07</td>\n",
       "    </tr>\n",
       "    <tr>\n",
       "      <th>...</th>\n",
       "      <td>...</td>\n",
       "      <td>...</td>\n",
       "      <td>...</td>\n",
       "      <td>...</td>\n",
       "      <td>...</td>\n",
       "      <td>...</td>\n",
       "      <td>...</td>\n",
       "      <td>...</td>\n",
       "      <td>...</td>\n",
       "    </tr>\n",
       "    <tr>\n",
       "      <th>2646</th>\n",
       "      <td>1417478400</td>\n",
       "      <td>2014-12-02 00:00:00</td>\n",
       "      <td>BTC/USD</td>\n",
       "      <td>378.39</td>\n",
       "      <td>382.86</td>\n",
       "      <td>375.23</td>\n",
       "      <td>379.25</td>\n",
       "      <td>2.593576e+06</td>\n",
       "      <td>6.832530e+03</td>\n",
       "    </tr>\n",
       "    <tr>\n",
       "      <th>2647</th>\n",
       "      <td>1417392000</td>\n",
       "      <td>2014-12-01 00:00:00</td>\n",
       "      <td>BTC/USD</td>\n",
       "      <td>376.40</td>\n",
       "      <td>382.31</td>\n",
       "      <td>373.03</td>\n",
       "      <td>378.39</td>\n",
       "      <td>2.520662e+06</td>\n",
       "      <td>6.660560e+03</td>\n",
       "    </tr>\n",
       "    <tr>\n",
       "      <th>2648</th>\n",
       "      <td>1417305600</td>\n",
       "      <td>2014-11-30 00:00:00</td>\n",
       "      <td>BTC/USD</td>\n",
       "      <td>376.57</td>\n",
       "      <td>381.99</td>\n",
       "      <td>373.32</td>\n",
       "      <td>373.34</td>\n",
       "      <td>1.145567e+06</td>\n",
       "      <td>3.046330e+03</td>\n",
       "    </tr>\n",
       "    <tr>\n",
       "      <th>2649</th>\n",
       "      <td>1417219200</td>\n",
       "      <td>2014-11-29 00:00:00</td>\n",
       "      <td>BTC/USD</td>\n",
       "      <td>376.42</td>\n",
       "      <td>386.60</td>\n",
       "      <td>372.25</td>\n",
       "      <td>376.72</td>\n",
       "      <td>2.746157e+06</td>\n",
       "      <td>7.245190e+03</td>\n",
       "    </tr>\n",
       "    <tr>\n",
       "      <th>2650</th>\n",
       "      <td>1417132800</td>\n",
       "      <td>2014-11-28 00:00:00</td>\n",
       "      <td>BTC/USD</td>\n",
       "      <td>363.59</td>\n",
       "      <td>381.34</td>\n",
       "      <td>360.57</td>\n",
       "      <td>376.28</td>\n",
       "      <td>3.220878e+06</td>\n",
       "      <td>8.617150e+03</td>\n",
       "    </tr>\n",
       "  </tbody>\n",
       "</table>\n",
       "<p>2651 rows × 9 columns</p>\n",
       "</div>"
      ],
      "text/plain": [
       "            unix                 date   symbol      open      high       low  \\\n",
       "0     1646092800  2022-03-01 00:00:00  BTC/USD  43221.71  43626.49  43185.48   \n",
       "1     1646006400  2022-02-28 00:00:00  BTC/USD  37717.10  44256.08  37468.99   \n",
       "2     1645920000  2022-02-27 00:00:00  BTC/USD  39146.66  39886.92  37015.74   \n",
       "3     1645833600  2022-02-26 00:00:00  BTC/USD  39242.64  40330.99  38600.00   \n",
       "4     1645747200  2022-02-25 00:00:00  BTC/USD  38360.93  39727.97  38027.61   \n",
       "...          ...                  ...      ...       ...       ...       ...   \n",
       "2646  1417478400  2014-12-02 00:00:00  BTC/USD    378.39    382.86    375.23   \n",
       "2647  1417392000  2014-12-01 00:00:00  BTC/USD    376.40    382.31    373.03   \n",
       "2648  1417305600  2014-11-30 00:00:00  BTC/USD    376.57    381.99    373.32   \n",
       "2649  1417219200  2014-11-29 00:00:00  BTC/USD    376.42    386.60    372.25   \n",
       "2650  1417132800  2014-11-28 00:00:00  BTC/USD    363.59    381.34    360.57   \n",
       "\n",
       "         close    Volume BTC    Volume USD  \n",
       "0     43185.48  4.900629e+01  2.116360e+06  \n",
       "1     43178.98  3.160618e+03  1.364723e+08  \n",
       "2     37712.68  1.701817e+03  6.418008e+07  \n",
       "3     39146.66  9.127241e+02  3.573010e+07  \n",
       "4     39231.64  2.202852e+03  8.642149e+07  \n",
       "...        ...           ...           ...  \n",
       "2646    379.25  2.593576e+06  6.832530e+03  \n",
       "2647    378.39  2.520662e+06  6.660560e+03  \n",
       "2648    373.34  1.145567e+06  3.046330e+03  \n",
       "2649    376.72  2.746157e+06  7.245190e+03  \n",
       "2650    376.28  3.220878e+06  8.617150e+03  \n",
       "\n",
       "[2651 rows x 9 columns]"
      ]
     },
     "execution_count": 2,
     "metadata": {},
     "output_type": "execute_result"
    }
   ],
   "source": [
    "data"
   ]
  },
  {
   "cell_type": "code",
   "execution_count": 21,
   "id": "1c3a09f0",
   "metadata": {},
   "outputs": [
    {
     "data": {
      "text/plain": [
       "(2651, 1)"
      ]
     },
     "execution_count": 21,
     "metadata": {},
     "output_type": "execute_result"
    }
   ],
   "source": [
    "prices.shape"
   ]
  },
  {
   "cell_type": "code",
   "execution_count": 4,
   "id": "abce0c07",
   "metadata": {},
   "outputs": [],
   "source": [
    "# Normalizace dat\n",
    "scaler = MinMaxScaler(feature_range=(0, 1))\n",
    "prices = scaler.fit_transform(prices)\n"
   ]
  },
  {
   "cell_type": "code",
   "execution_count": 5,
   "id": "c9f4ab14",
   "metadata": {},
   "outputs": [
    {
     "data": {
      "text/plain": [
       "array([[0.13968421],\n",
       "       [0.13987791],\n",
       "       [0.13838406],\n",
       "       ...,\n",
       "       [0.90336658],\n",
       "       [0.92580216],\n",
       "       [0.9258271 ]])"
      ]
     },
     "execution_count": 5,
     "metadata": {},
     "output_type": "execute_result"
    }
   ],
   "source": [
    "prices"
   ]
  },
  {
   "cell_type": "code",
   "execution_count": 6,
   "id": "b9f7b4de",
   "metadata": {},
   "outputs": [
    {
     "data": {
      "text/plain": [
       "(54, 1)"
      ]
     },
     "execution_count": 6,
     "metadata": {},
     "output_type": "execute_result"
    }
   ],
   "source": [
    "# Rozdělení dat na trénovací a testovací sady\n",
    "train_size = int(len(prices) * 0.98)\n",
    "train, test = prices[0:train_size, :], prices[train_size:len(prices), :]\n",
    "test.shape"
   ]
  },
  {
   "cell_type": "code",
   "execution_count": 7,
   "id": "f9d40a54",
   "metadata": {},
   "outputs": [],
   "source": [
    "# Funkce pro vytvoření datové sady pro LSTM\n",
    "def create_dataset(dataset, look_back=1):\n",
    "    dataX, dataY = [], []\n",
    "    for i in range(len(dataset) - look_back - 1):\n",
    "        a = dataset[i:(i + look_back), 0]\n",
    "        dataX.append(a)\n",
    "        dataY.append(dataset[i + look_back, 0])\n",
    "    return np.array(dataX), np.array(dataY)"
   ]
  },
  {
   "cell_type": "code",
   "execution_count": 8,
   "id": "85a1da59",
   "metadata": {},
   "outputs": [],
   "source": [
    "# Vytvoření trénovací a testovací sady\n",
    "look_back = 20  # časový okamžik do minulosti\n",
    "trainX, trainY = create_dataset(train, look_back)\n",
    "testX, testY = create_dataset(test, look_back)\n"
   ]
  },
  {
   "cell_type": "code",
   "execution_count": 9,
   "id": "448cf5f5",
   "metadata": {},
   "outputs": [
    {
     "data": {
      "text/plain": [
       "array([[0.13968421, 0.13987791, 0.13838406, ..., 0.12776429, 0.117941  ,\n",
       "        0.11339932],\n",
       "       [0.13987791, 0.13838406, 0.14061106, ..., 0.117941  , 0.11339932,\n",
       "        0.10872438],\n",
       "       [0.13838406, 0.14061106, 0.14098735, ..., 0.11339932, 0.10872438,\n",
       "        0.11179134],\n",
       "       ...,\n",
       "       [0.94468754, 0.94634692, 0.94218004, ..., 0.93706275, 0.94257601,\n",
       "        0.94108729],\n",
       "       [0.94634692, 0.94218004, 0.93705038, ..., 0.94257601, 0.94108729,\n",
       "        0.93786963],\n",
       "       [0.94218004, 0.93705038, 0.93943966, ..., 0.94108729, 0.93786963,\n",
       "        0.93564225]])"
      ]
     },
     "execution_count": 9,
     "metadata": {},
     "output_type": "execute_result"
    }
   ],
   "source": [
    "trainX"
   ]
  },
  {
   "cell_type": "code",
   "execution_count": 10,
   "id": "b4672bb6",
   "metadata": {},
   "outputs": [],
   "source": [
    "# Změna tvaru vstupních dat\n",
    "trainX = np.reshape(trainX, (trainX.shape[0], 1, trainX.shape[1]))\n",
    "testX = np.reshape(testX, (testX.shape[0], 1, testX.shape[1]))\n"
   ]
  },
  {
   "cell_type": "code",
   "execution_count": 11,
   "id": "9b689f44",
   "metadata": {
    "scrolled": true
   },
   "outputs": [
    {
     "data": {
      "text/plain": [
       "(2576, 1, 20)"
      ]
     },
     "execution_count": 11,
     "metadata": {},
     "output_type": "execute_result"
    }
   ],
   "source": [
    "trainX.shape"
   ]
  },
  {
   "cell_type": "markdown",
   "id": "d2b09538",
   "metadata": {},
   "source": [
    "# jednoducha RNN:"
   ]
  },
  {
   "cell_type": "code",
   "execution_count": 12,
   "id": "a011fc0c",
   "metadata": {},
   "outputs": [
    {
     "name": "stdout",
     "output_type": "stream",
     "text": [
      "Metal device set to: Apple M1 Max\n"
     ]
    },
    {
     "name": "stderr",
     "output_type": "stream",
     "text": [
      "2023-06-16 18:43:43.582597: I tensorflow/core/common_runtime/pluggable_device/pluggable_device_factory.cc:306] Could not identify NUMA node of platform GPU ID 0, defaulting to 0. Your kernel may not have been built with NUMA support.\n",
      "2023-06-16 18:43:43.582713: I tensorflow/core/common_runtime/pluggable_device/pluggable_device_factory.cc:272] Created TensorFlow device (/job:localhost/replica:0/task:0/device:GPU:0 with 0 MB memory) -> physical PluggableDevice (device: 0, name: METAL, pci bus id: <undefined>)\n"
     ]
    },
    {
     "name": "stdout",
     "output_type": "stream",
     "text": [
      "Model: \"sequential\"\n",
      "_________________________________________________________________\n",
      " Layer (type)                Output Shape              Param #   \n",
      "=================================================================\n",
      " lstm (LSTM)                 (None, 4)                 400       \n",
      "                                                                 \n",
      " dense (Dense)               (None, 1)                 5         \n",
      "                                                                 \n",
      "=================================================================\n",
      "Total params: 405\n",
      "Trainable params: 405\n",
      "Non-trainable params: 0\n",
      "_________________________________________________________________\n"
     ]
    }
   ],
   "source": [
    "from keras.models import Sequential\n",
    "from keras.layers import Dense, LSTM\n",
    "\n",
    "# Vytvoření a kompilace LSTM modelu\n",
    "model = Sequential()\n",
    "model.add(LSTM(4, input_shape=(1, look_back)))\n",
    "model.add(Dense(1))\n",
    "model.compile(loss='mean_squared_error', optimizer='adam')\n",
    "\n",
    "model.summary()"
   ]
  },
  {
   "cell_type": "code",
   "execution_count": 13,
   "id": "b105631d",
   "metadata": {
    "scrolled": true
   },
   "outputs": [
    {
     "name": "stdout",
     "output_type": "stream",
     "text": [
      "Epoch 1/10\n"
     ]
    },
    {
     "name": "stderr",
     "output_type": "stream",
     "text": [
      "2023-06-16 18:43:43.913149: W tensorflow/core/platform/profile_utils/cpu_utils.cc:128] Failed to get CPU frequency: 0 Hz\n",
      "2023-06-16 18:43:44.394010: I tensorflow/core/grappler/optimizers/custom_graph_optimizer_registry.cc:114] Plugin optimizer for device_type GPU is enabled.\n",
      "2023-06-16 18:43:44.456306: I tensorflow/core/grappler/optimizers/custom_graph_optimizer_registry.cc:114] Plugin optimizer for device_type GPU is enabled.\n",
      "2023-06-16 18:43:44.527478: I tensorflow/core/grappler/optimizers/custom_graph_optimizer_registry.cc:114] Plugin optimizer for device_type GPU is enabled.\n"
     ]
    },
    {
     "name": "stdout",
     "output_type": "stream",
     "text": [
      "2576/2576 [==============================] - 15s 6ms/step - loss: 0.0038\n",
      "Epoch 2/10\n",
      "2576/2576 [==============================] - 14s 6ms/step - loss: 4.5854e-04\n",
      "Epoch 3/10\n",
      "2576/2576 [==============================] - 14s 6ms/step - loss: 2.8956e-04\n",
      "Epoch 4/10\n",
      "2576/2576 [==============================] - 14s 6ms/step - loss: 2.3096e-04\n",
      "Epoch 5/10\n",
      "2576/2576 [==============================] - 14s 6ms/step - loss: 1.8722e-04\n",
      "Epoch 6/10\n",
      "2576/2576 [==============================] - 15s 6ms/step - loss: 1.9873e-04\n",
      "Epoch 7/10\n",
      "2576/2576 [==============================] - 15s 6ms/step - loss: 1.6980e-04\n",
      "Epoch 8/10\n",
      "2576/2576 [==============================] - 14s 6ms/step - loss: 1.6025e-04\n",
      "Epoch 9/10\n",
      "2576/2576 [==============================] - 14s 6ms/step - loss: 1.5728e-04\n",
      "Epoch 10/10\n",
      "2576/2576 [==============================] - 14s 6ms/step - loss: 1.6110e-04\n"
     ]
    },
    {
     "data": {
      "text/plain": [
       "<keras.callbacks.History at 0x176603640>"
      ]
     },
     "execution_count": 13,
     "metadata": {},
     "output_type": "execute_result"
    }
   ],
   "source": [
    "\n",
    "# Trénování modelu\n",
    "model.fit(trainX, trainY, epochs=10, batch_size=1, verbose=1)"
   ]
  },
  {
   "cell_type": "code",
   "execution_count": 14,
   "id": "a0e754b8",
   "metadata": {},
   "outputs": [
    {
     "name": "stdout",
     "output_type": "stream",
     "text": [
      "45/81 [===============>..............] - ETA: 0s"
     ]
    },
    {
     "name": "stderr",
     "output_type": "stream",
     "text": [
      "2023-06-16 18:46:09.454908: I tensorflow/core/grappler/optimizers/custom_graph_optimizer_registry.cc:114] Plugin optimizer for device_type GPU is enabled.\n",
      "2023-06-16 18:46:09.483425: I tensorflow/core/grappler/optimizers/custom_graph_optimizer_registry.cc:114] Plugin optimizer for device_type GPU is enabled.\n"
     ]
    },
    {
     "name": "stdout",
     "output_type": "stream",
     "text": [
      "81/81 [==============================] - 0s 2ms/step\n",
      "2/2 [==============================] - 0s 71ms/step\n"
     ]
    }
   ],
   "source": [
    "# Predikce cen\n",
    "trainPredict = model.predict(trainX)\n",
    "testPredict = model.predict(testX)\n",
    "\n",
    "# Inverzní transformace predikcí a skutečných hodnot pro zpětné porovnání\n",
    "trainPredict = scaler.inverse_transform(trainPredict)\n",
    "trainY = scaler.inverse_transform([trainY])\n"
   ]
  },
  {
   "cell_type": "code",
   "execution_count": 15,
   "id": "47762c86",
   "metadata": {
    "scrolled": true
   },
   "outputs": [],
   "source": [
    "# Inverzní transformace testovacích dat\n",
    "testYr = scaler.inverse_transform([testY])[0]\n",
    "testPredictr = scaler.inverse_transform(testPredict)\n",
    "testPredictr= [i[0] for i in testPredictr]\n",
    "\n",
    "\n"
   ]
  },
  {
   "cell_type": "code",
   "execution_count": 16,
   "id": "44f3e56a",
   "metadata": {},
   "outputs": [
    {
     "name": "stdout",
     "output_type": "stream",
     "text": [
      "MAPE: 0.6743046501471925%\n"
     ]
    }
   ],
   "source": [
    "# Výpočet MAPE v logaritmech\n",
    "mape = np.mean(np.abs((testYr - testPredictr) / testYr)) * 100\n",
    "print(f\"MAPE: {mape}%\")"
   ]
  },
  {
   "cell_type": "code",
   "execution_count": 17,
   "id": "519a7801",
   "metadata": {},
   "outputs": [
    {
     "name": "stdout",
     "output_type": "stream",
     "text": [
      "MAPE: 7.483215733106885%\n"
     ]
    }
   ],
   "source": [
    "# Výpočet MAPE v reálných hodnotách\n",
    "mape = np.mean(np.abs((np.exp(testYr) - np.exp(testPredictr)) / np.exp(testYr))) * 100\n",
    "print(f\"MAPE: {mape}%\")"
   ]
  },
  {
   "cell_type": "code",
   "execution_count": 18,
   "id": "3175c01b",
   "metadata": {},
   "outputs": [],
   "source": [
    "# pozor je to v procentech!!"
   ]
  },
  {
   "cell_type": "code",
   "execution_count": 19,
   "id": "f42e269a",
   "metadata": {},
   "outputs": [],
   "source": [
    "import matplotlib.pyplot as plt"
   ]
  },
  {
   "cell_type": "code",
   "execution_count": 20,
   "id": "5955572f",
   "metadata": {},
   "outputs": [
    {
     "data": {
      "text/plain": [
       "<AxesSubplot: >"
      ]
     },
     "execution_count": 20,
     "metadata": {},
     "output_type": "execute_result"
    },
    {
     "data": {
      "image/png": "[encoded data removed]",
      "text/plain": [
       "<Figure size 640x480 with 1 Axes>"
      ]
     },
     "metadata": {},
     "output_type": "display_data"
    }
   ],
   "source": [
    "pd.DataFrame({\"real\": np.exp(testYr), \"predikce\": np.exp(testPredictr)}).plot()"
   ]
  },
  {
   "cell_type": "code",
   "execution_count": null,
   "id": "77cb8692",
   "metadata": {},
   "outputs": [],
   "source": []
  }
 ],
 "metadata": {
  "kernelspec": {
   "display_name": "Python 3 (ipykernel)",
   "language": "python",
   "name": "python3"
  },
  "language_info": {
   "codemirror_mode": {
    "name": "ipython",
    "version": 3
   },
   "file_extension": ".py",
   "mimetype": "text/x-python",
   "name": "python",
   "nbconvert_exporter": "python",
   "pygments_lexer": "ipython3",
   "version": "3.10.5"
  }
 },
 "nbformat": 4,
 "nbformat_minor": 5
}
