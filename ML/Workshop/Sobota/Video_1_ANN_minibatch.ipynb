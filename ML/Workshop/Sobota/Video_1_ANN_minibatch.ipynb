{
 "cells": [
  {
   "cell_type": "markdown",
   "id": "02919e2c",
   "metadata": {},
   "source": [
    "# nutné knihovny:"
   ]
  },
  {
   "cell_type": "code",
   "execution_count": 1,
   "id": "da658b99",
   "metadata": {},
   "outputs": [],
   "source": [
    "import numpy as np\n",
    "import pandas as pd\n",
    "import matplotlib.pyplot as plt"
   ]
  },
  {
   "cell_type": "markdown",
   "id": "bdb84bb1",
   "metadata": {},
   "source": [
    "# aktivační funkce"
   ]
  },
  {
   "cell_type": "code",
   "execution_count": 2,
   "id": "7beb6c20",
   "metadata": {},
   "outputs": [],
   "source": [
    "def sigmoid(z):\n",
    "    return np.where(z<0, np.exp(z)/(1+np.exp(z)), 1/(1+np.exp(-z)))"
   ]
  },
  {
   "cell_type": "code",
   "execution_count": 3,
   "id": "df8b2173",
   "metadata": {},
   "outputs": [],
   "source": [
    "def sigmoid_der(x):\n",
    "    return np.vectorize(lambda y: y*(1-y))(x)"
   ]
  },
  {
   "cell_type": "markdown",
   "id": "a3403043",
   "metadata": {},
   "source": [
    "# ztrata"
   ]
  },
  {
   "cell_type": "code",
   "execution_count": 4,
   "id": "7e0dca86",
   "metadata": {},
   "outputs": [],
   "source": [
    "def ztratova_fce(e):\n",
    "    return sum(e**2)"
   ]
  },
  {
   "cell_type": "code",
   "execution_count": 5,
   "id": "32da856a",
   "metadata": {},
   "outputs": [],
   "source": [
    "def ztratova_der(e):\n",
    "    return -1 * (2*e)"
   ]
  },
  {
   "cell_type": "markdown",
   "id": "632b8b80",
   "metadata": {},
   "source": [
    "# sit:"
   ]
  },
  {
   "cell_type": "code",
   "execution_count": 6,
   "id": "3adb0416",
   "metadata": {},
   "outputs": [],
   "source": [
    "class sit:\n",
    "    def __init__(self, x, y, p_neuronu, act_fce, der_act, loss_fce, der_loss):\n",
    "        self.x = x\n",
    "        self.y = y\n",
    "        self.pn = p_neuronu\n",
    "        self.ni = np.shape(x)[0]\n",
    "        self.nj = np.shape(x)[1]\n",
    "        self.act_fce = act_fce\n",
    "        self.der_act = der_act\n",
    "        self.loss_fce = loss_fce\n",
    "        self.der_loss = der_loss\n",
    "        # generovani nahodnych vychzich koeficientu:\n",
    "        self.vahy1 = (np.random.rand(self.nj, self.pn)+0.5)/self.nj\n",
    "        self.vahy2 = (np.random.rand(self.pn,1)+0.5)/self.pn\n",
    "    \n",
    "        self.forward_prop()\n",
    "        \n",
    "    def forward_prop(self):\n",
    "        self.LO1 = self.act_fce(np.matmul(self.x,self.vahy1))\n",
    "        self.y_hat = self.act_fce(np.matmul(self.LO1,self.vahy2))\n",
    "        self.e = self.y - self.y_hat\n",
    "    \n",
    "    def backward_prop(self):\n",
    "        self.delta1 = np.matmul(np.transpose(self.x),\n",
    "                               np.matmul((self.der_loss(self.e) * self.der_act(self.y_hat)),\n",
    "                                        np.transpose(self.vahy2))* self.der_act(self.LO1))\n",
    "        self.delta2 = np.matmul(np.transpose(self.LO1),(self.der_loss(self.e)*self.der_act(self.y_hat)))\n",
    "        \n",
    "        self.vahy1 = self.vahy1 - self.delta1 * self.LR\n",
    "        self.vahy2 = self.vahy2 - self.delta2 * self.LR\n",
    "    \n",
    "    def forecast(self,X_new):\n",
    "        self.Lf = self.act_fce(np.matmul(X_new,self.vahy1))\n",
    "        self.predict = self.act_fce(np.matmul(self.Lf,self.vahy2))\n",
    "        return self.predict\n",
    "        \n",
    "    def train(self, n_epochs, LR):\n",
    "        self.LR = LR\n",
    "        self.n_epochs = n_epochs\n",
    "        \n",
    "        for i in range(self.n_epochs):\n",
    "            self.backward_prop()\n",
    "            self.forward_prop()\n",
    "        \n",
    "        "
   ]
  },
  {
   "cell_type": "code",
   "execution_count": 7,
   "id": "fb3f8f60",
   "metadata": {},
   "outputs": [],
   "source": [
    "class minibatch:\n",
    "    def __init__(self, x, y, p_neuronu, act_fce, der_act, loss_fce, der_loss,n_batch):\n",
    "        self.x = x\n",
    "        self.y = y\n",
    "        \n",
    "        self.pn = p_neuronu\n",
    "        self.ni = np.shape(x)[0]\n",
    "        self.nj = np.shape(x)[1]\n",
    "        \n",
    "        self.act_fce = act_fce\n",
    "        self.der_act = der_act\n",
    "        self.loss_fce = loss_fce\n",
    "        self.der_loss = der_loss\n",
    "        \n",
    "        self.n_batch = n_batch\n",
    "        self.data_id = np.array([np.random.choice(range(n_batch)) for i in range(self.ni)])\n",
    "        \n",
    "        self.site = []\n",
    "        \n",
    "        self.total_sit = sit(x, y, p_neuronu, act_fce, der_act, loss_fce, der_loss)\n",
    "        \n",
    "        for i in range(n_batch):\n",
    "            self.site.append(sit(x[self.data_id == (i),:], y[self.data_id == (i),:], \n",
    "                                 p_neuronu, act_fce, der_act, loss_fce, der_loss))\n",
    "        \n",
    "        self.mean_vahy()\n",
    "        \n",
    "    def mean_vahy(self):\n",
    "        self.mean_vahy1 = np.zeros((self.nj, self.pn))\n",
    "        self.mean_vahy2 = np.zeros((self.pn,1))\n",
    "        for i in range(self.n_batch):\n",
    "            self.mean_vahy1 += (self.site[i].vahy1 / self.n_batch)\n",
    "            self.mean_vahy2 += (self.site[i].vahy2 / self.n_batch)\n",
    "    \n",
    "    def pass_mean(self):\n",
    "        for i in range(self.n_batch):\n",
    "            self.site[i].vahy1 = self.mean_vahy1\n",
    "            self.site[i].vahy2 = self.mean_vahy2\n",
    "            self.site[i].forward_prop()\n",
    "        self.total_sit.vahy1 = self.mean_vahy1\n",
    "        self.total_sit.vahy2 = self.mean_vahy2\n",
    "        self.total_sit.forward_prop()\n",
    "        \n",
    "    def train(self, n_epochs, LR):\n",
    "        self.LR = LR\n",
    "        for j in range(n_epochs):\n",
    "            for i in range(self.n_batch):\n",
    "                self.site[i].train(1,self.LR)\n",
    "            self.mean_vahy()\n",
    "            self.pass_mean()\n",
    "            if j % 100 ==0:\n",
    "                print(f\"{j} iterace, ztrata: {self.loss_fce(self.total_sit.e)}\")\n",
    "        \n",
    "        \n",
    "            "
   ]
  },
  {
   "cell_type": "markdown",
   "id": "172c0c97",
   "metadata": {},
   "source": [
    "# Dating"
   ]
  },
  {
   "cell_type": "code",
   "execution_count": 8,
   "id": "d8d727e2",
   "metadata": {},
   "outputs": [],
   "source": [
    "data = pd.read_csv(\"dating(1).csv\")"
   ]
  },
  {
   "cell_type": "code",
   "execution_count": 9,
   "id": "1b23ae59",
   "metadata": {
    "scrolled": true
   },
   "outputs": [
    {
     "data": {
      "text/html": [
       "<div>\n",
       "<style scoped>\n",
       "    .dataframe tbody tr th:only-of-type {\n",
       "        vertical-align: middle;\n",
       "    }\n",
       "\n",
       "    .dataframe tbody tr th {\n",
       "        vertical-align: top;\n",
       "    }\n",
       "\n",
       "    .dataframe thead th {\n",
       "        text-align: right;\n",
       "    }\n",
       "</style>\n",
       "<table border=\"1\" class=\"dataframe\">\n",
       "  <thead>\n",
       "    <tr style=\"text-align: right;\">\n",
       "      <th></th>\n",
       "      <th>age</th>\n",
       "      <th>age_o</th>\n",
       "      <th>samerace</th>\n",
       "      <th>importance_same_race</th>\n",
       "      <th>importance_same_religion</th>\n",
       "      <th>pref_o_attractive</th>\n",
       "      <th>pref_o_sincere</th>\n",
       "      <th>pref_o_intelligence</th>\n",
       "      <th>pref_o_funny</th>\n",
       "      <th>pref_o_ambitious</th>\n",
       "      <th>...</th>\n",
       "      <th>intelligence_partner</th>\n",
       "      <th>funny_partner</th>\n",
       "      <th>ambition_partner</th>\n",
       "      <th>shared_interests_partner</th>\n",
       "      <th>interests_correlate</th>\n",
       "      <th>like</th>\n",
       "      <th>guess_prob_liked</th>\n",
       "      <th>met</th>\n",
       "      <th>decision</th>\n",
       "      <th>match</th>\n",
       "    </tr>\n",
       "  </thead>\n",
       "  <tbody>\n",
       "    <tr>\n",
       "      <th>0</th>\n",
       "      <td>21</td>\n",
       "      <td>23</td>\n",
       "      <td>0</td>\n",
       "      <td>2</td>\n",
       "      <td>4</td>\n",
       "      <td>30.0</td>\n",
       "      <td>5.0</td>\n",
       "      <td>15.0</td>\n",
       "      <td>40.0</td>\n",
       "      <td>5.0</td>\n",
       "      <td>...</td>\n",
       "      <td>8.0</td>\n",
       "      <td>7.0</td>\n",
       "      <td>6.0</td>\n",
       "      <td>8.0</td>\n",
       "      <td>0.61</td>\n",
       "      <td>7.0</td>\n",
       "      <td>6.0</td>\n",
       "      <td>0</td>\n",
       "      <td>1</td>\n",
       "      <td>1</td>\n",
       "    </tr>\n",
       "    <tr>\n",
       "      <th>1</th>\n",
       "      <td>21</td>\n",
       "      <td>24</td>\n",
       "      <td>0</td>\n",
       "      <td>2</td>\n",
       "      <td>4</td>\n",
       "      <td>30.0</td>\n",
       "      <td>10.0</td>\n",
       "      <td>20.0</td>\n",
       "      <td>10.0</td>\n",
       "      <td>10.0</td>\n",
       "      <td>...</td>\n",
       "      <td>7.0</td>\n",
       "      <td>7.0</td>\n",
       "      <td>6.0</td>\n",
       "      <td>6.0</td>\n",
       "      <td>0.21</td>\n",
       "      <td>6.0</td>\n",
       "      <td>6.0</td>\n",
       "      <td>0</td>\n",
       "      <td>1</td>\n",
       "      <td>1</td>\n",
       "    </tr>\n",
       "    <tr>\n",
       "      <th>2</th>\n",
       "      <td>21</td>\n",
       "      <td>28</td>\n",
       "      <td>0</td>\n",
       "      <td>2</td>\n",
       "      <td>4</td>\n",
       "      <td>50.0</td>\n",
       "      <td>0.0</td>\n",
       "      <td>25.0</td>\n",
       "      <td>10.0</td>\n",
       "      <td>0.0</td>\n",
       "      <td>...</td>\n",
       "      <td>8.0</td>\n",
       "      <td>9.0</td>\n",
       "      <td>8.0</td>\n",
       "      <td>8.0</td>\n",
       "      <td>0.28</td>\n",
       "      <td>7.0</td>\n",
       "      <td>7.0</td>\n",
       "      <td>0</td>\n",
       "      <td>1</td>\n",
       "      <td>1</td>\n",
       "    </tr>\n",
       "    <tr>\n",
       "      <th>3</th>\n",
       "      <td>24</td>\n",
       "      <td>23</td>\n",
       "      <td>1</td>\n",
       "      <td>2</td>\n",
       "      <td>5</td>\n",
       "      <td>30.0</td>\n",
       "      <td>5.0</td>\n",
       "      <td>15.0</td>\n",
       "      <td>40.0</td>\n",
       "      <td>5.0</td>\n",
       "      <td>...</td>\n",
       "      <td>7.0</td>\n",
       "      <td>6.0</td>\n",
       "      <td>5.0</td>\n",
       "      <td>7.0</td>\n",
       "      <td>-0.21</td>\n",
       "      <td>7.0</td>\n",
       "      <td>8.0</td>\n",
       "      <td>0</td>\n",
       "      <td>1</td>\n",
       "      <td>1</td>\n",
       "    </tr>\n",
       "    <tr>\n",
       "      <th>4</th>\n",
       "      <td>24</td>\n",
       "      <td>28</td>\n",
       "      <td>1</td>\n",
       "      <td>2</td>\n",
       "      <td>5</td>\n",
       "      <td>50.0</td>\n",
       "      <td>0.0</td>\n",
       "      <td>25.0</td>\n",
       "      <td>10.0</td>\n",
       "      <td>0.0</td>\n",
       "      <td>...</td>\n",
       "      <td>8.0</td>\n",
       "      <td>9.0</td>\n",
       "      <td>4.0</td>\n",
       "      <td>5.0</td>\n",
       "      <td>0.11</td>\n",
       "      <td>5.0</td>\n",
       "      <td>6.0</td>\n",
       "      <td>0</td>\n",
       "      <td>1</td>\n",
       "      <td>1</td>\n",
       "    </tr>\n",
       "    <tr>\n",
       "      <th>...</th>\n",
       "      <td>...</td>\n",
       "      <td>...</td>\n",
       "      <td>...</td>\n",
       "      <td>...</td>\n",
       "      <td>...</td>\n",
       "      <td>...</td>\n",
       "      <td>...</td>\n",
       "      <td>...</td>\n",
       "      <td>...</td>\n",
       "      <td>...</td>\n",
       "      <td>...</td>\n",
       "      <td>...</td>\n",
       "      <td>...</td>\n",
       "      <td>...</td>\n",
       "      <td>...</td>\n",
       "      <td>...</td>\n",
       "      <td>...</td>\n",
       "      <td>...</td>\n",
       "      <td>...</td>\n",
       "      <td>...</td>\n",
       "      <td>...</td>\n",
       "    </tr>\n",
       "    <tr>\n",
       "      <th>1981</th>\n",
       "      <td>26</td>\n",
       "      <td>33</td>\n",
       "      <td>0</td>\n",
       "      <td>6</td>\n",
       "      <td>1</td>\n",
       "      <td>20.0</td>\n",
       "      <td>10.0</td>\n",
       "      <td>20.0</td>\n",
       "      <td>15.0</td>\n",
       "      <td>15.0</td>\n",
       "      <td>...</td>\n",
       "      <td>8.0</td>\n",
       "      <td>2.0</td>\n",
       "      <td>5.0</td>\n",
       "      <td>2.0</td>\n",
       "      <td>0.20</td>\n",
       "      <td>5.0</td>\n",
       "      <td>2.0</td>\n",
       "      <td>0</td>\n",
       "      <td>0</td>\n",
       "      <td>0</td>\n",
       "    </tr>\n",
       "    <tr>\n",
       "      <th>1982</th>\n",
       "      <td>22</td>\n",
       "      <td>30</td>\n",
       "      <td>0</td>\n",
       "      <td>6</td>\n",
       "      <td>2</td>\n",
       "      <td>14.0</td>\n",
       "      <td>18.0</td>\n",
       "      <td>16.0</td>\n",
       "      <td>18.0</td>\n",
       "      <td>18.0</td>\n",
       "      <td>...</td>\n",
       "      <td>10.0</td>\n",
       "      <td>8.0</td>\n",
       "      <td>8.0</td>\n",
       "      <td>4.0</td>\n",
       "      <td>-0.16</td>\n",
       "      <td>5.0</td>\n",
       "      <td>3.0</td>\n",
       "      <td>0</td>\n",
       "      <td>0</td>\n",
       "      <td>0</td>\n",
       "    </tr>\n",
       "    <tr>\n",
       "      <th>1983</th>\n",
       "      <td>30</td>\n",
       "      <td>22</td>\n",
       "      <td>0</td>\n",
       "      <td>2</td>\n",
       "      <td>2</td>\n",
       "      <td>17.0</td>\n",
       "      <td>10.0</td>\n",
       "      <td>18.0</td>\n",
       "      <td>20.0</td>\n",
       "      <td>25.0</td>\n",
       "      <td>...</td>\n",
       "      <td>6.0</td>\n",
       "      <td>6.0</td>\n",
       "      <td>4.0</td>\n",
       "      <td>5.0</td>\n",
       "      <td>-0.28</td>\n",
       "      <td>7.0</td>\n",
       "      <td>6.0</td>\n",
       "      <td>0</td>\n",
       "      <td>1</td>\n",
       "      <td>0</td>\n",
       "    </tr>\n",
       "    <tr>\n",
       "      <th>1984</th>\n",
       "      <td>21</td>\n",
       "      <td>23</td>\n",
       "      <td>1</td>\n",
       "      <td>8</td>\n",
       "      <td>7</td>\n",
       "      <td>25.0</td>\n",
       "      <td>5.0</td>\n",
       "      <td>30.0</td>\n",
       "      <td>15.0</td>\n",
       "      <td>5.0</td>\n",
       "      <td>...</td>\n",
       "      <td>10.0</td>\n",
       "      <td>10.0</td>\n",
       "      <td>10.0</td>\n",
       "      <td>10.0</td>\n",
       "      <td>-0.13</td>\n",
       "      <td>10.0</td>\n",
       "      <td>10.0</td>\n",
       "      <td>0</td>\n",
       "      <td>1</td>\n",
       "      <td>0</td>\n",
       "    </tr>\n",
       "    <tr>\n",
       "      <th>1985</th>\n",
       "      <td>30</td>\n",
       "      <td>30</td>\n",
       "      <td>0</td>\n",
       "      <td>1</td>\n",
       "      <td>1</td>\n",
       "      <td>25.0</td>\n",
       "      <td>20.0</td>\n",
       "      <td>20.0</td>\n",
       "      <td>20.0</td>\n",
       "      <td>0.0</td>\n",
       "      <td>...</td>\n",
       "      <td>8.0</td>\n",
       "      <td>5.0</td>\n",
       "      <td>5.0</td>\n",
       "      <td>7.0</td>\n",
       "      <td>0.49</td>\n",
       "      <td>5.0</td>\n",
       "      <td>7.0</td>\n",
       "      <td>0</td>\n",
       "      <td>0</td>\n",
       "      <td>0</td>\n",
       "    </tr>\n",
       "  </tbody>\n",
       "</table>\n",
       "<p>1986 rows × 40 columns</p>\n",
       "</div>"
      ],
      "text/plain": [
       "      age  age_o  samerace  importance_same_race  importance_same_religion  \\\n",
       "0      21     23         0                     2                         4   \n",
       "1      21     24         0                     2                         4   \n",
       "2      21     28         0                     2                         4   \n",
       "3      24     23         1                     2                         5   \n",
       "4      24     28         1                     2                         5   \n",
       "...   ...    ...       ...                   ...                       ...   \n",
       "1981   26     33         0                     6                         1   \n",
       "1982   22     30         0                     6                         2   \n",
       "1983   30     22         0                     2                         2   \n",
       "1984   21     23         1                     8                         7   \n",
       "1985   30     30         0                     1                         1   \n",
       "\n",
       "      pref_o_attractive  pref_o_sincere  pref_o_intelligence  pref_o_funny  \\\n",
       "0                  30.0             5.0                 15.0          40.0   \n",
       "1                  30.0            10.0                 20.0          10.0   \n",
       "2                  50.0             0.0                 25.0          10.0   \n",
       "3                  30.0             5.0                 15.0          40.0   \n",
       "4                  50.0             0.0                 25.0          10.0   \n",
       "...                 ...             ...                  ...           ...   \n",
       "1981               20.0            10.0                 20.0          15.0   \n",
       "1982               14.0            18.0                 16.0          18.0   \n",
       "1983               17.0            10.0                 18.0          20.0   \n",
       "1984               25.0             5.0                 30.0          15.0   \n",
       "1985               25.0            20.0                 20.0          20.0   \n",
       "\n",
       "      pref_o_ambitious  ...  intelligence_partner  funny_partner  \\\n",
       "0                  5.0  ...                   8.0            7.0   \n",
       "1                 10.0  ...                   7.0            7.0   \n",
       "2                  0.0  ...                   8.0            9.0   \n",
       "3                  5.0  ...                   7.0            6.0   \n",
       "4                  0.0  ...                   8.0            9.0   \n",
       "...                ...  ...                   ...            ...   \n",
       "1981              15.0  ...                   8.0            2.0   \n",
       "1982              18.0  ...                  10.0            8.0   \n",
       "1983              25.0  ...                   6.0            6.0   \n",
       "1984               5.0  ...                  10.0           10.0   \n",
       "1985               0.0  ...                   8.0            5.0   \n",
       "\n",
       "      ambition_partner  shared_interests_partner  interests_correlate  like  \\\n",
       "0                  6.0                       8.0                 0.61   7.0   \n",
       "1                  6.0                       6.0                 0.21   6.0   \n",
       "2                  8.0                       8.0                 0.28   7.0   \n",
       "3                  5.0                       7.0                -0.21   7.0   \n",
       "4                  4.0                       5.0                 0.11   5.0   \n",
       "...                ...                       ...                  ...   ...   \n",
       "1981               5.0                       2.0                 0.20   5.0   \n",
       "1982               8.0                       4.0                -0.16   5.0   \n",
       "1983               4.0                       5.0                -0.28   7.0   \n",
       "1984              10.0                      10.0                -0.13  10.0   \n",
       "1985               5.0                       7.0                 0.49   5.0   \n",
       "\n",
       "      guess_prob_liked  met  decision  match  \n",
       "0                  6.0    0         1      1  \n",
       "1                  6.0    0         1      1  \n",
       "2                  7.0    0         1      1  \n",
       "3                  8.0    0         1      1  \n",
       "4                  6.0    0         1      1  \n",
       "...                ...  ...       ...    ...  \n",
       "1981               2.0    0         0      0  \n",
       "1982               3.0    0         0      0  \n",
       "1983               6.0    0         1      0  \n",
       "1984              10.0    0         1      0  \n",
       "1985               7.0    0         0      0  \n",
       "\n",
       "[1986 rows x 40 columns]"
      ]
     },
     "execution_count": 9,
     "metadata": {},
     "output_type": "execute_result"
    }
   ],
   "source": [
    "data"
   ]
  },
  {
   "cell_type": "code",
   "execution_count": 10,
   "id": "68066d6d",
   "metadata": {},
   "outputs": [],
   "source": [
    "X = np.array(data.loc[:,  data.columns != \"match\"])\n",
    "Y= np.array(data[\"match\"])"
   ]
  },
  {
   "cell_type": "code",
   "execution_count": 11,
   "id": "a6796e9c",
   "metadata": {},
   "outputs": [],
   "source": [
    "Xs = np.apply_along_axis(lambda x: (x-min(x))/(max(x)-min(x)),0,X)\n",
    "Ys = np.apply_along_axis(lambda x: (x-min(x))/(max(x)-min(x)),0,Y)"
   ]
  },
  {
   "cell_type": "code",
   "execution_count": 12,
   "id": "5c19fd43",
   "metadata": {},
   "outputs": [
    {
     "data": {
      "text/plain": [
       "(1986,)"
      ]
     },
     "execution_count": 12,
     "metadata": {},
     "output_type": "execute_result"
    }
   ],
   "source": [
    "Ys.shape"
   ]
  },
  {
   "cell_type": "code",
   "execution_count": 13,
   "id": "f123ead7",
   "metadata": {},
   "outputs": [],
   "source": [
    "Ys.resize(len(Ys),1)"
   ]
  },
  {
   "cell_type": "code",
   "execution_count": 14,
   "id": "6732f155",
   "metadata": {},
   "outputs": [
    {
     "data": {
      "text/plain": [
       "(1986, 1)"
      ]
     },
     "execution_count": 14,
     "metadata": {},
     "output_type": "execute_result"
    }
   ],
   "source": [
    "Ys.shape"
   ]
  },
  {
   "cell_type": "code",
   "execution_count": 15,
   "id": "640b9c05",
   "metadata": {},
   "outputs": [
    {
     "data": {
      "text/plain": [
       "397.20000000000005"
      ]
     },
     "execution_count": 15,
     "metadata": {},
     "output_type": "execute_result"
    }
   ],
   "source": [
    "len(Ys)*0.2"
   ]
  },
  {
   "cell_type": "code",
   "execution_count": 16,
   "id": "cab6f764",
   "metadata": {},
   "outputs": [],
   "source": [
    "# 397 hodnot pudje do test a zbytek do train!"
   ]
  },
  {
   "cell_type": "code",
   "execution_count": 17,
   "id": "370f6926",
   "metadata": {},
   "outputs": [],
   "source": [
    "# zamichani a vyber :)\n",
    "s = np.random.choice(len(Ys),size=(len(Ys)),replace=False)"
   ]
  },
  {
   "cell_type": "code",
   "execution_count": 18,
   "id": "e2b3e503",
   "metadata": {},
   "outputs": [],
   "source": [
    "Xs_test = Xs[s[0:396],:]\n",
    "Xs_train = Xs[s[397:len(Ys)],:]\n",
    "Ys_test = Ys[s[0:396],:]\n",
    "Ys_train = Ys[s[397:len(Ys)],:]"
   ]
  },
  {
   "cell_type": "code",
   "execution_count": 19,
   "id": "e6d5dc1d",
   "metadata": {},
   "outputs": [
    {
     "data": {
      "text/plain": [
       "(396, 39)"
      ]
     },
     "execution_count": 19,
     "metadata": {},
     "output_type": "execute_result"
    }
   ],
   "source": [
    "np.shape(Xs_test)"
   ]
  },
  {
   "cell_type": "code",
   "execution_count": 20,
   "id": "5ff9abc6",
   "metadata": {},
   "outputs": [],
   "source": [
    "dating = minibatch(Xs_train,Ys_train,10, sigmoid, sigmoid_der, ztratova_fce, ztratova_der,50)"
   ]
  },
  {
   "cell_type": "code",
   "execution_count": 21,
   "id": "0151fcbb",
   "metadata": {},
   "outputs": [
    {
     "name": "stdout",
     "output_type": "stream",
     "text": [
      "0 iterace, ztrata: [401.27378386]\n",
      "100 iterace, ztrata: [201.84165956]\n",
      "200 iterace, ztrata: [151.96079311]\n",
      "300 iterace, ztrata: [138.79355686]\n",
      "400 iterace, ztrata: [132.32137075]\n",
      "500 iterace, ztrata: [128.38590162]\n",
      "600 iterace, ztrata: [125.77102702]\n",
      "700 iterace, ztrata: [123.94458046]\n",
      "800 iterace, ztrata: [122.61364291]\n",
      "900 iterace, ztrata: [121.60676799]\n"
     ]
    }
   ],
   "source": [
    "dating.train(1000,0.1)"
   ]
  },
  {
   "cell_type": "code",
   "execution_count": 24,
   "id": "4ee32cec",
   "metadata": {},
   "outputs": [
    {
     "data": {
      "text/plain": [
       "0.9018250471994965"
      ]
     },
     "execution_count": 24,
     "metadata": {},
     "output_type": "execute_result"
    }
   ],
   "source": [
    "np.sum(np.round(dating.total_sit.y_hat) == dating.y) /len(dating.y)\n",
    "#  % dat je správně zatříděných!!!! (docela dobrej výsledek :) tj mam 90.37% uspesnost po 1000 iteracích! "
   ]
  },
  {
   "cell_type": "code",
   "execution_count": 25,
   "id": "3600e465",
   "metadata": {},
   "outputs": [
    {
     "data": {
      "text/plain": [
       "array([0.88383838])"
      ]
     },
     "execution_count": 25,
     "metadata": {},
     "output_type": "execute_result"
    }
   ],
   "source": [
    "# out of sample test - % spravne zatrídených:\n",
    "fit=dating.total_sit.forecast(Xs_test)\n",
    "\n",
    "sum(np.round(fit)==Ys_test) / len(Ys_test)"
   ]
  },
  {
   "cell_type": "code",
   "execution_count": 26,
   "id": "12406647",
   "metadata": {},
   "outputs": [],
   "source": [
    "# v testu na testovaci mnozine dosahuji 87% spolehlivosti! :)"
   ]
  },
  {
   "cell_type": "markdown",
   "id": "b8eb407c",
   "metadata": {},
   "source": [
    "# titanic:"
   ]
  },
  {
   "cell_type": "code",
   "execution_count": 27,
   "id": "17230aea",
   "metadata": {},
   "outputs": [],
   "source": [
    "data = pd.read_csv(\"titanic.csv\")"
   ]
  },
  {
   "cell_type": "code",
   "execution_count": 28,
   "id": "8ac07d5e",
   "metadata": {
    "scrolled": true
   },
   "outputs": [
    {
     "data": {
      "text/html": [
       "<div>\n",
       "<style scoped>\n",
       "    .dataframe tbody tr th:only-of-type {\n",
       "        vertical-align: middle;\n",
       "    }\n",
       "\n",
       "    .dataframe tbody tr th {\n",
       "        vertical-align: top;\n",
       "    }\n",
       "\n",
       "    .dataframe thead th {\n",
       "        text-align: right;\n",
       "    }\n",
       "</style>\n",
       "<table border=\"1\" class=\"dataframe\">\n",
       "  <thead>\n",
       "    <tr style=\"text-align: right;\">\n",
       "      <th></th>\n",
       "      <th>pclass</th>\n",
       "      <th>survived</th>\n",
       "      <th>sex</th>\n",
       "      <th>age</th>\n",
       "    </tr>\n",
       "  </thead>\n",
       "  <tbody>\n",
       "    <tr>\n",
       "      <th>0</th>\n",
       "      <td>1</td>\n",
       "      <td>1</td>\n",
       "      <td>1</td>\n",
       "      <td>29.0000</td>\n",
       "    </tr>\n",
       "    <tr>\n",
       "      <th>1</th>\n",
       "      <td>1</td>\n",
       "      <td>1</td>\n",
       "      <td>0</td>\n",
       "      <td>0.9167</td>\n",
       "    </tr>\n",
       "    <tr>\n",
       "      <th>2</th>\n",
       "      <td>1</td>\n",
       "      <td>0</td>\n",
       "      <td>1</td>\n",
       "      <td>2.0000</td>\n",
       "    </tr>\n",
       "    <tr>\n",
       "      <th>3</th>\n",
       "      <td>1</td>\n",
       "      <td>0</td>\n",
       "      <td>0</td>\n",
       "      <td>30.0000</td>\n",
       "    </tr>\n",
       "    <tr>\n",
       "      <th>4</th>\n",
       "      <td>1</td>\n",
       "      <td>0</td>\n",
       "      <td>1</td>\n",
       "      <td>25.0000</td>\n",
       "    </tr>\n",
       "    <tr>\n",
       "      <th>...</th>\n",
       "      <td>...</td>\n",
       "      <td>...</td>\n",
       "      <td>...</td>\n",
       "      <td>...</td>\n",
       "    </tr>\n",
       "    <tr>\n",
       "      <th>1041</th>\n",
       "      <td>3</td>\n",
       "      <td>0</td>\n",
       "      <td>0</td>\n",
       "      <td>45.5000</td>\n",
       "    </tr>\n",
       "    <tr>\n",
       "      <th>1042</th>\n",
       "      <td>3</td>\n",
       "      <td>0</td>\n",
       "      <td>1</td>\n",
       "      <td>14.5000</td>\n",
       "    </tr>\n",
       "    <tr>\n",
       "      <th>1043</th>\n",
       "      <td>3</td>\n",
       "      <td>0</td>\n",
       "      <td>0</td>\n",
       "      <td>26.5000</td>\n",
       "    </tr>\n",
       "    <tr>\n",
       "      <th>1044</th>\n",
       "      <td>3</td>\n",
       "      <td>0</td>\n",
       "      <td>0</td>\n",
       "      <td>27.0000</td>\n",
       "    </tr>\n",
       "    <tr>\n",
       "      <th>1045</th>\n",
       "      <td>3</td>\n",
       "      <td>0</td>\n",
       "      <td>0</td>\n",
       "      <td>29.0000</td>\n",
       "    </tr>\n",
       "  </tbody>\n",
       "</table>\n",
       "<p>1046 rows × 4 columns</p>\n",
       "</div>"
      ],
      "text/plain": [
       "      pclass  survived  sex      age\n",
       "0          1         1    1  29.0000\n",
       "1          1         1    0   0.9167\n",
       "2          1         0    1   2.0000\n",
       "3          1         0    0  30.0000\n",
       "4          1         0    1  25.0000\n",
       "...      ...       ...  ...      ...\n",
       "1041       3         0    0  45.5000\n",
       "1042       3         0    1  14.5000\n",
       "1043       3         0    0  26.5000\n",
       "1044       3         0    0  27.0000\n",
       "1045       3         0    0  29.0000\n",
       "\n",
       "[1046 rows x 4 columns]"
      ]
     },
     "execution_count": 28,
     "metadata": {},
     "output_type": "execute_result"
    }
   ],
   "source": [
    "data"
   ]
  },
  {
   "cell_type": "code",
   "execution_count": 29,
   "id": "d4b1bc8b",
   "metadata": {},
   "outputs": [],
   "source": [
    "X = np.array(data.loc[:,  data.columns != \"survived\"])\n",
    "Y= np.array(data[\"survived\"])"
   ]
  },
  {
   "cell_type": "code",
   "execution_count": 30,
   "id": "6216194b",
   "metadata": {},
   "outputs": [],
   "source": [
    "Xs = np.apply_along_axis(lambda x: (x-min(x))/(max(x)-min(x)),0,X)\n",
    "Ys = np.apply_along_axis(lambda x: (x-min(x))/(max(x)-min(x)),0,Y)"
   ]
  },
  {
   "cell_type": "code",
   "execution_count": 31,
   "id": "d44ff32f",
   "metadata": {},
   "outputs": [],
   "source": [
    "Ys.resize(len(Ys),1)"
   ]
  },
  {
   "cell_type": "code",
   "execution_count": 32,
   "id": "60e7e33b",
   "metadata": {},
   "outputs": [],
   "source": [
    "s = np.random.choice(len(Ys),size=(len(Ys)),replace=False)\n",
    "\n",
    "Xs_test = Xs[s[0:199],:]\n",
    "Xs_train = Xs[s[200:len(Ys)],:]\n",
    "Ys_test = Ys[s[0:199],:]\n",
    "Ys_train = Ys[s[200:len(Ys)],:]"
   ]
  },
  {
   "cell_type": "code",
   "execution_count": 33,
   "id": "fabaef11",
   "metadata": {},
   "outputs": [],
   "source": [
    "titanic = minibatch(Xs_train,Ys_train,3, sigmoid, sigmoid_der, ztratova_fce, ztratova_der,50)"
   ]
  },
  {
   "cell_type": "code",
   "execution_count": 34,
   "id": "a2957e70",
   "metadata": {},
   "outputs": [
    {
     "name": "stdout",
     "output_type": "stream",
     "text": [
      "0 iterace, ztrata: [233.53582895]\n",
      "100 iterace, ztrata: [200.06919341]\n",
      "200 iterace, ztrata: [143.99019163]\n",
      "300 iterace, ztrata: [130.34295268]\n",
      "400 iterace, ztrata: [127.47133522]\n",
      "500 iterace, ztrata: [125.89871799]\n",
      "600 iterace, ztrata: [124.82300265]\n",
      "700 iterace, ztrata: [124.04998329]\n",
      "800 iterace, ztrata: [123.49232041]\n",
      "900 iterace, ztrata: [123.08777445]\n"
     ]
    }
   ],
   "source": [
    "titanic.train(1000,0.1)"
   ]
  },
  {
   "cell_type": "code",
   "execution_count": 35,
   "id": "0a870b3f",
   "metadata": {},
   "outputs": [],
   "source": [
    "fit=titanic.total_sit.forecast(Xs_test)"
   ]
  },
  {
   "cell_type": "code",
   "execution_count": 36,
   "id": "24979934",
   "metadata": {},
   "outputs": [
    {
     "data": {
      "text/plain": [
       "array([0.8040201])"
      ]
     },
     "execution_count": 36,
     "metadata": {},
     "output_type": "execute_result"
    }
   ],
   "source": [
    "# out of sample test - % spravne zatrídených:\n",
    "sum(np.round(fit)==Ys_test) / len(Ys_test)"
   ]
  },
  {
   "cell_type": "code",
   "execution_count": null,
   "id": "cbe63f51",
   "metadata": {},
   "outputs": [],
   "source": []
  }
 ],
 "metadata": {
  "kernelspec": {
   "display_name": "Python 3 (ipykernel)",
   "language": "python",
   "name": "python3"
  },
  "language_info": {
   "codemirror_mode": {
    "name": "ipython",
    "version": 3
   },
   "file_extension": ".py",
   "mimetype": "text/x-python",
   "name": "python",
   "nbconvert_exporter": "python",
   "pygments_lexer": "ipython3",
   "version": "3.8.6"
  }
 },
 "nbformat": 4,
 "nbformat_minor": 5
}
