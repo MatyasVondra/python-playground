{
 "cells": [
  {
   "cell_type": "code",
   "execution_count": 1,
   "id": "f777b7fc",
   "metadata": {},
   "outputs": [],
   "source": [
    "from sklearn.datasets import load_iris\n",
    "from sklearn.model_selection import train_test_split\n",
    "from keras.utils import to_categorical\n",
    "\n",
    "iris = load_iris()\n",
    "X = iris['data']\n",
    "Y = to_categorical(iris['target'])\n",
    "\n",
    "X_train, X_test, Y_train, Y_test = train_test_split(X, Y, test_size=0.2, random_state=42)\n"
   ]
  },
  {
   "cell_type": "markdown",
   "id": "0738720a",
   "metadata": {},
   "source": [
    "# ADD"
   ]
  },
  {
   "cell_type": "code",
   "execution_count": 8,
   "id": "49dfc995",
   "metadata": {},
   "outputs": [
    {
     "name": "stdout",
     "output_type": "stream",
     "text": [
      "Epoch 1/4\n"
     ]
    },
    {
     "name": "stderr",
     "output_type": "stream",
     "text": [
      "2023-06-15 17:58:47.815716: W tensorflow/core/platform/profile_utils/cpu_utils.cc:128] Failed to get CPU frequency: 0 Hz\n",
      "2023-06-15 17:58:48.018697: I tensorflow/core/grappler/optimizers/custom_graph_optimizer_registry.cc:114] Plugin optimizer for device_type GPU is enabled.\n"
     ]
    },
    {
     "name": "stdout",
     "output_type": "stream",
     "text": [
      "96/96 [==============================] - 3s 11ms/step - loss: 2.5973 - accuracy: 0.4271 - val_loss: 2.6402 - val_accuracy: 0.5000\n",
      "Epoch 2/4\n",
      " 1/96 [..............................] - ETA: 0s - loss: 0.7153 - accuracy: 1.0000"
     ]
    },
    {
     "name": "stderr",
     "output_type": "stream",
     "text": [
      "2023-06-15 17:58:50.231210: I tensorflow/core/grappler/optimizers/custom_graph_optimizer_registry.cc:114] Plugin optimizer for device_type GPU is enabled.\n"
     ]
    },
    {
     "name": "stdout",
     "output_type": "stream",
     "text": [
      "96/96 [==============================] - 1s 9ms/step - loss: 1.2528 - accuracy: 0.7083 - val_loss: 0.9707 - val_accuracy: 0.5417\n",
      "Epoch 3/4\n",
      "96/96 [==============================] - 1s 9ms/step - loss: 0.8102 - accuracy: 0.7292 - val_loss: 0.8894 - val_accuracy: 0.5000\n",
      "Epoch 4/4\n",
      "96/96 [==============================] - 1s 9ms/step - loss: 0.6914 - accuracy: 0.7292 - val_loss: 0.7275 - val_accuracy: 0.6250\n"
     ]
    },
    {
     "data": {
      "text/plain": [
       "<keras.callbacks.History at 0x28a7c1a80>"
      ]
     },
     "execution_count": 8,
     "metadata": {},
     "output_type": "execute_result"
    }
   ],
   "source": [
    "from keras.models import Sequential\n",
    "from keras.layers import Dense\n",
    "\n",
    "model = Sequential()\n",
    "model.add(Dense(10, input_shape=(4,), activation='relu'))\n",
    "model.add(Dense(10, activation='relu'))\n",
    "model.add(Dense(3, activation='softmax'))\n",
    "\n",
    "model.compile(loss='categorical_crossentropy', optimizer='adam', metrics=['accuracy'])\n",
    "\n",
    "model.fit(X_train, Y_train, epochs=4, batch_size=1, verbose=1, validation_split = 0.2)\n"
   ]
  },
  {
   "cell_type": "markdown",
   "id": "ca21985f",
   "metadata": {},
   "source": [
    "# Funkcionální API"
   ]
  },
  {
   "cell_type": "code",
   "execution_count": 9,
   "id": "34746331",
   "metadata": {},
   "outputs": [
    {
     "name": "stdout",
     "output_type": "stream",
     "text": [
      "Epoch 1/4\n",
      " 15/120 [==>...........................] - ETA: 0s - loss: 1.5944 - accuracy: 0.3333   "
     ]
    },
    {
     "name": "stderr",
     "output_type": "stream",
     "text": [
      "2023-06-15 18:02:50.452710: I tensorflow/core/grappler/optimizers/custom_graph_optimizer_registry.cc:114] Plugin optimizer for device_type GPU is enabled.\n"
     ]
    },
    {
     "name": "stdout",
     "output_type": "stream",
     "text": [
      "120/120 [==============================] - 1s 8ms/step - loss: 1.2567 - accuracy: 0.3417\n",
      "Epoch 2/4\n",
      "120/120 [==============================] - 1s 7ms/step - loss: 0.9294 - accuracy: 0.5833\n",
      "Epoch 3/4\n",
      "120/120 [==============================] - 1s 8ms/step - loss: 0.7704 - accuracy: 0.7000\n",
      "Epoch 4/4\n",
      "120/120 [==============================] - 1s 7ms/step - loss: 0.6570 - accuracy: 0.6750\n"
     ]
    },
    {
     "data": {
      "text/plain": [
       "<keras.callbacks.History at 0x289ffeec0>"
      ]
     },
     "execution_count": 9,
     "metadata": {},
     "output_type": "execute_result"
    }
   ],
   "source": [
    "from keras.layers import Input, Dense\n",
    "from keras.models import Model\n",
    "\n",
    "inputs = Input(shape=(4,))\n",
    "x = Dense(10, activation='relu')(inputs)\n",
    "x = Dense(10, activation='relu')(x)\n",
    "outputs = Dense(3, activation='softmax')(x)\n",
    "\n",
    "model = Model(inputs=inputs, outputs=outputs)\n",
    "\n",
    "model.compile(loss='categorical_crossentropy', optimizer='adam', metrics=['accuracy'])\n",
    "\n",
    "model.fit(X_train, Y_train, epochs=4, batch_size=1, verbose=1)\n"
   ]
  },
  {
   "cell_type": "markdown",
   "id": "954bbfdc",
   "metadata": {},
   "source": [
    "# Sub-classing /potomek třídy Model"
   ]
  },
  {
   "cell_type": "code",
   "execution_count": 10,
   "id": "96f3339f",
   "metadata": {},
   "outputs": [
    {
     "name": "stdout",
     "output_type": "stream",
     "text": [
      "Epoch 1/4\n",
      " 14/120 [==>...........................] - ETA: 0s - loss: 1.2090 - accuracy: 0.3571   "
     ]
    },
    {
     "name": "stderr",
     "output_type": "stream",
     "text": [
      "2023-06-15 18:06:07.881878: I tensorflow/core/grappler/optimizers/custom_graph_optimizer_registry.cc:114] Plugin optimizer for device_type GPU is enabled.\n"
     ]
    },
    {
     "name": "stdout",
     "output_type": "stream",
     "text": [
      "120/120 [==============================] - 1s 8ms/step - loss: 1.0075 - accuracy: 0.5333\n",
      "Epoch 2/4\n",
      "120/120 [==============================] - 1s 7ms/step - loss: 0.8289 - accuracy: 0.6667\n",
      "Epoch 3/4\n",
      "120/120 [==============================] - 1s 8ms/step - loss: 0.6867 - accuracy: 0.7667\n",
      "Epoch 4/4\n",
      "120/120 [==============================] - 1s 7ms/step - loss: 0.5649 - accuracy: 0.7750\n"
     ]
    },
    {
     "data": {
      "text/plain": [
       "<keras.callbacks.History at 0x28e0e6bc0>"
      ]
     },
     "execution_count": 10,
     "metadata": {},
     "output_type": "execute_result"
    }
   ],
   "source": [
    "from keras.models import Model\n",
    "from keras.layers import Dense\n",
    "\n",
    "class MyModel(Model):\n",
    "    def __init__(self):\n",
    "        super(MyModel, self).__init__()\n",
    "        self.dense1 = Dense(10, activation='relu')\n",
    "        self.dense2 = Dense(10, activation='relu')\n",
    "        self.dense3 = Dense(3, activation='softmax')\n",
    "\n",
    "    def call(self, inputs):\n",
    "        x = self.dense1(inputs)\n",
    "        x = self.dense2(x)\n",
    "        return self.dense3(x)\n",
    "\n",
    "model = MyModel()\n",
    "\n",
    "model.compile(loss='categorical_crossentropy', optimizer='adam', metrics=['accuracy'])\n",
    "\n",
    "model.fit(X_train, Y_train, epochs=4, batch_size=1, verbose=1)\n"
   ]
  },
  {
   "cell_type": "code",
   "execution_count": null,
   "id": "63f0f0a8",
   "metadata": {},
   "outputs": [],
   "source": []
  }
 ],
 "metadata": {
  "kernelspec": {
   "display_name": "Python 3 (ipykernel)",
   "language": "python",
   "name": "python3"
  },
  "language_info": {
   "codemirror_mode": {
    "name": "ipython",
    "version": 3
   },
   "file_extension": ".py",
   "mimetype": "text/x-python",
   "name": "python",
   "nbconvert_exporter": "python",
   "pygments_lexer": "ipython3",
   "version": "3.10.5"
  }
 },
 "nbformat": 4,
 "nbformat_minor": 5
}
