{
  "nbformat": 4,
  "nbformat_minor": 0,
  "metadata": {
    "colab": {
      "provenance": []
    },
    "kernelspec": {
      "name": "python3",
      "display_name": "Python 3"
    },
    "language_info": {
      "name": "python"
    }
  },
  "cells": [
    {
      "cell_type": "markdown",
      "source": [
        "# Ukol 3: predikce cen akcii\n",
        "18.6. Matyas Vondra\n",
        "\n",
        "Predikuji cenu akcii AAPL pomoci cen AAPL, META, GOOGL, AMZN a MSFT"
      ],
      "metadata": {
        "id": "3y-9Fm8LZe19"
      }
    },
    {
      "cell_type": "markdown",
      "source": [
        "### Priprava dat"
      ],
      "metadata": {
        "id": "bNfZuY3SZ1mb"
      }
    },
    {
      "cell_type": "code",
      "source": [
        "import numpy as np\n",
        "from sklearn.preprocessing import MinMaxScaler"
      ],
      "metadata": {
        "id": "0ZpDBItlsrqi"
      },
      "execution_count": 319,
      "outputs": []
    },
    {
      "cell_type": "code",
      "execution_count": 320,
      "metadata": {
        "colab": {
          "base_uri": "https://localhost:8080/",
          "height": 0
        },
        "id": "-0idvIiKpmGa",
        "outputId": "359eff22-d5e4-4f43-c87c-718bc73dba86"
      },
      "outputs": [
        {
          "output_type": "stream",
          "name": "stdout",
          "text": [
            "[*********************100%***********************]  5 of 5 completed\n"
          ]
        }
      ],
      "source": [
        "import yfinance as yf\n",
        "import pandas as pd\n",
        "tickers_list = [\"AAPL\", \"META\", \"GOOGL\", \"AMZN\", \"MSFT\"]\n",
        "\n",
        "# Stažení dat:\n",
        "import yfinance as yf\n",
        "data = yf.download(tickers_list,'2018-1-1')['Adj Close']"
      ]
    },
    {
      "cell_type": "code",
      "source": [
        "data"
      ],
      "metadata": {
        "colab": {
          "base_uri": "https://localhost:8080/",
          "height": 455
        },
        "id": "jLONsx-Vp05w",
        "outputId": "63d00163-c9aa-4f6c-c257-ed7df9c4bb34"
      },
      "execution_count": 321,
      "outputs": [
        {
          "output_type": "execute_result",
          "data": {
            "text/plain": [
              "                  AAPL        AMZN       GOOGL        META        MSFT\n",
              "Date                                                                  \n",
              "2018-01-02   40.831585   59.450500   53.660500  181.419998   80.562042\n",
              "2018-01-03   40.824482   60.209999   54.576000  184.669998   80.936974\n",
              "2018-01-04   41.014103   60.479500   54.787998  184.330002   81.649345\n",
              "2018-01-05   41.481064   61.457001   55.514500  186.850006   82.661629\n",
              "2018-01-08   41.326992   62.343498   55.710499  188.279999   82.745987\n",
              "...                ...         ...         ...         ...         ...\n",
              "2023-06-12  183.789993  126.570000  123.639999  271.049988  331.850006\n",
              "2023-06-13  183.309998  126.660004  123.830002  271.320007  334.290009\n",
              "2023-06-14  183.949997  126.419998  123.669998  273.350006  337.339996\n",
              "2023-06-15  186.009995  127.110001  125.089996  281.829987  348.100006\n",
              "2023-06-16  184.919998  125.489998  123.529999  281.000000  342.329987\n",
              "\n",
              "[1374 rows x 5 columns]"
            ],
            "text/html": [
              "\n",
              "  <div id=\"df-16c91fe3-4f10-4b76-bfe6-68069f9b7558\">\n",
              "    <div class=\"colab-df-container\">\n",
              "      <div>\n",
              "<style scoped>\n",
              "    .dataframe tbody tr th:only-of-type {\n",
              "        vertical-align: middle;\n",
              "    }\n",
              "\n",
              "    .dataframe tbody tr th {\n",
              "        vertical-align: top;\n",
              "    }\n",
              "\n",
              "    .dataframe thead th {\n",
              "        text-align: right;\n",
              "    }\n",
              "</style>\n",
              "<table border=\"1\" class=\"dataframe\">\n",
              "  <thead>\n",
              "    <tr style=\"text-align: right;\">\n",
              "      <th></th>\n",
              "      <th>AAPL</th>\n",
              "      <th>AMZN</th>\n",
              "      <th>GOOGL</th>\n",
              "      <th>META</th>\n",
              "      <th>MSFT</th>\n",
              "    </tr>\n",
              "    <tr>\n",
              "      <th>Date</th>\n",
              "      <th></th>\n",
              "      <th></th>\n",
              "      <th></th>\n",
              "      <th></th>\n",
              "      <th></th>\n",
              "    </tr>\n",
              "  </thead>\n",
              "  <tbody>\n",
              "    <tr>\n",
              "      <th>2018-01-02</th>\n",
              "      <td>40.831585</td>\n",
              "      <td>59.450500</td>\n",
              "      <td>53.660500</td>\n",
              "      <td>181.419998</td>\n",
              "      <td>80.562042</td>\n",
              "    </tr>\n",
              "    <tr>\n",
              "      <th>2018-01-03</th>\n",
              "      <td>40.824482</td>\n",
              "      <td>60.209999</td>\n",
              "      <td>54.576000</td>\n",
              "      <td>184.669998</td>\n",
              "      <td>80.936974</td>\n",
              "    </tr>\n",
              "    <tr>\n",
              "      <th>2018-01-04</th>\n",
              "      <td>41.014103</td>\n",
              "      <td>60.479500</td>\n",
              "      <td>54.787998</td>\n",
              "      <td>184.330002</td>\n",
              "      <td>81.649345</td>\n",
              "    </tr>\n",
              "    <tr>\n",
              "      <th>2018-01-05</th>\n",
              "      <td>41.481064</td>\n",
              "      <td>61.457001</td>\n",
              "      <td>55.514500</td>\n",
              "      <td>186.850006</td>\n",
              "      <td>82.661629</td>\n",
              "    </tr>\n",
              "    <tr>\n",
              "      <th>2018-01-08</th>\n",
              "      <td>41.326992</td>\n",
              "      <td>62.343498</td>\n",
              "      <td>55.710499</td>\n",
              "      <td>188.279999</td>\n",
              "      <td>82.745987</td>\n",
              "    </tr>\n",
              "    <tr>\n",
              "      <th>...</th>\n",
              "      <td>...</td>\n",
              "      <td>...</td>\n",
              "      <td>...</td>\n",
              "      <td>...</td>\n",
              "      <td>...</td>\n",
              "    </tr>\n",
              "    <tr>\n",
              "      <th>2023-06-12</th>\n",
              "      <td>183.789993</td>\n",
              "      <td>126.570000</td>\n",
              "      <td>123.639999</td>\n",
              "      <td>271.049988</td>\n",
              "      <td>331.850006</td>\n",
              "    </tr>\n",
              "    <tr>\n",
              "      <th>2023-06-13</th>\n",
              "      <td>183.309998</td>\n",
              "      <td>126.660004</td>\n",
              "      <td>123.830002</td>\n",
              "      <td>271.320007</td>\n",
              "      <td>334.290009</td>\n",
              "    </tr>\n",
              "    <tr>\n",
              "      <th>2023-06-14</th>\n",
              "      <td>183.949997</td>\n",
              "      <td>126.419998</td>\n",
              "      <td>123.669998</td>\n",
              "      <td>273.350006</td>\n",
              "      <td>337.339996</td>\n",
              "    </tr>\n",
              "    <tr>\n",
              "      <th>2023-06-15</th>\n",
              "      <td>186.009995</td>\n",
              "      <td>127.110001</td>\n",
              "      <td>125.089996</td>\n",
              "      <td>281.829987</td>\n",
              "      <td>348.100006</td>\n",
              "    </tr>\n",
              "    <tr>\n",
              "      <th>2023-06-16</th>\n",
              "      <td>184.919998</td>\n",
              "      <td>125.489998</td>\n",
              "      <td>123.529999</td>\n",
              "      <td>281.000000</td>\n",
              "      <td>342.329987</td>\n",
              "    </tr>\n",
              "  </tbody>\n",
              "</table>\n",
              "<p>1374 rows × 5 columns</p>\n",
              "</div>\n",
              "      <button class=\"colab-df-convert\" onclick=\"convertToInteractive('df-16c91fe3-4f10-4b76-bfe6-68069f9b7558')\"\n",
              "              title=\"Convert this dataframe to an interactive table.\"\n",
              "              style=\"display:none;\">\n",
              "        \n",
              "  <svg xmlns=\"http://www.w3.org/2000/svg\" height=\"24px\"viewBox=\"0 0 24 24\"\n",
              "       width=\"24px\">\n",
              "    <path d=\"M0 0h24v24H0V0z\" fill=\"none\"/>\n",
              "    <path d=\"M18.56 5.44l.94 2.06.94-2.06 2.06-.94-2.06-.94-.94-2.06-.94 2.06-2.06.94zm-11 1L8.5 8.5l.94-2.06 2.06-.94-2.06-.94L8.5 2.5l-.94 2.06-2.06.94zm10 10l.94 2.06.94-2.06 2.06-.94-2.06-.94-.94-2.06-.94 2.06-2.06.94z\"/><path d=\"M17.41 7.96l-1.37-1.37c-.4-.4-.92-.59-1.43-.59-.52 0-1.04.2-1.43.59L10.3 9.45l-7.72 7.72c-.78.78-.78 2.05 0 2.83L4 21.41c.39.39.9.59 1.41.59.51 0 1.02-.2 1.41-.59l7.78-7.78 2.81-2.81c.8-.78.8-2.07 0-2.86zM5.41 20L4 18.59l7.72-7.72 1.47 1.35L5.41 20z\"/>\n",
              "  </svg>\n",
              "      </button>\n",
              "      \n",
              "  <style>\n",
              "    .colab-df-container {\n",
              "      display:flex;\n",
              "      flex-wrap:wrap;\n",
              "      gap: 12px;\n",
              "    }\n",
              "\n",
              "    .colab-df-convert {\n",
              "      background-color: #E8F0FE;\n",
              "      border: none;\n",
              "      border-radius: 50%;\n",
              "      cursor: pointer;\n",
              "      display: none;\n",
              "      fill: #1967D2;\n",
              "      height: 32px;\n",
              "      padding: 0 0 0 0;\n",
              "      width: 32px;\n",
              "    }\n",
              "\n",
              "    .colab-df-convert:hover {\n",
              "      background-color: #E2EBFA;\n",
              "      box-shadow: 0px 1px 2px rgba(60, 64, 67, 0.3), 0px 1px 3px 1px rgba(60, 64, 67, 0.15);\n",
              "      fill: #174EA6;\n",
              "    }\n",
              "\n",
              "    [theme=dark] .colab-df-convert {\n",
              "      background-color: #3B4455;\n",
              "      fill: #D2E3FC;\n",
              "    }\n",
              "\n",
              "    [theme=dark] .colab-df-convert:hover {\n",
              "      background-color: #434B5C;\n",
              "      box-shadow: 0px 1px 3px 1px rgba(0, 0, 0, 0.15);\n",
              "      filter: drop-shadow(0px 1px 2px rgba(0, 0, 0, 0.3));\n",
              "      fill: #FFFFFF;\n",
              "    }\n",
              "  </style>\n",
              "\n",
              "      <script>\n",
              "        const buttonEl =\n",
              "          document.querySelector('#df-16c91fe3-4f10-4b76-bfe6-68069f9b7558 button.colab-df-convert');\n",
              "        buttonEl.style.display =\n",
              "          google.colab.kernel.accessAllowed ? 'block' : 'none';\n",
              "\n",
              "        async function convertToInteractive(key) {\n",
              "          const element = document.querySelector('#df-16c91fe3-4f10-4b76-bfe6-68069f9b7558');\n",
              "          const dataTable =\n",
              "            await google.colab.kernel.invokeFunction('convertToInteractive',\n",
              "                                                     [key], {});\n",
              "          if (!dataTable) return;\n",
              "\n",
              "          const docLinkHtml = 'Like what you see? Visit the ' +\n",
              "            '<a target=\"_blank\" href=https://colab.research.google.com/notebooks/data_table.ipynb>data table notebook</a>'\n",
              "            + ' to learn more about interactive tables.';\n",
              "          element.innerHTML = '';\n",
              "          dataTable['output_type'] = 'display_data';\n",
              "          await google.colab.output.renderOutput(dataTable, element);\n",
              "          const docLink = document.createElement('div');\n",
              "          docLink.innerHTML = docLinkHtml;\n",
              "          element.appendChild(docLink);\n",
              "        }\n",
              "      </script>\n",
              "    </div>\n",
              "  </div>\n",
              "  "
            ]
          },
          "metadata": {},
          "execution_count": 321
        }
      ]
    },
    {
      "cell_type": "code",
      "source": [
        "prices = data.values.reshape(-1,1) # prevod na array"
      ],
      "metadata": {
        "id": "Ca7B1H-up3YR"
      },
      "execution_count": 381,
      "outputs": []
    },
    {
      "cell_type": "code",
      "source": [
        "prices = (np.log(prices)) # logaritmus cen, kvuli volatilite"
      ],
      "metadata": {
        "id": "VfOrl4iTsibw"
      },
      "execution_count": 323,
      "outputs": []
    },
    {
      "cell_type": "code",
      "source": [
        "prices.shape # petinasobek poctu radku puvodnich dat"
      ],
      "metadata": {
        "colab": {
          "base_uri": "https://localhost:8080/",
          "height": 0
        },
        "id": "g9-MQjnHsjJd",
        "outputId": "f4e36f2f-ec00-4e5e-b62d-a117aaf9f6a6"
      },
      "execution_count": 324,
      "outputs": [
        {
          "output_type": "execute_result",
          "data": {
            "text/plain": [
              "(6870, 1)"
            ]
          },
          "metadata": {},
          "execution_count": 324
        }
      ]
    },
    {
      "cell_type": "code",
      "source": [
        "# Normalizace dat\n",
        "scaler = MinMaxScaler(feature_range=(0, 1))\n",
        "prices = scaler.fit_transform(prices)"
      ],
      "metadata": {
        "id": "WkeVaRPes0m_"
      },
      "execution_count": 325,
      "outputs": []
    },
    {
      "cell_type": "markdown",
      "source": [
        "### 10 % testovacich dat"
      ],
      "metadata": {
        "id": "-EvPNsaoZ6KH"
      }
    },
    {
      "cell_type": "code",
      "source": [
        "# Rozdělení dat na trénovací a testovací sady\n",
        "train_size = int(len(prices) * 0.90)\n",
        "train, test = prices[0:train_size, :], prices[train_size:len(prices), :]"
      ],
      "metadata": {
        "id": "imlMTtoSs4wS"
      },
      "execution_count": 382,
      "outputs": []
    },
    {
      "cell_type": "code",
      "source": [
        "train"
      ],
      "metadata": {
        "colab": {
          "base_uri": "https://localhost:8080/",
          "height": 0
        },
        "id": "JuPZhLj3tUo-",
        "outputId": "9408aff9-bf51-4675-8d48-9dfd36e7c66c"
      },
      "execution_count": 327,
      "outputs": [
        {
          "output_type": "execute_result",
          "data": {
            "text/plain": [
              "array([[0.07331607],\n",
              "       [0.22898526],\n",
              "       [0.18652734],\n",
              "       ...,\n",
              "       [0.58612533],\n",
              "       [0.41179952],\n",
              "       [0.42403613]])"
            ]
          },
          "metadata": {},
          "execution_count": 327
        }
      ]
    },
    {
      "cell_type": "code",
      "execution_count": 328,
      "metadata": {
        "id": "f9d40a54"
      },
      "outputs": [],
      "source": [
        "# Funkce pro vytvoření datové sady pro LSTM\n",
        "def create_dataset(dataset, look_back=1):\n",
        "    dataX, dataY = [], []\n",
        "    # zde uprava range pro 5 promennych:\n",
        "    for i in range(0, len(dataset) - look_back - 1, 5):\n",
        "        a = dataset[i:(i + look_back), 0]\n",
        "        dataX.append(a)\n",
        "        dataY.append(dataset[i + look_back, 0])\n",
        "    return np.array(dataX), np.array(dataY)"
      ]
    },
    {
      "cell_type": "code",
      "execution_count": 383,
      "metadata": {
        "id": "85a1da59"
      },
      "outputs": [],
      "source": [
        "# Vytvoření trénovací a testovací sady\n",
        "look_back = 5*2  # časový okamžik do minulosti\n",
        "# v pripade predikce 10% dat mi nevychazely moc dobre vysledky\n",
        "# s dlouhym look_back. Pouzivam tedy pouze dva dny dozadu\n",
        "\n",
        "trainX, trainY = create_dataset(train, look_back)\n",
        "testX, testY = create_dataset(test, look_back)"
      ]
    },
    {
      "cell_type": "markdown",
      "source": [
        "Toto jsem vytvoril bez logaritmovani a standardizace pro overeni spravne tvorby X a Y.\n",
        "\n",
        "V tomto pripade predikujeme AAPL na 5 pozorovani dozadu, tedy ze vsech akcii z jednoho predchoziho dne"
      ],
      "metadata": {
        "id": "4PyItEu1yMSN"
      }
    },
    {
      "cell_type": "code",
      "execution_count": 384,
      "metadata": {
        "colab": {
          "base_uri": "https://localhost:8080/",
          "height": 0
        },
        "id": "448cf5f5",
        "outputId": "f353173f-d594-4f09-d3a2-9b721db00282"
      },
      "outputs": [
        {
          "output_type": "execute_result",
          "data": {
            "text/plain": [
              "array([ 40.82448196,  60.20999908,  54.57600021, 184.66999817,\n",
              "        80.93697357])"
            ]
          },
          "metadata": {},
          "execution_count": 384
        }
      ],
      "source": [
        "trainX[1]"
      ]
    },
    {
      "cell_type": "code",
      "source": [
        "trainY[1]"
      ],
      "metadata": {
        "colab": {
          "base_uri": "https://localhost:8080/",
          "height": 0
        },
        "id": "mO4z8gzOwDsn",
        "outputId": "456c6ca2-8d4f-4ff8-fde6-f12bf3c0ef7a"
      },
      "execution_count": 385,
      "outputs": [
        {
          "output_type": "execute_result",
          "data": {
            "text/plain": [
              "41.014102935791016"
            ]
          },
          "metadata": {},
          "execution_count": 385
        }
      ]
    },
    {
      "cell_type": "code",
      "execution_count": 373,
      "metadata": {
        "id": "b4672bb6"
      },
      "outputs": [],
      "source": [
        "# Změna tvaru vstupních dat\n",
        "trainX = np.reshape(trainX, (trainX.shape[0], 1, trainX.shape[1]))\n",
        "testX = np.reshape(testX, (testX.shape[0], 1, testX.shape[1]))"
      ]
    },
    {
      "cell_type": "code",
      "execution_count": 374,
      "metadata": {
        "scrolled": true,
        "colab": {
          "base_uri": "https://localhost:8080/",
          "height": 0
        },
        "id": "9b689f44",
        "outputId": "9368bc65-07f2-47f4-fb87-f9117d41b70b"
      },
      "outputs": [
        {
          "output_type": "execute_result",
          "data": {
            "text/plain": [
              "(1303, 1, 10)"
            ]
          },
          "metadata": {},
          "execution_count": 374
        }
      ],
      "source": [
        "trainX.shape # pocet pozorovani, pocet promennych, pocet pozorovani do minulosti"
      ]
    },
    {
      "cell_type": "code",
      "execution_count": 375,
      "metadata": {
        "colab": {
          "base_uri": "https://localhost:8080/",
          "height": 0
        },
        "id": "a011fc0c",
        "outputId": "3280bd53-e290-4f7c-f640-cb9104deda58"
      },
      "outputs": [
        {
          "output_type": "stream",
          "name": "stdout",
          "text": [
            "Model: \"sequential_30\"\n",
            "_________________________________________________________________\n",
            " Layer (type)                Output Shape              Param #   \n",
            "=================================================================\n",
            " lstm_22 (LSTM)              (None, 4)                 240       \n",
            "                                                                 \n",
            " dense_45 (Dense)            (None, 2)                 10        \n",
            "                                                                 \n",
            " dropout_18 (Dropout)        (None, 2)                 0         \n",
            "                                                                 \n",
            " dense_46 (Dense)            (None, 1)                 3         \n",
            "                                                                 \n",
            "=================================================================\n",
            "Total params: 253\n",
            "Trainable params: 253\n",
            "Non-trainable params: 0\n",
            "_________________________________________________________________\n"
          ]
        }
      ],
      "source": [
        "from keras.models import Sequential\n",
        "from keras.layers import Dense, LSTM, Dropout\n",
        "\n",
        "# Vytvoření a kompilace LSTM modelu\n",
        "model = Sequential()\n",
        "model.add(LSTM(4, input_shape=(1, look_back)))\n",
        "model.add(Dense(2))\n",
        "model.add(Dropout(0.2))\n",
        "model.add(Dense(1))\n",
        "model.compile(loss='mean_squared_error', optimizer='adam')\n",
        "\n",
        "model.summary()"
      ]
    },
    {
      "cell_type": "code",
      "execution_count": 376,
      "metadata": {
        "scrolled": true,
        "id": "b105631d",
        "outputId": "896c02bf-8c1e-4eb8-e0a5-500114c615ec",
        "colab": {
          "base_uri": "https://localhost:8080/",
          "height": 0
        }
      },
      "outputs": [
        {
          "output_type": "stream",
          "name": "stdout",
          "text": [
            "Epoch 1/100\n",
            "1303/1303 [==============================] - 6s 2ms/step - loss: 0.0278\n",
            "Epoch 2/100\n",
            "1303/1303 [==============================] - 4s 3ms/step - loss: 0.0091\n",
            "Epoch 3/100\n",
            "1303/1303 [==============================] - 3s 2ms/step - loss: 0.0066\n",
            "Epoch 4/100\n",
            "1303/1303 [==============================] - 3s 2ms/step - loss: 0.0065\n",
            "Epoch 5/100\n",
            "1303/1303 [==============================] - 3s 2ms/step - loss: 0.0060\n",
            "Epoch 6/100\n",
            "1303/1303 [==============================] - 4s 3ms/step - loss: 0.0059\n",
            "Epoch 7/100\n",
            "1303/1303 [==============================] - 3s 2ms/step - loss: 0.0059\n",
            "Epoch 8/100\n",
            "1303/1303 [==============================] - 3s 3ms/step - loss: 0.0057\n",
            "Epoch 9/100\n",
            "1303/1303 [==============================] - 3s 2ms/step - loss: 0.0063\n",
            "Epoch 10/100\n",
            "1303/1303 [==============================] - 4s 3ms/step - loss: 0.0050\n",
            "Epoch 11/100\n",
            "1303/1303 [==============================] - 3s 2ms/step - loss: 0.0055\n",
            "Epoch 12/100\n",
            "1303/1303 [==============================] - 3s 2ms/step - loss: 0.0057\n",
            "Epoch 13/100\n",
            "1303/1303 [==============================] - 3s 2ms/step - loss: 0.0058\n",
            "Epoch 14/100\n",
            "1303/1303 [==============================] - 4s 3ms/step - loss: 0.0058\n",
            "Epoch 15/100\n",
            "1303/1303 [==============================] - 3s 2ms/step - loss: 0.0054\n",
            "Epoch 16/100\n",
            "1303/1303 [==============================] - 3s 2ms/step - loss: 0.0062\n",
            "Epoch 17/100\n",
            "1303/1303 [==============================] - 3s 2ms/step - loss: 0.0056\n",
            "Epoch 18/100\n",
            "1303/1303 [==============================] - 4s 3ms/step - loss: 0.0056\n",
            "Epoch 19/100\n",
            "1303/1303 [==============================] - 3s 2ms/step - loss: 0.0060\n",
            "Epoch 20/100\n",
            "1303/1303 [==============================] - 3s 2ms/step - loss: 0.0058\n",
            "Epoch 21/100\n",
            "1303/1303 [==============================] - 3s 2ms/step - loss: 0.0055\n",
            "Epoch 22/100\n",
            "1303/1303 [==============================] - 4s 3ms/step - loss: 0.0057\n",
            "Epoch 23/100\n",
            "1303/1303 [==============================] - 3s 2ms/step - loss: 0.0059\n",
            "Epoch 24/100\n",
            "1303/1303 [==============================] - 3s 2ms/step - loss: 0.0063\n",
            "Epoch 25/100\n",
            "1303/1303 [==============================] - 4s 3ms/step - loss: 0.0053\n",
            "Epoch 26/100\n",
            "1303/1303 [==============================] - 4s 3ms/step - loss: 0.0060\n",
            "Epoch 27/100\n",
            "1303/1303 [==============================] - 3s 2ms/step - loss: 0.0052\n",
            "Epoch 28/100\n",
            "1303/1303 [==============================] - 3s 2ms/step - loss: 0.0058\n",
            "Epoch 29/100\n",
            "1303/1303 [==============================] - 4s 3ms/step - loss: 0.0054\n",
            "Epoch 30/100\n",
            "1303/1303 [==============================] - 3s 3ms/step - loss: 0.0055\n",
            "Epoch 31/100\n",
            "1303/1303 [==============================] - 3s 2ms/step - loss: 0.0054\n",
            "Epoch 32/100\n",
            "1303/1303 [==============================] - 3s 2ms/step - loss: 0.0047\n",
            "Epoch 33/100\n",
            "1303/1303 [==============================] - 4s 3ms/step - loss: 0.0057\n",
            "Epoch 34/100\n",
            "1303/1303 [==============================] - 4s 3ms/step - loss: 0.0052\n",
            "Epoch 35/100\n",
            "1303/1303 [==============================] - 3s 2ms/step - loss: 0.0056\n",
            "Epoch 36/100\n",
            "1303/1303 [==============================] - 3s 2ms/step - loss: 0.0052\n",
            "Epoch 37/100\n",
            "1303/1303 [==============================] - 4s 3ms/step - loss: 0.0059\n",
            "Epoch 38/100\n",
            "1303/1303 [==============================] - 3s 2ms/step - loss: 0.0055\n",
            "Epoch 39/100\n",
            "1303/1303 [==============================] - 3s 2ms/step - loss: 0.0052\n",
            "Epoch 40/100\n",
            "1303/1303 [==============================] - 3s 2ms/step - loss: 0.0061\n",
            "Epoch 41/100\n",
            "1303/1303 [==============================] - 4s 3ms/step - loss: 0.0052\n",
            "Epoch 42/100\n",
            "1303/1303 [==============================] - 3s 2ms/step - loss: 0.0056\n",
            "Epoch 43/100\n",
            "1303/1303 [==============================] - 3s 2ms/step - loss: 0.0059\n",
            "Epoch 44/100\n",
            "1303/1303 [==============================] - 3s 2ms/step - loss: 0.0055\n",
            "Epoch 45/100\n",
            "1303/1303 [==============================] - 4s 3ms/step - loss: 0.0054\n",
            "Epoch 46/100\n",
            "1303/1303 [==============================] - 3s 2ms/step - loss: 0.0055\n",
            "Epoch 47/100\n",
            "1303/1303 [==============================] - 3s 3ms/step - loss: 0.0053\n",
            "Epoch 48/100\n",
            "1303/1303 [==============================] - 3s 2ms/step - loss: 0.0054\n",
            "Epoch 49/100\n",
            "1303/1303 [==============================] - 4s 3ms/step - loss: 0.0054\n",
            "Epoch 50/100\n",
            "1303/1303 [==============================] - 3s 2ms/step - loss: 0.0053\n",
            "Epoch 51/100\n",
            "1303/1303 [==============================] - 3s 2ms/step - loss: 0.0052\n",
            "Epoch 52/100\n",
            "1303/1303 [==============================] - 3s 2ms/step - loss: 0.0054\n",
            "Epoch 53/100\n",
            "1303/1303 [==============================] - 4s 3ms/step - loss: 0.0061\n",
            "Epoch 54/100\n",
            "1303/1303 [==============================] - 3s 2ms/step - loss: 0.0058\n",
            "Epoch 55/100\n",
            "1303/1303 [==============================] - 3s 3ms/step - loss: 0.0058\n",
            "Epoch 56/100\n",
            "1303/1303 [==============================] - 3s 3ms/step - loss: 0.0050\n",
            "Epoch 57/100\n",
            "1303/1303 [==============================] - 4s 3ms/step - loss: 0.0057\n",
            "Epoch 58/100\n",
            "1303/1303 [==============================] - 3s 3ms/step - loss: 0.0055\n",
            "Epoch 59/100\n",
            "1303/1303 [==============================] - 3s 3ms/step - loss: 0.0057\n",
            "Epoch 60/100\n",
            "1303/1303 [==============================] - 4s 3ms/step - loss: 0.0049\n",
            "Epoch 61/100\n",
            "1303/1303 [==============================] - 3s 2ms/step - loss: 0.0059\n",
            "Epoch 62/100\n",
            "1303/1303 [==============================] - 3s 2ms/step - loss: 0.0057\n",
            "Epoch 63/100\n",
            "1303/1303 [==============================] - 3s 2ms/step - loss: 0.0050\n",
            "Epoch 64/100\n",
            "1303/1303 [==============================] - 4s 3ms/step - loss: 0.0054\n",
            "Epoch 65/100\n",
            "1303/1303 [==============================] - 3s 2ms/step - loss: 0.0055\n",
            "Epoch 66/100\n",
            "1303/1303 [==============================] - 3s 2ms/step - loss: 0.0058\n",
            "Epoch 67/100\n",
            "1303/1303 [==============================] - 3s 3ms/step - loss: 0.0055\n",
            "Epoch 68/100\n",
            "1303/1303 [==============================] - 4s 3ms/step - loss: 0.0059\n",
            "Epoch 69/100\n",
            "1303/1303 [==============================] - 3s 2ms/step - loss: 0.0058\n",
            "Epoch 70/100\n",
            "1303/1303 [==============================] - 3s 2ms/step - loss: 0.0059\n",
            "Epoch 71/100\n",
            "1303/1303 [==============================] - 3s 3ms/step - loss: 0.0061\n",
            "Epoch 72/100\n",
            "1303/1303 [==============================] - 4s 3ms/step - loss: 0.0065\n",
            "Epoch 73/100\n",
            "1303/1303 [==============================] - 3s 2ms/step - loss: 0.0052\n",
            "Epoch 74/100\n",
            "1303/1303 [==============================] - 3s 2ms/step - loss: 0.0053\n",
            "Epoch 75/100\n",
            "1303/1303 [==============================] - 4s 3ms/step - loss: 0.0053\n",
            "Epoch 76/100\n",
            "1303/1303 [==============================] - 4s 3ms/step - loss: 0.0052\n",
            "Epoch 77/100\n",
            "1303/1303 [==============================] - 3s 2ms/step - loss: 0.0055\n",
            "Epoch 78/100\n",
            "1303/1303 [==============================] - 3s 3ms/step - loss: 0.0053\n",
            "Epoch 79/100\n",
            "1303/1303 [==============================] - 4s 3ms/step - loss: 0.0053\n",
            "Epoch 80/100\n",
            "1303/1303 [==============================] - 3s 2ms/step - loss: 0.0052\n",
            "Epoch 81/100\n",
            "1303/1303 [==============================] - 3s 2ms/step - loss: 0.0055\n",
            "Epoch 82/100\n",
            "1303/1303 [==============================] - 3s 2ms/step - loss: 0.0052\n",
            "Epoch 83/100\n",
            "1303/1303 [==============================] - 4s 3ms/step - loss: 0.0058\n",
            "Epoch 84/100\n",
            "1303/1303 [==============================] - 3s 3ms/step - loss: 0.0057\n",
            "Epoch 85/100\n",
            "1303/1303 [==============================] - 3s 3ms/step - loss: 0.0062\n",
            "Epoch 86/100\n",
            "1303/1303 [==============================] - 4s 3ms/step - loss: 0.0055\n",
            "Epoch 87/100\n",
            "1303/1303 [==============================] - 4s 3ms/step - loss: 0.0056\n",
            "Epoch 88/100\n",
            "1303/1303 [==============================] - 3s 2ms/step - loss: 0.0055\n",
            "Epoch 89/100\n",
            "1303/1303 [==============================] - 3s 3ms/step - loss: 0.0055\n",
            "Epoch 90/100\n",
            "1303/1303 [==============================] - 3s 3ms/step - loss: 0.0053\n",
            "Epoch 91/100\n",
            "1303/1303 [==============================] - 4s 3ms/step - loss: 0.0055\n",
            "Epoch 92/100\n",
            "1303/1303 [==============================] - 3s 2ms/step - loss: 0.0055\n",
            "Epoch 93/100\n",
            "1303/1303 [==============================] - 3s 2ms/step - loss: 0.0058\n",
            "Epoch 94/100\n",
            "1303/1303 [==============================] - 4s 3ms/step - loss: 0.0061\n",
            "Epoch 95/100\n",
            "1303/1303 [==============================] - 3s 3ms/step - loss: 0.0060\n",
            "Epoch 96/100\n",
            "1303/1303 [==============================] - 3s 2ms/step - loss: 0.0056\n",
            "Epoch 97/100\n",
            "1303/1303 [==============================] - 3s 3ms/step - loss: 0.0058\n",
            "Epoch 98/100\n",
            "1303/1303 [==============================] - 4s 3ms/step - loss: 0.0054\n",
            "Epoch 99/100\n",
            "1303/1303 [==============================] - 3s 3ms/step - loss: 0.0052\n",
            "Epoch 100/100\n",
            "1303/1303 [==============================] - 3s 2ms/step - loss: 0.0057\n"
          ]
        },
        {
          "output_type": "execute_result",
          "data": {
            "text/plain": [
              "<keras.callbacks.History at 0x7fe2c9479a80>"
            ]
          },
          "metadata": {},
          "execution_count": 376
        }
      ],
      "source": [
        "# Trénování modelu\n",
        "model.fit(trainX, trainY, epochs=100, batch_size=1, verbose=1)"
      ]
    },
    {
      "cell_type": "code",
      "execution_count": 336,
      "metadata": {
        "id": "a0e754b8",
        "outputId": "a6b9ee58-2efc-4b32-e818-eccff12101af",
        "colab": {
          "base_uri": "https://localhost:8080/",
          "height": 0
        }
      },
      "outputs": [
        {
          "output_type": "stream",
          "name": "stdout",
          "text": [
            "39/39 [==============================] - 0s 2ms/step\n",
            "5/5 [==============================] - 0s 2ms/step\n"
          ]
        }
      ],
      "source": [
        "# Predikce cen\n",
        "trainPredict = model.predict(trainX)\n",
        "testPredict = model.predict(testX)\n",
        "\n",
        "# Inverzní transformace predikcí a skutečných hodnot pro zpětné porovnání\n",
        "trainPredict = scaler.inverse_transform(trainPredict)\n",
        "trainY_i = scaler.inverse_transform([trainY])\n"
      ]
    },
    {
      "cell_type": "code",
      "execution_count": 337,
      "metadata": {
        "scrolled": true,
        "id": "47762c86"
      },
      "outputs": [],
      "source": [
        "# Inverzní transformace testovacích dat\n",
        "testYr = scaler.inverse_transform([testY])[0]\n",
        "testPredictr = scaler.inverse_transform(testPredict)\n",
        "testPredictr= [i[0] for i in testPredictr]"
      ]
    },
    {
      "cell_type": "code",
      "execution_count": 338,
      "metadata": {
        "id": "44f3e56a",
        "outputId": "cb7e4e4f-2a73-4139-a855-a702aaa137a4",
        "colab": {
          "base_uri": "https://localhost:8080/",
          "height": 0
        }
      },
      "outputs": [
        {
          "output_type": "stream",
          "name": "stdout",
          "text": [
            "MAPE: 2.013097930425758%\n"
          ]
        }
      ],
      "source": [
        "# Výpočet MAPE v logaritmech\n",
        "mape = np.mean(np.abs((testYr - testPredictr) / testYr)) * 100\n",
        "print(f\"MAPE: {mape}%\")"
      ]
    },
    {
      "cell_type": "code",
      "execution_count": 339,
      "metadata": {
        "id": "519a7801",
        "outputId": "fb673030-d512-425a-dd5c-67d5ec5a87a6",
        "colab": {
          "base_uri": "https://localhost:8080/",
          "height": 0
        }
      },
      "outputs": [
        {
          "output_type": "stream",
          "name": "stdout",
          "text": [
            "MAPE: 10.024492160249816%\n"
          ]
        }
      ],
      "source": [
        "# Výpočet MAPE v reálných hodnotách\n",
        "mape = np.mean(np.abs((np.exp(testYr) - np.exp(testPredictr)) / np.exp(testYr))) * 100\n",
        "print(f\"MAPE: {mape}%\")"
      ]
    },
    {
      "cell_type": "code",
      "execution_count": 340,
      "metadata": {
        "id": "3175c01b"
      },
      "outputs": [],
      "source": [
        "# pozor je to v procentech!!"
      ]
    },
    {
      "cell_type": "code",
      "execution_count": 341,
      "metadata": {
        "id": "f42e269a"
      },
      "outputs": [],
      "source": [
        "import matplotlib.pyplot as plt"
      ]
    },
    {
      "cell_type": "code",
      "execution_count": 342,
      "metadata": {
        "id": "5955572f",
        "outputId": "c5154dc9-c3cc-4dbc-95d7-735728cfb829",
        "colab": {
          "base_uri": "https://localhost:8080/",
          "height": 447
        }
      },
      "outputs": [
        {
          "output_type": "execute_result",
          "data": {
            "text/plain": [
              "<Axes: >"
            ]
          },
          "metadata": {},
          "execution_count": 342
        },
        {
          "output_type": "display_data",
          "data": {
            "text/plain": [
              "<Figure size 640x480 with 1 Axes>"
            ],
            "image/png": "[encoded data removed]"
          },
          "metadata": {}
        }
      ],
      "source": [
        "pd.DataFrame({\"real\": np.exp(testYr), \"predikce\": np.exp(testPredictr)}).plot()"
      ]
    },
    {
      "cell_type": "markdown",
      "source": [
        "### 5% testovacich dat\n",
        "\n",
        "S vetsim mnozstvim trenovacich dat bylo mozne pouzit vetsi lookback"
      ],
      "metadata": {
        "id": "QnMYBWz44Vsi"
      }
    },
    {
      "cell_type": "code",
      "source": [
        "# Rozdělení dat na trénovací a testovací sady\n",
        "train_size = int(len(prices) * 0.95)\n",
        "train, test = prices[0:train_size, :], prices[train_size:len(prices), :]"
      ],
      "metadata": {
        "id": "XtUz-Xhl4dUA"
      },
      "execution_count": 343,
      "outputs": []
    },
    {
      "cell_type": "code",
      "execution_count": 344,
      "metadata": {
        "id": "ylROzDdG4dUB"
      },
      "outputs": [],
      "source": [
        "# Vytvoření trénovací a testovací sady\n",
        "look_back = 5*10  # časový okamžik do minulosti 10 dni\n",
        "trainX, trainY = create_dataset(train, look_back)\n",
        "testX, testY = create_dataset(test, look_back)"
      ]
    },
    {
      "cell_type": "code",
      "execution_count": 345,
      "metadata": {
        "id": "7BurnFqk4dUC"
      },
      "outputs": [],
      "source": [
        "# Změna tvaru vstupních dat\n",
        "trainX = np.reshape(trainX, (trainX.shape[0], 1, trainX.shape[1]))\n",
        "testX = np.reshape(testX, (testX.shape[0], 1, testX.shape[1]))"
      ]
    },
    {
      "cell_type": "code",
      "execution_count": 346,
      "metadata": {
        "colab": {
          "base_uri": "https://localhost:8080/",
          "height": 0
        },
        "outputId": "636caffa-03cc-4be8-c1c3-33d050922b51",
        "id": "RLMLHRb34dUC"
      },
      "outputs": [
        {
          "output_type": "stream",
          "name": "stdout",
          "text": [
            "Model: \"sequential_28\"\n",
            "_________________________________________________________________\n",
            " Layer (type)                Output Shape              Param #   \n",
            "=================================================================\n",
            " lstm_21 (LSTM)              (None, 28)                8848      \n",
            "                                                                 \n",
            " dense_41 (Dense)            (None, 14)                406       \n",
            "                                                                 \n",
            " dropout_17 (Dropout)        (None, 14)                0         \n",
            "                                                                 \n",
            " dense_42 (Dense)            (None, 1)                 15        \n",
            "                                                                 \n",
            "=================================================================\n",
            "Total params: 9,269\n",
            "Trainable params: 9,269\n",
            "Non-trainable params: 0\n",
            "_________________________________________________________________\n"
          ]
        }
      ],
      "source": [
        "from keras.models import Sequential\n",
        "from keras.layers import Dense, LSTM, Dropout\n",
        "\n",
        "# Vytvoření a kompilace LSTM modelu\n",
        "model = Sequential()\n",
        "model.add(LSTM(28, input_shape=(1, look_back)))\n",
        "model.add(Dense(14))\n",
        "model.add(Dropout(0.2))\n",
        "model.add(Dense(1))\n",
        "model.compile(loss='mean_squared_error', optimizer='adam')\n",
        "\n",
        "model.summary()"
      ]
    },
    {
      "cell_type": "code",
      "execution_count": 347,
      "metadata": {
        "scrolled": true,
        "outputId": "d1196900-3642-4da4-b77b-9aa89aad8a88",
        "colab": {
          "base_uri": "https://localhost:8080/",
          "height": 0
        },
        "id": "E3zw3uAG4dUD"
      },
      "outputs": [
        {
          "output_type": "stream",
          "name": "stdout",
          "text": [
            "Epoch 1/100\n",
            "1295/1295 [==============================] - 6s 3ms/step - loss: 0.0078\n",
            "Epoch 2/100\n",
            "1295/1295 [==============================] - 3s 3ms/step - loss: 0.0034\n",
            "Epoch 3/100\n",
            "1295/1295 [==============================] - 4s 3ms/step - loss: 0.0026\n",
            "Epoch 4/100\n",
            "1295/1295 [==============================] - 5s 3ms/step - loss: 0.0021\n",
            "Epoch 5/100\n",
            "1295/1295 [==============================] - 4s 3ms/step - loss: 0.0015\n",
            "Epoch 6/100\n",
            "1295/1295 [==============================] - 3s 2ms/step - loss: 0.0016\n",
            "Epoch 7/100\n",
            "1295/1295 [==============================] - 3s 2ms/step - loss: 0.0014\n",
            "Epoch 8/100\n",
            "1295/1295 [==============================] - 4s 3ms/step - loss: 0.0015\n",
            "Epoch 9/100\n",
            "1295/1295 [==============================] - 3s 2ms/step - loss: 0.0014\n",
            "Epoch 10/100\n",
            "1295/1295 [==============================] - 3s 2ms/step - loss: 0.0015\n",
            "Epoch 11/100\n",
            "1295/1295 [==============================] - 3s 2ms/step - loss: 0.0013\n",
            "Epoch 12/100\n",
            "1295/1295 [==============================] - 4s 3ms/step - loss: 0.0013\n",
            "Epoch 13/100\n",
            "1295/1295 [==============================] - 4s 3ms/step - loss: 0.0013\n",
            "Epoch 14/100\n",
            "1295/1295 [==============================] - 3s 2ms/step - loss: 0.0013\n",
            "Epoch 15/100\n",
            "1295/1295 [==============================] - 3s 2ms/step - loss: 0.0013\n",
            "Epoch 16/100\n",
            "1295/1295 [==============================] - 4s 3ms/step - loss: 0.0014\n",
            "Epoch 17/100\n",
            "1295/1295 [==============================] - 3s 3ms/step - loss: 0.0012\n",
            "Epoch 18/100\n",
            "1295/1295 [==============================] - 3s 2ms/step - loss: 0.0012\n",
            "Epoch 19/100\n",
            "1295/1295 [==============================] - 4s 3ms/step - loss: 0.0013\n",
            "Epoch 20/100\n",
            "1295/1295 [==============================] - 3s 2ms/step - loss: 0.0014\n",
            "Epoch 21/100\n",
            "1295/1295 [==============================] - 3s 2ms/step - loss: 0.0013\n",
            "Epoch 22/100\n",
            "1295/1295 [==============================] - 3s 2ms/step - loss: 0.0013\n",
            "Epoch 23/100\n",
            "1295/1295 [==============================] - 3s 2ms/step - loss: 0.0013\n",
            "Epoch 24/100\n",
            "1295/1295 [==============================] - 4s 3ms/step - loss: 0.0013\n",
            "Epoch 25/100\n",
            "1295/1295 [==============================] - 3s 2ms/step - loss: 0.0013\n",
            "Epoch 26/100\n",
            "1295/1295 [==============================] - 3s 2ms/step - loss: 0.0013\n",
            "Epoch 27/100\n",
            "1295/1295 [==============================] - 3s 3ms/step - loss: 0.0013\n",
            "Epoch 28/100\n",
            "1295/1295 [==============================] - 4s 3ms/step - loss: 0.0013\n",
            "Epoch 29/100\n",
            "1295/1295 [==============================] - 3s 2ms/step - loss: 0.0013\n",
            "Epoch 30/100\n",
            "1295/1295 [==============================] - 3s 2ms/step - loss: 0.0012\n",
            "Epoch 31/100\n",
            "1295/1295 [==============================] - 3s 3ms/step - loss: 0.0013\n",
            "Epoch 32/100\n",
            "1295/1295 [==============================] - 4s 3ms/step - loss: 0.0013\n",
            "Epoch 33/100\n",
            "1295/1295 [==============================] - 3s 2ms/step - loss: 0.0012\n",
            "Epoch 34/100\n",
            "1295/1295 [==============================] - 3s 2ms/step - loss: 0.0013\n",
            "Epoch 35/100\n",
            "1295/1295 [==============================] - 4s 3ms/step - loss: 0.0013\n",
            "Epoch 36/100\n",
            "1295/1295 [==============================] - 3s 2ms/step - loss: 0.0013\n",
            "Epoch 37/100\n",
            "1295/1295 [==============================] - 3s 2ms/step - loss: 0.0012\n",
            "Epoch 38/100\n",
            "1295/1295 [==============================] - 3s 2ms/step - loss: 0.0012\n",
            "Epoch 39/100\n",
            "1295/1295 [==============================] - 4s 3ms/step - loss: 0.0013\n",
            "Epoch 40/100\n",
            "1295/1295 [==============================] - 3s 2ms/step - loss: 0.0012\n",
            "Epoch 41/100\n",
            "1295/1295 [==============================] - 3s 2ms/step - loss: 0.0012\n",
            "Epoch 42/100\n",
            "1295/1295 [==============================] - 3s 3ms/step - loss: 0.0012\n",
            "Epoch 43/100\n",
            "1295/1295 [==============================] - 4s 3ms/step - loss: 0.0012\n",
            "Epoch 44/100\n",
            "1295/1295 [==============================] - 3s 2ms/step - loss: 0.0013\n",
            "Epoch 45/100\n",
            "1295/1295 [==============================] - 3s 2ms/step - loss: 0.0012\n",
            "Epoch 46/100\n",
            "1295/1295 [==============================] - 3s 2ms/step - loss: 0.0012\n",
            "Epoch 47/100\n",
            "1295/1295 [==============================] - 4s 3ms/step - loss: 0.0012\n",
            "Epoch 48/100\n",
            "1295/1295 [==============================] - 3s 2ms/step - loss: 0.0012\n",
            "Epoch 49/100\n",
            "1295/1295 [==============================] - 3s 2ms/step - loss: 0.0012\n",
            "Epoch 50/100\n",
            "1295/1295 [==============================] - 3s 2ms/step - loss: 0.0013\n",
            "Epoch 51/100\n",
            "1295/1295 [==============================] - 4s 3ms/step - loss: 0.0011\n",
            "Epoch 52/100\n",
            "1295/1295 [==============================] - 3s 3ms/step - loss: 0.0012\n",
            "Epoch 53/100\n",
            "1295/1295 [==============================] - 3s 2ms/step - loss: 0.0013\n",
            "Epoch 54/100\n",
            "1295/1295 [==============================] - 3s 2ms/step - loss: 0.0013\n",
            "Epoch 55/100\n",
            "1295/1295 [==============================] - 4s 3ms/step - loss: 0.0011\n",
            "Epoch 56/100\n",
            "1295/1295 [==============================] - 3s 2ms/step - loss: 0.0011\n",
            "Epoch 57/100\n",
            "1295/1295 [==============================] - 3s 2ms/step - loss: 0.0012\n",
            "Epoch 58/100\n",
            "1295/1295 [==============================] - 3s 2ms/step - loss: 0.0013\n",
            "Epoch 59/100\n",
            "1295/1295 [==============================] - 3s 3ms/step - loss: 0.0012\n",
            "Epoch 60/100\n",
            "1295/1295 [==============================] - 3s 3ms/step - loss: 0.0012\n",
            "Epoch 61/100\n",
            "1295/1295 [==============================] - 3s 2ms/step - loss: 0.0013\n",
            "Epoch 62/100\n",
            "1295/1295 [==============================] - 3s 2ms/step - loss: 0.0012\n",
            "Epoch 63/100\n",
            "1295/1295 [==============================] - 4s 3ms/step - loss: 0.0011\n",
            "Epoch 64/100\n",
            "1295/1295 [==============================] - 3s 2ms/step - loss: 0.0013\n",
            "Epoch 65/100\n",
            "1295/1295 [==============================] - 3s 2ms/step - loss: 0.0011\n",
            "Epoch 66/100\n",
            "1295/1295 [==============================] - 3s 2ms/step - loss: 0.0012\n",
            "Epoch 67/100\n",
            "1295/1295 [==============================] - 3s 2ms/step - loss: 0.0012\n",
            "Epoch 68/100\n",
            "1295/1295 [==============================] - 4s 3ms/step - loss: 0.0011\n",
            "Epoch 69/100\n",
            "1295/1295 [==============================] - 3s 2ms/step - loss: 0.0012\n",
            "Epoch 70/100\n",
            "1295/1295 [==============================] - 3s 2ms/step - loss: 0.0011\n",
            "Epoch 71/100\n",
            "1295/1295 [==============================] - 3s 2ms/step - loss: 0.0012\n",
            "Epoch 72/100\n",
            "1295/1295 [==============================] - 4s 3ms/step - loss: 0.0011\n",
            "Epoch 73/100\n",
            "1295/1295 [==============================] - 3s 2ms/step - loss: 0.0012\n",
            "Epoch 74/100\n",
            "1295/1295 [==============================] - 3s 2ms/step - loss: 0.0011\n",
            "Epoch 75/100\n",
            "1295/1295 [==============================] - 3s 2ms/step - loss: 0.0012\n",
            "Epoch 76/100\n",
            "1295/1295 [==============================] - 4s 3ms/step - loss: 0.0011\n",
            "Epoch 77/100\n",
            "1295/1295 [==============================] - 3s 2ms/step - loss: 0.0011\n",
            "Epoch 78/100\n",
            "1295/1295 [==============================] - 3s 2ms/step - loss: 0.0012\n",
            "Epoch 79/100\n",
            "1295/1295 [==============================] - 3s 2ms/step - loss: 0.0011\n",
            "Epoch 80/100\n",
            "1295/1295 [==============================] - 4s 3ms/step - loss: 0.0012\n",
            "Epoch 81/100\n",
            "1295/1295 [==============================] - 3s 2ms/step - loss: 0.0012\n",
            "Epoch 82/100\n",
            "1295/1295 [==============================] - 3s 2ms/step - loss: 0.0012\n",
            "Epoch 83/100\n",
            "1295/1295 [==============================] - 3s 2ms/step - loss: 0.0012\n",
            "Epoch 84/100\n",
            "1295/1295 [==============================] - 3s 3ms/step - loss: 0.0011\n",
            "Epoch 85/100\n",
            "1295/1295 [==============================] - 3s 3ms/step - loss: 0.0012\n",
            "Epoch 86/100\n",
            "1295/1295 [==============================] - 3s 2ms/step - loss: 0.0012\n",
            "Epoch 87/100\n",
            "1295/1295 [==============================] - 3s 2ms/step - loss: 0.0012\n",
            "Epoch 88/100\n",
            "1295/1295 [==============================] - 3s 2ms/step - loss: 0.0011\n",
            "Epoch 89/100\n",
            "1295/1295 [==============================] - 4s 3ms/step - loss: 0.0011\n",
            "Epoch 90/100\n",
            "1295/1295 [==============================] - 3s 2ms/step - loss: 0.0012\n",
            "Epoch 91/100\n",
            "1295/1295 [==============================] - 3s 2ms/step - loss: 0.0012\n",
            "Epoch 92/100\n",
            "1295/1295 [==============================] - 3s 2ms/step - loss: 0.0011\n",
            "Epoch 93/100\n",
            "1295/1295 [==============================] - 4s 3ms/step - loss: 0.0011\n",
            "Epoch 94/100\n",
            "1295/1295 [==============================] - 3s 2ms/step - loss: 0.0012\n",
            "Epoch 95/100\n",
            "1295/1295 [==============================] - 3s 2ms/step - loss: 0.0013\n",
            "Epoch 96/100\n",
            "1295/1295 [==============================] - 3s 2ms/step - loss: 0.0011\n",
            "Epoch 97/100\n",
            "1295/1295 [==============================] - 4s 3ms/step - loss: 0.0013\n",
            "Epoch 98/100\n",
            "1295/1295 [==============================] - 3s 2ms/step - loss: 0.0012\n",
            "Epoch 99/100\n",
            "1295/1295 [==============================] - 3s 2ms/step - loss: 0.0012\n",
            "Epoch 100/100\n",
            "1295/1295 [==============================] - 3s 2ms/step - loss: 0.0012\n"
          ]
        },
        {
          "output_type": "execute_result",
          "data": {
            "text/plain": [
              "<keras.callbacks.History at 0x7fe2c9aa1d20>"
            ]
          },
          "metadata": {},
          "execution_count": 347
        }
      ],
      "source": [
        "# Trénování modelu\n",
        "model.fit(trainX, trainY, epochs=100, batch_size=1, verbose=1)"
      ]
    },
    {
      "cell_type": "code",
      "execution_count": 348,
      "metadata": {
        "outputId": "de4e35ee-0c41-4980-df53-b29e7187ee39",
        "colab": {
          "base_uri": "https://localhost:8080/",
          "height": 0
        },
        "id": "cJHcHWAo4dUD"
      },
      "outputs": [
        {
          "output_type": "stream",
          "name": "stdout",
          "text": [
            "41/41 [==============================] - 1s 2ms/step\n",
            "2/2 [==============================] - 0s 5ms/step\n"
          ]
        }
      ],
      "source": [
        "# Predikce cen\n",
        "trainPredict = model.predict(trainX)\n",
        "testPredict = model.predict(testX)\n",
        "\n",
        "# Inverzní transformace predikcí a skutečných hodnot pro zpětné porovnání\n",
        "trainPredict = scaler.inverse_transform(trainPredict)\n",
        "trainY_i = scaler.inverse_transform([trainY])"
      ]
    },
    {
      "cell_type": "code",
      "execution_count": 349,
      "metadata": {
        "scrolled": true,
        "id": "7Gn5mAOm4dUE"
      },
      "outputs": [],
      "source": [
        "# Inverzní transformace testovacích dat\n",
        "testYr = scaler.inverse_transform([testY])[0]\n",
        "testPredictr = scaler.inverse_transform(testPredict)\n",
        "testPredictr= [i[0] for i in testPredictr]"
      ]
    },
    {
      "cell_type": "code",
      "execution_count": 350,
      "metadata": {
        "outputId": "89f31eb2-72c8-4cc7-c990-2c09385b88a4",
        "colab": {
          "base_uri": "https://localhost:8080/",
          "height": 0
        },
        "id": "_0HT1GJH4dUE"
      },
      "outputs": [
        {
          "output_type": "stream",
          "name": "stdout",
          "text": [
            "MAPE: 2.7623599757343724%\n"
          ]
        }
      ],
      "source": [
        "# Výpočet MAPE v logaritmech\n",
        "mape = np.mean(np.abs((testYr - testPredictr) / testYr)) * 100\n",
        "print(f\"MAPE: {mape}%\")"
      ]
    },
    {
      "cell_type": "code",
      "execution_count": 351,
      "metadata": {
        "outputId": "7274d2e3-28f9-49e6-85f8-d8967b533faa",
        "colab": {
          "base_uri": "https://localhost:8080/",
          "height": 0
        },
        "id": "r9oHA_934dUE"
      },
      "outputs": [
        {
          "output_type": "stream",
          "name": "stdout",
          "text": [
            "MAPE: 13.875089123790977%\n"
          ]
        }
      ],
      "source": [
        "# Výpočet MAPE v reálných hodnotách\n",
        "mape = np.mean(np.abs((np.exp(testYr) - np.exp(testPredictr)) / np.exp(testYr))) * 100\n",
        "print(f\"MAPE: {mape}%\")"
      ]
    },
    {
      "cell_type": "code",
      "execution_count": 352,
      "metadata": {
        "id": "G-6FuTIK4dUE"
      },
      "outputs": [],
      "source": [
        "# pozor je to v procentech!!"
      ]
    },
    {
      "cell_type": "code",
      "execution_count": 353,
      "metadata": {
        "id": "1-liAtaR4dUE"
      },
      "outputs": [],
      "source": [
        "import matplotlib.pyplot as plt"
      ]
    },
    {
      "cell_type": "code",
      "execution_count": 354,
      "metadata": {
        "outputId": "6bca24b7-e0b0-4fea-ae8a-6ca1e3a8ddc6",
        "colab": {
          "base_uri": "https://localhost:8080/",
          "height": 447
        },
        "id": "1kR9427z4dUE"
      },
      "outputs": [
        {
          "output_type": "execute_result",
          "data": {
            "text/plain": [
              "<Axes: >"
            ]
          },
          "metadata": {},
          "execution_count": 354
        },
        {
          "output_type": "display_data",
          "data": {
            "text/plain": [
              "<Figure size 640x480 with 1 Axes>"
            ],
            "image/png": "[encoded data removed]"
          },
          "metadata": {}
        }
      ],
      "source": [
        "pd.DataFrame({\"real\": np.exp(testYr), \"predikce\": np.exp(testPredictr)}).plot()"
      ]
    },
    {
      "cell_type": "markdown",
      "source": [
        "### Porovnani s 1D konvoluci"
      ],
      "metadata": {
        "id": "5l1A8xqs6Aeo"
      }
    },
    {
      "cell_type": "code",
      "execution_count": 355,
      "metadata": {
        "id": "5dbc5189"
      },
      "outputs": [],
      "source": [
        "import pandas as pd\n",
        "import numpy as np\n",
        "\n",
        "def create_lagged_dataset(series, n_lags):\n",
        "    if not isinstance(series, pd.Series):\n",
        "        series = pd.Series(series)\n",
        "\n",
        "    df = pd.DataFrame()\n",
        "\n",
        "    for i in range(n_lags + 1):\n",
        "        df['lag_' + str(i)] = series.shift(i)\n",
        "\n",
        "    df = df.iloc[n_lags:]\n",
        "\n",
        "    return df"
      ]
    },
    {
      "cell_type": "code",
      "execution_count": 356,
      "metadata": {
        "id": "db2b22ac"
      },
      "outputs": [],
      "source": [
        "y= prices\n",
        "ymax = max(y)\n",
        "ymin = min(y)\n",
        "y = [(i-ymin)/(ymax - ymin) for i in y]\n",
        "price_data = create_lagged_dataset(y, 10)"
      ]
    },
    {
      "cell_type": "code",
      "execution_count": 357,
      "metadata": {
        "colab": {
          "base_uri": "https://localhost:8080/",
          "height": 0
        },
        "id": "4f2e42e1",
        "outputId": "ac7d2043-824f-485c-cabd-dac9e0b36a70"
      },
      "outputs": [
        {
          "output_type": "execute_result",
          "data": {
            "text/plain": [
              "(6860, 11)"
            ]
          },
          "metadata": {},
          "execution_count": 357
        }
      ],
      "source": [
        "price_data.shape"
      ]
    },
    {
      "cell_type": "code",
      "execution_count": 358,
      "metadata": {
        "colab": {
          "base_uri": "https://localhost:8080/",
          "height": 488
        },
        "id": "37a8beb5",
        "outputId": "cd022c53-8e2c-4e9f-c4ee-9ffd05b6cfc9"
      },
      "outputs": [
        {
          "output_type": "execute_result",
          "data": {
            "text/plain": [
              "                      lag_0                  lag_1                  lag_2  \\\n",
              "10    [0.07516413350634044]     [0.35682561747745]   [0.6986289892416693]   \n",
              "11    [0.23609581223339626]  [0.07516413350634044]     [0.35682561747745]   \n",
              "12     [0.1951434922730173]  [0.23609581223339626]  [0.07516413350634044]   \n",
              "13     [0.6978654116174101]   [0.1951434922730173]  [0.23609581223339626]   \n",
              "14     [0.3604566548012589]   [0.6978654116174101]   [0.1951434922730173]   \n",
              "...                     ...                    ...                    ...   \n",
              "6865   [0.6991895530624417]   [0.9612982347395551]   [0.8737918118967314]   \n",
              "6866   [0.5385442980823325]   [0.6991895530624417]   [0.9612982347395551]   \n",
              "6867    [0.532021471814939]   [0.5385442980823325]   [0.6991895530624417]   \n",
              "6868   [0.8725697327014563]    [0.532021471814939]   [0.5385442980823325]   \n",
              "6869   [0.9543723869549106]   [0.8725697327014563]    [0.532021471814939]   \n",
              "\n",
              "                      lag_3                  lag_4                  lag_5  \\\n",
              "10    [0.19353705750033345]  [0.23424528114744958]  [0.07324398759854445]   \n",
              "11     [0.6986289892416693]  [0.19353705750033345]  [0.23424528114744958]   \n",
              "12       [0.35682561747745]   [0.6986289892416693]  [0.19353705750033345]   \n",
              "13    [0.07516413350634044]     [0.35682561747745]   [0.6986289892416693]   \n",
              "14    [0.23609581223339626]  [0.07516413350634044]     [0.35682561747745]   \n",
              "...                     ...                    ...                    ...   \n",
              "6865   [0.5372214169587712]   [0.5438591792524785]   [0.7016247805395412]   \n",
              "6866   [0.8737918118967314]   [0.5372214169587712]   [0.5438591792524785]   \n",
              "6867   [0.9612982347395551]   [0.8737918118967314]   [0.5372214169587712]   \n",
              "6868   [0.6991895530624417]   [0.9612982347395551]   [0.8737918118967314]   \n",
              "6869   [0.5385442980823325]   [0.6991895530624417]   [0.9612982347395551]   \n",
              "\n",
              "                      lag_6                  lag_7                  lag_8  \\\n",
              "10      [0.354901693813775]    [0.691271796964458]  [0.18652734077073085]   \n",
              "11    [0.07324398759854445]    [0.354901693813775]    [0.691271796964458]   \n",
              "12    [0.23424528114744958]  [0.07324398759854445]    [0.354901693813775]   \n",
              "13    [0.19353705750033345]  [0.23424528114744958]  [0.07324398759854445]   \n",
              "14     [0.6986289892416693]  [0.19353705750033345]  [0.23424528114744958]   \n",
              "...                     ...                    ...                    ...   \n",
              "6865   [0.9482880311049602]   [0.8611327938152313]   [0.5324908067963106]   \n",
              "6866   [0.7016247805395412]   [0.9482880311049602]   [0.8611327938152313]   \n",
              "6867   [0.5438591792524785]   [0.7016247805395412]   [0.9482880311049602]   \n",
              "6868   [0.5372214169587712]   [0.5438591792524785]   [0.7016247805395412]   \n",
              "6869   [0.8737918118967314]   [0.5372214169587712]   [0.5438591792524785]   \n",
              "\n",
              "                      lag_9                 lag_10  \n",
              "10      [0.228985263595886]  [0.07331607452277411]  \n",
              "11    [0.18652734077073085]    [0.228985263595886]  \n",
              "12      [0.691271796964458]  [0.18652734077073085]  \n",
              "13      [0.354901693813775]    [0.691271796964458]  \n",
              "14    [0.07324398759854445]    [0.354901693813775]  \n",
              "...                     ...                    ...  \n",
              "6865   [0.5416037586526352]   [0.6970103126233145]  \n",
              "6866   [0.5324908067963106]   [0.5416037586526352]  \n",
              "6867   [0.8611327938152313]   [0.5324908067963106]  \n",
              "6868   [0.9482880311049602]   [0.8611327938152313]  \n",
              "6869   [0.7016247805395412]   [0.9482880311049602]  \n",
              "\n",
              "[6860 rows x 11 columns]"
            ],
            "text/html": [
              "\n",
              "  <div id=\"df-ac2faceb-b824-47b1-89f3-877d0c595fd5\">\n",
              "    <div class=\"colab-df-container\">\n",
              "      <div>\n",
              "<style scoped>\n",
              "    .dataframe tbody tr th:only-of-type {\n",
              "        vertical-align: middle;\n",
              "    }\n",
              "\n",
              "    .dataframe tbody tr th {\n",
              "        vertical-align: top;\n",
              "    }\n",
              "\n",
              "    .dataframe thead th {\n",
              "        text-align: right;\n",
              "    }\n",
              "</style>\n",
              "<table border=\"1\" class=\"dataframe\">\n",
              "  <thead>\n",
              "    <tr style=\"text-align: right;\">\n",
              "      <th></th>\n",
              "      <th>lag_0</th>\n",
              "      <th>lag_1</th>\n",
              "      <th>lag_2</th>\n",
              "      <th>lag_3</th>\n",
              "      <th>lag_4</th>\n",
              "      <th>lag_5</th>\n",
              "      <th>lag_6</th>\n",
              "      <th>lag_7</th>\n",
              "      <th>lag_8</th>\n",
              "      <th>lag_9</th>\n",
              "      <th>lag_10</th>\n",
              "    </tr>\n",
              "  </thead>\n",
              "  <tbody>\n",
              "    <tr>\n",
              "      <th>10</th>\n",
              "      <td>[0.07516413350634044]</td>\n",
              "      <td>[0.35682561747745]</td>\n",
              "      <td>[0.6986289892416693]</td>\n",
              "      <td>[0.19353705750033345]</td>\n",
              "      <td>[0.23424528114744958]</td>\n",
              "      <td>[0.07324398759854445]</td>\n",
              "      <td>[0.354901693813775]</td>\n",
              "      <td>[0.691271796964458]</td>\n",
              "      <td>[0.18652734077073085]</td>\n",
              "      <td>[0.228985263595886]</td>\n",
              "      <td>[0.07331607452277411]</td>\n",
              "    </tr>\n",
              "    <tr>\n",
              "      <th>11</th>\n",
              "      <td>[0.23609581223339626]</td>\n",
              "      <td>[0.07516413350634044]</td>\n",
              "      <td>[0.35682561747745]</td>\n",
              "      <td>[0.6986289892416693]</td>\n",
              "      <td>[0.19353705750033345]</td>\n",
              "      <td>[0.23424528114744958]</td>\n",
              "      <td>[0.07324398759854445]</td>\n",
              "      <td>[0.354901693813775]</td>\n",
              "      <td>[0.691271796964458]</td>\n",
              "      <td>[0.18652734077073085]</td>\n",
              "      <td>[0.228985263595886]</td>\n",
              "    </tr>\n",
              "    <tr>\n",
              "      <th>12</th>\n",
              "      <td>[0.1951434922730173]</td>\n",
              "      <td>[0.23609581223339626]</td>\n",
              "      <td>[0.07516413350634044]</td>\n",
              "      <td>[0.35682561747745]</td>\n",
              "      <td>[0.6986289892416693]</td>\n",
              "      <td>[0.19353705750033345]</td>\n",
              "      <td>[0.23424528114744958]</td>\n",
              "      <td>[0.07324398759854445]</td>\n",
              "      <td>[0.354901693813775]</td>\n",
              "      <td>[0.691271796964458]</td>\n",
              "      <td>[0.18652734077073085]</td>\n",
              "    </tr>\n",
              "    <tr>\n",
              "      <th>13</th>\n",
              "      <td>[0.6978654116174101]</td>\n",
              "      <td>[0.1951434922730173]</td>\n",
              "      <td>[0.23609581223339626]</td>\n",
              "      <td>[0.07516413350634044]</td>\n",
              "      <td>[0.35682561747745]</td>\n",
              "      <td>[0.6986289892416693]</td>\n",
              "      <td>[0.19353705750033345]</td>\n",
              "      <td>[0.23424528114744958]</td>\n",
              "      <td>[0.07324398759854445]</td>\n",
              "      <td>[0.354901693813775]</td>\n",
              "      <td>[0.691271796964458]</td>\n",
              "    </tr>\n",
              "    <tr>\n",
              "      <th>14</th>\n",
              "      <td>[0.3604566548012589]</td>\n",
              "      <td>[0.6978654116174101]</td>\n",
              "      <td>[0.1951434922730173]</td>\n",
              "      <td>[0.23609581223339626]</td>\n",
              "      <td>[0.07516413350634044]</td>\n",
              "      <td>[0.35682561747745]</td>\n",
              "      <td>[0.6986289892416693]</td>\n",
              "      <td>[0.19353705750033345]</td>\n",
              "      <td>[0.23424528114744958]</td>\n",
              "      <td>[0.07324398759854445]</td>\n",
              "      <td>[0.354901693813775]</td>\n",
              "    </tr>\n",
              "    <tr>\n",
              "      <th>...</th>\n",
              "      <td>...</td>\n",
              "      <td>...</td>\n",
              "      <td>...</td>\n",
              "      <td>...</td>\n",
              "      <td>...</td>\n",
              "      <td>...</td>\n",
              "      <td>...</td>\n",
              "      <td>...</td>\n",
              "      <td>...</td>\n",
              "      <td>...</td>\n",
              "      <td>...</td>\n",
              "    </tr>\n",
              "    <tr>\n",
              "      <th>6865</th>\n",
              "      <td>[0.6991895530624417]</td>\n",
              "      <td>[0.9612982347395551]</td>\n",
              "      <td>[0.8737918118967314]</td>\n",
              "      <td>[0.5372214169587712]</td>\n",
              "      <td>[0.5438591792524785]</td>\n",
              "      <td>[0.7016247805395412]</td>\n",
              "      <td>[0.9482880311049602]</td>\n",
              "      <td>[0.8611327938152313]</td>\n",
              "      <td>[0.5324908067963106]</td>\n",
              "      <td>[0.5416037586526352]</td>\n",
              "      <td>[0.6970103126233145]</td>\n",
              "    </tr>\n",
              "    <tr>\n",
              "      <th>6866</th>\n",
              "      <td>[0.5385442980823325]</td>\n",
              "      <td>[0.6991895530624417]</td>\n",
              "      <td>[0.9612982347395551]</td>\n",
              "      <td>[0.8737918118967314]</td>\n",
              "      <td>[0.5372214169587712]</td>\n",
              "      <td>[0.5438591792524785]</td>\n",
              "      <td>[0.7016247805395412]</td>\n",
              "      <td>[0.9482880311049602]</td>\n",
              "      <td>[0.8611327938152313]</td>\n",
              "      <td>[0.5324908067963106]</td>\n",
              "      <td>[0.5416037586526352]</td>\n",
              "    </tr>\n",
              "    <tr>\n",
              "      <th>6867</th>\n",
              "      <td>[0.532021471814939]</td>\n",
              "      <td>[0.5385442980823325]</td>\n",
              "      <td>[0.6991895530624417]</td>\n",
              "      <td>[0.9612982347395551]</td>\n",
              "      <td>[0.8737918118967314]</td>\n",
              "      <td>[0.5372214169587712]</td>\n",
              "      <td>[0.5438591792524785]</td>\n",
              "      <td>[0.7016247805395412]</td>\n",
              "      <td>[0.9482880311049602]</td>\n",
              "      <td>[0.8611327938152313]</td>\n",
              "      <td>[0.5324908067963106]</td>\n",
              "    </tr>\n",
              "    <tr>\n",
              "      <th>6868</th>\n",
              "      <td>[0.8725697327014563]</td>\n",
              "      <td>[0.532021471814939]</td>\n",
              "      <td>[0.5385442980823325]</td>\n",
              "      <td>[0.6991895530624417]</td>\n",
              "      <td>[0.9612982347395551]</td>\n",
              "      <td>[0.8737918118967314]</td>\n",
              "      <td>[0.5372214169587712]</td>\n",
              "      <td>[0.5438591792524785]</td>\n",
              "      <td>[0.7016247805395412]</td>\n",
              "      <td>[0.9482880311049602]</td>\n",
              "      <td>[0.8611327938152313]</td>\n",
              "    </tr>\n",
              "    <tr>\n",
              "      <th>6869</th>\n",
              "      <td>[0.9543723869549106]</td>\n",
              "      <td>[0.8725697327014563]</td>\n",
              "      <td>[0.532021471814939]</td>\n",
              "      <td>[0.5385442980823325]</td>\n",
              "      <td>[0.6991895530624417]</td>\n",
              "      <td>[0.9612982347395551]</td>\n",
              "      <td>[0.8737918118967314]</td>\n",
              "      <td>[0.5372214169587712]</td>\n",
              "      <td>[0.5438591792524785]</td>\n",
              "      <td>[0.7016247805395412]</td>\n",
              "      <td>[0.9482880311049602]</td>\n",
              "    </tr>\n",
              "  </tbody>\n",
              "</table>\n",
              "<p>6860 rows × 11 columns</p>\n",
              "</div>\n",
              "      <button class=\"colab-df-convert\" onclick=\"convertToInteractive('df-ac2faceb-b824-47b1-89f3-877d0c595fd5')\"\n",
              "              title=\"Convert this dataframe to an interactive table.\"\n",
              "              style=\"display:none;\">\n",
              "        \n",
              "  <svg xmlns=\"http://www.w3.org/2000/svg\" height=\"24px\"viewBox=\"0 0 24 24\"\n",
              "       width=\"24px\">\n",
              "    <path d=\"M0 0h24v24H0V0z\" fill=\"none\"/>\n",
              "    <path d=\"M18.56 5.44l.94 2.06.94-2.06 2.06-.94-2.06-.94-.94-2.06-.94 2.06-2.06.94zm-11 1L8.5 8.5l.94-2.06 2.06-.94-2.06-.94L8.5 2.5l-.94 2.06-2.06.94zm10 10l.94 2.06.94-2.06 2.06-.94-2.06-.94-.94-2.06-.94 2.06-2.06.94z\"/><path d=\"M17.41 7.96l-1.37-1.37c-.4-.4-.92-.59-1.43-.59-.52 0-1.04.2-1.43.59L10.3 9.45l-7.72 7.72c-.78.78-.78 2.05 0 2.83L4 21.41c.39.39.9.59 1.41.59.51 0 1.02-.2 1.41-.59l7.78-7.78 2.81-2.81c.8-.78.8-2.07 0-2.86zM5.41 20L4 18.59l7.72-7.72 1.47 1.35L5.41 20z\"/>\n",
              "  </svg>\n",
              "      </button>\n",
              "      \n",
              "  <style>\n",
              "    .colab-df-container {\n",
              "      display:flex;\n",
              "      flex-wrap:wrap;\n",
              "      gap: 12px;\n",
              "    }\n",
              "\n",
              "    .colab-df-convert {\n",
              "      background-color: #E8F0FE;\n",
              "      border: none;\n",
              "      border-radius: 50%;\n",
              "      cursor: pointer;\n",
              "      display: none;\n",
              "      fill: #1967D2;\n",
              "      height: 32px;\n",
              "      padding: 0 0 0 0;\n",
              "      width: 32px;\n",
              "    }\n",
              "\n",
              "    .colab-df-convert:hover {\n",
              "      background-color: #E2EBFA;\n",
              "      box-shadow: 0px 1px 2px rgba(60, 64, 67, 0.3), 0px 1px 3px 1px rgba(60, 64, 67, 0.15);\n",
              "      fill: #174EA6;\n",
              "    }\n",
              "\n",
              "    [theme=dark] .colab-df-convert {\n",
              "      background-color: #3B4455;\n",
              "      fill: #D2E3FC;\n",
              "    }\n",
              "\n",
              "    [theme=dark] .colab-df-convert:hover {\n",
              "      background-color: #434B5C;\n",
              "      box-shadow: 0px 1px 3px 1px rgba(0, 0, 0, 0.15);\n",
              "      filter: drop-shadow(0px 1px 2px rgba(0, 0, 0, 0.3));\n",
              "      fill: #FFFFFF;\n",
              "    }\n",
              "  </style>\n",
              "\n",
              "      <script>\n",
              "        const buttonEl =\n",
              "          document.querySelector('#df-ac2faceb-b824-47b1-89f3-877d0c595fd5 button.colab-df-convert');\n",
              "        buttonEl.style.display =\n",
              "          google.colab.kernel.accessAllowed ? 'block' : 'none';\n",
              "\n",
              "        async function convertToInteractive(key) {\n",
              "          const element = document.querySelector('#df-ac2faceb-b824-47b1-89f3-877d0c595fd5');\n",
              "          const dataTable =\n",
              "            await google.colab.kernel.invokeFunction('convertToInteractive',\n",
              "                                                     [key], {});\n",
              "          if (!dataTable) return;\n",
              "\n",
              "          const docLinkHtml = 'Like what you see? Visit the ' +\n",
              "            '<a target=\"_blank\" href=https://colab.research.google.com/notebooks/data_table.ipynb>data table notebook</a>'\n",
              "            + ' to learn more about interactive tables.';\n",
              "          element.innerHTML = '';\n",
              "          dataTable['output_type'] = 'display_data';\n",
              "          await google.colab.output.renderOutput(dataTable, element);\n",
              "          const docLink = document.createElement('div');\n",
              "          docLink.innerHTML = docLinkHtml;\n",
              "          element.appendChild(docLink);\n",
              "        }\n",
              "      </script>\n",
              "    </div>\n",
              "  </div>\n",
              "  "
            ]
          },
          "metadata": {},
          "execution_count": 358
        }
      ],
      "source": [
        "price_data # kazda hodnota je vysvetlena deveti predchozimi"
      ]
    },
    {
      "cell_type": "code",
      "execution_count": 359,
      "metadata": {
        "id": "ab51d99f"
      },
      "outputs": [],
      "source": [
        "X = np.array(price_data.loc[:, price_data.columns  != \"lag_0\"])\n",
        "Y = np.array(price_data[\"lag_0\"])"
      ]
    },
    {
      "cell_type": "code",
      "execution_count": 360,
      "metadata": {
        "colab": {
          "base_uri": "https://localhost:8080/",
          "height": 0
        },
        "id": "7ba33c1e",
        "outputId": "358c3624-4ff4-4379-d51d-b59359cf2973"
      },
      "outputs": [
        {
          "output_type": "execute_result",
          "data": {
            "text/plain": [
              "(6860, 10)"
            ]
          },
          "metadata": {},
          "execution_count": 360
        }
      ],
      "source": [
        "X.shape"
      ]
    },
    {
      "cell_type": "code",
      "execution_count": 361,
      "metadata": {
        "id": "f01ec280"
      },
      "outputs": [],
      "source": [
        "X = X.reshape((X.shape[0], X.shape[1], 1)) # konvoluce vzdy potrebuji treti dimenzi"
      ]
    },
    {
      "cell_type": "code",
      "execution_count": 362,
      "metadata": {
        "colab": {
          "base_uri": "https://localhost:8080/",
          "height": 0
        },
        "id": "ea43b2e5",
        "outputId": "84a8db01-257f-4127-bfee-09ae0f7ae295"
      },
      "outputs": [
        {
          "output_type": "execute_result",
          "data": {
            "text/plain": [
              "(6860, 10, 1)"
            ]
          },
          "metadata": {},
          "execution_count": 362
        }
      ],
      "source": [
        "X.shape"
      ]
    },
    {
      "cell_type": "code",
      "execution_count": 363,
      "metadata": {
        "id": "4c7c82a4"
      },
      "outputs": [],
      "source": [
        "from sklearn.model_selection import train_test_split\n",
        "X_train, X_test, Y_train, Y_test = train_test_split(X, Y, test_size = 0.2, random_state = 1)"
      ]
    },
    {
      "cell_type": "code",
      "source": [
        "# kvuli value error: prevod array na tensor\n",
        "X_train = np.asarray(X_train).astype('float32')\n",
        "Y_train = np.asarray(Y_train).astype('float32')\n",
        "X_test = np.asarray(X_test).astype('float32')\n",
        "Y_test = np.asarray(Y_test).astype('float32')"
      ],
      "metadata": {
        "id": "BqoW9mFY7LXD"
      },
      "execution_count": 364,
      "outputs": []
    },
    {
      "cell_type": "code",
      "execution_count": 365,
      "metadata": {
        "scrolled": false,
        "colab": {
          "base_uri": "https://localhost:8080/",
          "height": 0
        },
        "id": "205ec629",
        "outputId": "0574a7c8-1180-4a81-9282-6300cb69ded7"
      },
      "outputs": [
        {
          "output_type": "stream",
          "name": "stdout",
          "text": [
            "Model: \"sequential_29\"\n",
            "_________________________________________________________________\n",
            " Layer (type)                Output Shape              Param #   \n",
            "=================================================================\n",
            " conv1d_12 (Conv1D)          (None, 7, 64)             320       \n",
            "                                                                 \n",
            " conv1d_13 (Conv1D)          (None, 5, 16)             3088      \n",
            "                                                                 \n",
            " conv1d_14 (Conv1D)          (None, 4, 8)              264       \n",
            "                                                                 \n",
            " flatten_3 (Flatten)         (None, 32)                0         \n",
            "                                                                 \n",
            " dense_43 (Dense)            (None, 32)                1056      \n",
            "                                                                 \n",
            " dense_44 (Dense)            (None, 1)                 33        \n",
            "                                                                 \n",
            "=================================================================\n",
            "Total params: 4,761\n",
            "Trainable params: 4,761\n",
            "Non-trainable params: 0\n",
            "_________________________________________________________________\n"
          ]
        }
      ],
      "source": [
        "from keras.models import Sequential\n",
        "from keras.layers import Dense, Conv1D, Flatten\n",
        "\n",
        "model = Sequential()\n",
        "model.add(Conv1D(64, 4, activation='relu', input_shape=(10, 1)))\n",
        "model.add(Conv1D(16, 3, activation='relu'))\n",
        "model.add(Conv1D(8, 2, activation='relu'))\n",
        "model.add(Flatten()) # zplosteni, ze tri dimenzi zase do klasicke matice\n",
        "model.add(Dense(32, activation='relu')) # klasicka skrya vrstva\n",
        "model.add(Dense(1, activation='relu')) # vystupni funkce, 1 neuron\n",
        "\n",
        "model.compile(loss='mae', optimizer=\"adam\")\n",
        "\n",
        "model.summary()"
      ]
    },
    {
      "cell_type": "code",
      "execution_count": 366,
      "metadata": {
        "scrolled": true,
        "colab": {
          "base_uri": "https://localhost:8080/",
          "height": 0
        },
        "id": "308375ee",
        "outputId": "8c7eb2d6-aa59-4c61-8279-6f5bce5868a2"
      },
      "outputs": [
        {
          "output_type": "stream",
          "name": "stdout",
          "text": [
            "Epoch 1/100\n",
            "172/172 [==============================] - 40s 3ms/step - loss: 0.0876\n",
            "Epoch 2/100\n",
            "172/172 [==============================] - 0s 3ms/step - loss: 0.0097\n",
            "Epoch 3/100\n",
            "172/172 [==============================] - 0s 3ms/step - loss: 0.0094\n",
            "Epoch 4/100\n",
            "172/172 [==============================] - 0s 3ms/step - loss: 0.0081\n",
            "Epoch 5/100\n",
            "172/172 [==============================] - 0s 3ms/step - loss: 0.0088\n",
            "Epoch 6/100\n",
            "172/172 [==============================] - 0s 2ms/step - loss: 0.0087\n",
            "Epoch 7/100\n",
            "172/172 [==============================] - 0s 2ms/step - loss: 0.0088\n",
            "Epoch 8/100\n",
            "172/172 [==============================] - 0s 3ms/step - loss: 0.0087\n",
            "Epoch 9/100\n",
            "172/172 [==============================] - 1s 4ms/step - loss: 0.0083\n",
            "Epoch 10/100\n",
            "172/172 [==============================] - 1s 4ms/step - loss: 0.0079\n",
            "Epoch 11/100\n",
            "172/172 [==============================] - 1s 4ms/step - loss: 0.0080\n",
            "Epoch 12/100\n",
            "172/172 [==============================] - 1s 3ms/step - loss: 0.0077\n",
            "Epoch 13/100\n",
            "172/172 [==============================] - 1s 4ms/step - loss: 0.0084\n",
            "Epoch 14/100\n",
            "172/172 [==============================] - 0s 2ms/step - loss: 0.0085\n",
            "Epoch 15/100\n",
            "172/172 [==============================] - 0s 3ms/step - loss: 0.0087\n",
            "Epoch 16/100\n",
            "172/172 [==============================] - 0s 3ms/step - loss: 0.0075\n",
            "Epoch 17/100\n",
            "172/172 [==============================] - 0s 3ms/step - loss: 0.0083\n",
            "Epoch 18/100\n",
            "172/172 [==============================] - 0s 2ms/step - loss: 0.0087\n",
            "Epoch 19/100\n",
            "172/172 [==============================] - 0s 2ms/step - loss: 0.0083\n",
            "Epoch 20/100\n",
            "172/172 [==============================] - 0s 2ms/step - loss: 0.0078\n",
            "Epoch 21/100\n",
            "172/172 [==============================] - 0s 2ms/step - loss: 0.0082\n",
            "Epoch 22/100\n",
            "172/172 [==============================] - 0s 2ms/step - loss: 0.0085\n",
            "Epoch 23/100\n",
            "172/172 [==============================] - 0s 2ms/step - loss: 0.0078\n",
            "Epoch 24/100\n",
            "172/172 [==============================] - 0s 2ms/step - loss: 0.0085\n",
            "Epoch 25/100\n",
            "172/172 [==============================] - 0s 2ms/step - loss: 0.0079\n",
            "Epoch 26/100\n",
            "172/172 [==============================] - 0s 2ms/step - loss: 0.0080\n",
            "Epoch 27/100\n",
            "172/172 [==============================] - 0s 3ms/step - loss: 0.0077\n",
            "Epoch 28/100\n",
            "172/172 [==============================] - 0s 3ms/step - loss: 0.0082\n",
            "Epoch 29/100\n",
            "172/172 [==============================] - 0s 3ms/step - loss: 0.0075\n",
            "Epoch 30/100\n",
            "172/172 [==============================] - 0s 2ms/step - loss: 0.0078\n",
            "Epoch 31/100\n",
            "172/172 [==============================] - 0s 2ms/step - loss: 0.0080\n",
            "Epoch 32/100\n",
            "172/172 [==============================] - 0s 2ms/step - loss: 0.0084\n",
            "Epoch 33/100\n",
            "172/172 [==============================] - 0s 2ms/step - loss: 0.0081\n",
            "Epoch 34/100\n",
            "172/172 [==============================] - 0s 2ms/step - loss: 0.0080\n",
            "Epoch 35/100\n",
            "172/172 [==============================] - 0s 3ms/step - loss: 0.0078\n",
            "Epoch 36/100\n",
            "172/172 [==============================] - 1s 3ms/step - loss: 0.0086\n",
            "Epoch 37/100\n",
            "172/172 [==============================] - 1s 4ms/step - loss: 0.0083\n",
            "Epoch 38/100\n",
            "172/172 [==============================] - 1s 4ms/step - loss: 0.0078\n",
            "Epoch 39/100\n",
            "172/172 [==============================] - 1s 4ms/step - loss: 0.0076\n",
            "Epoch 40/100\n",
            "172/172 [==============================] - 1s 5ms/step - loss: 0.0077\n",
            "Epoch 41/100\n",
            "172/172 [==============================] - 0s 3ms/step - loss: 0.0086\n",
            "Epoch 42/100\n",
            "172/172 [==============================] - 0s 3ms/step - loss: 0.0079\n",
            "Epoch 43/100\n",
            "172/172 [==============================] - 0s 3ms/step - loss: 0.0080\n",
            "Epoch 44/100\n",
            "172/172 [==============================] - 0s 2ms/step - loss: 0.0079\n",
            "Epoch 45/100\n",
            "172/172 [==============================] - 0s 3ms/step - loss: 0.0074\n",
            "Epoch 46/100\n",
            "172/172 [==============================] - 0s 2ms/step - loss: 0.0078\n",
            "Epoch 47/100\n",
            "172/172 [==============================] - 0s 2ms/step - loss: 0.0072\n",
            "Epoch 48/100\n",
            "172/172 [==============================] - 0s 2ms/step - loss: 0.0073\n",
            "Epoch 49/100\n",
            "172/172 [==============================] - 0s 2ms/step - loss: 0.0078\n",
            "Epoch 50/100\n",
            "172/172 [==============================] - 0s 2ms/step - loss: 0.0075\n",
            "Epoch 51/100\n",
            "172/172 [==============================] - 0s 2ms/step - loss: 0.0085\n",
            "Epoch 52/100\n",
            "172/172 [==============================] - 0s 2ms/step - loss: 0.0075\n",
            "Epoch 53/100\n",
            "172/172 [==============================] - 0s 2ms/step - loss: 0.0073\n",
            "Epoch 54/100\n",
            "172/172 [==============================] - 0s 2ms/step - loss: 0.0082\n",
            "Epoch 55/100\n",
            "172/172 [==============================] - 0s 3ms/step - loss: 0.0094\n",
            "Epoch 56/100\n",
            "172/172 [==============================] - 0s 3ms/step - loss: 0.0071\n",
            "Epoch 57/100\n",
            "172/172 [==============================] - 0s 3ms/step - loss: 0.0086\n",
            "Epoch 58/100\n",
            "172/172 [==============================] - 0s 3ms/step - loss: 0.0074\n",
            "Epoch 59/100\n",
            "172/172 [==============================] - 0s 3ms/step - loss: 0.0077\n",
            "Epoch 60/100\n",
            "172/172 [==============================] - 0s 3ms/step - loss: 0.0080\n",
            "Epoch 61/100\n",
            "172/172 [==============================] - 0s 2ms/step - loss: 0.0076\n",
            "Epoch 62/100\n",
            "172/172 [==============================] - 0s 3ms/step - loss: 0.0079\n",
            "Epoch 63/100\n",
            "172/172 [==============================] - 1s 4ms/step - loss: 0.0074\n",
            "Epoch 64/100\n",
            "172/172 [==============================] - 1s 3ms/step - loss: 0.0075\n",
            "Epoch 65/100\n",
            "172/172 [==============================] - 1s 4ms/step - loss: 0.0078\n",
            "Epoch 66/100\n",
            "172/172 [==============================] - 1s 4ms/step - loss: 0.0075\n",
            "Epoch 67/100\n",
            "172/172 [==============================] - 1s 3ms/step - loss: 0.0075\n",
            "Epoch 68/100\n",
            "172/172 [==============================] - 0s 2ms/step - loss: 0.0084\n",
            "Epoch 69/100\n",
            "172/172 [==============================] - 0s 2ms/step - loss: 0.0077\n",
            "Epoch 70/100\n",
            "172/172 [==============================] - 0s 2ms/step - loss: 0.0074\n",
            "Epoch 71/100\n",
            "172/172 [==============================] - 0s 2ms/step - loss: 0.0075\n",
            "Epoch 72/100\n",
            "172/172 [==============================] - 0s 3ms/step - loss: 0.0074\n",
            "Epoch 73/100\n",
            "172/172 [==============================] - 0s 3ms/step - loss: 0.0076\n",
            "Epoch 74/100\n",
            "172/172 [==============================] - 0s 2ms/step - loss: 0.0076\n",
            "Epoch 75/100\n",
            "172/172 [==============================] - 0s 2ms/step - loss: 0.0071\n",
            "Epoch 76/100\n",
            "172/172 [==============================] - 0s 2ms/step - loss: 0.0074\n",
            "Epoch 77/100\n",
            "172/172 [==============================] - 0s 2ms/step - loss: 0.0073\n",
            "Epoch 78/100\n",
            "172/172 [==============================] - 0s 2ms/step - loss: 0.0079\n",
            "Epoch 79/100\n",
            "172/172 [==============================] - 0s 2ms/step - loss: 0.0077\n",
            "Epoch 80/100\n",
            "172/172 [==============================] - 0s 2ms/step - loss: 0.0077\n",
            "Epoch 81/100\n",
            "172/172 [==============================] - 0s 2ms/step - loss: 0.0075\n",
            "Epoch 82/100\n",
            "172/172 [==============================] - 0s 2ms/step - loss: 0.0080\n",
            "Epoch 83/100\n",
            "172/172 [==============================] - 0s 3ms/step - loss: 0.0073\n",
            "Epoch 84/100\n",
            "172/172 [==============================] - 0s 3ms/step - loss: 0.0075\n",
            "Epoch 85/100\n",
            "172/172 [==============================] - 0s 2ms/step - loss: 0.0080\n",
            "Epoch 86/100\n",
            "172/172 [==============================] - 0s 2ms/step - loss: 0.0073\n",
            "Epoch 87/100\n",
            "172/172 [==============================] - 0s 3ms/step - loss: 0.0068\n",
            "Epoch 88/100\n",
            "172/172 [==============================] - 0s 2ms/step - loss: 0.0072\n",
            "Epoch 89/100\n",
            "172/172 [==============================] - 0s 2ms/step - loss: 0.0074\n",
            "Epoch 90/100\n",
            "172/172 [==============================] - 0s 3ms/step - loss: 0.0073\n",
            "Epoch 91/100\n",
            "172/172 [==============================] - 1s 4ms/step - loss: 0.0077\n",
            "Epoch 92/100\n",
            "172/172 [==============================] - 1s 4ms/step - loss: 0.0075\n",
            "Epoch 93/100\n",
            "172/172 [==============================] - 1s 4ms/step - loss: 0.0072\n",
            "Epoch 94/100\n",
            "172/172 [==============================] - 1s 4ms/step - loss: 0.0078\n",
            "Epoch 95/100\n",
            "172/172 [==============================] - 0s 3ms/step - loss: 0.0076\n",
            "Epoch 96/100\n",
            "172/172 [==============================] - 0s 2ms/step - loss: 0.0072\n",
            "Epoch 97/100\n",
            "172/172 [==============================] - 0s 2ms/step - loss: 0.0072\n",
            "Epoch 98/100\n",
            "172/172 [==============================] - 0s 2ms/step - loss: 0.0072\n",
            "Epoch 99/100\n",
            "172/172 [==============================] - 0s 2ms/step - loss: 0.0071\n",
            "Epoch 100/100\n",
            "172/172 [==============================] - 0s 2ms/step - loss: 0.0071\n"
          ]
        },
        {
          "output_type": "execute_result",
          "data": {
            "text/plain": [
              "<keras.callbacks.History at 0x7fe2c94991e0>"
            ]
          },
          "metadata": {},
          "execution_count": 366
        }
      ],
      "source": [
        "model.fit(X_train, Y_train, epochs=100, batch_size=32, verbose=1)"
      ]
    },
    {
      "cell_type": "code",
      "execution_count": 367,
      "metadata": {
        "outputId": "fa7d9996-bee5-45f8-f432-0892223396e2",
        "colab": {
          "base_uri": "https://localhost:8080/",
          "height": 0
        },
        "id": "LJzbNPOK8GHn"
      },
      "outputs": [
        {
          "output_type": "stream",
          "name": "stdout",
          "text": [
            "43/43 [==============================] - 0s 2ms/step\n"
          ]
        }
      ],
      "source": [
        "# Predikce cen\n",
        "testPredict = model.predict(X_test)"
      ]
    },
    {
      "cell_type": "code",
      "execution_count": 368,
      "metadata": {
        "scrolled": true,
        "id": "usRwDzyg8GH2"
      },
      "outputs": [],
      "source": [
        "# Inverzní transformace testovacích dat\n",
        "testYr = scaler.inverse_transform([Y_test])[0]\n",
        "testPredictr = scaler.inverse_transform(testPredict)\n",
        "testPredictr= [i[0] for i in testPredictr]"
      ]
    },
    {
      "cell_type": "code",
      "execution_count": 369,
      "metadata": {
        "outputId": "2793dbb1-93b8-481a-8ca9-64bedc876101",
        "colab": {
          "base_uri": "https://localhost:8080/",
          "height": 0
        },
        "id": "6bkh-q4O8GH2"
      },
      "outputs": [
        {
          "output_type": "stream",
          "name": "stdout",
          "text": [
            "MAPE: 0.5568657475726406%\n"
          ]
        }
      ],
      "source": [
        "# Výpočet MAPE v logaritmech\n",
        "mape = np.mean(np.abs((testYr - testPredictr) / testYr)) * 100\n",
        "print(f\"MAPE: {mape}%\")"
      ]
    },
    {
      "cell_type": "code",
      "execution_count": 370,
      "metadata": {
        "outputId": "558b9d2d-704d-47ab-855b-a6ea902f8835",
        "colab": {
          "base_uri": "https://localhost:8080/",
          "height": 0
        },
        "id": "jbu5PXFe8GH2"
      },
      "outputs": [
        {
          "output_type": "stream",
          "name": "stdout",
          "text": [
            "MAPE: 2.6915640511107406%\n"
          ]
        }
      ],
      "source": [
        "# Výpočet MAPE v reálných hodnotách\n",
        "mape = np.mean(np.abs((np.exp(testYr) - np.exp(testPredictr)) / np.exp(testYr))) * 100\n",
        "print(f\"MAPE: {mape}%\")"
      ]
    },
    {
      "cell_type": "markdown",
      "source": [
        "Metriky byly sice vyborne, ale nejsem si jisty, jestli vse funguje jak ma. Graf je bohuzel uplny binec"
      ],
      "metadata": {
        "id": "uXwmHXFydY4-"
      }
    },
    {
      "cell_type": "code",
      "source": [
        "pd.DataFrame({\"real\": np.exp(testYr), \"predikce\": np.exp(testPredictr)}).plot()"
      ],
      "metadata": {
        "colab": {
          "base_uri": "https://localhost:8080/",
          "height": 447
        },
        "id": "QM1o_IrV8ZqE",
        "outputId": "996c2f08-3de3-4daa-cd6b-cc4fefd1ed00"
      },
      "execution_count": 371,
      "outputs": [
        {
          "output_type": "execute_result",
          "data": {
            "text/plain": [
              "<Axes: >"
            ]
          },
          "metadata": {},
          "execution_count": 371
        },
        {
          "output_type": "display_data",
          "data": {
            "text/plain": [
              "<Figure size 640x480 with 1 Axes>"
            ],
            "image/png": "[encoded data removed]"
          },
          "metadata": {}
        }
      ]
    }
  ]
}