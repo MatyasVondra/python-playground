{
  "nbformat": 4,
  "nbformat_minor": 0,
  "metadata": {
    "colab": {
      "provenance": []
    },
    "kernelspec": {
      "name": "python3",
      "display_name": "Python 3"
    },
    "language_info": {
      "name": "python"
    }
  },
  "cells": [
    {
      "cell_type": "markdown",
      "source": [
        "# ML Posledni Ukol\n",
        "Matyas Vondra 22.6. 2023\n",
        "\n",
        "Kapitoly:\n",
        "\n",
        "\n",
        "1.   Priprava dat\n",
        "2.   Referencni jednoducha linearni regrese\n",
        "3.   Elastic net regrese\n",
        "4.   Rozhodovaci stromy\n",
        "5.   Support Vector Regression\n",
        "6.   Neuronova sit\n",
        "7.   Zaver\n",
        "\n"
      ],
      "metadata": {
        "id": "xp1YVVY0bF8b"
      }
    },
    {
      "cell_type": "markdown",
      "source": [
        "## Priprava dat"
      ],
      "metadata": {
        "id": "amuUt2_ZbLZH"
      }
    },
    {
      "cell_type": "code",
      "execution_count": 1,
      "metadata": {
        "id": "x5EyH1RrK0Z1"
      },
      "outputs": [],
      "source": [
        "import numpy as np\n",
        "import pandas as pd"
      ]
    },
    {
      "cell_type": "code",
      "source": [
        "from google.colab import drive\n",
        "drive.mount('/content/drive')"
      ],
      "metadata": {
        "colab": {
          "base_uri": "https://localhost:8080/"
        },
        "id": "PfohLyF6c9EA",
        "outputId": "f1c28f7f-862f-4fc5-8058-ae384b8ba4a3"
      },
      "execution_count": 2,
      "outputs": [
        {
          "output_type": "stream",
          "name": "stdout",
          "text": [
            "Drive already mounted at /content/drive; to attempt to forcibly remount, call drive.mount(\"/content/drive\", force_remount=True).\n"
          ]
        }
      ]
    },
    {
      "cell_type": "code",
      "source": [
        "data =\n",
        "pd.read_csv(\"/content/drive/MyDrive/Colab Notebooks/Workshop/Clean_Dataset.csv\")"
      ],
      "metadata": {
        "id": "P51SP5UtZA-b"
      },
      "execution_count": 3,
      "outputs": []
    },
    {
      "cell_type": "code",
      "source": [
        "data"
      ],
      "metadata": {
        "colab": {
          "base_uri": "https://localhost:8080/",
          "height": 424
        },
        "id": "CYjHmuvBZV1y",
        "outputId": "56ffcdf2-c872-4252-e435-1d56146e73c8"
      },
      "execution_count": 4,
      "outputs": [
        {
          "output_type": "execute_result",
          "data": {
            "text/plain": [
              "        Unnamed: 0   airline   flight source_city departure_time stops  \\\n",
              "0                0  SpiceJet  SG-8709       Delhi        Evening  zero   \n",
              "1                1  SpiceJet  SG-8157       Delhi  Early_Morning  zero   \n",
              "2                2   AirAsia   I5-764       Delhi  Early_Morning  zero   \n",
              "3                3   Vistara   UK-995       Delhi        Morning  zero   \n",
              "4                4   Vistara   UK-963       Delhi        Morning  zero   \n",
              "...            ...       ...      ...         ...            ...   ...   \n",
              "300148      300148   Vistara   UK-822     Chennai        Morning   one   \n",
              "300149      300149   Vistara   UK-826     Chennai      Afternoon   one   \n",
              "300150      300150   Vistara   UK-832     Chennai  Early_Morning   one   \n",
              "300151      300151   Vistara   UK-828     Chennai  Early_Morning   one   \n",
              "300152      300152   Vistara   UK-822     Chennai        Morning   one   \n",
              "\n",
              "         arrival_time destination_city     class  duration  days_left  price  \n",
              "0               Night           Mumbai   Economy      2.17          1   5953  \n",
              "1             Morning           Mumbai   Economy      2.33          1   5953  \n",
              "2       Early_Morning           Mumbai   Economy      2.17          1   5956  \n",
              "3           Afternoon           Mumbai   Economy      2.25          1   5955  \n",
              "4             Morning           Mumbai   Economy      2.33          1   5955  \n",
              "...               ...              ...       ...       ...        ...    ...  \n",
              "300148        Evening        Hyderabad  Business     10.08         49  69265  \n",
              "300149          Night        Hyderabad  Business     10.42         49  77105  \n",
              "300150          Night        Hyderabad  Business     13.83         49  79099  \n",
              "300151        Evening        Hyderabad  Business     10.00         49  81585  \n",
              "300152        Evening        Hyderabad  Business     10.08         49  81585  \n",
              "\n",
              "[300153 rows x 12 columns]"
            ],
            "text/html": [
              "\n",
              "  <div id=\"df-00877e0f-1a8b-43ae-a9f0-9358447c3c6b\">\n",
              "    <div class=\"colab-df-container\">\n",
              "      <div>\n",
              "<style scoped>\n",
              "    .dataframe tbody tr th:only-of-type {\n",
              "        vertical-align: middle;\n",
              "    }\n",
              "\n",
              "    .dataframe tbody tr th {\n",
              "        vertical-align: top;\n",
              "    }\n",
              "\n",
              "    .dataframe thead th {\n",
              "        text-align: right;\n",
              "    }\n",
              "</style>\n",
              "<table border=\"1\" class=\"dataframe\">\n",
              "  <thead>\n",
              "    <tr style=\"text-align: right;\">\n",
              "      <th></th>\n",
              "      <th>Unnamed: 0</th>\n",
              "      <th>airline</th>\n",
              "      <th>flight</th>\n",
              "      <th>source_city</th>\n",
              "      <th>departure_time</th>\n",
              "      <th>stops</th>\n",
              "      <th>arrival_time</th>\n",
              "      <th>destination_city</th>\n",
              "      <th>class</th>\n",
              "      <th>duration</th>\n",
              "      <th>days_left</th>\n",
              "      <th>price</th>\n",
              "    </tr>\n",
              "  </thead>\n",
              "  <tbody>\n",
              "    <tr>\n",
              "      <th>0</th>\n",
              "      <td>0</td>\n",
              "      <td>SpiceJet</td>\n",
              "      <td>SG-8709</td>\n",
              "      <td>Delhi</td>\n",
              "      <td>Evening</td>\n",
              "      <td>zero</td>\n",
              "      <td>Night</td>\n",
              "      <td>Mumbai</td>\n",
              "      <td>Economy</td>\n",
              "      <td>2.17</td>\n",
              "      <td>1</td>\n",
              "      <td>5953</td>\n",
              "    </tr>\n",
              "    <tr>\n",
              "      <th>1</th>\n",
              "      <td>1</td>\n",
              "      <td>SpiceJet</td>\n",
              "      <td>SG-8157</td>\n",
              "      <td>Delhi</td>\n",
              "      <td>Early_Morning</td>\n",
              "      <td>zero</td>\n",
              "      <td>Morning</td>\n",
              "      <td>Mumbai</td>\n",
              "      <td>Economy</td>\n",
              "      <td>2.33</td>\n",
              "      <td>1</td>\n",
              "      <td>5953</td>\n",
              "    </tr>\n",
              "    <tr>\n",
              "      <th>2</th>\n",
              "      <td>2</td>\n",
              "      <td>AirAsia</td>\n",
              "      <td>I5-764</td>\n",
              "      <td>Delhi</td>\n",
              "      <td>Early_Morning</td>\n",
              "      <td>zero</td>\n",
              "      <td>Early_Morning</td>\n",
              "      <td>Mumbai</td>\n",
              "      <td>Economy</td>\n",
              "      <td>2.17</td>\n",
              "      <td>1</td>\n",
              "      <td>5956</td>\n",
              "    </tr>\n",
              "    <tr>\n",
              "      <th>3</th>\n",
              "      <td>3</td>\n",
              "      <td>Vistara</td>\n",
              "      <td>UK-995</td>\n",
              "      <td>Delhi</td>\n",
              "      <td>Morning</td>\n",
              "      <td>zero</td>\n",
              "      <td>Afternoon</td>\n",
              "      <td>Mumbai</td>\n",
              "      <td>Economy</td>\n",
              "      <td>2.25</td>\n",
              "      <td>1</td>\n",
              "      <td>5955</td>\n",
              "    </tr>\n",
              "    <tr>\n",
              "      <th>4</th>\n",
              "      <td>4</td>\n",
              "      <td>Vistara</td>\n",
              "      <td>UK-963</td>\n",
              "      <td>Delhi</td>\n",
              "      <td>Morning</td>\n",
              "      <td>zero</td>\n",
              "      <td>Morning</td>\n",
              "      <td>Mumbai</td>\n",
              "      <td>Economy</td>\n",
              "      <td>2.33</td>\n",
              "      <td>1</td>\n",
              "      <td>5955</td>\n",
              "    </tr>\n",
              "    <tr>\n",
              "      <th>...</th>\n",
              "      <td>...</td>\n",
              "      <td>...</td>\n",
              "      <td>...</td>\n",
              "      <td>...</td>\n",
              "      <td>...</td>\n",
              "      <td>...</td>\n",
              "      <td>...</td>\n",
              "      <td>...</td>\n",
              "      <td>...</td>\n",
              "      <td>...</td>\n",
              "      <td>...</td>\n",
              "      <td>...</td>\n",
              "    </tr>\n",
              "    <tr>\n",
              "      <th>300148</th>\n",
              "      <td>300148</td>\n",
              "      <td>Vistara</td>\n",
              "      <td>UK-822</td>\n",
              "      <td>Chennai</td>\n",
              "      <td>Morning</td>\n",
              "      <td>one</td>\n",
              "      <td>Evening</td>\n",
              "      <td>Hyderabad</td>\n",
              "      <td>Business</td>\n",
              "      <td>10.08</td>\n",
              "      <td>49</td>\n",
              "      <td>69265</td>\n",
              "    </tr>\n",
              "    <tr>\n",
              "      <th>300149</th>\n",
              "      <td>300149</td>\n",
              "      <td>Vistara</td>\n",
              "      <td>UK-826</td>\n",
              "      <td>Chennai</td>\n",
              "      <td>Afternoon</td>\n",
              "      <td>one</td>\n",
              "      <td>Night</td>\n",
              "      <td>Hyderabad</td>\n",
              "      <td>Business</td>\n",
              "      <td>10.42</td>\n",
              "      <td>49</td>\n",
              "      <td>77105</td>\n",
              "    </tr>\n",
              "    <tr>\n",
              "      <th>300150</th>\n",
              "      <td>300150</td>\n",
              "      <td>Vistara</td>\n",
              "      <td>UK-832</td>\n",
              "      <td>Chennai</td>\n",
              "      <td>Early_Morning</td>\n",
              "      <td>one</td>\n",
              "      <td>Night</td>\n",
              "      <td>Hyderabad</td>\n",
              "      <td>Business</td>\n",
              "      <td>13.83</td>\n",
              "      <td>49</td>\n",
              "      <td>79099</td>\n",
              "    </tr>\n",
              "    <tr>\n",
              "      <th>300151</th>\n",
              "      <td>300151</td>\n",
              "      <td>Vistara</td>\n",
              "      <td>UK-828</td>\n",
              "      <td>Chennai</td>\n",
              "      <td>Early_Morning</td>\n",
              "      <td>one</td>\n",
              "      <td>Evening</td>\n",
              "      <td>Hyderabad</td>\n",
              "      <td>Business</td>\n",
              "      <td>10.00</td>\n",
              "      <td>49</td>\n",
              "      <td>81585</td>\n",
              "    </tr>\n",
              "    <tr>\n",
              "      <th>300152</th>\n",
              "      <td>300152</td>\n",
              "      <td>Vistara</td>\n",
              "      <td>UK-822</td>\n",
              "      <td>Chennai</td>\n",
              "      <td>Morning</td>\n",
              "      <td>one</td>\n",
              "      <td>Evening</td>\n",
              "      <td>Hyderabad</td>\n",
              "      <td>Business</td>\n",
              "      <td>10.08</td>\n",
              "      <td>49</td>\n",
              "      <td>81585</td>\n",
              "    </tr>\n",
              "  </tbody>\n",
              "</table>\n",
              "<p>300153 rows × 12 columns</p>\n",
              "</div>\n",
              "      <button class=\"colab-df-convert\" onclick=\"convertToInteractive('df-00877e0f-1a8b-43ae-a9f0-9358447c3c6b')\"\n",
              "              title=\"Convert this dataframe to an interactive table.\"\n",
              "              style=\"display:none;\">\n",
              "        \n",
              "  <svg xmlns=\"http://www.w3.org/2000/svg\" height=\"24px\"viewBox=\"0 0 24 24\"\n",
              "       width=\"24px\">\n",
              "    <path d=\"M0 0h24v24H0V0z\" fill=\"none\"/>\n",
              "    <path d=\"M18.56 5.44l.94 2.06.94-2.06 2.06-.94-2.06-.94-.94-2.06-.94 2.06-2.06.94zm-11 1L8.5 8.5l.94-2.06 2.06-.94-2.06-.94L8.5 2.5l-.94 2.06-2.06.94zm10 10l.94 2.06.94-2.06 2.06-.94-2.06-.94-.94-2.06-.94 2.06-2.06.94z\"/><path d=\"M17.41 7.96l-1.37-1.37c-.4-.4-.92-.59-1.43-.59-.52 0-1.04.2-1.43.59L10.3 9.45l-7.72 7.72c-.78.78-.78 2.05 0 2.83L4 21.41c.39.39.9.59 1.41.59.51 0 1.02-.2 1.41-.59l7.78-7.78 2.81-2.81c.8-.78.8-2.07 0-2.86zM5.41 20L4 18.59l7.72-7.72 1.47 1.35L5.41 20z\"/>\n",
              "  </svg>\n",
              "      </button>\n",
              "      \n",
              "  <style>\n",
              "    .colab-df-container {\n",
              "      display:flex;\n",
              "      flex-wrap:wrap;\n",
              "      gap: 12px;\n",
              "    }\n",
              "\n",
              "    .colab-df-convert {\n",
              "      background-color: #E8F0FE;\n",
              "      border: none;\n",
              "      border-radius: 50%;\n",
              "      cursor: pointer;\n",
              "      display: none;\n",
              "      fill: #1967D2;\n",
              "      height: 32px;\n",
              "      padding: 0 0 0 0;\n",
              "      width: 32px;\n",
              "    }\n",
              "\n",
              "    .colab-df-convert:hover {\n",
              "      background-color: #E2EBFA;\n",
              "      box-shadow: 0px 1px 2px rgba(60, 64, 67, 0.3), 0px 1px 3px 1px rgba(60, 64, 67, 0.15);\n",
              "      fill: #174EA6;\n",
              "    }\n",
              "\n",
              "    [theme=dark] .colab-df-convert {\n",
              "      background-color: #3B4455;\n",
              "      fill: #D2E3FC;\n",
              "    }\n",
              "\n",
              "    [theme=dark] .colab-df-convert:hover {\n",
              "      background-color: #434B5C;\n",
              "      box-shadow: 0px 1px 3px 1px rgba(0, 0, 0, 0.15);\n",
              "      filter: drop-shadow(0px 1px 2px rgba(0, 0, 0, 0.3));\n",
              "      fill: #FFFFFF;\n",
              "    }\n",
              "  </style>\n",
              "\n",
              "      <script>\n",
              "        const buttonEl =\n",
              "          document.querySelector('#df-00877e0f-1a8b-43ae-a9f0-9358447c3c6b button.colab-df-convert');\n",
              "        buttonEl.style.display =\n",
              "          google.colab.kernel.accessAllowed ? 'block' : 'none';\n",
              "\n",
              "        async function convertToInteractive(key) {\n",
              "          const element = document.querySelector('#df-00877e0f-1a8b-43ae-a9f0-9358447c3c6b');\n",
              "          const dataTable =\n",
              "            await google.colab.kernel.invokeFunction('convertToInteractive',\n",
              "                                                     [key], {});\n",
              "          if (!dataTable) return;\n",
              "\n",
              "          const docLinkHtml = 'Like what you see? Visit the ' +\n",
              "            '<a target=\"_blank\" href=https://colab.research.google.com/notebooks/data_table.ipynb>data table notebook</a>'\n",
              "            + ' to learn more about interactive tables.';\n",
              "          element.innerHTML = '';\n",
              "          dataTable['output_type'] = 'display_data';\n",
              "          await google.colab.output.renderOutput(dataTable, element);\n",
              "          const docLink = document.createElement('div');\n",
              "          docLink.innerHTML = docLinkHtml;\n",
              "          element.appendChild(docLink);\n",
              "        }\n",
              "      </script>\n",
              "    </div>\n",
              "  </div>\n",
              "  "
            ]
          },
          "metadata": {},
          "execution_count": 4
        }
      ]
    },
    {
      "cell_type": "code",
      "source": [
        "# vyber pouze radku business tridy\n",
        "business = data.loc[data['class'] == \"Business\"]"
      ],
      "metadata": {
        "id": "TMuWb82mZYet"
      },
      "execution_count": 5,
      "outputs": []
    },
    {
      "cell_type": "code",
      "source": [
        "business.shape"
      ],
      "metadata": {
        "colab": {
          "base_uri": "https://localhost:8080/"
        },
        "id": "shN4ynnSZnuP",
        "outputId": "d3ddbbf3-0ca6-4f75-d93e-6d8358180277"
      },
      "execution_count": 6,
      "outputs": [
        {
          "output_type": "execute_result",
          "data": {
            "text/plain": [
              "(93487, 12)"
            ]
          },
          "metadata": {},
          "execution_count": 6
        }
      ]
    },
    {
      "cell_type": "code",
      "source": [
        "business"
      ],
      "metadata": {
        "colab": {
          "base_uri": "https://localhost:8080/",
          "height": 424
        },
        "id": "vAKtjHroZqCP",
        "outputId": "a8090b4f-227d-43c3-8c19-8cd2c460d486"
      },
      "execution_count": 7,
      "outputs": [
        {
          "output_type": "execute_result",
          "data": {
            "text/plain": [
              "        Unnamed: 0    airline  flight source_city departure_time stops  \\\n",
              "206666      206666  Air_India  AI-868       Delhi        Evening  zero   \n",
              "206667      206667  Air_India  AI-624       Delhi        Evening  zero   \n",
              "206668      206668  Air_India  AI-531       Delhi        Evening   one   \n",
              "206669      206669  Air_India  AI-839       Delhi          Night   one   \n",
              "206670      206670  Air_India  AI-544       Delhi        Evening   one   \n",
              "...            ...        ...     ...         ...            ...   ...   \n",
              "300148      300148    Vistara  UK-822     Chennai        Morning   one   \n",
              "300149      300149    Vistara  UK-826     Chennai      Afternoon   one   \n",
              "300150      300150    Vistara  UK-832     Chennai  Early_Morning   one   \n",
              "300151      300151    Vistara  UK-828     Chennai  Early_Morning   one   \n",
              "300152      300152    Vistara  UK-822     Chennai        Morning   one   \n",
              "\n",
              "       arrival_time destination_city     class  duration  days_left  price  \n",
              "206666      Evening           Mumbai  Business      2.00          1  25612  \n",
              "206667        Night           Mumbai  Business      2.25          1  25612  \n",
              "206668        Night           Mumbai  Business     24.75          1  42220  \n",
              "206669        Night           Mumbai  Business     26.50          1  44450  \n",
              "206670        Night           Mumbai  Business      6.67          1  46690  \n",
              "...             ...              ...       ...       ...        ...    ...  \n",
              "300148      Evening        Hyderabad  Business     10.08         49  69265  \n",
              "300149        Night        Hyderabad  Business     10.42         49  77105  \n",
              "300150        Night        Hyderabad  Business     13.83         49  79099  \n",
              "300151      Evening        Hyderabad  Business     10.00         49  81585  \n",
              "300152      Evening        Hyderabad  Business     10.08         49  81585  \n",
              "\n",
              "[93487 rows x 12 columns]"
            ],
            "text/html": [
              "\n",
              "  <div id=\"df-0fa7748c-9a46-4af7-b272-e3d97652bd12\">\n",
              "    <div class=\"colab-df-container\">\n",
              "      <div>\n",
              "<style scoped>\n",
              "    .dataframe tbody tr th:only-of-type {\n",
              "        vertical-align: middle;\n",
              "    }\n",
              "\n",
              "    .dataframe tbody tr th {\n",
              "        vertical-align: top;\n",
              "    }\n",
              "\n",
              "    .dataframe thead th {\n",
              "        text-align: right;\n",
              "    }\n",
              "</style>\n",
              "<table border=\"1\" class=\"dataframe\">\n",
              "  <thead>\n",
              "    <tr style=\"text-align: right;\">\n",
              "      <th></th>\n",
              "      <th>Unnamed: 0</th>\n",
              "      <th>airline</th>\n",
              "      <th>flight</th>\n",
              "      <th>source_city</th>\n",
              "      <th>departure_time</th>\n",
              "      <th>stops</th>\n",
              "      <th>arrival_time</th>\n",
              "      <th>destination_city</th>\n",
              "      <th>class</th>\n",
              "      <th>duration</th>\n",
              "      <th>days_left</th>\n",
              "      <th>price</th>\n",
              "    </tr>\n",
              "  </thead>\n",
              "  <tbody>\n",
              "    <tr>\n",
              "      <th>206666</th>\n",
              "      <td>206666</td>\n",
              "      <td>Air_India</td>\n",
              "      <td>AI-868</td>\n",
              "      <td>Delhi</td>\n",
              "      <td>Evening</td>\n",
              "      <td>zero</td>\n",
              "      <td>Evening</td>\n",
              "      <td>Mumbai</td>\n",
              "      <td>Business</td>\n",
              "      <td>2.00</td>\n",
              "      <td>1</td>\n",
              "      <td>25612</td>\n",
              "    </tr>\n",
              "    <tr>\n",
              "      <th>206667</th>\n",
              "      <td>206667</td>\n",
              "      <td>Air_India</td>\n",
              "      <td>AI-624</td>\n",
              "      <td>Delhi</td>\n",
              "      <td>Evening</td>\n",
              "      <td>zero</td>\n",
              "      <td>Night</td>\n",
              "      <td>Mumbai</td>\n",
              "      <td>Business</td>\n",
              "      <td>2.25</td>\n",
              "      <td>1</td>\n",
              "      <td>25612</td>\n",
              "    </tr>\n",
              "    <tr>\n",
              "      <th>206668</th>\n",
              "      <td>206668</td>\n",
              "      <td>Air_India</td>\n",
              "      <td>AI-531</td>\n",
              "      <td>Delhi</td>\n",
              "      <td>Evening</td>\n",
              "      <td>one</td>\n",
              "      <td>Night</td>\n",
              "      <td>Mumbai</td>\n",
              "      <td>Business</td>\n",
              "      <td>24.75</td>\n",
              "      <td>1</td>\n",
              "      <td>42220</td>\n",
              "    </tr>\n",
              "    <tr>\n",
              "      <th>206669</th>\n",
              "      <td>206669</td>\n",
              "      <td>Air_India</td>\n",
              "      <td>AI-839</td>\n",
              "      <td>Delhi</td>\n",
              "      <td>Night</td>\n",
              "      <td>one</td>\n",
              "      <td>Night</td>\n",
              "      <td>Mumbai</td>\n",
              "      <td>Business</td>\n",
              "      <td>26.50</td>\n",
              "      <td>1</td>\n",
              "      <td>44450</td>\n",
              "    </tr>\n",
              "    <tr>\n",
              "      <th>206670</th>\n",
              "      <td>206670</td>\n",
              "      <td>Air_India</td>\n",
              "      <td>AI-544</td>\n",
              "      <td>Delhi</td>\n",
              "      <td>Evening</td>\n",
              "      <td>one</td>\n",
              "      <td>Night</td>\n",
              "      <td>Mumbai</td>\n",
              "      <td>Business</td>\n",
              "      <td>6.67</td>\n",
              "      <td>1</td>\n",
              "      <td>46690</td>\n",
              "    </tr>\n",
              "    <tr>\n",
              "      <th>...</th>\n",
              "      <td>...</td>\n",
              "      <td>...</td>\n",
              "      <td>...</td>\n",
              "      <td>...</td>\n",
              "      <td>...</td>\n",
              "      <td>...</td>\n",
              "      <td>...</td>\n",
              "      <td>...</td>\n",
              "      <td>...</td>\n",
              "      <td>...</td>\n",
              "      <td>...</td>\n",
              "      <td>...</td>\n",
              "    </tr>\n",
              "    <tr>\n",
              "      <th>300148</th>\n",
              "      <td>300148</td>\n",
              "      <td>Vistara</td>\n",
              "      <td>UK-822</td>\n",
              "      <td>Chennai</td>\n",
              "      <td>Morning</td>\n",
              "      <td>one</td>\n",
              "      <td>Evening</td>\n",
              "      <td>Hyderabad</td>\n",
              "      <td>Business</td>\n",
              "      <td>10.08</td>\n",
              "      <td>49</td>\n",
              "      <td>69265</td>\n",
              "    </tr>\n",
              "    <tr>\n",
              "      <th>300149</th>\n",
              "      <td>300149</td>\n",
              "      <td>Vistara</td>\n",
              "      <td>UK-826</td>\n",
              "      <td>Chennai</td>\n",
              "      <td>Afternoon</td>\n",
              "      <td>one</td>\n",
              "      <td>Night</td>\n",
              "      <td>Hyderabad</td>\n",
              "      <td>Business</td>\n",
              "      <td>10.42</td>\n",
              "      <td>49</td>\n",
              "      <td>77105</td>\n",
              "    </tr>\n",
              "    <tr>\n",
              "      <th>300150</th>\n",
              "      <td>300150</td>\n",
              "      <td>Vistara</td>\n",
              "      <td>UK-832</td>\n",
              "      <td>Chennai</td>\n",
              "      <td>Early_Morning</td>\n",
              "      <td>one</td>\n",
              "      <td>Night</td>\n",
              "      <td>Hyderabad</td>\n",
              "      <td>Business</td>\n",
              "      <td>13.83</td>\n",
              "      <td>49</td>\n",
              "      <td>79099</td>\n",
              "    </tr>\n",
              "    <tr>\n",
              "      <th>300151</th>\n",
              "      <td>300151</td>\n",
              "      <td>Vistara</td>\n",
              "      <td>UK-828</td>\n",
              "      <td>Chennai</td>\n",
              "      <td>Early_Morning</td>\n",
              "      <td>one</td>\n",
              "      <td>Evening</td>\n",
              "      <td>Hyderabad</td>\n",
              "      <td>Business</td>\n",
              "      <td>10.00</td>\n",
              "      <td>49</td>\n",
              "      <td>81585</td>\n",
              "    </tr>\n",
              "    <tr>\n",
              "      <th>300152</th>\n",
              "      <td>300152</td>\n",
              "      <td>Vistara</td>\n",
              "      <td>UK-822</td>\n",
              "      <td>Chennai</td>\n",
              "      <td>Morning</td>\n",
              "      <td>one</td>\n",
              "      <td>Evening</td>\n",
              "      <td>Hyderabad</td>\n",
              "      <td>Business</td>\n",
              "      <td>10.08</td>\n",
              "      <td>49</td>\n",
              "      <td>81585</td>\n",
              "    </tr>\n",
              "  </tbody>\n",
              "</table>\n",
              "<p>93487 rows × 12 columns</p>\n",
              "</div>\n",
              "      <button class=\"colab-df-convert\" onclick=\"convertToInteractive('df-0fa7748c-9a46-4af7-b272-e3d97652bd12')\"\n",
              "              title=\"Convert this dataframe to an interactive table.\"\n",
              "              style=\"display:none;\">\n",
              "        \n",
              "  <svg xmlns=\"http://www.w3.org/2000/svg\" height=\"24px\"viewBox=\"0 0 24 24\"\n",
              "       width=\"24px\">\n",
              "    <path d=\"M0 0h24v24H0V0z\" fill=\"none\"/>\n",
              "    <path d=\"M18.56 5.44l.94 2.06.94-2.06 2.06-.94-2.06-.94-.94-2.06-.94 2.06-2.06.94zm-11 1L8.5 8.5l.94-2.06 2.06-.94-2.06-.94L8.5 2.5l-.94 2.06-2.06.94zm10 10l.94 2.06.94-2.06 2.06-.94-2.06-.94-.94-2.06-.94 2.06-2.06.94z\"/><path d=\"M17.41 7.96l-1.37-1.37c-.4-.4-.92-.59-1.43-.59-.52 0-1.04.2-1.43.59L10.3 9.45l-7.72 7.72c-.78.78-.78 2.05 0 2.83L4 21.41c.39.39.9.59 1.41.59.51 0 1.02-.2 1.41-.59l7.78-7.78 2.81-2.81c.8-.78.8-2.07 0-2.86zM5.41 20L4 18.59l7.72-7.72 1.47 1.35L5.41 20z\"/>\n",
              "  </svg>\n",
              "      </button>\n",
              "      \n",
              "  <style>\n",
              "    .colab-df-container {\n",
              "      display:flex;\n",
              "      flex-wrap:wrap;\n",
              "      gap: 12px;\n",
              "    }\n",
              "\n",
              "    .colab-df-convert {\n",
              "      background-color: #E8F0FE;\n",
              "      border: none;\n",
              "      border-radius: 50%;\n",
              "      cursor: pointer;\n",
              "      display: none;\n",
              "      fill: #1967D2;\n",
              "      height: 32px;\n",
              "      padding: 0 0 0 0;\n",
              "      width: 32px;\n",
              "    }\n",
              "\n",
              "    .colab-df-convert:hover {\n",
              "      background-color: #E2EBFA;\n",
              "      box-shadow: 0px 1px 2px rgba(60, 64, 67, 0.3), 0px 1px 3px 1px rgba(60, 64, 67, 0.15);\n",
              "      fill: #174EA6;\n",
              "    }\n",
              "\n",
              "    [theme=dark] .colab-df-convert {\n",
              "      background-color: #3B4455;\n",
              "      fill: #D2E3FC;\n",
              "    }\n",
              "\n",
              "    [theme=dark] .colab-df-convert:hover {\n",
              "      background-color: #434B5C;\n",
              "      box-shadow: 0px 1px 3px 1px rgba(0, 0, 0, 0.15);\n",
              "      filter: drop-shadow(0px 1px 2px rgba(0, 0, 0, 0.3));\n",
              "      fill: #FFFFFF;\n",
              "    }\n",
              "  </style>\n",
              "\n",
              "      <script>\n",
              "        const buttonEl =\n",
              "          document.querySelector('#df-0fa7748c-9a46-4af7-b272-e3d97652bd12 button.colab-df-convert');\n",
              "        buttonEl.style.display =\n",
              "          google.colab.kernel.accessAllowed ? 'block' : 'none';\n",
              "\n",
              "        async function convertToInteractive(key) {\n",
              "          const element = document.querySelector('#df-0fa7748c-9a46-4af7-b272-e3d97652bd12');\n",
              "          const dataTable =\n",
              "            await google.colab.kernel.invokeFunction('convertToInteractive',\n",
              "                                                     [key], {});\n",
              "          if (!dataTable) return;\n",
              "\n",
              "          const docLinkHtml = 'Like what you see? Visit the ' +\n",
              "            '<a target=\"_blank\" href=https://colab.research.google.com/notebooks/data_table.ipynb>data table notebook</a>'\n",
              "            + ' to learn more about interactive tables.';\n",
              "          element.innerHTML = '';\n",
              "          dataTable['output_type'] = 'display_data';\n",
              "          await google.colab.output.renderOutput(dataTable, element);\n",
              "          const docLink = document.createElement('div');\n",
              "          docLink.innerHTML = docLinkHtml;\n",
              "          element.appendChild(docLink);\n",
              "        }\n",
              "      </script>\n",
              "    </div>\n",
              "  </div>\n",
              "  "
            ]
          },
          "metadata": {},
          "execution_count": 7
        }
      ]
    },
    {
      "cell_type": "code",
      "source": [
        "# odebrani zbytecnych sloupcu\n",
        "business = business.drop('Unnamed: 0', axis=1)\n",
        "business = business.drop('class', axis=1)"
      ],
      "metadata": {
        "id": "Rr-5XFmWZ4MP"
      },
      "execution_count": 8,
      "outputs": []
    },
    {
      "cell_type": "code",
      "source": [
        "business"
      ],
      "metadata": {
        "colab": {
          "base_uri": "https://localhost:8080/",
          "height": 424
        },
        "id": "gW3OmD4BaCy2",
        "outputId": "05766d23-022c-4bb2-99ec-d0ea5ab9bf73"
      },
      "execution_count": 9,
      "outputs": [
        {
          "output_type": "execute_result",
          "data": {
            "text/plain": [
              "          airline  flight source_city departure_time stops arrival_time  \\\n",
              "206666  Air_India  AI-868       Delhi        Evening  zero      Evening   \n",
              "206667  Air_India  AI-624       Delhi        Evening  zero        Night   \n",
              "206668  Air_India  AI-531       Delhi        Evening   one        Night   \n",
              "206669  Air_India  AI-839       Delhi          Night   one        Night   \n",
              "206670  Air_India  AI-544       Delhi        Evening   one        Night   \n",
              "...           ...     ...         ...            ...   ...          ...   \n",
              "300148    Vistara  UK-822     Chennai        Morning   one      Evening   \n",
              "300149    Vistara  UK-826     Chennai      Afternoon   one        Night   \n",
              "300150    Vistara  UK-832     Chennai  Early_Morning   one        Night   \n",
              "300151    Vistara  UK-828     Chennai  Early_Morning   one      Evening   \n",
              "300152    Vistara  UK-822     Chennai        Morning   one      Evening   \n",
              "\n",
              "       destination_city  duration  days_left  price  \n",
              "206666           Mumbai      2.00          1  25612  \n",
              "206667           Mumbai      2.25          1  25612  \n",
              "206668           Mumbai     24.75          1  42220  \n",
              "206669           Mumbai     26.50          1  44450  \n",
              "206670           Mumbai      6.67          1  46690  \n",
              "...                 ...       ...        ...    ...  \n",
              "300148        Hyderabad     10.08         49  69265  \n",
              "300149        Hyderabad     10.42         49  77105  \n",
              "300150        Hyderabad     13.83         49  79099  \n",
              "300151        Hyderabad     10.00         49  81585  \n",
              "300152        Hyderabad     10.08         49  81585  \n",
              "\n",
              "[93487 rows x 10 columns]"
            ],
            "text/html": [
              "\n",
              "  <div id=\"df-2ba270f1-4073-476d-8925-ef052328ccb5\">\n",
              "    <div class=\"colab-df-container\">\n",
              "      <div>\n",
              "<style scoped>\n",
              "    .dataframe tbody tr th:only-of-type {\n",
              "        vertical-align: middle;\n",
              "    }\n",
              "\n",
              "    .dataframe tbody tr th {\n",
              "        vertical-align: top;\n",
              "    }\n",
              "\n",
              "    .dataframe thead th {\n",
              "        text-align: right;\n",
              "    }\n",
              "</style>\n",
              "<table border=\"1\" class=\"dataframe\">\n",
              "  <thead>\n",
              "    <tr style=\"text-align: right;\">\n",
              "      <th></th>\n",
              "      <th>airline</th>\n",
              "      <th>flight</th>\n",
              "      <th>source_city</th>\n",
              "      <th>departure_time</th>\n",
              "      <th>stops</th>\n",
              "      <th>arrival_time</th>\n",
              "      <th>destination_city</th>\n",
              "      <th>duration</th>\n",
              "      <th>days_left</th>\n",
              "      <th>price</th>\n",
              "    </tr>\n",
              "  </thead>\n",
              "  <tbody>\n",
              "    <tr>\n",
              "      <th>206666</th>\n",
              "      <td>Air_India</td>\n",
              "      <td>AI-868</td>\n",
              "      <td>Delhi</td>\n",
              "      <td>Evening</td>\n",
              "      <td>zero</td>\n",
              "      <td>Evening</td>\n",
              "      <td>Mumbai</td>\n",
              "      <td>2.00</td>\n",
              "      <td>1</td>\n",
              "      <td>25612</td>\n",
              "    </tr>\n",
              "    <tr>\n",
              "      <th>206667</th>\n",
              "      <td>Air_India</td>\n",
              "      <td>AI-624</td>\n",
              "      <td>Delhi</td>\n",
              "      <td>Evening</td>\n",
              "      <td>zero</td>\n",
              "      <td>Night</td>\n",
              "      <td>Mumbai</td>\n",
              "      <td>2.25</td>\n",
              "      <td>1</td>\n",
              "      <td>25612</td>\n",
              "    </tr>\n",
              "    <tr>\n",
              "      <th>206668</th>\n",
              "      <td>Air_India</td>\n",
              "      <td>AI-531</td>\n",
              "      <td>Delhi</td>\n",
              "      <td>Evening</td>\n",
              "      <td>one</td>\n",
              "      <td>Night</td>\n",
              "      <td>Mumbai</td>\n",
              "      <td>24.75</td>\n",
              "      <td>1</td>\n",
              "      <td>42220</td>\n",
              "    </tr>\n",
              "    <tr>\n",
              "      <th>206669</th>\n",
              "      <td>Air_India</td>\n",
              "      <td>AI-839</td>\n",
              "      <td>Delhi</td>\n",
              "      <td>Night</td>\n",
              "      <td>one</td>\n",
              "      <td>Night</td>\n",
              "      <td>Mumbai</td>\n",
              "      <td>26.50</td>\n",
              "      <td>1</td>\n",
              "      <td>44450</td>\n",
              "    </tr>\n",
              "    <tr>\n",
              "      <th>206670</th>\n",
              "      <td>Air_India</td>\n",
              "      <td>AI-544</td>\n",
              "      <td>Delhi</td>\n",
              "      <td>Evening</td>\n",
              "      <td>one</td>\n",
              "      <td>Night</td>\n",
              "      <td>Mumbai</td>\n",
              "      <td>6.67</td>\n",
              "      <td>1</td>\n",
              "      <td>46690</td>\n",
              "    </tr>\n",
              "    <tr>\n",
              "      <th>...</th>\n",
              "      <td>...</td>\n",
              "      <td>...</td>\n",
              "      <td>...</td>\n",
              "      <td>...</td>\n",
              "      <td>...</td>\n",
              "      <td>...</td>\n",
              "      <td>...</td>\n",
              "      <td>...</td>\n",
              "      <td>...</td>\n",
              "      <td>...</td>\n",
              "    </tr>\n",
              "    <tr>\n",
              "      <th>300148</th>\n",
              "      <td>Vistara</td>\n",
              "      <td>UK-822</td>\n",
              "      <td>Chennai</td>\n",
              "      <td>Morning</td>\n",
              "      <td>one</td>\n",
              "      <td>Evening</td>\n",
              "      <td>Hyderabad</td>\n",
              "      <td>10.08</td>\n",
              "      <td>49</td>\n",
              "      <td>69265</td>\n",
              "    </tr>\n",
              "    <tr>\n",
              "      <th>300149</th>\n",
              "      <td>Vistara</td>\n",
              "      <td>UK-826</td>\n",
              "      <td>Chennai</td>\n",
              "      <td>Afternoon</td>\n",
              "      <td>one</td>\n",
              "      <td>Night</td>\n",
              "      <td>Hyderabad</td>\n",
              "      <td>10.42</td>\n",
              "      <td>49</td>\n",
              "      <td>77105</td>\n",
              "    </tr>\n",
              "    <tr>\n",
              "      <th>300150</th>\n",
              "      <td>Vistara</td>\n",
              "      <td>UK-832</td>\n",
              "      <td>Chennai</td>\n",
              "      <td>Early_Morning</td>\n",
              "      <td>one</td>\n",
              "      <td>Night</td>\n",
              "      <td>Hyderabad</td>\n",
              "      <td>13.83</td>\n",
              "      <td>49</td>\n",
              "      <td>79099</td>\n",
              "    </tr>\n",
              "    <tr>\n",
              "      <th>300151</th>\n",
              "      <td>Vistara</td>\n",
              "      <td>UK-828</td>\n",
              "      <td>Chennai</td>\n",
              "      <td>Early_Morning</td>\n",
              "      <td>one</td>\n",
              "      <td>Evening</td>\n",
              "      <td>Hyderabad</td>\n",
              "      <td>10.00</td>\n",
              "      <td>49</td>\n",
              "      <td>81585</td>\n",
              "    </tr>\n",
              "    <tr>\n",
              "      <th>300152</th>\n",
              "      <td>Vistara</td>\n",
              "      <td>UK-822</td>\n",
              "      <td>Chennai</td>\n",
              "      <td>Morning</td>\n",
              "      <td>one</td>\n",
              "      <td>Evening</td>\n",
              "      <td>Hyderabad</td>\n",
              "      <td>10.08</td>\n",
              "      <td>49</td>\n",
              "      <td>81585</td>\n",
              "    </tr>\n",
              "  </tbody>\n",
              "</table>\n",
              "<p>93487 rows × 10 columns</p>\n",
              "</div>\n",
              "      <button class=\"colab-df-convert\" onclick=\"convertToInteractive('df-2ba270f1-4073-476d-8925-ef052328ccb5')\"\n",
              "              title=\"Convert this dataframe to an interactive table.\"\n",
              "              style=\"display:none;\">\n",
              "        \n",
              "  <svg xmlns=\"http://www.w3.org/2000/svg\" height=\"24px\"viewBox=\"0 0 24 24\"\n",
              "       width=\"24px\">\n",
              "    <path d=\"M0 0h24v24H0V0z\" fill=\"none\"/>\n",
              "    <path d=\"M18.56 5.44l.94 2.06.94-2.06 2.06-.94-2.06-.94-.94-2.06-.94 2.06-2.06.94zm-11 1L8.5 8.5l.94-2.06 2.06-.94-2.06-.94L8.5 2.5l-.94 2.06-2.06.94zm10 10l.94 2.06.94-2.06 2.06-.94-2.06-.94-.94-2.06-.94 2.06-2.06.94z\"/><path d=\"M17.41 7.96l-1.37-1.37c-.4-.4-.92-.59-1.43-.59-.52 0-1.04.2-1.43.59L10.3 9.45l-7.72 7.72c-.78.78-.78 2.05 0 2.83L4 21.41c.39.39.9.59 1.41.59.51 0 1.02-.2 1.41-.59l7.78-7.78 2.81-2.81c.8-.78.8-2.07 0-2.86zM5.41 20L4 18.59l7.72-7.72 1.47 1.35L5.41 20z\"/>\n",
              "  </svg>\n",
              "      </button>\n",
              "      \n",
              "  <style>\n",
              "    .colab-df-container {\n",
              "      display:flex;\n",
              "      flex-wrap:wrap;\n",
              "      gap: 12px;\n",
              "    }\n",
              "\n",
              "    .colab-df-convert {\n",
              "      background-color: #E8F0FE;\n",
              "      border: none;\n",
              "      border-radius: 50%;\n",
              "      cursor: pointer;\n",
              "      display: none;\n",
              "      fill: #1967D2;\n",
              "      height: 32px;\n",
              "      padding: 0 0 0 0;\n",
              "      width: 32px;\n",
              "    }\n",
              "\n",
              "    .colab-df-convert:hover {\n",
              "      background-color: #E2EBFA;\n",
              "      box-shadow: 0px 1px 2px rgba(60, 64, 67, 0.3), 0px 1px 3px 1px rgba(60, 64, 67, 0.15);\n",
              "      fill: #174EA6;\n",
              "    }\n",
              "\n",
              "    [theme=dark] .colab-df-convert {\n",
              "      background-color: #3B4455;\n",
              "      fill: #D2E3FC;\n",
              "    }\n",
              "\n",
              "    [theme=dark] .colab-df-convert:hover {\n",
              "      background-color: #434B5C;\n",
              "      box-shadow: 0px 1px 3px 1px rgba(0, 0, 0, 0.15);\n",
              "      filter: drop-shadow(0px 1px 2px rgba(0, 0, 0, 0.3));\n",
              "      fill: #FFFFFF;\n",
              "    }\n",
              "  </style>\n",
              "\n",
              "      <script>\n",
              "        const buttonEl =\n",
              "          document.querySelector('#df-2ba270f1-4073-476d-8925-ef052328ccb5 button.colab-df-convert');\n",
              "        buttonEl.style.display =\n",
              "          google.colab.kernel.accessAllowed ? 'block' : 'none';\n",
              "\n",
              "        async function convertToInteractive(key) {\n",
              "          const element = document.querySelector('#df-2ba270f1-4073-476d-8925-ef052328ccb5');\n",
              "          const dataTable =\n",
              "            await google.colab.kernel.invokeFunction('convertToInteractive',\n",
              "                                                     [key], {});\n",
              "          if (!dataTable) return;\n",
              "\n",
              "          const docLinkHtml = 'Like what you see? Visit the ' +\n",
              "            '<a target=\"_blank\" href=https://colab.research.google.com/notebooks/data_table.ipynb>data table notebook</a>'\n",
              "            + ' to learn more about interactive tables.';\n",
              "          element.innerHTML = '';\n",
              "          dataTable['output_type'] = 'display_data';\n",
              "          await google.colab.output.renderOutput(dataTable, element);\n",
              "          const docLink = document.createElement('div');\n",
              "          docLink.innerHTML = docLinkHtml;\n",
              "          element.appendChild(docLink);\n",
              "        }\n",
              "      </script>\n",
              "    </div>\n",
              "  </div>\n",
              "  "
            ]
          },
          "metadata": {},
          "execution_count": 9
        }
      ]
    },
    {
      "cell_type": "markdown",
      "source": [
        "Kontrola typu a hodnot promennych"
      ],
      "metadata": {
        "id": "tfVt5RnMtQCT"
      }
    },
    {
      "cell_type": "code",
      "source": [
        "business.dtypes"
      ],
      "metadata": {
        "colab": {
          "base_uri": "https://localhost:8080/"
        },
        "id": "ymP65J2-a6Cc",
        "outputId": "da732ece-9603-48aa-b7c4-1223baa5169b"
      },
      "execution_count": 10,
      "outputs": [
        {
          "output_type": "execute_result",
          "data": {
            "text/plain": [
              "airline              object\n",
              "flight               object\n",
              "source_city          object\n",
              "departure_time       object\n",
              "stops                object\n",
              "arrival_time         object\n",
              "destination_city     object\n",
              "duration            float64\n",
              "days_left             int64\n",
              "price                 int64\n",
              "dtype: object"
            ]
          },
          "metadata": {},
          "execution_count": 10
        }
      ]
    },
    {
      "cell_type": "code",
      "source": [
        "business.departure_time.unique()"
      ],
      "metadata": {
        "colab": {
          "base_uri": "https://localhost:8080/"
        },
        "id": "GVvKi_3MaDlT",
        "outputId": "db758721-7b4a-449c-aa04-d894c1cbc806"
      },
      "execution_count": 11,
      "outputs": [
        {
          "output_type": "execute_result",
          "data": {
            "text/plain": [
              "array(['Evening', 'Night', 'Early_Morning', 'Morning', 'Afternoon',\n",
              "       'Late_Night'], dtype=object)"
            ]
          },
          "metadata": {},
          "execution_count": 11
        }
      ]
    },
    {
      "cell_type": "code",
      "source": [
        "business.stops.unique()"
      ],
      "metadata": {
        "colab": {
          "base_uri": "https://localhost:8080/"
        },
        "id": "9DBc3xcmaWjk",
        "outputId": "81e29a81-d8f1-4e33-82be-6376a09986bd"
      },
      "execution_count": 12,
      "outputs": [
        {
          "output_type": "execute_result",
          "data": {
            "text/plain": [
              "array(['zero', 'one', 'two_or_more'], dtype=object)"
            ]
          },
          "metadata": {},
          "execution_count": 12
        }
      ]
    },
    {
      "cell_type": "code",
      "source": [
        "business.arrival_time.unique()"
      ],
      "metadata": {
        "colab": {
          "base_uri": "https://localhost:8080/"
        },
        "id": "Un0hLIBmaZz_",
        "outputId": "9d14855b-efce-4b45-b6d1-6a247f2a2445"
      },
      "execution_count": 13,
      "outputs": [
        {
          "output_type": "execute_result",
          "data": {
            "text/plain": [
              "array(['Evening', 'Night', 'Afternoon', 'Morning', 'Late_Night',\n",
              "       'Early_Morning'], dtype=object)"
            ]
          },
          "metadata": {},
          "execution_count": 13
        }
      ]
    },
    {
      "cell_type": "code",
      "source": [
        "business.source_city.unique()"
      ],
      "metadata": {
        "colab": {
          "base_uri": "https://localhost:8080/"
        },
        "id": "VchAX-6kac8O",
        "outputId": "6f955138-d2ff-4b9b-ee2f-a94532b386fa"
      },
      "execution_count": 14,
      "outputs": [
        {
          "output_type": "execute_result",
          "data": {
            "text/plain": [
              "array(['Delhi', 'Mumbai', 'Bangalore', 'Kolkata', 'Hyderabad', 'Chennai'],\n",
              "      dtype=object)"
            ]
          },
          "metadata": {},
          "execution_count": 14
        }
      ]
    },
    {
      "cell_type": "code",
      "source": [
        "business.destination_city.unique()"
      ],
      "metadata": {
        "colab": {
          "base_uri": "https://localhost:8080/"
        },
        "id": "JitEgOqQafML",
        "outputId": "44ad0776-1fd1-4b74-cccd-ca824db8483c"
      },
      "execution_count": 15,
      "outputs": [
        {
          "output_type": "execute_result",
          "data": {
            "text/plain": [
              "array(['Mumbai', 'Bangalore', 'Kolkata', 'Hyderabad', 'Chennai', 'Delhi'],\n",
              "      dtype=object)"
            ]
          },
          "metadata": {},
          "execution_count": 15
        }
      ]
    },
    {
      "cell_type": "code",
      "source": [
        "business.airline.unique()"
      ],
      "metadata": {
        "colab": {
          "base_uri": "https://localhost:8080/"
        },
        "id": "LFrY8AQ0ajFK",
        "outputId": "ecc2da56-a2d6-4de4-fc18-de6018cf730c"
      },
      "execution_count": 16,
      "outputs": [
        {
          "output_type": "execute_result",
          "data": {
            "text/plain": [
              "array(['Air_India', 'Vistara'], dtype=object)"
            ]
          },
          "metadata": {},
          "execution_count": 16
        }
      ]
    },
    {
      "cell_type": "code",
      "source": [
        "business.flight.unique()"
      ],
      "metadata": {
        "colab": {
          "base_uri": "https://localhost:8080/"
        },
        "id": "mD3itwMTbBgW",
        "outputId": "b603e68d-ccf9-40d1-b51e-e12f0a7b98c8"
      },
      "execution_count": 17,
      "outputs": [
        {
          "output_type": "execute_result",
          "data": {
            "text/plain": [
              "array(['AI-868', 'AI-624', 'AI-531', 'AI-839', 'AI-544', 'UK-985',\n",
              "       'AI-479', 'AI-473', 'UK-871', 'UK-977', 'AI-504', 'AI-807',\n",
              "       'AI-540', 'AI-537', 'UK-817', 'AI-762', 'AI-764', 'UK-707',\n",
              "       'UK-809', 'UK-813', 'UK-837', 'UK-953', 'AI-887', 'AI-665',\n",
              "       'AI-805', 'AI-678', 'AI-636', 'AI-441', 'AI-435', 'UK-683',\n",
              "       'AI-403', 'UK-963', 'UK-955', 'AI-411', 'AI-811', 'AI-453',\n",
              "       'UK-637', 'UK-927', 'AI-483', 'AI-542', 'AI-560', 'AI-406',\n",
              "       'UK-829', 'UK-879', 'UK-899', 'UK-627', 'UK-945', 'AI-451',\n",
              "       'AI-885', 'AI-877', 'UK-995', 'UK-673', 'AI-429', 'UK-859',\n",
              "       'AI-439', 'UK-839', 'UK-833', 'UK-819', 'UK-801', 'UK-815',\n",
              "       'UK-706', 'AI-465', 'AI-512', 'AI-767', 'AI-401', 'UK-835',\n",
              "       'UK-737', 'UK-847', 'UK-951', 'AI-475', 'AI-431', 'UK-933',\n",
              "       'AI-502', 'AI-506', 'AI-803', 'UK-855', 'UK-705', 'AI-499',\n",
              "       'AI-471', 'AI-485', 'AI-423', 'AI-415', 'UK-747', 'AI-481',\n",
              "       'UK-981', 'UK-975', 'UK-993', 'UK-943', 'UK-941', 'UK-811',\n",
              "       'UK-807', 'AI-837', 'AI-865', 'UK-727', 'AI-491', 'AI-883',\n",
              "       'AI-437', 'AI-861', 'AI-641', 'UK-812', 'UK-671', 'AI-433',\n",
              "       'AI-487', 'AI-407', 'AI-889', 'AI-801', 'UK-641', 'AI-895',\n",
              "       'AI-879', 'AI-489', 'AI-891', 'AI-493', 'AI-888', 'AI-867',\n",
              "       'AI-631', 'AI-637', 'UK-996', 'UK-940', 'AI-619', 'UK-875',\n",
              "       'UK-988', 'AI-681', 'AI-774', 'UK-865', 'UK-823', 'AI-806',\n",
              "       'AI-809', 'AI-687', 'AI-660', 'AI-635', 'AI-442', 'UK-958',\n",
              "       'UK-928', 'UK-960', 'AI-625', 'UK-613', 'AI-649', 'UK-970',\n",
              "       'UK-877', 'UK-621', 'UK-944', 'AI-685', 'AI-683', 'AI-669',\n",
              "       'UK-910', 'UK-651', 'AI-679', 'AI-639', 'AI-570', 'UK-863',\n",
              "       'UK-851', 'UK-825', 'UK-853', 'AI-671', 'UK-775', 'UK-771',\n",
              "       'AI-655', 'UK-655', 'AI-645', 'AI-651', 'AI-607', 'AI-673',\n",
              "       'UK-994', 'AI-643', 'AI-611', 'UK-773', 'UK-954', 'UK-950',\n",
              "       'UK-902', 'UK-653', 'UK-873', 'UK-986', 'UK-821', 'UK-827',\n",
              "       'UK-845', 'UK-930', 'UK-849', 'UK-841', 'UK-857', 'AI-864',\n",
              "       'UK-861', 'AI-615', 'AI-695', 'AI-657', 'AI-633', 'AI-652',\n",
              "       'AI-629', 'AI-627', 'AI-601', 'AI-623', 'AI-603', 'UK-818',\n",
              "       'AI-808', 'UK-850', 'UK-808', 'UK-820', 'UK-802', 'AI-505',\n",
              "       'AI-501', 'AI-804', 'AI-503', 'UK-810', 'AI-507', 'AI-640',\n",
              "       'UK-657', 'UK-816', 'UK-854', 'UK-852', 'UK-858', 'AI-573',\n",
              "       'AI-610', 'AI-565', 'UK-867', 'AI-738', 'AI-516', 'AI-523',\n",
              "       'AI-748', 'UK-866', 'UK-864', 'UK-814', 'UK-846', 'AI-776',\n",
              "       'AI-604', 'AI-772', 'AI-564', 'AI-583', 'UK-774', 'AI-763',\n",
              "       'AI-402', 'AI-768', 'AI-770', 'UK-738', 'UK-778', 'AI-729',\n",
              "       'AI-781', 'AI-526', 'AI-713', 'AI-765', 'AI-773', 'AI-787',\n",
              "       'UK-776', 'UK-772', 'AI-721', 'UK-720', 'AI-745', 'AI-732',\n",
              "       'AI-715', 'AI-747', 'AI-424', 'UK-708', 'AI-743', 'AI-780',\n",
              "       'AI-775', 'AI-771', 'AI-840', 'AI-541', 'UK-860', 'UK-880',\n",
              "       'UK-830', 'AI-559', 'AI-543', 'UK-890', 'AI-698', 'AI-508',\n",
              "       'AI-525', 'UK-870', 'UK-876', 'UK-878', 'AI-838', 'AI-515',\n",
              "       'UK-874', 'AI-616', 'AI-420', 'AI-620', 'AI-546', 'UK-832',\n",
              "       'UK-838', 'AI-440', 'AI-539', 'AI-538', 'AI-430', 'UK-836',\n",
              "       'AI-569', 'AI-672', 'AI-766', 'UK-834', 'UK-822', 'AI-549',\n",
              "       'UK-824', 'UK-828', 'UK-826', 'AI-545', 'AI-551', 'AI-563',\n",
              "       'AI-509'], dtype=object)"
            ]
          },
          "metadata": {},
          "execution_count": 17
        }
      ]
    },
    {
      "cell_type": "markdown",
      "source": [
        "### One hot encoding promennych"
      ],
      "metadata": {
        "id": "1YdGwcIIbqgj"
      }
    },
    {
      "cell_type": "code",
      "source": [
        "transformed = pd.get_dummies(business)"
      ],
      "metadata": {
        "id": "Wo_RkMxmbwsX"
      },
      "execution_count": 18,
      "outputs": []
    },
    {
      "cell_type": "code",
      "source": [
        "transformed"
      ],
      "metadata": {
        "colab": {
          "base_uri": "https://localhost:8080/",
          "height": 505
        },
        "id": "_jgXAulScLOA",
        "outputId": "60dc31aa-0204-46c6-bb87-cd459f78cd6e"
      },
      "execution_count": 19,
      "outputs": [
        {
          "output_type": "execute_result",
          "data": {
            "text/plain": [
              "        duration  days_left  price  airline_Air_India  airline_Vistara  \\\n",
              "206666      2.00          1  25612                  1                0   \n",
              "206667      2.25          1  25612                  1                0   \n",
              "206668     24.75          1  42220                  1                0   \n",
              "206669     26.50          1  44450                  1                0   \n",
              "206670      6.67          1  46690                  1                0   \n",
              "...          ...        ...    ...                ...              ...   \n",
              "300148     10.08         49  69265                  0                1   \n",
              "300149     10.42         49  77105                  0                1   \n",
              "300150     13.83         49  79099                  0                1   \n",
              "300151     10.00         49  81585                  0                1   \n",
              "300152     10.08         49  81585                  0                1   \n",
              "\n",
              "        flight_AI-401  flight_AI-402  flight_AI-403  flight_AI-406  \\\n",
              "206666              0              0              0              0   \n",
              "206667              0              0              0              0   \n",
              "206668              0              0              0              0   \n",
              "206669              0              0              0              0   \n",
              "206670              0              0              0              0   \n",
              "...               ...            ...            ...            ...   \n",
              "300148              0              0              0              0   \n",
              "300149              0              0              0              0   \n",
              "300150              0              0              0              0   \n",
              "300151              0              0              0              0   \n",
              "300152              0              0              0              0   \n",
              "\n",
              "        flight_AI-407  ...  arrival_time_Evening  arrival_time_Late_Night  \\\n",
              "206666              0  ...                     1                        0   \n",
              "206667              0  ...                     0                        0   \n",
              "206668              0  ...                     0                        0   \n",
              "206669              0  ...                     0                        0   \n",
              "206670              0  ...                     0                        0   \n",
              "...               ...  ...                   ...                      ...   \n",
              "300148              0  ...                     1                        0   \n",
              "300149              0  ...                     0                        0   \n",
              "300150              0  ...                     0                        0   \n",
              "300151              0  ...                     1                        0   \n",
              "300152              0  ...                     1                        0   \n",
              "\n",
              "        arrival_time_Morning  arrival_time_Night  destination_city_Bangalore  \\\n",
              "206666                     0                   0                           0   \n",
              "206667                     0                   1                           0   \n",
              "206668                     0                   1                           0   \n",
              "206669                     0                   1                           0   \n",
              "206670                     0                   1                           0   \n",
              "...                      ...                 ...                         ...   \n",
              "300148                     0                   0                           0   \n",
              "300149                     0                   1                           0   \n",
              "300150                     0                   1                           0   \n",
              "300151                     0                   0                           0   \n",
              "300152                     0                   0                           0   \n",
              "\n",
              "        destination_city_Chennai  destination_city_Delhi  \\\n",
              "206666                         0                       0   \n",
              "206667                         0                       0   \n",
              "206668                         0                       0   \n",
              "206669                         0                       0   \n",
              "206670                         0                       0   \n",
              "...                          ...                     ...   \n",
              "300148                         0                       0   \n",
              "300149                         0                       0   \n",
              "300150                         0                       0   \n",
              "300151                         0                       0   \n",
              "300152                         0                       0   \n",
              "\n",
              "        destination_city_Hyderabad  destination_city_Kolkata  \\\n",
              "206666                           0                         0   \n",
              "206667                           0                         0   \n",
              "206668                           0                         0   \n",
              "206669                           0                         0   \n",
              "206670                           0                         0   \n",
              "...                            ...                       ...   \n",
              "300148                           1                         0   \n",
              "300149                           1                         0   \n",
              "300150                           1                         0   \n",
              "300151                           1                         0   \n",
              "300152                           1                         0   \n",
              "\n",
              "        destination_city_Mumbai  \n",
              "206666                        1  \n",
              "206667                        1  \n",
              "206668                        1  \n",
              "206669                        1  \n",
              "206670                        1  \n",
              "...                         ...  \n",
              "300148                        0  \n",
              "300149                        0  \n",
              "300150                        0  \n",
              "300151                        0  \n",
              "300152                        0  \n",
              "\n",
              "[93487 rows x 327 columns]"
            ],
            "text/html": [
              "\n",
              "  <div id=\"df-25cd7f2a-355d-4763-8900-6bf11a208c9f\">\n",
              "    <div class=\"colab-df-container\">\n",
              "      <div>\n",
              "<style scoped>\n",
              "    .dataframe tbody tr th:only-of-type {\n",
              "        vertical-align: middle;\n",
              "    }\n",
              "\n",
              "    .dataframe tbody tr th {\n",
              "        vertical-align: top;\n",
              "    }\n",
              "\n",
              "    .dataframe thead th {\n",
              "        text-align: right;\n",
              "    }\n",
              "</style>\n",
              "<table border=\"1\" class=\"dataframe\">\n",
              "  <thead>\n",
              "    <tr style=\"text-align: right;\">\n",
              "      <th></th>\n",
              "      <th>duration</th>\n",
              "      <th>days_left</th>\n",
              "      <th>price</th>\n",
              "      <th>airline_Air_India</th>\n",
              "      <th>airline_Vistara</th>\n",
              "      <th>flight_AI-401</th>\n",
              "      <th>flight_AI-402</th>\n",
              "      <th>flight_AI-403</th>\n",
              "      <th>flight_AI-406</th>\n",
              "      <th>flight_AI-407</th>\n",
              "      <th>...</th>\n",
              "      <th>arrival_time_Evening</th>\n",
              "      <th>arrival_time_Late_Night</th>\n",
              "      <th>arrival_time_Morning</th>\n",
              "      <th>arrival_time_Night</th>\n",
              "      <th>destination_city_Bangalore</th>\n",
              "      <th>destination_city_Chennai</th>\n",
              "      <th>destination_city_Delhi</th>\n",
              "      <th>destination_city_Hyderabad</th>\n",
              "      <th>destination_city_Kolkata</th>\n",
              "      <th>destination_city_Mumbai</th>\n",
              "    </tr>\n",
              "  </thead>\n",
              "  <tbody>\n",
              "    <tr>\n",
              "      <th>206666</th>\n",
              "      <td>2.00</td>\n",
              "      <td>1</td>\n",
              "      <td>25612</td>\n",
              "      <td>1</td>\n",
              "      <td>0</td>\n",
              "      <td>0</td>\n",
              "      <td>0</td>\n",
              "      <td>0</td>\n",
              "      <td>0</td>\n",
              "      <td>0</td>\n",
              "      <td>...</td>\n",
              "      <td>1</td>\n",
              "      <td>0</td>\n",
              "      <td>0</td>\n",
              "      <td>0</td>\n",
              "      <td>0</td>\n",
              "      <td>0</td>\n",
              "      <td>0</td>\n",
              "      <td>0</td>\n",
              "      <td>0</td>\n",
              "      <td>1</td>\n",
              "    </tr>\n",
              "    <tr>\n",
              "      <th>206667</th>\n",
              "      <td>2.25</td>\n",
              "      <td>1</td>\n",
              "      <td>25612</td>\n",
              "      <td>1</td>\n",
              "      <td>0</td>\n",
              "      <td>0</td>\n",
              "      <td>0</td>\n",
              "      <td>0</td>\n",
              "      <td>0</td>\n",
              "      <td>0</td>\n",
              "      <td>...</td>\n",
              "      <td>0</td>\n",
              "      <td>0</td>\n",
              "      <td>0</td>\n",
              "      <td>1</td>\n",
              "      <td>0</td>\n",
              "      <td>0</td>\n",
              "      <td>0</td>\n",
              "      <td>0</td>\n",
              "      <td>0</td>\n",
              "      <td>1</td>\n",
              "    </tr>\n",
              "    <tr>\n",
              "      <th>206668</th>\n",
              "      <td>24.75</td>\n",
              "      <td>1</td>\n",
              "      <td>42220</td>\n",
              "      <td>1</td>\n",
              "      <td>0</td>\n",
              "      <td>0</td>\n",
              "      <td>0</td>\n",
              "      <td>0</td>\n",
              "      <td>0</td>\n",
              "      <td>0</td>\n",
              "      <td>...</td>\n",
              "      <td>0</td>\n",
              "      <td>0</td>\n",
              "      <td>0</td>\n",
              "      <td>1</td>\n",
              "      <td>0</td>\n",
              "      <td>0</td>\n",
              "      <td>0</td>\n",
              "      <td>0</td>\n",
              "      <td>0</td>\n",
              "      <td>1</td>\n",
              "    </tr>\n",
              "    <tr>\n",
              "      <th>206669</th>\n",
              "      <td>26.50</td>\n",
              "      <td>1</td>\n",
              "      <td>44450</td>\n",
              "      <td>1</td>\n",
              "      <td>0</td>\n",
              "      <td>0</td>\n",
              "      <td>0</td>\n",
              "      <td>0</td>\n",
              "      <td>0</td>\n",
              "      <td>0</td>\n",
              "      <td>...</td>\n",
              "      <td>0</td>\n",
              "      <td>0</td>\n",
              "      <td>0</td>\n",
              "      <td>1</td>\n",
              "      <td>0</td>\n",
              "      <td>0</td>\n",
              "      <td>0</td>\n",
              "      <td>0</td>\n",
              "      <td>0</td>\n",
              "      <td>1</td>\n",
              "    </tr>\n",
              "    <tr>\n",
              "      <th>206670</th>\n",
              "      <td>6.67</td>\n",
              "      <td>1</td>\n",
              "      <td>46690</td>\n",
              "      <td>1</td>\n",
              "      <td>0</td>\n",
              "      <td>0</td>\n",
              "      <td>0</td>\n",
              "      <td>0</td>\n",
              "      <td>0</td>\n",
              "      <td>0</td>\n",
              "      <td>...</td>\n",
              "      <td>0</td>\n",
              "      <td>0</td>\n",
              "      <td>0</td>\n",
              "      <td>1</td>\n",
              "      <td>0</td>\n",
              "      <td>0</td>\n",
              "      <td>0</td>\n",
              "      <td>0</td>\n",
              "      <td>0</td>\n",
              "      <td>1</td>\n",
              "    </tr>\n",
              "    <tr>\n",
              "      <th>...</th>\n",
              "      <td>...</td>\n",
              "      <td>...</td>\n",
              "      <td>...</td>\n",
              "      <td>...</td>\n",
              "      <td>...</td>\n",
              "      <td>...</td>\n",
              "      <td>...</td>\n",
              "      <td>...</td>\n",
              "      <td>...</td>\n",
              "      <td>...</td>\n",
              "      <td>...</td>\n",
              "      <td>...</td>\n",
              "      <td>...</td>\n",
              "      <td>...</td>\n",
              "      <td>...</td>\n",
              "      <td>...</td>\n",
              "      <td>...</td>\n",
              "      <td>...</td>\n",
              "      <td>...</td>\n",
              "      <td>...</td>\n",
              "      <td>...</td>\n",
              "    </tr>\n",
              "    <tr>\n",
              "      <th>300148</th>\n",
              "      <td>10.08</td>\n",
              "      <td>49</td>\n",
              "      <td>69265</td>\n",
              "      <td>0</td>\n",
              "      <td>1</td>\n",
              "      <td>0</td>\n",
              "      <td>0</td>\n",
              "      <td>0</td>\n",
              "      <td>0</td>\n",
              "      <td>0</td>\n",
              "      <td>...</td>\n",
              "      <td>1</td>\n",
              "      <td>0</td>\n",
              "      <td>0</td>\n",
              "      <td>0</td>\n",
              "      <td>0</td>\n",
              "      <td>0</td>\n",
              "      <td>0</td>\n",
              "      <td>1</td>\n",
              "      <td>0</td>\n",
              "      <td>0</td>\n",
              "    </tr>\n",
              "    <tr>\n",
              "      <th>300149</th>\n",
              "      <td>10.42</td>\n",
              "      <td>49</td>\n",
              "      <td>77105</td>\n",
              "      <td>0</td>\n",
              "      <td>1</td>\n",
              "      <td>0</td>\n",
              "      <td>0</td>\n",
              "      <td>0</td>\n",
              "      <td>0</td>\n",
              "      <td>0</td>\n",
              "      <td>...</td>\n",
              "      <td>0</td>\n",
              "      <td>0</td>\n",
              "      <td>0</td>\n",
              "      <td>1</td>\n",
              "      <td>0</td>\n",
              "      <td>0</td>\n",
              "      <td>0</td>\n",
              "      <td>1</td>\n",
              "      <td>0</td>\n",
              "      <td>0</td>\n",
              "    </tr>\n",
              "    <tr>\n",
              "      <th>300150</th>\n",
              "      <td>13.83</td>\n",
              "      <td>49</td>\n",
              "      <td>79099</td>\n",
              "      <td>0</td>\n",
              "      <td>1</td>\n",
              "      <td>0</td>\n",
              "      <td>0</td>\n",
              "      <td>0</td>\n",
              "      <td>0</td>\n",
              "      <td>0</td>\n",
              "      <td>...</td>\n",
              "      <td>0</td>\n",
              "      <td>0</td>\n",
              "      <td>0</td>\n",
              "      <td>1</td>\n",
              "      <td>0</td>\n",
              "      <td>0</td>\n",
              "      <td>0</td>\n",
              "      <td>1</td>\n",
              "      <td>0</td>\n",
              "      <td>0</td>\n",
              "    </tr>\n",
              "    <tr>\n",
              "      <th>300151</th>\n",
              "      <td>10.00</td>\n",
              "      <td>49</td>\n",
              "      <td>81585</td>\n",
              "      <td>0</td>\n",
              "      <td>1</td>\n",
              "      <td>0</td>\n",
              "      <td>0</td>\n",
              "      <td>0</td>\n",
              "      <td>0</td>\n",
              "      <td>0</td>\n",
              "      <td>...</td>\n",
              "      <td>1</td>\n",
              "      <td>0</td>\n",
              "      <td>0</td>\n",
              "      <td>0</td>\n",
              "      <td>0</td>\n",
              "      <td>0</td>\n",
              "      <td>0</td>\n",
              "      <td>1</td>\n",
              "      <td>0</td>\n",
              "      <td>0</td>\n",
              "    </tr>\n",
              "    <tr>\n",
              "      <th>300152</th>\n",
              "      <td>10.08</td>\n",
              "      <td>49</td>\n",
              "      <td>81585</td>\n",
              "      <td>0</td>\n",
              "      <td>1</td>\n",
              "      <td>0</td>\n",
              "      <td>0</td>\n",
              "      <td>0</td>\n",
              "      <td>0</td>\n",
              "      <td>0</td>\n",
              "      <td>...</td>\n",
              "      <td>1</td>\n",
              "      <td>0</td>\n",
              "      <td>0</td>\n",
              "      <td>0</td>\n",
              "      <td>0</td>\n",
              "      <td>0</td>\n",
              "      <td>0</td>\n",
              "      <td>1</td>\n",
              "      <td>0</td>\n",
              "      <td>0</td>\n",
              "    </tr>\n",
              "  </tbody>\n",
              "</table>\n",
              "<p>93487 rows × 327 columns</p>\n",
              "</div>\n",
              "      <button class=\"colab-df-convert\" onclick=\"convertToInteractive('df-25cd7f2a-355d-4763-8900-6bf11a208c9f')\"\n",
              "              title=\"Convert this dataframe to an interactive table.\"\n",
              "              style=\"display:none;\">\n",
              "        \n",
              "  <svg xmlns=\"http://www.w3.org/2000/svg\" height=\"24px\"viewBox=\"0 0 24 24\"\n",
              "       width=\"24px\">\n",
              "    <path d=\"M0 0h24v24H0V0z\" fill=\"none\"/>\n",
              "    <path d=\"M18.56 5.44l.94 2.06.94-2.06 2.06-.94-2.06-.94-.94-2.06-.94 2.06-2.06.94zm-11 1L8.5 8.5l.94-2.06 2.06-.94-2.06-.94L8.5 2.5l-.94 2.06-2.06.94zm10 10l.94 2.06.94-2.06 2.06-.94-2.06-.94-.94-2.06-.94 2.06-2.06.94z\"/><path d=\"M17.41 7.96l-1.37-1.37c-.4-.4-.92-.59-1.43-.59-.52 0-1.04.2-1.43.59L10.3 9.45l-7.72 7.72c-.78.78-.78 2.05 0 2.83L4 21.41c.39.39.9.59 1.41.59.51 0 1.02-.2 1.41-.59l7.78-7.78 2.81-2.81c.8-.78.8-2.07 0-2.86zM5.41 20L4 18.59l7.72-7.72 1.47 1.35L5.41 20z\"/>\n",
              "  </svg>\n",
              "      </button>\n",
              "      \n",
              "  <style>\n",
              "    .colab-df-container {\n",
              "      display:flex;\n",
              "      flex-wrap:wrap;\n",
              "      gap: 12px;\n",
              "    }\n",
              "\n",
              "    .colab-df-convert {\n",
              "      background-color: #E8F0FE;\n",
              "      border: none;\n",
              "      border-radius: 50%;\n",
              "      cursor: pointer;\n",
              "      display: none;\n",
              "      fill: #1967D2;\n",
              "      height: 32px;\n",
              "      padding: 0 0 0 0;\n",
              "      width: 32px;\n",
              "    }\n",
              "\n",
              "    .colab-df-convert:hover {\n",
              "      background-color: #E2EBFA;\n",
              "      box-shadow: 0px 1px 2px rgba(60, 64, 67, 0.3), 0px 1px 3px 1px rgba(60, 64, 67, 0.15);\n",
              "      fill: #174EA6;\n",
              "    }\n",
              "\n",
              "    [theme=dark] .colab-df-convert {\n",
              "      background-color: #3B4455;\n",
              "      fill: #D2E3FC;\n",
              "    }\n",
              "\n",
              "    [theme=dark] .colab-df-convert:hover {\n",
              "      background-color: #434B5C;\n",
              "      box-shadow: 0px 1px 3px 1px rgba(0, 0, 0, 0.15);\n",
              "      filter: drop-shadow(0px 1px 2px rgba(0, 0, 0, 0.3));\n",
              "      fill: #FFFFFF;\n",
              "    }\n",
              "  </style>\n",
              "\n",
              "      <script>\n",
              "        const buttonEl =\n",
              "          document.querySelector('#df-25cd7f2a-355d-4763-8900-6bf11a208c9f button.colab-df-convert');\n",
              "        buttonEl.style.display =\n",
              "          google.colab.kernel.accessAllowed ? 'block' : 'none';\n",
              "\n",
              "        async function convertToInteractive(key) {\n",
              "          const element = document.querySelector('#df-25cd7f2a-355d-4763-8900-6bf11a208c9f');\n",
              "          const dataTable =\n",
              "            await google.colab.kernel.invokeFunction('convertToInteractive',\n",
              "                                                     [key], {});\n",
              "          if (!dataTable) return;\n",
              "\n",
              "          const docLinkHtml = 'Like what you see? Visit the ' +\n",
              "            '<a target=\"_blank\" href=https://colab.research.google.com/notebooks/data_table.ipynb>data table notebook</a>'\n",
              "            + ' to learn more about interactive tables.';\n",
              "          element.innerHTML = '';\n",
              "          dataTable['output_type'] = 'display_data';\n",
              "          await google.colab.output.renderOutput(dataTable, element);\n",
              "          const docLink = document.createElement('div');\n",
              "          docLink.innerHTML = docLinkHtml;\n",
              "          element.appendChild(docLink);\n",
              "        }\n",
              "      </script>\n",
              "    </div>\n",
              "  </div>\n",
              "  "
            ]
          },
          "metadata": {},
          "execution_count": 19
        }
      ]
    },
    {
      "cell_type": "code",
      "source": [
        "# Normalizace dat (nakonec nepouzita)\n",
        "normalized_df =\n",
        " (transformed-transformed.min())/(transformed.max()-transformed.min())"
      ],
      "metadata": {
        "id": "4AYWRfjacynO"
      },
      "execution_count": 20,
      "outputs": []
    },
    {
      "cell_type": "code",
      "source": [
        "normalized_df"
      ],
      "metadata": {
        "colab": {
          "base_uri": "https://localhost:8080/",
          "height": 505
        },
        "id": "3uK86GYsfDKY",
        "outputId": "5d312a3e-610b-4820-d710-dd5ea2d14e46"
      },
      "execution_count": 21,
      "outputs": [
        {
          "output_type": "execute_result",
          "data": {
            "text/plain": [
              "        duration  days_left     price  airline_Air_India  airline_Vistara  \\\n",
              "206666  0.021390        0.0  0.122552                1.0              0.0   \n",
              "206667  0.026738        0.0  0.122552                1.0              0.0   \n",
              "206668  0.508021        0.0  0.272078                1.0              0.0   \n",
              "206669  0.545455        0.0  0.292155                1.0              0.0   \n",
              "206670  0.121283        0.0  0.312323                1.0              0.0   \n",
              "...          ...        ...       ...                ...              ...   \n",
              "300148  0.194225        1.0  0.515571                0.0              1.0   \n",
              "300149  0.201497        1.0  0.586157                0.0              1.0   \n",
              "300150  0.274439        1.0  0.604109                0.0              1.0   \n",
              "300151  0.192513        1.0  0.626491                0.0              1.0   \n",
              "300152  0.194225        1.0  0.626491                0.0              1.0   \n",
              "\n",
              "        flight_AI-401  flight_AI-402  flight_AI-403  flight_AI-406  \\\n",
              "206666            0.0            0.0            0.0            0.0   \n",
              "206667            0.0            0.0            0.0            0.0   \n",
              "206668            0.0            0.0            0.0            0.0   \n",
              "206669            0.0            0.0            0.0            0.0   \n",
              "206670            0.0            0.0            0.0            0.0   \n",
              "...               ...            ...            ...            ...   \n",
              "300148            0.0            0.0            0.0            0.0   \n",
              "300149            0.0            0.0            0.0            0.0   \n",
              "300150            0.0            0.0            0.0            0.0   \n",
              "300151            0.0            0.0            0.0            0.0   \n",
              "300152            0.0            0.0            0.0            0.0   \n",
              "\n",
              "        flight_AI-407  ...  arrival_time_Evening  arrival_time_Late_Night  \\\n",
              "206666            0.0  ...                   1.0                      0.0   \n",
              "206667            0.0  ...                   0.0                      0.0   \n",
              "206668            0.0  ...                   0.0                      0.0   \n",
              "206669            0.0  ...                   0.0                      0.0   \n",
              "206670            0.0  ...                   0.0                      0.0   \n",
              "...               ...  ...                   ...                      ...   \n",
              "300148            0.0  ...                   1.0                      0.0   \n",
              "300149            0.0  ...                   0.0                      0.0   \n",
              "300150            0.0  ...                   0.0                      0.0   \n",
              "300151            0.0  ...                   1.0                      0.0   \n",
              "300152            0.0  ...                   1.0                      0.0   \n",
              "\n",
              "        arrival_time_Morning  arrival_time_Night  destination_city_Bangalore  \\\n",
              "206666                   0.0                 0.0                         0.0   \n",
              "206667                   0.0                 1.0                         0.0   \n",
              "206668                   0.0                 1.0                         0.0   \n",
              "206669                   0.0                 1.0                         0.0   \n",
              "206670                   0.0                 1.0                         0.0   \n",
              "...                      ...                 ...                         ...   \n",
              "300148                   0.0                 0.0                         0.0   \n",
              "300149                   0.0                 1.0                         0.0   \n",
              "300150                   0.0                 1.0                         0.0   \n",
              "300151                   0.0                 0.0                         0.0   \n",
              "300152                   0.0                 0.0                         0.0   \n",
              "\n",
              "        destination_city_Chennai  destination_city_Delhi  \\\n",
              "206666                       0.0                     0.0   \n",
              "206667                       0.0                     0.0   \n",
              "206668                       0.0                     0.0   \n",
              "206669                       0.0                     0.0   \n",
              "206670                       0.0                     0.0   \n",
              "...                          ...                     ...   \n",
              "300148                       0.0                     0.0   \n",
              "300149                       0.0                     0.0   \n",
              "300150                       0.0                     0.0   \n",
              "300151                       0.0                     0.0   \n",
              "300152                       0.0                     0.0   \n",
              "\n",
              "        destination_city_Hyderabad  destination_city_Kolkata  \\\n",
              "206666                         0.0                       0.0   \n",
              "206667                         0.0                       0.0   \n",
              "206668                         0.0                       0.0   \n",
              "206669                         0.0                       0.0   \n",
              "206670                         0.0                       0.0   \n",
              "...                            ...                       ...   \n",
              "300148                         1.0                       0.0   \n",
              "300149                         1.0                       0.0   \n",
              "300150                         1.0                       0.0   \n",
              "300151                         1.0                       0.0   \n",
              "300152                         1.0                       0.0   \n",
              "\n",
              "        destination_city_Mumbai  \n",
              "206666                      1.0  \n",
              "206667                      1.0  \n",
              "206668                      1.0  \n",
              "206669                      1.0  \n",
              "206670                      1.0  \n",
              "...                         ...  \n",
              "300148                      0.0  \n",
              "300149                      0.0  \n",
              "300150                      0.0  \n",
              "300151                      0.0  \n",
              "300152                      0.0  \n",
              "\n",
              "[93487 rows x 327 columns]"
            ],
            "text/html": [
              "\n",
              "  <div id=\"df-0f4df6fa-413d-480e-8490-bfc8db3dba95\">\n",
              "    <div class=\"colab-df-container\">\n",
              "      <div>\n",
              "<style scoped>\n",
              "    .dataframe tbody tr th:only-of-type {\n",
              "        vertical-align: middle;\n",
              "    }\n",
              "\n",
              "    .dataframe tbody tr th {\n",
              "        vertical-align: top;\n",
              "    }\n",
              "\n",
              "    .dataframe thead th {\n",
              "        text-align: right;\n",
              "    }\n",
              "</style>\n",
              "<table border=\"1\" class=\"dataframe\">\n",
              "  <thead>\n",
              "    <tr style=\"text-align: right;\">\n",
              "      <th></th>\n",
              "      <th>duration</th>\n",
              "      <th>days_left</th>\n",
              "      <th>price</th>\n",
              "      <th>airline_Air_India</th>\n",
              "      <th>airline_Vistara</th>\n",
              "      <th>flight_AI-401</th>\n",
              "      <th>flight_AI-402</th>\n",
              "      <th>flight_AI-403</th>\n",
              "      <th>flight_AI-406</th>\n",
              "      <th>flight_AI-407</th>\n",
              "      <th>...</th>\n",
              "      <th>arrival_time_Evening</th>\n",
              "      <th>arrival_time_Late_Night</th>\n",
              "      <th>arrival_time_Morning</th>\n",
              "      <th>arrival_time_Night</th>\n",
              "      <th>destination_city_Bangalore</th>\n",
              "      <th>destination_city_Chennai</th>\n",
              "      <th>destination_city_Delhi</th>\n",
              "      <th>destination_city_Hyderabad</th>\n",
              "      <th>destination_city_Kolkata</th>\n",
              "      <th>destination_city_Mumbai</th>\n",
              "    </tr>\n",
              "  </thead>\n",
              "  <tbody>\n",
              "    <tr>\n",
              "      <th>206666</th>\n",
              "      <td>0.021390</td>\n",
              "      <td>0.0</td>\n",
              "      <td>0.122552</td>\n",
              "      <td>1.0</td>\n",
              "      <td>0.0</td>\n",
              "      <td>0.0</td>\n",
              "      <td>0.0</td>\n",
              "      <td>0.0</td>\n",
              "      <td>0.0</td>\n",
              "      <td>0.0</td>\n",
              "      <td>...</td>\n",
              "      <td>1.0</td>\n",
              "      <td>0.0</td>\n",
              "      <td>0.0</td>\n",
              "      <td>0.0</td>\n",
              "      <td>0.0</td>\n",
              "      <td>0.0</td>\n",
              "      <td>0.0</td>\n",
              "      <td>0.0</td>\n",
              "      <td>0.0</td>\n",
              "      <td>1.0</td>\n",
              "    </tr>\n",
              "    <tr>\n",
              "      <th>206667</th>\n",
              "      <td>0.026738</td>\n",
              "      <td>0.0</td>\n",
              "      <td>0.122552</td>\n",
              "      <td>1.0</td>\n",
              "      <td>0.0</td>\n",
              "      <td>0.0</td>\n",
              "      <td>0.0</td>\n",
              "      <td>0.0</td>\n",
              "      <td>0.0</td>\n",
              "      <td>0.0</td>\n",
              "      <td>...</td>\n",
              "      <td>0.0</td>\n",
              "      <td>0.0</td>\n",
              "      <td>0.0</td>\n",
              "      <td>1.0</td>\n",
              "      <td>0.0</td>\n",
              "      <td>0.0</td>\n",
              "      <td>0.0</td>\n",
              "      <td>0.0</td>\n",
              "      <td>0.0</td>\n",
              "      <td>1.0</td>\n",
              "    </tr>\n",
              "    <tr>\n",
              "      <th>206668</th>\n",
              "      <td>0.508021</td>\n",
              "      <td>0.0</td>\n",
              "      <td>0.272078</td>\n",
              "      <td>1.0</td>\n",
              "      <td>0.0</td>\n",
              "      <td>0.0</td>\n",
              "      <td>0.0</td>\n",
              "      <td>0.0</td>\n",
              "      <td>0.0</td>\n",
              "      <td>0.0</td>\n",
              "      <td>...</td>\n",
              "      <td>0.0</td>\n",
              "      <td>0.0</td>\n",
              "      <td>0.0</td>\n",
              "      <td>1.0</td>\n",
              "      <td>0.0</td>\n",
              "      <td>0.0</td>\n",
              "      <td>0.0</td>\n",
              "      <td>0.0</td>\n",
              "      <td>0.0</td>\n",
              "      <td>1.0</td>\n",
              "    </tr>\n",
              "    <tr>\n",
              "      <th>206669</th>\n",
              "      <td>0.545455</td>\n",
              "      <td>0.0</td>\n",
              "      <td>0.292155</td>\n",
              "      <td>1.0</td>\n",
              "      <td>0.0</td>\n",
              "      <td>0.0</td>\n",
              "      <td>0.0</td>\n",
              "      <td>0.0</td>\n",
              "      <td>0.0</td>\n",
              "      <td>0.0</td>\n",
              "      <td>...</td>\n",
              "      <td>0.0</td>\n",
              "      <td>0.0</td>\n",
              "      <td>0.0</td>\n",
              "      <td>1.0</td>\n",
              "      <td>0.0</td>\n",
              "      <td>0.0</td>\n",
              "      <td>0.0</td>\n",
              "      <td>0.0</td>\n",
              "      <td>0.0</td>\n",
              "      <td>1.0</td>\n",
              "    </tr>\n",
              "    <tr>\n",
              "      <th>206670</th>\n",
              "      <td>0.121283</td>\n",
              "      <td>0.0</td>\n",
              "      <td>0.312323</td>\n",
              "      <td>1.0</td>\n",
              "      <td>0.0</td>\n",
              "      <td>0.0</td>\n",
              "      <td>0.0</td>\n",
              "      <td>0.0</td>\n",
              "      <td>0.0</td>\n",
              "      <td>0.0</td>\n",
              "      <td>...</td>\n",
              "      <td>0.0</td>\n",
              "      <td>0.0</td>\n",
              "      <td>0.0</td>\n",
              "      <td>1.0</td>\n",
              "      <td>0.0</td>\n",
              "      <td>0.0</td>\n",
              "      <td>0.0</td>\n",
              "      <td>0.0</td>\n",
              "      <td>0.0</td>\n",
              "      <td>1.0</td>\n",
              "    </tr>\n",
              "    <tr>\n",
              "      <th>...</th>\n",
              "      <td>...</td>\n",
              "      <td>...</td>\n",
              "      <td>...</td>\n",
              "      <td>...</td>\n",
              "      <td>...</td>\n",
              "      <td>...</td>\n",
              "      <td>...</td>\n",
              "      <td>...</td>\n",
              "      <td>...</td>\n",
              "      <td>...</td>\n",
              "      <td>...</td>\n",
              "      <td>...</td>\n",
              "      <td>...</td>\n",
              "      <td>...</td>\n",
              "      <td>...</td>\n",
              "      <td>...</td>\n",
              "      <td>...</td>\n",
              "      <td>...</td>\n",
              "      <td>...</td>\n",
              "      <td>...</td>\n",
              "      <td>...</td>\n",
              "    </tr>\n",
              "    <tr>\n",
              "      <th>300148</th>\n",
              "      <td>0.194225</td>\n",
              "      <td>1.0</td>\n",
              "      <td>0.515571</td>\n",
              "      <td>0.0</td>\n",
              "      <td>1.0</td>\n",
              "      <td>0.0</td>\n",
              "      <td>0.0</td>\n",
              "      <td>0.0</td>\n",
              "      <td>0.0</td>\n",
              "      <td>0.0</td>\n",
              "      <td>...</td>\n",
              "      <td>1.0</td>\n",
              "      <td>0.0</td>\n",
              "      <td>0.0</td>\n",
              "      <td>0.0</td>\n",
              "      <td>0.0</td>\n",
              "      <td>0.0</td>\n",
              "      <td>0.0</td>\n",
              "      <td>1.0</td>\n",
              "      <td>0.0</td>\n",
              "      <td>0.0</td>\n",
              "    </tr>\n",
              "    <tr>\n",
              "      <th>300149</th>\n",
              "      <td>0.201497</td>\n",
              "      <td>1.0</td>\n",
              "      <td>0.586157</td>\n",
              "      <td>0.0</td>\n",
              "      <td>1.0</td>\n",
              "      <td>0.0</td>\n",
              "      <td>0.0</td>\n",
              "      <td>0.0</td>\n",
              "      <td>0.0</td>\n",
              "      <td>0.0</td>\n",
              "      <td>...</td>\n",
              "      <td>0.0</td>\n",
              "      <td>0.0</td>\n",
              "      <td>0.0</td>\n",
              "      <td>1.0</td>\n",
              "      <td>0.0</td>\n",
              "      <td>0.0</td>\n",
              "      <td>0.0</td>\n",
              "      <td>1.0</td>\n",
              "      <td>0.0</td>\n",
              "      <td>0.0</td>\n",
              "    </tr>\n",
              "    <tr>\n",
              "      <th>300150</th>\n",
              "      <td>0.274439</td>\n",
              "      <td>1.0</td>\n",
              "      <td>0.604109</td>\n",
              "      <td>0.0</td>\n",
              "      <td>1.0</td>\n",
              "      <td>0.0</td>\n",
              "      <td>0.0</td>\n",
              "      <td>0.0</td>\n",
              "      <td>0.0</td>\n",
              "      <td>0.0</td>\n",
              "      <td>...</td>\n",
              "      <td>0.0</td>\n",
              "      <td>0.0</td>\n",
              "      <td>0.0</td>\n",
              "      <td>1.0</td>\n",
              "      <td>0.0</td>\n",
              "      <td>0.0</td>\n",
              "      <td>0.0</td>\n",
              "      <td>1.0</td>\n",
              "      <td>0.0</td>\n",
              "      <td>0.0</td>\n",
              "    </tr>\n",
              "    <tr>\n",
              "      <th>300151</th>\n",
              "      <td>0.192513</td>\n",
              "      <td>1.0</td>\n",
              "      <td>0.626491</td>\n",
              "      <td>0.0</td>\n",
              "      <td>1.0</td>\n",
              "      <td>0.0</td>\n",
              "      <td>0.0</td>\n",
              "      <td>0.0</td>\n",
              "      <td>0.0</td>\n",
              "      <td>0.0</td>\n",
              "      <td>...</td>\n",
              "      <td>1.0</td>\n",
              "      <td>0.0</td>\n",
              "      <td>0.0</td>\n",
              "      <td>0.0</td>\n",
              "      <td>0.0</td>\n",
              "      <td>0.0</td>\n",
              "      <td>0.0</td>\n",
              "      <td>1.0</td>\n",
              "      <td>0.0</td>\n",
              "      <td>0.0</td>\n",
              "    </tr>\n",
              "    <tr>\n",
              "      <th>300152</th>\n",
              "      <td>0.194225</td>\n",
              "      <td>1.0</td>\n",
              "      <td>0.626491</td>\n",
              "      <td>0.0</td>\n",
              "      <td>1.0</td>\n",
              "      <td>0.0</td>\n",
              "      <td>0.0</td>\n",
              "      <td>0.0</td>\n",
              "      <td>0.0</td>\n",
              "      <td>0.0</td>\n",
              "      <td>...</td>\n",
              "      <td>1.0</td>\n",
              "      <td>0.0</td>\n",
              "      <td>0.0</td>\n",
              "      <td>0.0</td>\n",
              "      <td>0.0</td>\n",
              "      <td>0.0</td>\n",
              "      <td>0.0</td>\n",
              "      <td>1.0</td>\n",
              "      <td>0.0</td>\n",
              "      <td>0.0</td>\n",
              "    </tr>\n",
              "  </tbody>\n",
              "</table>\n",
              "<p>93487 rows × 327 columns</p>\n",
              "</div>\n",
              "      <button class=\"colab-df-convert\" onclick=\"convertToInteractive('df-0f4df6fa-413d-480e-8490-bfc8db3dba95')\"\n",
              "              title=\"Convert this dataframe to an interactive table.\"\n",
              "              style=\"display:none;\">\n",
              "        \n",
              "  <svg xmlns=\"http://www.w3.org/2000/svg\" height=\"24px\"viewBox=\"0 0 24 24\"\n",
              "       width=\"24px\">\n",
              "    <path d=\"M0 0h24v24H0V0z\" fill=\"none\"/>\n",
              "    <path d=\"M18.56 5.44l.94 2.06.94-2.06 2.06-.94-2.06-.94-.94-2.06-.94 2.06-2.06.94zm-11 1L8.5 8.5l.94-2.06 2.06-.94-2.06-.94L8.5 2.5l-.94 2.06-2.06.94zm10 10l.94 2.06.94-2.06 2.06-.94-2.06-.94-.94-2.06-.94 2.06-2.06.94z\"/><path d=\"M17.41 7.96l-1.37-1.37c-.4-.4-.92-.59-1.43-.59-.52 0-1.04.2-1.43.59L10.3 9.45l-7.72 7.72c-.78.78-.78 2.05 0 2.83L4 21.41c.39.39.9.59 1.41.59.51 0 1.02-.2 1.41-.59l7.78-7.78 2.81-2.81c.8-.78.8-2.07 0-2.86zM5.41 20L4 18.59l7.72-7.72 1.47 1.35L5.41 20z\"/>\n",
              "  </svg>\n",
              "      </button>\n",
              "      \n",
              "  <style>\n",
              "    .colab-df-container {\n",
              "      display:flex;\n",
              "      flex-wrap:wrap;\n",
              "      gap: 12px;\n",
              "    }\n",
              "\n",
              "    .colab-df-convert {\n",
              "      background-color: #E8F0FE;\n",
              "      border: none;\n",
              "      border-radius: 50%;\n",
              "      cursor: pointer;\n",
              "      display: none;\n",
              "      fill: #1967D2;\n",
              "      height: 32px;\n",
              "      padding: 0 0 0 0;\n",
              "      width: 32px;\n",
              "    }\n",
              "\n",
              "    .colab-df-convert:hover {\n",
              "      background-color: #E2EBFA;\n",
              "      box-shadow: 0px 1px 2px rgba(60, 64, 67, 0.3), 0px 1px 3px 1px rgba(60, 64, 67, 0.15);\n",
              "      fill: #174EA6;\n",
              "    }\n",
              "\n",
              "    [theme=dark] .colab-df-convert {\n",
              "      background-color: #3B4455;\n",
              "      fill: #D2E3FC;\n",
              "    }\n",
              "\n",
              "    [theme=dark] .colab-df-convert:hover {\n",
              "      background-color: #434B5C;\n",
              "      box-shadow: 0px 1px 3px 1px rgba(0, 0, 0, 0.15);\n",
              "      filter: drop-shadow(0px 1px 2px rgba(0, 0, 0, 0.3));\n",
              "      fill: #FFFFFF;\n",
              "    }\n",
              "  </style>\n",
              "\n",
              "      <script>\n",
              "        const buttonEl =\n",
              "          document.querySelector('#df-0f4df6fa-413d-480e-8490-bfc8db3dba95 button.colab-df-convert');\n",
              "        buttonEl.style.display =\n",
              "          google.colab.kernel.accessAllowed ? 'block' : 'none';\n",
              "\n",
              "        async function convertToInteractive(key) {\n",
              "          const element = document.querySelector('#df-0f4df6fa-413d-480e-8490-bfc8db3dba95');\n",
              "          const dataTable =\n",
              "            await google.colab.kernel.invokeFunction('convertToInteractive',\n",
              "                                                     [key], {});\n",
              "          if (!dataTable) return;\n",
              "\n",
              "          const docLinkHtml = 'Like what you see? Visit the ' +\n",
              "            '<a target=\"_blank\" href=https://colab.research.google.com/notebooks/data_table.ipynb>data table notebook</a>'\n",
              "            + ' to learn more about interactive tables.';\n",
              "          element.innerHTML = '';\n",
              "          dataTable['output_type'] = 'display_data';\n",
              "          await google.colab.output.renderOutput(dataTable, element);\n",
              "          const docLink = document.createElement('div');\n",
              "          docLink.innerHTML = docLinkHtml;\n",
              "          element.appendChild(docLink);\n",
              "        }\n",
              "      </script>\n",
              "    </div>\n",
              "  </div>\n",
              "  "
            ]
          },
          "metadata": {},
          "execution_count": 21
        }
      ]
    },
    {
      "cell_type": "code",
      "source": [
        "# Rozdeleni na train a test\n",
        "from sklearn.model_selection import train_test_split\n",
        "X = np.array(transformed.loc[:, transformed.columns != \"price\"])\n",
        "y = np.array(transformed[\"price\"])\n",
        "\n",
        "X_train, X_test, y_train, y_test = train_test_split(X, y, test_size = 0.2,\n",
        "                                                    random_state = 1)"
      ],
      "metadata": {
        "id": "EvKvck0ZeGDW"
      },
      "execution_count": 22,
      "outputs": []
    },
    {
      "cell_type": "code",
      "source": [
        "X_train"
      ],
      "metadata": {
        "colab": {
          "base_uri": "https://localhost:8080/"
        },
        "id": "LmsmfAEeev9U",
        "outputId": "9f914bc7-94c4-4df3-86bc-149cbd80fb96"
      },
      "execution_count": 23,
      "outputs": [
        {
          "output_type": "execute_result",
          "data": {
            "text/plain": [
              "array([[19.75, 19.  ,  1.  , ...,  0.  ,  1.  ,  0.  ],\n",
              "       [12.17,  5.  ,  1.  , ...,  0.  ,  0.  ,  0.  ],\n",
              "       [22.08, 10.  ,  0.  , ...,  0.  ,  0.  ,  0.  ],\n",
              "       ...,\n",
              "       [14.92, 14.  ,  0.  , ...,  1.  ,  0.  ,  0.  ],\n",
              "       [24.33, 48.  ,  1.  , ...,  0.  ,  0.  ,  1.  ],\n",
              "       [26.17, 30.  ,  0.  , ...,  0.  ,  1.  ,  0.  ]])"
            ]
          },
          "metadata": {},
          "execution_count": 23
        }
      ]
    },
    {
      "cell_type": "code",
      "source": [
        "X_train.shape"
      ],
      "metadata": {
        "colab": {
          "base_uri": "https://localhost:8080/"
        },
        "id": "CnBgtRN6nk9P",
        "outputId": "9d0860e4-2684-4948-a818-e6a6eb154160"
      },
      "execution_count": 27,
      "outputs": [
        {
          "output_type": "execute_result",
          "data": {
            "text/plain": [
              "(74789, 326)"
            ]
          },
          "metadata": {},
          "execution_count": 27
        }
      ]
    },
    {
      "cell_type": "code",
      "source": [
        "y_train"
      ],
      "metadata": {
        "colab": {
          "base_uri": "https://localhost:8080/"
        },
        "id": "vcIyCSN7e_ME",
        "outputId": "2e618647-c079-44fd-d018-21dc844352ac"
      },
      "execution_count": 24,
      "outputs": [
        {
          "output_type": "execute_result",
          "data": {
            "text/plain": [
              "array([57405, 43729, 57992, ..., 56588, 59033, 58394])"
            ]
          },
          "metadata": {},
          "execution_count": 24
        }
      ]
    },
    {
      "cell_type": "markdown",
      "source": [
        "Definice ztratove funkce. Vybral jsem si MAPE, primarne pro jeji snadnou interpretovatelnost."
      ],
      "metadata": {
        "id": "WRhOn6J6tbiB"
      }
    },
    {
      "cell_type": "code",
      "source": [
        "def mape(y, yhat):\n",
        "    return np.mean([np.abs(i-j)/j for i,j in zip(yhat, y)])"
      ],
      "metadata": {
        "id": "-2fijNoYfDtv"
      },
      "execution_count": 25,
      "outputs": []
    },
    {
      "cell_type": "markdown",
      "source": [
        "## Referencni jednoducha linearni regrese"
      ],
      "metadata": {
        "id": "lQwh1-zQfWqA"
      }
    },
    {
      "cell_type": "code",
      "source": [
        "from sklearn.linear_model import LinearRegression"
      ],
      "metadata": {
        "id": "I4wLqUw9faBR"
      },
      "execution_count": 26,
      "outputs": []
    },
    {
      "cell_type": "code",
      "source": [
        "linear_regression = LinearRegression()\n",
        "linear_regression.fit(X_train, y_train)"
      ],
      "metadata": {
        "colab": {
          "base_uri": "https://localhost:8080/",
          "height": 75
        },
        "id": "30sckfiAfqk5",
        "outputId": "0007420e-aad6-4264-a7a7-5109243b7c7f"
      },
      "execution_count": 27,
      "outputs": [
        {
          "output_type": "execute_result",
          "data": {
            "text/plain": [
              "LinearRegression()"
            ],
            "text/html": [
              "<style>#sk-container-id-1 {color: black;background-color: white;}#sk-container-id-1 pre{padding: 0;}#sk-container-id-1 div.sk-toggleable {background-color: white;}#sk-container-id-1 label.sk-toggleable__label {cursor: pointer;display: block;width: 100%;margin-bottom: 0;padding: 0.3em;box-sizing: border-box;text-align: center;}#sk-container-id-1 label.sk-toggleable__label-arrow:before {content: \"▸\";float: left;margin-right: 0.25em;color: #696969;}#sk-container-id-1 label.sk-toggleable__label-arrow:hover:before {color: black;}#sk-container-id-1 div.sk-estimator:hover label.sk-toggleable__label-arrow:before {color: black;}#sk-container-id-1 div.sk-toggleable__content {max-height: 0;max-width: 0;overflow: hidden;text-align: left;background-color: #f0f8ff;}#sk-container-id-1 div.sk-toggleable__content pre {margin: 0.2em;color: black;border-radius: 0.25em;background-color: #f0f8ff;}#sk-container-id-1 input.sk-toggleable__control:checked~div.sk-toggleable__content {max-height: 200px;max-width: 100%;overflow: auto;}#sk-container-id-1 input.sk-toggleable__control:checked~label.sk-toggleable__label-arrow:before {content: \"▾\";}#sk-container-id-1 div.sk-estimator input.sk-toggleable__control:checked~label.sk-toggleable__label {background-color: #d4ebff;}#sk-container-id-1 div.sk-label input.sk-toggleable__control:checked~label.sk-toggleable__label {background-color: #d4ebff;}#sk-container-id-1 input.sk-hidden--visually {border: 0;clip: rect(1px 1px 1px 1px);clip: rect(1px, 1px, 1px, 1px);height: 1px;margin: -1px;overflow: hidden;padding: 0;position: absolute;width: 1px;}#sk-container-id-1 div.sk-estimator {font-family: monospace;background-color: #f0f8ff;border: 1px dotted black;border-radius: 0.25em;box-sizing: border-box;margin-bottom: 0.5em;}#sk-container-id-1 div.sk-estimator:hover {background-color: #d4ebff;}#sk-container-id-1 div.sk-parallel-item::after {content: \"\";width: 100%;border-bottom: 1px solid gray;flex-grow: 1;}#sk-container-id-1 div.sk-label:hover label.sk-toggleable__label {background-color: #d4ebff;}#sk-container-id-1 div.sk-serial::before {content: \"\";position: absolute;border-left: 1px solid gray;box-sizing: border-box;top: 0;bottom: 0;left: 50%;z-index: 0;}#sk-container-id-1 div.sk-serial {display: flex;flex-direction: column;align-items: center;background-color: white;padding-right: 0.2em;padding-left: 0.2em;position: relative;}#sk-container-id-1 div.sk-item {position: relative;z-index: 1;}#sk-container-id-1 div.sk-parallel {display: flex;align-items: stretch;justify-content: center;background-color: white;position: relative;}#sk-container-id-1 div.sk-item::before, #sk-container-id-1 div.sk-parallel-item::before {content: \"\";position: absolute;border-left: 1px solid gray;box-sizing: border-box;top: 0;bottom: 0;left: 50%;z-index: -1;}#sk-container-id-1 div.sk-parallel-item {display: flex;flex-direction: column;z-index: 1;position: relative;background-color: white;}#sk-container-id-1 div.sk-parallel-item:first-child::after {align-self: flex-end;width: 50%;}#sk-container-id-1 div.sk-parallel-item:last-child::after {align-self: flex-start;width: 50%;}#sk-container-id-1 div.sk-parallel-item:only-child::after {width: 0;}#sk-container-id-1 div.sk-dashed-wrapped {border: 1px dashed gray;margin: 0 0.4em 0.5em 0.4em;box-sizing: border-box;padding-bottom: 0.4em;background-color: white;}#sk-container-id-1 div.sk-label label {font-family: monospace;font-weight: bold;display: inline-block;line-height: 1.2em;}#sk-container-id-1 div.sk-label-container {text-align: center;}#sk-container-id-1 div.sk-container {/* jupyter's `normalize.less` sets `[hidden] { display: none; }` but bootstrap.min.css set `[hidden] { display: none !important; }` so we also need the `!important` here to be able to override the default hidden behavior on the sphinx rendered scikit-learn.org. See: https://github.com/scikit-learn/scikit-learn/issues/21755 */display: inline-block !important;position: relative;}#sk-container-id-1 div.sk-text-repr-fallback {display: none;}</style><div id=\"sk-container-id-1\" class=\"sk-top-container\"><div class=\"sk-text-repr-fallback\"><pre>LinearRegression()</pre><b>In a Jupyter environment, please rerun this cell to show the HTML representation or trust the notebook. <br />On GitHub, the HTML representation is unable to render, please try loading this page with nbviewer.org.</b></div><div class=\"sk-container\" hidden><div class=\"sk-item\"><div class=\"sk-estimator sk-toggleable\"><input class=\"sk-toggleable__control sk-hidden--visually\" id=\"sk-estimator-id-1\" type=\"checkbox\" checked><label for=\"sk-estimator-id-1\" class=\"sk-toggleable__label sk-toggleable__label-arrow\">LinearRegression</label><div class=\"sk-toggleable__content\"><pre>LinearRegression()</pre></div></div></div></div></div>"
            ]
          },
          "metadata": {},
          "execution_count": 27
        }
      ]
    },
    {
      "cell_type": "code",
      "source": [
        "linear_regression.score(X_test, y_test) # out of sample index determinace"
      ],
      "metadata": {
        "colab": {
          "base_uri": "https://localhost:8080/"
        },
        "id": "990vsi36f2Ld",
        "outputId": "41ce6d75-94b6-4941-fb66-6c514fc61904"
      },
      "execution_count": 28,
      "outputs": [
        {
          "output_type": "execute_result",
          "data": {
            "text/plain": [
              "-330096676127365.44"
            ]
          },
          "metadata": {},
          "execution_count": 28
        }
      ]
    },
    {
      "cell_type": "code",
      "source": [
        "yhat = linear_regression.predict(X_test)"
      ],
      "metadata": {
        "id": "ykNYlN1Pf6BH"
      },
      "execution_count": 29,
      "outputs": []
    },
    {
      "cell_type": "code",
      "source": [
        "# mape\n",
        "mape(y_test, yhat)"
      ],
      "metadata": {
        "colab": {
          "base_uri": "https://localhost:8080/"
        },
        "id": "aT1Wr1hegKXT",
        "outputId": "7cbf96c4-3aba-4128-b950-901556289f4c"
      },
      "execution_count": 30,
      "outputs": [
        {
          "output_type": "execute_result",
          "data": {
            "text/plain": [
              "58122.98456233965"
            ]
          },
          "metadata": {},
          "execution_count": 30
        }
      ]
    },
    {
      "cell_type": "markdown",
      "source": [
        "Dle ocekavani mela uplne nejjednodussi linearni regrese priserne vysledky :D"
      ],
      "metadata": {
        "id": "_XEcvwAbtliz"
      }
    },
    {
      "cell_type": "markdown",
      "source": [
        "## Elastic net regrese\n",
        "Elastic net jsem se rozhodl pouzit jelikoz data neznam tak dobre, abych mohl urcit, zda je lepsi L1 nebo L2 regularizace. Jelikoz je vysoky pocet promennych, ocekavam multikolinearitu."
      ],
      "metadata": {
        "id": "MnYslatpdQ-M"
      }
    },
    {
      "cell_type": "code",
      "source": [
        "from sklearn.linear_model import ElasticNet"
      ],
      "metadata": {
        "id": "AGmP3BZwgwfW"
      },
      "execution_count": 31,
      "outputs": []
    },
    {
      "cell_type": "code",
      "source": [
        "# zakladni model\n",
        "el = ElasticNet(alpha=1.0, l1_ratio=0.5)\n",
        "\n",
        "el.fit(X_train, y_train)\n",
        "\n",
        "mape(y_test, el.predict(X_test))"
      ],
      "metadata": {
        "colab": {
          "base_uri": "https://localhost:8080/"
        },
        "id": "-EiwURiyek5p",
        "outputId": "1f1f8722-2a79-42c0-c24f-a725e9a83d21"
      },
      "execution_count": 32,
      "outputs": [
        {
          "output_type": "execute_result",
          "data": {
            "text/plain": [
              "0.19153055967999336"
            ]
          },
          "metadata": {},
          "execution_count": 32
        }
      ]
    },
    {
      "cell_type": "markdown",
      "source": [
        "Uz tenhle vysledek je za me velmi dobry. Prumerna out-of-sample absolutni chyba pod 20% je slusna :D"
      ],
      "metadata": {
        "id": "deCO7yuAttyd"
      }
    },
    {
      "cell_type": "code",
      "source": [
        "# hledani optimalni lambdy/alphy\n",
        "lambdas = list()\n",
        "for i in range(1000, 10_000, 100):\n",
        "    res = ElasticNet(alpha = i/10_000 , l1_ratio=0.95) # 0.95 doplneno zpetne\n",
        "    res.fit(X_train, y_train)\n",
        "    lambdas.append(mape(y_train, res.predict(X_train))) # insample mape"
      ],
      "metadata": {
        "id": "Do5efVAufePF"
      },
      "execution_count": 33,
      "outputs": []
    },
    {
      "cell_type": "code",
      "source": [
        "# hledani optimalniho parametru pro volbu L1/L2 regularizace\n",
        "l1_wts = list()\n",
        "for i in range(1000, 10_000, 100):\n",
        "    res = ElasticNet(alpha = 0.1, l1_ratio = i/10000)\n",
        "    res.fit(X_train, y_train)\n",
        "    l1_wts.append(mape(y_train, res.predict(X_train)))"
      ],
      "metadata": {
        "id": "euDSjMvFfluy"
      },
      "execution_count": 34,
      "outputs": []
    },
    {
      "cell_type": "code",
      "source": [
        "import matplotlib.pyplot as plt"
      ],
      "metadata": {
        "id": "-722m88LfHSl"
      },
      "execution_count": 35,
      "outputs": []
    },
    {
      "cell_type": "code",
      "source": [
        "plt.plot(range(90), lambdas)\n",
        "# zda se ze lambda bude velmi mala, asi 0,1"
      ],
      "metadata": {
        "colab": {
          "base_uri": "https://localhost:8080/",
          "height": 447
        },
        "id": "GthdNJ5ffN2e",
        "outputId": "e194a402-9720-4cfa-9692-2f57c206f18d"
      },
      "execution_count": 36,
      "outputs": [
        {
          "output_type": "execute_result",
          "data": {
            "text/plain": [
              "[<matplotlib.lines.Line2D at 0x7fb3a0b43820>]"
            ]
          },
          "metadata": {},
          "execution_count": 36
        },
        {
          "output_type": "display_data",
          "data": {
            "text/plain": [
              "<Figure size 640x480 with 1 Axes>"
            ],
            "image/png": "[encoded data removed]"
          },
          "metadata": {}
        }
      ]
    },
    {
      "cell_type": "code",
      "source": [
        "plt.plot(range(90), l1_wts)\n",
        "# zda se ze vhodnejsi je lasso regrese (vyssi hodnota lambda)"
      ],
      "metadata": {
        "colab": {
          "base_uri": "https://localhost:8080/",
          "height": 447
        },
        "id": "NAOr7p7DinBw",
        "outputId": "6a59faa3-2f73-4f1d-a00d-a74c406f0e78"
      },
      "execution_count": 37,
      "outputs": [
        {
          "output_type": "execute_result",
          "data": {
            "text/plain": [
              "[<matplotlib.lines.Line2D at 0x7fb3a099c4c0>]"
            ]
          },
          "metadata": {},
          "execution_count": 37
        },
        {
          "output_type": "display_data",
          "data": {
            "text/plain": [
              "<Figure size 640x480 with 1 Axes>"
            ],
            "image/png": "[encoded data removed]"
          },
          "metadata": {}
        }
      ]
    },
    {
      "cell_type": "markdown",
      "source": [
        "Nakonec se jako vhodny model jevi linearni regrese s L1 regularizaci (Lasso), ktera je schopna vynechavat nektere parametry. Hodnota alpha/lambda vychazi optimalne jako pomerne nizka, tedy nedochazi k tak velke penalizaci. MAPE vychazi ~11%, coz je podle me velmi dobre"
      ],
      "metadata": {
        "id": "RwD7BfNwv-oQ"
      }
    },
    {
      "cell_type": "code",
      "source": [
        "el = ElasticNet(alpha=0.1, l1_ratio=0.95)\n",
        "\n",
        "el.fit(X_train, y_train)\n",
        "\n",
        "mape(y_test, el.predict(X_test))"
      ],
      "metadata": {
        "colab": {
          "base_uri": "https://localhost:8080/"
        },
        "id": "tRjFWWL3jJ7a",
        "outputId": "b1f69a64-debc-4977-b445-496154d3d4fa"
      },
      "execution_count": 38,
      "outputs": [
        {
          "output_type": "execute_result",
          "data": {
            "text/plain": [
              "0.1133152803325097"
            ]
          },
          "metadata": {},
          "execution_count": 38
        }
      ]
    },
    {
      "cell_type": "markdown",
      "source": [
        "## Rozhodovaci stromy"
      ],
      "metadata": {
        "id": "1ZTW4zO0ObYT"
      }
    },
    {
      "cell_type": "markdown",
      "source": [
        "### Zakladni regresni strom\n",
        "Pouzit Randomized Search (podobny jako grid, ale netestuje vsechny kombinace, jen nahodny vyber)"
      ],
      "metadata": {
        "id": "sjPfZqCJWskM"
      }
    },
    {
      "cell_type": "code",
      "source": [
        "from sklearn.tree import DecisionTreeRegressor"
      ],
      "metadata": {
        "id": "1wgOWohRpuuR"
      },
      "execution_count": 39,
      "outputs": []
    },
    {
      "cell_type": "code",
      "source": [
        "dtr = DecisionTreeRegressor()"
      ],
      "metadata": {
        "id": "Yi2q6CMLOipR"
      },
      "execution_count": 40,
      "outputs": []
    },
    {
      "cell_type": "code",
      "source": [
        "random_grid = {\n",
        "    \"ccp_alpha\": np.linspace(0.0001, 0.1, 10), # 10 ruznych ccp\n",
        "    \"criterion\": [\"squared_error\", \"friedman_mse\", \"absolute_error\", \"poisson\"],\n",
        "    \"min_samples_leaf\": [1, 2, 5, 10]\n",
        "}"
      ],
      "metadata": {
        "id": "0Z4AdJvKOmjG"
      },
      "execution_count": 41,
      "outputs": []
    },
    {
      "cell_type": "code",
      "source": [
        "from sklearn.model_selection import RandomizedSearchCV"
      ],
      "metadata": {
        "id": "dSlfUTRbOol2"
      },
      "execution_count": 42,
      "outputs": []
    },
    {
      "cell_type": "code",
      "source": [
        "randomizerCV = RandomizedSearchCV(estimator = dtr,\n",
        "                                  param_distributions = random_grid,\n",
        "                                  n_iter = 3,\n",
        "                                  cv=2, verbose=2,\n",
        "                                  random_state = 1)"
      ],
      "metadata": {
        "id": "9RBGVEX6OvYl"
      },
      "execution_count": 43,
      "outputs": []
    },
    {
      "cell_type": "code",
      "source": [
        "randomizerCV.fit(X_train, y_train)"
      ],
      "metadata": {
        "colab": {
          "base_uri": "https://localhost:8080/",
          "height": 239
        },
        "id": "WJiYbOevOxDK",
        "outputId": "0282f83f-f624-4edc-ccef-3515a7e53d5b"
      },
      "execution_count": 44,
      "outputs": [
        {
          "output_type": "stream",
          "name": "stdout",
          "text": [
            "Fitting 2 folds for each of 3 candidates, totalling 6 fits\n",
            "[CV] END ccp_alpha=0.0112, criterion=poisson, min_samples_leaf=2; total time=   1.4s\n",
            "[CV] END ccp_alpha=0.0112, criterion=poisson, min_samples_leaf=2; total time=   1.4s\n",
            "[CV] END ccp_alpha=0.0223, criterion=absolute_error, min_samples_leaf=5; total time= 6.7min\n",
            "[CV] END ccp_alpha=0.0223, criterion=absolute_error, min_samples_leaf=5; total time= 6.5min\n",
            "[CV] END ccp_alpha=0.0001, criterion=poisson, min_samples_leaf=5; total time=   0.8s\n",
            "[CV] END ccp_alpha=0.0001, criterion=poisson, min_samples_leaf=5; total time=   0.8s\n"
          ]
        },
        {
          "output_type": "execute_result",
          "data": {
            "text/plain": [
              "RandomizedSearchCV(cv=2, estimator=DecisionTreeRegressor(), n_iter=3,\n",
              "                   param_distributions={'ccp_alpha': array([0.0001, 0.0112, 0.0223, 0.0334, 0.0445, 0.0556, 0.0667, 0.0778,\n",
              "       0.0889, 0.1   ]),\n",
              "                                        'criterion': ['squared_error',\n",
              "                                                      'friedman_mse',\n",
              "                                                      'absolute_error',\n",
              "                                                      'poisson'],\n",
              "                                        'min_samples_leaf': [1, 2, 5, 10]},\n",
              "                   random_state=1, verbose=2)"
            ],
            "text/html": [
              "<style>#sk-container-id-2 {color: black;background-color: white;}#sk-container-id-2 pre{padding: 0;}#sk-container-id-2 div.sk-toggleable {background-color: white;}#sk-container-id-2 label.sk-toggleable__label {cursor: pointer;display: block;width: 100%;margin-bottom: 0;padding: 0.3em;box-sizing: border-box;text-align: center;}#sk-container-id-2 label.sk-toggleable__label-arrow:before {content: \"▸\";float: left;margin-right: 0.25em;color: #696969;}#sk-container-id-2 label.sk-toggleable__label-arrow:hover:before {color: black;}#sk-container-id-2 div.sk-estimator:hover label.sk-toggleable__label-arrow:before {color: black;}#sk-container-id-2 div.sk-toggleable__content {max-height: 0;max-width: 0;overflow: hidden;text-align: left;background-color: #f0f8ff;}#sk-container-id-2 div.sk-toggleable__content pre {margin: 0.2em;color: black;border-radius: 0.25em;background-color: #f0f8ff;}#sk-container-id-2 input.sk-toggleable__control:checked~div.sk-toggleable__content {max-height: 200px;max-width: 100%;overflow: auto;}#sk-container-id-2 input.sk-toggleable__control:checked~label.sk-toggleable__label-arrow:before {content: \"▾\";}#sk-container-id-2 div.sk-estimator input.sk-toggleable__control:checked~label.sk-toggleable__label {background-color: #d4ebff;}#sk-container-id-2 div.sk-label input.sk-toggleable__control:checked~label.sk-toggleable__label {background-color: #d4ebff;}#sk-container-id-2 input.sk-hidden--visually {border: 0;clip: rect(1px 1px 1px 1px);clip: rect(1px, 1px, 1px, 1px);height: 1px;margin: -1px;overflow: hidden;padding: 0;position: absolute;width: 1px;}#sk-container-id-2 div.sk-estimator {font-family: monospace;background-color: #f0f8ff;border: 1px dotted black;border-radius: 0.25em;box-sizing: border-box;margin-bottom: 0.5em;}#sk-container-id-2 div.sk-estimator:hover {background-color: #d4ebff;}#sk-container-id-2 div.sk-parallel-item::after {content: \"\";width: 100%;border-bottom: 1px solid gray;flex-grow: 1;}#sk-container-id-2 div.sk-label:hover label.sk-toggleable__label {background-color: #d4ebff;}#sk-container-id-2 div.sk-serial::before {content: \"\";position: absolute;border-left: 1px solid gray;box-sizing: border-box;top: 0;bottom: 0;left: 50%;z-index: 0;}#sk-container-id-2 div.sk-serial {display: flex;flex-direction: column;align-items: center;background-color: white;padding-right: 0.2em;padding-left: 0.2em;position: relative;}#sk-container-id-2 div.sk-item {position: relative;z-index: 1;}#sk-container-id-2 div.sk-parallel {display: flex;align-items: stretch;justify-content: center;background-color: white;position: relative;}#sk-container-id-2 div.sk-item::before, #sk-container-id-2 div.sk-parallel-item::before {content: \"\";position: absolute;border-left: 1px solid gray;box-sizing: border-box;top: 0;bottom: 0;left: 50%;z-index: -1;}#sk-container-id-2 div.sk-parallel-item {display: flex;flex-direction: column;z-index: 1;position: relative;background-color: white;}#sk-container-id-2 div.sk-parallel-item:first-child::after {align-self: flex-end;width: 50%;}#sk-container-id-2 div.sk-parallel-item:last-child::after {align-self: flex-start;width: 50%;}#sk-container-id-2 div.sk-parallel-item:only-child::after {width: 0;}#sk-container-id-2 div.sk-dashed-wrapped {border: 1px dashed gray;margin: 0 0.4em 0.5em 0.4em;box-sizing: border-box;padding-bottom: 0.4em;background-color: white;}#sk-container-id-2 div.sk-label label {font-family: monospace;font-weight: bold;display: inline-block;line-height: 1.2em;}#sk-container-id-2 div.sk-label-container {text-align: center;}#sk-container-id-2 div.sk-container {/* jupyter's `normalize.less` sets `[hidden] { display: none; }` but bootstrap.min.css set `[hidden] { display: none !important; }` so we also need the `!important` here to be able to override the default hidden behavior on the sphinx rendered scikit-learn.org. See: https://github.com/scikit-learn/scikit-learn/issues/21755 */display: inline-block !important;position: relative;}#sk-container-id-2 div.sk-text-repr-fallback {display: none;}</style><div id=\"sk-container-id-2\" class=\"sk-top-container\"><div class=\"sk-text-repr-fallback\"><pre>RandomizedSearchCV(cv=2, estimator=DecisionTreeRegressor(), n_iter=3,\n",
              "                   param_distributions={&#x27;ccp_alpha&#x27;: array([0.0001, 0.0112, 0.0223, 0.0334, 0.0445, 0.0556, 0.0667, 0.0778,\n",
              "       0.0889, 0.1   ]),\n",
              "                                        &#x27;criterion&#x27;: [&#x27;squared_error&#x27;,\n",
              "                                                      &#x27;friedman_mse&#x27;,\n",
              "                                                      &#x27;absolute_error&#x27;,\n",
              "                                                      &#x27;poisson&#x27;],\n",
              "                                        &#x27;min_samples_leaf&#x27;: [1, 2, 5, 10]},\n",
              "                   random_state=1, verbose=2)</pre><b>In a Jupyter environment, please rerun this cell to show the HTML representation or trust the notebook. <br />On GitHub, the HTML representation is unable to render, please try loading this page with nbviewer.org.</b></div><div class=\"sk-container\" hidden><div class=\"sk-item sk-dashed-wrapped\"><div class=\"sk-label-container\"><div class=\"sk-label sk-toggleable\"><input class=\"sk-toggleable__control sk-hidden--visually\" id=\"sk-estimator-id-2\" type=\"checkbox\" ><label for=\"sk-estimator-id-2\" class=\"sk-toggleable__label sk-toggleable__label-arrow\">RandomizedSearchCV</label><div class=\"sk-toggleable__content\"><pre>RandomizedSearchCV(cv=2, estimator=DecisionTreeRegressor(), n_iter=3,\n",
              "                   param_distributions={&#x27;ccp_alpha&#x27;: array([0.0001, 0.0112, 0.0223, 0.0334, 0.0445, 0.0556, 0.0667, 0.0778,\n",
              "       0.0889, 0.1   ]),\n",
              "                                        &#x27;criterion&#x27;: [&#x27;squared_error&#x27;,\n",
              "                                                      &#x27;friedman_mse&#x27;,\n",
              "                                                      &#x27;absolute_error&#x27;,\n",
              "                                                      &#x27;poisson&#x27;],\n",
              "                                        &#x27;min_samples_leaf&#x27;: [1, 2, 5, 10]},\n",
              "                   random_state=1, verbose=2)</pre></div></div></div><div class=\"sk-parallel\"><div class=\"sk-parallel-item\"><div class=\"sk-item\"><div class=\"sk-label-container\"><div class=\"sk-label sk-toggleable\"><input class=\"sk-toggleable__control sk-hidden--visually\" id=\"sk-estimator-id-3\" type=\"checkbox\" ><label for=\"sk-estimator-id-3\" class=\"sk-toggleable__label sk-toggleable__label-arrow\">estimator: DecisionTreeRegressor</label><div class=\"sk-toggleable__content\"><pre>DecisionTreeRegressor()</pre></div></div></div><div class=\"sk-serial\"><div class=\"sk-item\"><div class=\"sk-estimator sk-toggleable\"><input class=\"sk-toggleable__control sk-hidden--visually\" id=\"sk-estimator-id-4\" type=\"checkbox\" ><label for=\"sk-estimator-id-4\" class=\"sk-toggleable__label sk-toggleable__label-arrow\">DecisionTreeRegressor</label><div class=\"sk-toggleable__content\"><pre>DecisionTreeRegressor()</pre></div></div></div></div></div></div></div></div></div></div>"
            ]
          },
          "metadata": {},
          "execution_count": 44
        }
      ]
    },
    {
      "cell_type": "code",
      "source": [
        "# nalezeni optimalnich parametru pro nas strom\n",
        "randomizerCV.best_params_"
      ],
      "metadata": {
        "colab": {
          "base_uri": "https://localhost:8080/"
        },
        "id": "5QsGb_XaOz3g",
        "outputId": "a6f03ef5-924f-404d-d5f0-bea53e5ebff7"
      },
      "execution_count": 45,
      "outputs": [
        {
          "output_type": "execute_result",
          "data": {
            "text/plain": [
              "{'min_samples_leaf': 5, 'criterion': 'poisson', 'ccp_alpha': 0.0001}"
            ]
          },
          "metadata": {},
          "execution_count": 45
        }
      ]
    },
    {
      "cell_type": "code",
      "source": [
        "regression_tree = DecisionTreeRegressor(min_samples_leaf = 5,\n",
        "                                        criterion = 'poisson',\n",
        "                                        ccp_alpha = 0.1)"
      ],
      "metadata": {
        "id": "eA33fNnbO2tl"
      },
      "execution_count": 46,
      "outputs": []
    },
    {
      "cell_type": "code",
      "source": [
        "regression_tree.fit(X_train, y_train)"
      ],
      "metadata": {
        "colab": {
          "base_uri": "https://localhost:8080/",
          "height": 75
        },
        "id": "VozYg-PBVs36",
        "outputId": "793e8590-3bc0-4262-8a6c-202c47472bc1"
      },
      "execution_count": 47,
      "outputs": [
        {
          "output_type": "execute_result",
          "data": {
            "text/plain": [
              "DecisionTreeRegressor(ccp_alpha=0.1, criterion='poisson', min_samples_leaf=5)"
            ],
            "text/html": [
              "<style>#sk-container-id-3 {color: black;background-color: white;}#sk-container-id-3 pre{padding: 0;}#sk-container-id-3 div.sk-toggleable {background-color: white;}#sk-container-id-3 label.sk-toggleable__label {cursor: pointer;display: block;width: 100%;margin-bottom: 0;padding: 0.3em;box-sizing: border-box;text-align: center;}#sk-container-id-3 label.sk-toggleable__label-arrow:before {content: \"▸\";float: left;margin-right: 0.25em;color: #696969;}#sk-container-id-3 label.sk-toggleable__label-arrow:hover:before {color: black;}#sk-container-id-3 div.sk-estimator:hover label.sk-toggleable__label-arrow:before {color: black;}#sk-container-id-3 div.sk-toggleable__content {max-height: 0;max-width: 0;overflow: hidden;text-align: left;background-color: #f0f8ff;}#sk-container-id-3 div.sk-toggleable__content pre {margin: 0.2em;color: black;border-radius: 0.25em;background-color: #f0f8ff;}#sk-container-id-3 input.sk-toggleable__control:checked~div.sk-toggleable__content {max-height: 200px;max-width: 100%;overflow: auto;}#sk-container-id-3 input.sk-toggleable__control:checked~label.sk-toggleable__label-arrow:before {content: \"▾\";}#sk-container-id-3 div.sk-estimator input.sk-toggleable__control:checked~label.sk-toggleable__label {background-color: #d4ebff;}#sk-container-id-3 div.sk-label input.sk-toggleable__control:checked~label.sk-toggleable__label {background-color: #d4ebff;}#sk-container-id-3 input.sk-hidden--visually {border: 0;clip: rect(1px 1px 1px 1px);clip: rect(1px, 1px, 1px, 1px);height: 1px;margin: -1px;overflow: hidden;padding: 0;position: absolute;width: 1px;}#sk-container-id-3 div.sk-estimator {font-family: monospace;background-color: #f0f8ff;border: 1px dotted black;border-radius: 0.25em;box-sizing: border-box;margin-bottom: 0.5em;}#sk-container-id-3 div.sk-estimator:hover {background-color: #d4ebff;}#sk-container-id-3 div.sk-parallel-item::after {content: \"\";width: 100%;border-bottom: 1px solid gray;flex-grow: 1;}#sk-container-id-3 div.sk-label:hover label.sk-toggleable__label {background-color: #d4ebff;}#sk-container-id-3 div.sk-serial::before {content: \"\";position: absolute;border-left: 1px solid gray;box-sizing: border-box;top: 0;bottom: 0;left: 50%;z-index: 0;}#sk-container-id-3 div.sk-serial {display: flex;flex-direction: column;align-items: center;background-color: white;padding-right: 0.2em;padding-left: 0.2em;position: relative;}#sk-container-id-3 div.sk-item {position: relative;z-index: 1;}#sk-container-id-3 div.sk-parallel {display: flex;align-items: stretch;justify-content: center;background-color: white;position: relative;}#sk-container-id-3 div.sk-item::before, #sk-container-id-3 div.sk-parallel-item::before {content: \"\";position: absolute;border-left: 1px solid gray;box-sizing: border-box;top: 0;bottom: 0;left: 50%;z-index: -1;}#sk-container-id-3 div.sk-parallel-item {display: flex;flex-direction: column;z-index: 1;position: relative;background-color: white;}#sk-container-id-3 div.sk-parallel-item:first-child::after {align-self: flex-end;width: 50%;}#sk-container-id-3 div.sk-parallel-item:last-child::after {align-self: flex-start;width: 50%;}#sk-container-id-3 div.sk-parallel-item:only-child::after {width: 0;}#sk-container-id-3 div.sk-dashed-wrapped {border: 1px dashed gray;margin: 0 0.4em 0.5em 0.4em;box-sizing: border-box;padding-bottom: 0.4em;background-color: white;}#sk-container-id-3 div.sk-label label {font-family: monospace;font-weight: bold;display: inline-block;line-height: 1.2em;}#sk-container-id-3 div.sk-label-container {text-align: center;}#sk-container-id-3 div.sk-container {/* jupyter's `normalize.less` sets `[hidden] { display: none; }` but bootstrap.min.css set `[hidden] { display: none !important; }` so we also need the `!important` here to be able to override the default hidden behavior on the sphinx rendered scikit-learn.org. See: https://github.com/scikit-learn/scikit-learn/issues/21755 */display: inline-block !important;position: relative;}#sk-container-id-3 div.sk-text-repr-fallback {display: none;}</style><div id=\"sk-container-id-3\" class=\"sk-top-container\"><div class=\"sk-text-repr-fallback\"><pre>DecisionTreeRegressor(ccp_alpha=0.1, criterion=&#x27;poisson&#x27;, min_samples_leaf=5)</pre><b>In a Jupyter environment, please rerun this cell to show the HTML representation or trust the notebook. <br />On GitHub, the HTML representation is unable to render, please try loading this page with nbviewer.org.</b></div><div class=\"sk-container\" hidden><div class=\"sk-item\"><div class=\"sk-estimator sk-toggleable\"><input class=\"sk-toggleable__control sk-hidden--visually\" id=\"sk-estimator-id-5\" type=\"checkbox\" checked><label for=\"sk-estimator-id-5\" class=\"sk-toggleable__label sk-toggleable__label-arrow\">DecisionTreeRegressor</label><div class=\"sk-toggleable__content\"><pre>DecisionTreeRegressor(ccp_alpha=0.1, criterion=&#x27;poisson&#x27;, min_samples_leaf=5)</pre></div></div></div></div></div>"
            ]
          },
          "metadata": {},
          "execution_count": 47
        }
      ]
    },
    {
      "cell_type": "code",
      "source": [
        "# velmi nizka out-of-sample chyba\n",
        "mape(y_test, regression_tree.predict(X_test))"
      ],
      "metadata": {
        "colab": {
          "base_uri": "https://localhost:8080/"
        },
        "id": "0j9KHQeCV0Kk",
        "outputId": "7c50e2d1-eb65-4e20-ae08-bddfdac7c47b"
      },
      "execution_count": 48,
      "outputs": [
        {
          "output_type": "execute_result",
          "data": {
            "text/plain": [
              "0.0429253696015026"
            ]
          },
          "metadata": {},
          "execution_count": 48
        }
      ]
    },
    {
      "cell_type": "markdown",
      "source": [
        "### Bagging\n",
        "100 bootstrapovanych (nahodny vyber pozorovani s vracenim) regresnich stromu. Vysledna chyba vznikne zprumerovanim."
      ],
      "metadata": {
        "id": "FlOBEL9fWqaa"
      }
    },
    {
      "cell_type": "code",
      "source": [
        "from sklearn.ensemble import BaggingRegressor"
      ],
      "metadata": {
        "id": "FxhiHjvdWpOX"
      },
      "execution_count": 49,
      "outputs": []
    },
    {
      "cell_type": "code",
      "source": [
        "bagging = BaggingRegressor(n_estimators=100, random_state=1)"
      ],
      "metadata": {
        "id": "SjG9qUmBW0FF"
      },
      "execution_count": 50,
      "outputs": []
    },
    {
      "cell_type": "code",
      "source": [
        "bagging.fit(X_train, y_train)"
      ],
      "metadata": {
        "colab": {
          "base_uri": "https://localhost:8080/",
          "height": 75
        },
        "id": "7yevK7RqW-nu",
        "outputId": "673d6d38-aa15-4bca-f63f-632d883093ce"
      },
      "execution_count": 51,
      "outputs": [
        {
          "output_type": "execute_result",
          "data": {
            "text/plain": [
              "BaggingRegressor(n_estimators=100, random_state=1)"
            ],
            "text/html": [
              "<style>#sk-container-id-4 {color: black;background-color: white;}#sk-container-id-4 pre{padding: 0;}#sk-container-id-4 div.sk-toggleable {background-color: white;}#sk-container-id-4 label.sk-toggleable__label {cursor: pointer;display: block;width: 100%;margin-bottom: 0;padding: 0.3em;box-sizing: border-box;text-align: center;}#sk-container-id-4 label.sk-toggleable__label-arrow:before {content: \"▸\";float: left;margin-right: 0.25em;color: #696969;}#sk-container-id-4 label.sk-toggleable__label-arrow:hover:before {color: black;}#sk-container-id-4 div.sk-estimator:hover label.sk-toggleable__label-arrow:before {color: black;}#sk-container-id-4 div.sk-toggleable__content {max-height: 0;max-width: 0;overflow: hidden;text-align: left;background-color: #f0f8ff;}#sk-container-id-4 div.sk-toggleable__content pre {margin: 0.2em;color: black;border-radius: 0.25em;background-color: #f0f8ff;}#sk-container-id-4 input.sk-toggleable__control:checked~div.sk-toggleable__content {max-height: 200px;max-width: 100%;overflow: auto;}#sk-container-id-4 input.sk-toggleable__control:checked~label.sk-toggleable__label-arrow:before {content: \"▾\";}#sk-container-id-4 div.sk-estimator input.sk-toggleable__control:checked~label.sk-toggleable__label {background-color: #d4ebff;}#sk-container-id-4 div.sk-label input.sk-toggleable__control:checked~label.sk-toggleable__label {background-color: #d4ebff;}#sk-container-id-4 input.sk-hidden--visually {border: 0;clip: rect(1px 1px 1px 1px);clip: rect(1px, 1px, 1px, 1px);height: 1px;margin: -1px;overflow: hidden;padding: 0;position: absolute;width: 1px;}#sk-container-id-4 div.sk-estimator {font-family: monospace;background-color: #f0f8ff;border: 1px dotted black;border-radius: 0.25em;box-sizing: border-box;margin-bottom: 0.5em;}#sk-container-id-4 div.sk-estimator:hover {background-color: #d4ebff;}#sk-container-id-4 div.sk-parallel-item::after {content: \"\";width: 100%;border-bottom: 1px solid gray;flex-grow: 1;}#sk-container-id-4 div.sk-label:hover label.sk-toggleable__label {background-color: #d4ebff;}#sk-container-id-4 div.sk-serial::before {content: \"\";position: absolute;border-left: 1px solid gray;box-sizing: border-box;top: 0;bottom: 0;left: 50%;z-index: 0;}#sk-container-id-4 div.sk-serial {display: flex;flex-direction: column;align-items: center;background-color: white;padding-right: 0.2em;padding-left: 0.2em;position: relative;}#sk-container-id-4 div.sk-item {position: relative;z-index: 1;}#sk-container-id-4 div.sk-parallel {display: flex;align-items: stretch;justify-content: center;background-color: white;position: relative;}#sk-container-id-4 div.sk-item::before, #sk-container-id-4 div.sk-parallel-item::before {content: \"\";position: absolute;border-left: 1px solid gray;box-sizing: border-box;top: 0;bottom: 0;left: 50%;z-index: -1;}#sk-container-id-4 div.sk-parallel-item {display: flex;flex-direction: column;z-index: 1;position: relative;background-color: white;}#sk-container-id-4 div.sk-parallel-item:first-child::after {align-self: flex-end;width: 50%;}#sk-container-id-4 div.sk-parallel-item:last-child::after {align-self: flex-start;width: 50%;}#sk-container-id-4 div.sk-parallel-item:only-child::after {width: 0;}#sk-container-id-4 div.sk-dashed-wrapped {border: 1px dashed gray;margin: 0 0.4em 0.5em 0.4em;box-sizing: border-box;padding-bottom: 0.4em;background-color: white;}#sk-container-id-4 div.sk-label label {font-family: monospace;font-weight: bold;display: inline-block;line-height: 1.2em;}#sk-container-id-4 div.sk-label-container {text-align: center;}#sk-container-id-4 div.sk-container {/* jupyter's `normalize.less` sets `[hidden] { display: none; }` but bootstrap.min.css set `[hidden] { display: none !important; }` so we also need the `!important` here to be able to override the default hidden behavior on the sphinx rendered scikit-learn.org. See: https://github.com/scikit-learn/scikit-learn/issues/21755 */display: inline-block !important;position: relative;}#sk-container-id-4 div.sk-text-repr-fallback {display: none;}</style><div id=\"sk-container-id-4\" class=\"sk-top-container\"><div class=\"sk-text-repr-fallback\"><pre>BaggingRegressor(n_estimators=100, random_state=1)</pre><b>In a Jupyter environment, please rerun this cell to show the HTML representation or trust the notebook. <br />On GitHub, the HTML representation is unable to render, please try loading this page with nbviewer.org.</b></div><div class=\"sk-container\" hidden><div class=\"sk-item\"><div class=\"sk-estimator sk-toggleable\"><input class=\"sk-toggleable__control sk-hidden--visually\" id=\"sk-estimator-id-6\" type=\"checkbox\" checked><label for=\"sk-estimator-id-6\" class=\"sk-toggleable__label sk-toggleable__label-arrow\">BaggingRegressor</label><div class=\"sk-toggleable__content\"><pre>BaggingRegressor(n_estimators=100, random_state=1)</pre></div></div></div></div></div>"
            ]
          },
          "metadata": {},
          "execution_count": 51
        }
      ]
    },
    {
      "cell_type": "code",
      "source": [
        "mape(y_test, bagging.predict(X_test))"
      ],
      "metadata": {
        "colab": {
          "base_uri": "https://localhost:8080/"
        },
        "id": "gdghSY3tXBHx",
        "outputId": "5e7bce2e-7c2a-4348-8a75-a9d575ddbeac"
      },
      "execution_count": 52,
      "outputs": [
        {
          "output_type": "execute_result",
          "data": {
            "text/plain": [
              "0.02806644129803859"
            ]
          },
          "metadata": {},
          "execution_count": 52
        }
      ]
    },
    {
      "cell_type": "markdown",
      "source": [
        "Velmi dobry vysledek, zatim nejlepsi. Mozna byl nas puvodni strom trochu pre-uceny, coz se nam podarilo baggingem vyresit."
      ],
      "metadata": {
        "id": "Y3Dg3_U479Ep"
      }
    },
    {
      "cell_type": "markdown",
      "source": [
        "### Random forest\n",
        "Opet 100 nahodnych stromu, vcetne nahodneho vyberu promennych. Pouzity stejne parametry jako pri klasickem stromu."
      ],
      "metadata": {
        "id": "J1UpU0c4Xo1F"
      }
    },
    {
      "cell_type": "code",
      "source": [
        "from sklearn.ensemble import RandomForestRegressor"
      ],
      "metadata": {
        "id": "PsyoHb3HXKEg"
      },
      "execution_count": 53,
      "outputs": []
    },
    {
      "cell_type": "code",
      "source": [
        "random_forest = RandomForestRegressor(n_estimators = 100,\n",
        "                                      min_samples_leaf = 5,\n",
        "                                      criterion = 'poisson',\n",
        "                                      ccp_alpha = 0.1,\n",
        "                                      random_state=1)"
      ],
      "metadata": {
        "id": "dno4hyStYBMu"
      },
      "execution_count": 54,
      "outputs": []
    },
    {
      "cell_type": "code",
      "source": [
        "random_forest.fit(X_train, y_train)"
      ],
      "metadata": {
        "colab": {
          "base_uri": "https://localhost:8080/",
          "height": 92
        },
        "id": "jyC_3UbwYkCW",
        "outputId": "42a64a99-6bfb-4d3e-abd9-b1ec71c9c810"
      },
      "execution_count": 55,
      "outputs": [
        {
          "output_type": "execute_result",
          "data": {
            "text/plain": [
              "RandomForestRegressor(ccp_alpha=0.1, criterion='poisson', min_samples_leaf=5,\n",
              "                      random_state=1)"
            ],
            "text/html": [
              "<style>#sk-container-id-5 {color: black;background-color: white;}#sk-container-id-5 pre{padding: 0;}#sk-container-id-5 div.sk-toggleable {background-color: white;}#sk-container-id-5 label.sk-toggleable__label {cursor: pointer;display: block;width: 100%;margin-bottom: 0;padding: 0.3em;box-sizing: border-box;text-align: center;}#sk-container-id-5 label.sk-toggleable__label-arrow:before {content: \"▸\";float: left;margin-right: 0.25em;color: #696969;}#sk-container-id-5 label.sk-toggleable__label-arrow:hover:before {color: black;}#sk-container-id-5 div.sk-estimator:hover label.sk-toggleable__label-arrow:before {color: black;}#sk-container-id-5 div.sk-toggleable__content {max-height: 0;max-width: 0;overflow: hidden;text-align: left;background-color: #f0f8ff;}#sk-container-id-5 div.sk-toggleable__content pre {margin: 0.2em;color: black;border-radius: 0.25em;background-color: #f0f8ff;}#sk-container-id-5 input.sk-toggleable__control:checked~div.sk-toggleable__content {max-height: 200px;max-width: 100%;overflow: auto;}#sk-container-id-5 input.sk-toggleable__control:checked~label.sk-toggleable__label-arrow:before {content: \"▾\";}#sk-container-id-5 div.sk-estimator input.sk-toggleable__control:checked~label.sk-toggleable__label {background-color: #d4ebff;}#sk-container-id-5 div.sk-label input.sk-toggleable__control:checked~label.sk-toggleable__label {background-color: #d4ebff;}#sk-container-id-5 input.sk-hidden--visually {border: 0;clip: rect(1px 1px 1px 1px);clip: rect(1px, 1px, 1px, 1px);height: 1px;margin: -1px;overflow: hidden;padding: 0;position: absolute;width: 1px;}#sk-container-id-5 div.sk-estimator {font-family: monospace;background-color: #f0f8ff;border: 1px dotted black;border-radius: 0.25em;box-sizing: border-box;margin-bottom: 0.5em;}#sk-container-id-5 div.sk-estimator:hover {background-color: #d4ebff;}#sk-container-id-5 div.sk-parallel-item::after {content: \"\";width: 100%;border-bottom: 1px solid gray;flex-grow: 1;}#sk-container-id-5 div.sk-label:hover label.sk-toggleable__label {background-color: #d4ebff;}#sk-container-id-5 div.sk-serial::before {content: \"\";position: absolute;border-left: 1px solid gray;box-sizing: border-box;top: 0;bottom: 0;left: 50%;z-index: 0;}#sk-container-id-5 div.sk-serial {display: flex;flex-direction: column;align-items: center;background-color: white;padding-right: 0.2em;padding-left: 0.2em;position: relative;}#sk-container-id-5 div.sk-item {position: relative;z-index: 1;}#sk-container-id-5 div.sk-parallel {display: flex;align-items: stretch;justify-content: center;background-color: white;position: relative;}#sk-container-id-5 div.sk-item::before, #sk-container-id-5 div.sk-parallel-item::before {content: \"\";position: absolute;border-left: 1px solid gray;box-sizing: border-box;top: 0;bottom: 0;left: 50%;z-index: -1;}#sk-container-id-5 div.sk-parallel-item {display: flex;flex-direction: column;z-index: 1;position: relative;background-color: white;}#sk-container-id-5 div.sk-parallel-item:first-child::after {align-self: flex-end;width: 50%;}#sk-container-id-5 div.sk-parallel-item:last-child::after {align-self: flex-start;width: 50%;}#sk-container-id-5 div.sk-parallel-item:only-child::after {width: 0;}#sk-container-id-5 div.sk-dashed-wrapped {border: 1px dashed gray;margin: 0 0.4em 0.5em 0.4em;box-sizing: border-box;padding-bottom: 0.4em;background-color: white;}#sk-container-id-5 div.sk-label label {font-family: monospace;font-weight: bold;display: inline-block;line-height: 1.2em;}#sk-container-id-5 div.sk-label-container {text-align: center;}#sk-container-id-5 div.sk-container {/* jupyter's `normalize.less` sets `[hidden] { display: none; }` but bootstrap.min.css set `[hidden] { display: none !important; }` so we also need the `!important` here to be able to override the default hidden behavior on the sphinx rendered scikit-learn.org. See: https://github.com/scikit-learn/scikit-learn/issues/21755 */display: inline-block !important;position: relative;}#sk-container-id-5 div.sk-text-repr-fallback {display: none;}</style><div id=\"sk-container-id-5\" class=\"sk-top-container\"><div class=\"sk-text-repr-fallback\"><pre>RandomForestRegressor(ccp_alpha=0.1, criterion=&#x27;poisson&#x27;, min_samples_leaf=5,\n",
              "                      random_state=1)</pre><b>In a Jupyter environment, please rerun this cell to show the HTML representation or trust the notebook. <br />On GitHub, the HTML representation is unable to render, please try loading this page with nbviewer.org.</b></div><div class=\"sk-container\" hidden><div class=\"sk-item\"><div class=\"sk-estimator sk-toggleable\"><input class=\"sk-toggleable__control sk-hidden--visually\" id=\"sk-estimator-id-7\" type=\"checkbox\" checked><label for=\"sk-estimator-id-7\" class=\"sk-toggleable__label sk-toggleable__label-arrow\">RandomForestRegressor</label><div class=\"sk-toggleable__content\"><pre>RandomForestRegressor(ccp_alpha=0.1, criterion=&#x27;poisson&#x27;, min_samples_leaf=5,\n",
              "                      random_state=1)</pre></div></div></div></div></div>"
            ]
          },
          "metadata": {},
          "execution_count": 55
        }
      ]
    },
    {
      "cell_type": "code",
      "source": [
        "mape(y_test, random_forest.predict(X_test))"
      ],
      "metadata": {
        "colab": {
          "base_uri": "https://localhost:8080/"
        },
        "id": "fp_scAxRYvC0",
        "outputId": "3d795496-bbc5-45fa-c37e-d336c6622d93"
      },
      "execution_count": 56,
      "outputs": [
        {
          "output_type": "execute_result",
          "data": {
            "text/plain": [
              "0.04078963466466962"
            ]
          },
          "metadata": {},
          "execution_count": 56
        }
      ]
    },
    {
      "cell_type": "markdown",
      "source": [
        "Random forest ma sice mensi chybu nez puvodni strom, ale neni tak dobry jako obycejny Bagging. Pravdepodobne by pomohlo testovat vice ruznych settingu random forestu a najit nejaky lepsi."
      ],
      "metadata": {
        "id": "1QPV_W_fuqy6"
      }
    },
    {
      "cell_type": "markdown",
      "source": [
        "### Boosting\n",
        "Predikce chyby predchoziho stromu. Metoda: gradient.\n",
        "\n",
        "\n"
      ],
      "metadata": {
        "id": "fypPTN36ZAsF"
      }
    },
    {
      "cell_type": "code",
      "source": [
        "from sklearn.ensemble import HistGradientBoostingRegressor"
      ],
      "metadata": {
        "id": "iXgFu_4LYwxk"
      },
      "execution_count": 57,
      "outputs": []
    },
    {
      "cell_type": "code",
      "source": [
        "boosting = HistGradientBoostingRegressor(loss = 'poisson',\n",
        "                                         max_iter = 100,\n",
        "                                         min_samples_leaf = 5)"
      ],
      "metadata": {
        "id": "KxiduaVXZeMk"
      },
      "execution_count": 58,
      "outputs": []
    },
    {
      "cell_type": "code",
      "source": [
        "boosting.fit(X_train, y_train)"
      ],
      "metadata": {
        "colab": {
          "base_uri": "https://localhost:8080/",
          "height": 75
        },
        "id": "IMpcW-yBaBJX",
        "outputId": "650956e5-2757-40ba-be0a-dd821e074c2e"
      },
      "execution_count": 59,
      "outputs": [
        {
          "output_type": "execute_result",
          "data": {
            "text/plain": [
              "HistGradientBoostingRegressor(loss='poisson', min_samples_leaf=5)"
            ],
            "text/html": [
              "<style>#sk-container-id-6 {color: black;background-color: white;}#sk-container-id-6 pre{padding: 0;}#sk-container-id-6 div.sk-toggleable {background-color: white;}#sk-container-id-6 label.sk-toggleable__label {cursor: pointer;display: block;width: 100%;margin-bottom: 0;padding: 0.3em;box-sizing: border-box;text-align: center;}#sk-container-id-6 label.sk-toggleable__label-arrow:before {content: \"▸\";float: left;margin-right: 0.25em;color: #696969;}#sk-container-id-6 label.sk-toggleable__label-arrow:hover:before {color: black;}#sk-container-id-6 div.sk-estimator:hover label.sk-toggleable__label-arrow:before {color: black;}#sk-container-id-6 div.sk-toggleable__content {max-height: 0;max-width: 0;overflow: hidden;text-align: left;background-color: #f0f8ff;}#sk-container-id-6 div.sk-toggleable__content pre {margin: 0.2em;color: black;border-radius: 0.25em;background-color: #f0f8ff;}#sk-container-id-6 input.sk-toggleable__control:checked~div.sk-toggleable__content {max-height: 200px;max-width: 100%;overflow: auto;}#sk-container-id-6 input.sk-toggleable__control:checked~label.sk-toggleable__label-arrow:before {content: \"▾\";}#sk-container-id-6 div.sk-estimator input.sk-toggleable__control:checked~label.sk-toggleable__label {background-color: #d4ebff;}#sk-container-id-6 div.sk-label input.sk-toggleable__control:checked~label.sk-toggleable__label {background-color: #d4ebff;}#sk-container-id-6 input.sk-hidden--visually {border: 0;clip: rect(1px 1px 1px 1px);clip: rect(1px, 1px, 1px, 1px);height: 1px;margin: -1px;overflow: hidden;padding: 0;position: absolute;width: 1px;}#sk-container-id-6 div.sk-estimator {font-family: monospace;background-color: #f0f8ff;border: 1px dotted black;border-radius: 0.25em;box-sizing: border-box;margin-bottom: 0.5em;}#sk-container-id-6 div.sk-estimator:hover {background-color: #d4ebff;}#sk-container-id-6 div.sk-parallel-item::after {content: \"\";width: 100%;border-bottom: 1px solid gray;flex-grow: 1;}#sk-container-id-6 div.sk-label:hover label.sk-toggleable__label {background-color: #d4ebff;}#sk-container-id-6 div.sk-serial::before {content: \"\";position: absolute;border-left: 1px solid gray;box-sizing: border-box;top: 0;bottom: 0;left: 50%;z-index: 0;}#sk-container-id-6 div.sk-serial {display: flex;flex-direction: column;align-items: center;background-color: white;padding-right: 0.2em;padding-left: 0.2em;position: relative;}#sk-container-id-6 div.sk-item {position: relative;z-index: 1;}#sk-container-id-6 div.sk-parallel {display: flex;align-items: stretch;justify-content: center;background-color: white;position: relative;}#sk-container-id-6 div.sk-item::before, #sk-container-id-6 div.sk-parallel-item::before {content: \"\";position: absolute;border-left: 1px solid gray;box-sizing: border-box;top: 0;bottom: 0;left: 50%;z-index: -1;}#sk-container-id-6 div.sk-parallel-item {display: flex;flex-direction: column;z-index: 1;position: relative;background-color: white;}#sk-container-id-6 div.sk-parallel-item:first-child::after {align-self: flex-end;width: 50%;}#sk-container-id-6 div.sk-parallel-item:last-child::after {align-self: flex-start;width: 50%;}#sk-container-id-6 div.sk-parallel-item:only-child::after {width: 0;}#sk-container-id-6 div.sk-dashed-wrapped {border: 1px dashed gray;margin: 0 0.4em 0.5em 0.4em;box-sizing: border-box;padding-bottom: 0.4em;background-color: white;}#sk-container-id-6 div.sk-label label {font-family: monospace;font-weight: bold;display: inline-block;line-height: 1.2em;}#sk-container-id-6 div.sk-label-container {text-align: center;}#sk-container-id-6 div.sk-container {/* jupyter's `normalize.less` sets `[hidden] { display: none; }` but bootstrap.min.css set `[hidden] { display: none !important; }` so we also need the `!important` here to be able to override the default hidden behavior on the sphinx rendered scikit-learn.org. See: https://github.com/scikit-learn/scikit-learn/issues/21755 */display: inline-block !important;position: relative;}#sk-container-id-6 div.sk-text-repr-fallback {display: none;}</style><div id=\"sk-container-id-6\" class=\"sk-top-container\"><div class=\"sk-text-repr-fallback\"><pre>HistGradientBoostingRegressor(loss=&#x27;poisson&#x27;, min_samples_leaf=5)</pre><b>In a Jupyter environment, please rerun this cell to show the HTML representation or trust the notebook. <br />On GitHub, the HTML representation is unable to render, please try loading this page with nbviewer.org.</b></div><div class=\"sk-container\" hidden><div class=\"sk-item\"><div class=\"sk-estimator sk-toggleable\"><input class=\"sk-toggleable__control sk-hidden--visually\" id=\"sk-estimator-id-8\" type=\"checkbox\" checked><label for=\"sk-estimator-id-8\" class=\"sk-toggleable__label sk-toggleable__label-arrow\">HistGradientBoostingRegressor</label><div class=\"sk-toggleable__content\"><pre>HistGradientBoostingRegressor(loss=&#x27;poisson&#x27;, min_samples_leaf=5)</pre></div></div></div></div></div>"
            ]
          },
          "metadata": {},
          "execution_count": 59
        }
      ]
    },
    {
      "cell_type": "code",
      "source": [
        "mape(y_test, boosting.predict(X_test))"
      ],
      "metadata": {
        "colab": {
          "base_uri": "https://localhost:8080/"
        },
        "id": "qIaeIAAuaDpW",
        "outputId": "d92d92d5-bc39-41ba-d9de-93ab7b2a80b2"
      },
      "execution_count": 60,
      "outputs": [
        {
          "output_type": "execute_result",
          "data": {
            "text/plain": [
              "0.06874158115299706"
            ]
          },
          "metadata": {},
          "execution_count": 60
        }
      ]
    },
    {
      "cell_type": "markdown",
      "source": [
        "Zde si takto \"vysokou\" chybu nedokazu uplne vysvetlit. Mozna zkusit upravit learning rate (default je 0.1) nebo treba L2 regularizaci, kterou model nabizi."
      ],
      "metadata": {
        "id": "BFaeSubyvHaZ"
      }
    },
    {
      "cell_type": "markdown",
      "source": [
        "## Support Vector Regression\n",
        "Spise pro zajimavost, nemam tolik zkusenosti s vyberem parametru pro kernely a trenink trval velmi, velmi dlouho.\n",
        "\n",
        "Jinak pokud tomu dobre rozumim, tak SVR je vlastne celkem podobna klasicke regresi. Diky pouziti kernelu je ale mozne dobre fitovat model i na nelinearni data."
      ],
      "metadata": {
        "id": "4ubugEwtawZN"
      }
    },
    {
      "cell_type": "code",
      "source": [
        "from sklearn.svm import SVR"
      ],
      "metadata": {
        "id": "ys41cTnzaOTO"
      },
      "execution_count": 61,
      "outputs": []
    },
    {
      "cell_type": "code",
      "source": [
        "kernels = [\"linear\", \"poly\", \"rbf\"]"
      ],
      "metadata": {
        "id": "NkJm5f16a7FH"
      },
      "execution_count": 62,
      "outputs": []
    },
    {
      "cell_type": "code",
      "source": [
        "for kernel in kernels:\n",
        "    model = SVR(kernel = kernel)\n",
        "    model.fit(X_train, y_train)\n",
        "    yhat = model.predict(X_test)\n",
        "    print(f\"{kernel}: {mape(y_test, yhat): .4f}\")"
      ],
      "metadata": {
        "colab": {
          "base_uri": "https://localhost:8080/"
        },
        "id": "ELSJLi68cp--",
        "outputId": "87035724-a510-4cf5-fcf8-a7bc6ba338cb"
      },
      "execution_count": 63,
      "outputs": [
        {
          "output_type": "stream",
          "name": "stdout",
          "text": [
            "linear:  0.1671\n",
            "poly:  0.2308\n",
            "rbf:  0.2304\n"
          ]
        }
      ]
    },
    {
      "cell_type": "markdown",
      "source": [
        "Jak jiz mozna bylo mozne videt drive, nase data jsou dobre rozdelitelna i linearne (dobre vysledky regularizovane linearni regrese). Tim si vysvetluji horsi skore SVR s pouzitim nelinearnich kernelu nez kernelu `linear`."
      ],
      "metadata": {
        "id": "iyHQbt6swdtO"
      }
    },
    {
      "cell_type": "markdown",
      "source": [
        "## Neuronova sit"
      ],
      "metadata": {
        "id": "45bZeODwdXXn"
      }
    },
    {
      "cell_type": "code",
      "source": [
        "from keras.models import Sequential\n",
        "from keras.layers import Dense, Dropout, BatchNormalization"
      ],
      "metadata": {
        "id": "9YhE80p5dwvn"
      },
      "execution_count": 29,
      "outputs": []
    },
    {
      "cell_type": "markdown",
      "source": [
        "### Neuronka s jednou skrytou vrstvou\n",
        "\n",
        "\n",
        "*   Input layer = 326 neuronu\n",
        "*   Hidden layer = 16 neuronu\n",
        "*   Batch normalizace vstupu\n",
        "*   Dropout 20% proti over fittingu\n",
        "*   Output layer = 1 neuron\n",
        "\n",
        "Vsechny aktivace RELU\n",
        "\n",
        "Batch size 16\n",
        "\n",
        "\n"
      ],
      "metadata": {
        "id": "eNMWkCV8qmM8"
      }
    },
    {
      "cell_type": "code",
      "source": [
        "# Vytvoření a kompilace modelu\n",
        "model = Sequential()\n",
        "model.add(Dense(16, input_shape=(326,), activation='relu'))\n",
        "model.add(BatchNormalization())\n",
        "model.add(Dropout(0.2))\n",
        "model.add(Dense(1, activation='relu'))\n",
        "\n",
        "model.compile(loss='mean_squared_error', optimizer='adam',\n",
        "              metrics='mean_absolute_percentage_error')\n",
        "\n",
        "model.summary()"
      ],
      "metadata": {
        "colab": {
          "base_uri": "https://localhost:8080/"
        },
        "id": "l2V2hCwQbaSx",
        "outputId": "e832fb30-eddc-4540-ec36-f3fe5caa0baa"
      },
      "execution_count": 30,
      "outputs": [
        {
          "output_type": "stream",
          "name": "stdout",
          "text": [
            "Model: \"sequential_1\"\n",
            "_________________________________________________________________\n",
            " Layer (type)                Output Shape              Param #   \n",
            "=================================================================\n",
            " dense_1 (Dense)             (None, 16)                5232      \n",
            "                                                                 \n",
            " batch_normalization (BatchN  (None, 16)               64        \n",
            " ormalization)                                                   \n",
            "                                                                 \n",
            " dropout (Dropout)           (None, 16)                0         \n",
            "                                                                 \n",
            " dense_2 (Dense)             (None, 1)                 17        \n",
            "                                                                 \n",
            "=================================================================\n",
            "Total params: 5,313\n",
            "Trainable params: 5,281\n",
            "Non-trainable params: 32\n",
            "_________________________________________________________________\n"
          ]
        }
      ]
    },
    {
      "cell_type": "code",
      "source": [
        "model.fit(X_train, y_train,\n",
        "          epochs=20, batch_size=16,\n",
        "          verbose=1)"
      ],
      "metadata": {
        "colab": {
          "base_uri": "https://localhost:8080/"
        },
        "id": "FkxcwWAmoN97",
        "outputId": "91171219-e84b-426f-ec4c-d4119c28056a"
      },
      "execution_count": 35,
      "outputs": [
        {
          "output_type": "stream",
          "name": "stdout",
          "text": [
            "Epoch 1/20\n",
            "4675/4675 [==============================] - 14s 3ms/step - loss: 103181472.0000 - mean_absolute_percentage_error: 15.3554\n",
            "Epoch 2/20\n",
            "4675/4675 [==============================] - 9s 2ms/step - loss: 100858056.0000 - mean_absolute_percentage_error: 15.0977\n",
            "Epoch 3/20\n",
            "4675/4675 [==============================] - 11s 2ms/step - loss: 99419680.0000 - mean_absolute_percentage_error: 14.9246\n",
            "Epoch 4/20\n",
            "4675/4675 [==============================] - 11s 2ms/step - loss: 99728944.0000 - mean_absolute_percentage_error: 14.9564\n",
            "Epoch 5/20\n",
            "4675/4675 [==============================] - 10s 2ms/step - loss: 98279192.0000 - mean_absolute_percentage_error: 14.8108\n",
            "Epoch 6/20\n",
            "4675/4675 [==============================] - 10s 2ms/step - loss: 96285328.0000 - mean_absolute_percentage_error: 14.7581\n",
            "Epoch 7/20\n",
            "4675/4675 [==============================] - 10s 2ms/step - loss: 96448688.0000 - mean_absolute_percentage_error: 14.6732\n",
            "Epoch 8/20\n",
            "4675/4675 [==============================] - 10s 2ms/step - loss: 96060464.0000 - mean_absolute_percentage_error: 14.7116\n",
            "Epoch 9/20\n",
            "4675/4675 [==============================] - 10s 2ms/step - loss: 94731232.0000 - mean_absolute_percentage_error: 14.5567\n",
            "Epoch 10/20\n",
            "4675/4675 [==============================] - 11s 2ms/step - loss: 95507864.0000 - mean_absolute_percentage_error: 14.6669\n",
            "Epoch 11/20\n",
            "4675/4675 [==============================] - 11s 2ms/step - loss: 94675704.0000 - mean_absolute_percentage_error: 14.6384\n",
            "Epoch 12/20\n",
            "4675/4675 [==============================] - 9s 2ms/step - loss: 94830560.0000 - mean_absolute_percentage_error: 14.6619\n",
            "Epoch 13/20\n",
            "4675/4675 [==============================] - 11s 2ms/step - loss: 94147432.0000 - mean_absolute_percentage_error: 14.6477\n",
            "Epoch 14/20\n",
            "4675/4675 [==============================] - 11s 2ms/step - loss: 94580928.0000 - mean_absolute_percentage_error: 14.7146\n",
            "Epoch 15/20\n",
            "4675/4675 [==============================] - 11s 2ms/step - loss: 94750824.0000 - mean_absolute_percentage_error: 14.6743\n",
            "Epoch 16/20\n",
            "4675/4675 [==============================] - 10s 2ms/step - loss: 92805576.0000 - mean_absolute_percentage_error: 14.5660\n",
            "Epoch 17/20\n",
            "4675/4675 [==============================] - 11s 2ms/step - loss: 93521728.0000 - mean_absolute_percentage_error: 14.5580\n",
            "Epoch 18/20\n",
            "4675/4675 [==============================] - 11s 2ms/step - loss: 93022568.0000 - mean_absolute_percentage_error: 14.6101\n",
            "Epoch 19/20\n",
            "4675/4675 [==============================] - 11s 2ms/step - loss: 93330144.0000 - mean_absolute_percentage_error: 14.5814\n",
            "Epoch 20/20\n",
            "4675/4675 [==============================] - 11s 2ms/step - loss: 93659648.0000 - mean_absolute_percentage_error: 14.6387\n"
          ]
        },
        {
          "output_type": "execute_result",
          "data": {
            "text/plain": [
              "<keras.callbacks.History at 0x7f7539652da0>"
            ]
          },
          "metadata": {},
          "execution_count": 35
        }
      ]
    },
    {
      "cell_type": "code",
      "source": [
        "# in-sample. Je mozne, ze keras nasobi MAPE *2?\n",
        "mape(y_train, model.predict(X_train))"
      ],
      "metadata": {
        "colab": {
          "base_uri": "https://localhost:8080/"
        },
        "id": "JDsp4Gikyg1W",
        "outputId": "08ef6dd7-1b4d-4ad7-808e-2b7c52e71b2e"
      },
      "execution_count": 47,
      "outputs": [
        {
          "output_type": "stream",
          "name": "stdout",
          "text": [
            "2338/2338 [==============================] - 5s 2ms/step\n"
          ]
        },
        {
          "output_type": "execute_result",
          "data": {
            "text/plain": [
              "0.07272346333201705"
            ]
          },
          "metadata": {},
          "execution_count": 47
        }
      ]
    },
    {
      "cell_type": "code",
      "source": [
        "# out-of-sample\n",
        "mape(y_test, model.predict(X_test))"
      ],
      "metadata": {
        "colab": {
          "base_uri": "https://localhost:8080/"
        },
        "id": "7u6kyWp3obTU",
        "outputId": "1baee9f7-49ea-496b-9756-b57efa77ccfb"
      },
      "execution_count": 36,
      "outputs": [
        {
          "output_type": "stream",
          "name": "stdout",
          "text": [
            "585/585 [==============================] - 2s 4ms/step\n"
          ]
        },
        {
          "output_type": "execute_result",
          "data": {
            "text/plain": [
              "0.07269192021798271"
            ]
          },
          "metadata": {},
          "execution_count": 36
        }
      ]
    },
    {
      "cell_type": "markdown",
      "source": [
        "Jelikoz se data zdaji byt pomerne linearni, prvni neuronku jsem zkusil spise jednodussi, s pouze jednou skrytou vrstvou. Out-of-sample MAPE ~7 procent."
      ],
      "metadata": {
        "id": "tChtkkSrxtst"
      }
    },
    {
      "cell_type": "markdown",
      "source": [
        "### Neuronka s dvema skrytymi vrstvami\n",
        "\n",
        "\n",
        "*   Input layer = 326 neuronu\n",
        "*   Hidden layer = 16 neuronu\n",
        "*   Batch normalizace vstupu\n",
        "*   Dropout 20%\n",
        "*   Hidden layer = 24 neuronu\n",
        "*   Dropout 10%\n",
        "*   Output layer = 1 neuron\n",
        "\n",
        "Vsechny aktivace RELU\n",
        "\n",
        "Batch size 12\n",
        "\n"
      ],
      "metadata": {
        "id": "cIIYUNBTrNeV"
      }
    },
    {
      "cell_type": "code",
      "source": [
        "# Vytvoření a kompilace modelu\n",
        "model2 = Sequential()\n",
        "model2.add(Dense(16, input_shape=(326,), activation='relu'))\n",
        "model2.add(BatchNormalization())\n",
        "model2.add(Dropout(0.2))\n",
        "model2.add(Dense(24, activation='relu'))\n",
        "model2.add(Dropout(0.1))\n",
        "model2.add(Dense(1, activation='relu'))\n",
        "\n",
        "model2.compile(loss='mean_squared_error', optimizer='adam',\n",
        "               metrics='mean_absolute_percentage_error')\n",
        "\n",
        "model2.summary()"
      ],
      "metadata": {
        "colab": {
          "base_uri": "https://localhost:8080/"
        },
        "outputId": "f5916e9d-12f8-4ae0-f6c9-a618709b0ab9",
        "id": "z2eh6dSwrNeV"
      },
      "execution_count": 49,
      "outputs": [
        {
          "output_type": "stream",
          "name": "stdout",
          "text": [
            "Model: \"sequential_4\"\n",
            "_________________________________________________________________\n",
            " Layer (type)                Output Shape              Param #   \n",
            "=================================================================\n",
            " dense_9 (Dense)             (None, 16)                5232      \n",
            "                                                                 \n",
            " batch_normalization_3 (Batc  (None, 16)               64        \n",
            " hNormalization)                                                 \n",
            "                                                                 \n",
            " dropout_5 (Dropout)         (None, 16)                0         \n",
            "                                                                 \n",
            " dense_10 (Dense)            (None, 24)                408       \n",
            "                                                                 \n",
            " dropout_6 (Dropout)         (None, 24)                0         \n",
            "                                                                 \n",
            " dense_11 (Dense)            (None, 1)                 25        \n",
            "                                                                 \n",
            "=================================================================\n",
            "Total params: 5,729\n",
            "Trainable params: 5,697\n",
            "Non-trainable params: 32\n",
            "_________________________________________________________________\n"
          ]
        }
      ]
    },
    {
      "cell_type": "code",
      "source": [
        "model2.fit(X_train, y_train,\n",
        "          epochs=20, batch_size=12,\n",
        "          verbose=1)"
      ],
      "metadata": {
        "colab": {
          "base_uri": "https://localhost:8080/"
        },
        "outputId": "efeca6b7-9f62-4025-a7cc-acc3734dc759",
        "id": "OdhpMmROrNeW"
      },
      "execution_count": 53,
      "outputs": [
        {
          "output_type": "stream",
          "name": "stdout",
          "text": [
            "Epoch 1/20\n",
            "6233/6233 [==============================] - 15s 2ms/step - loss: 114349656.0000 - mean_absolute_percentage_error: 16.2468\n",
            "Epoch 2/20\n",
            "6233/6233 [==============================] - 15s 2ms/step - loss: 113580376.0000 - mean_absolute_percentage_error: 16.2197\n",
            "Epoch 3/20\n",
            "6233/6233 [==============================] - 14s 2ms/step - loss: 112990576.0000 - mean_absolute_percentage_error: 16.1990\n",
            "Epoch 4/20\n",
            "6233/6233 [==============================] - 14s 2ms/step - loss: 111856952.0000 - mean_absolute_percentage_error: 16.1351\n",
            "Epoch 5/20\n",
            "6233/6233 [==============================] - 14s 2ms/step - loss: 113020008.0000 - mean_absolute_percentage_error: 16.1746\n",
            "Epoch 6/20\n",
            "6233/6233 [==============================] - 14s 2ms/step - loss: 112161408.0000 - mean_absolute_percentage_error: 16.1497\n",
            "Epoch 7/20\n",
            "6233/6233 [==============================] - 15s 2ms/step - loss: 111827616.0000 - mean_absolute_percentage_error: 16.1415\n",
            "Epoch 8/20\n",
            "6233/6233 [==============================] - 15s 2ms/step - loss: 111825888.0000 - mean_absolute_percentage_error: 16.0981\n",
            "Epoch 9/20\n",
            "6233/6233 [==============================] - 15s 2ms/step - loss: 110385624.0000 - mean_absolute_percentage_error: 16.0056\n",
            "Epoch 10/20\n",
            "6233/6233 [==============================] - 15s 2ms/step - loss: 111093512.0000 - mean_absolute_percentage_error: 16.0295\n",
            "Epoch 11/20\n",
            "6233/6233 [==============================] - 14s 2ms/step - loss: 110706832.0000 - mean_absolute_percentage_error: 16.0019\n",
            "Epoch 12/20\n",
            "6233/6233 [==============================] - 14s 2ms/step - loss: 110701856.0000 - mean_absolute_percentage_error: 15.9697\n",
            "Epoch 13/20\n",
            "6233/6233 [==============================] - 15s 2ms/step - loss: 110518032.0000 - mean_absolute_percentage_error: 15.9662\n",
            "Epoch 14/20\n",
            "6233/6233 [==============================] - 15s 2ms/step - loss: 110081128.0000 - mean_absolute_percentage_error: 15.9082\n",
            "Epoch 15/20\n",
            "6233/6233 [==============================] - 14s 2ms/step - loss: 109733952.0000 - mean_absolute_percentage_error: 15.8726\n",
            "Epoch 16/20\n",
            "6233/6233 [==============================] - 14s 2ms/step - loss: 109250936.0000 - mean_absolute_percentage_error: 15.9058\n",
            "Epoch 17/20\n",
            "6233/6233 [==============================] - 14s 2ms/step - loss: 109390736.0000 - mean_absolute_percentage_error: 15.8735\n",
            "Epoch 18/20\n",
            "6233/6233 [==============================] - 15s 2ms/step - loss: 109368616.0000 - mean_absolute_percentage_error: 15.8905\n",
            "Epoch 19/20\n",
            "6233/6233 [==============================] - 14s 2ms/step - loss: 108025936.0000 - mean_absolute_percentage_error: 15.8455\n",
            "Epoch 20/20\n",
            "6233/6233 [==============================] - 15s 2ms/step - loss: 108318616.0000 - mean_absolute_percentage_error: 15.8034\n"
          ]
        },
        {
          "output_type": "execute_result",
          "data": {
            "text/plain": [
              "<keras.callbacks.History at 0x7f75390238e0>"
            ]
          },
          "metadata": {},
          "execution_count": 53
        }
      ]
    },
    {
      "cell_type": "code",
      "source": [
        "mape(y_test, model2.predict(X_test))"
      ],
      "metadata": {
        "colab": {
          "base_uri": "https://localhost:8080/"
        },
        "outputId": "2b1d2fd5-4242-42f4-cba3-2a3a61f724b0",
        "id": "Z9yDs2WBrNeW"
      },
      "execution_count": 54,
      "outputs": [
        {
          "output_type": "stream",
          "name": "stdout",
          "text": [
            "585/585 [==============================] - 1s 2ms/step\n"
          ]
        },
        {
          "output_type": "execute_result",
          "data": {
            "text/plain": [
              "0.0732175049171604"
            ]
          },
          "metadata": {},
          "execution_count": 54
        }
      ]
    },
    {
      "cell_type": "markdown",
      "source": [
        "Zkusil jsem trochu slozitejsi neuronku s pridanou druhou skrytou vrstvou. Prislo mi, ze se ztratova funkce snizovala pomalu, zkusil jsem tedy snizit velikost davky, coz prilis nepomohlo. Vysledky nejsou o moc lepsi ani horsi nez jednodussi neuronova sit."
      ],
      "metadata": {
        "id": "Ss8bYAoCy2j9"
      }
    },
    {
      "cell_type": "markdown",
      "source": [
        "## Zaver\n",
        "Myslim, ze se ukazalo, ze ceny letenek jsou dobre predikovatelne a to i pomoci jednodussich modelu. Oproti puvodni benchmark linearni regresi performovali vsechny dalsi modely vyborne. Krome `class` jsem pouzil vsechny sloupce, vcetne kategorialnich pomoci one hot encodingu.\n",
        "\n",
        "Jako metriku chyby jsem zvolil MAPE (Mean Absolute Percentage Error), tedy prumernou absolutni procentualni chybu. Vysledna chyba se da interpretovat jako prumerna procentualni odchylka predikce od skutecnych hodnot.\n",
        "\n",
        "### Vyber nejlepsiho modelu\n",
        "Jelikoz dobrych predikcnich schopnosti dosahovaly i jednodussi modely, myslim, ze je vhodne vybrat je. A to primarne z duvodu jejich snadne uchopitelnosti i rychlosti treninku.\n",
        "\n",
        "Naprosto nejlepsich vysledku dosahly regresni stromy za pouziti bagging metody (bootstrap + aggregate). MAPE tohoto modelu byla pouze ~2.8%, coz je fantasticka hodnota.\n",
        "\n",
        "I standardni regresni strom, nebo model random forest dosahl dobrych vysledku a MAPE ~4.2% a ~4%. U jednoho stromu mam podezreni na over-fitting, u random forestu si myslim, ze jsem nenalezl optimalni parametry.\n",
        "\n",
        "Dalsim vhodnym modelem by mohla byt linearni regrese regularizovana pomoci elastic net. Pri pouziti L1 (Lasso) regularizace dosahl tento model out-of-sample chyby asi 11%, coz na linearni regresi neni vubec spatne. Hledani optimalnich parametru vsak trvalo pomerne dlouho.\n",
        "\n",
        "Myslim, ze v pripade aktualnich dat nema vyznam vuzivat neuronove site. Ackoliv i jednoducha sit mela vcelku dobre predikcni schopnosti, neni lepsi nez rozhodovaci stromy a jeji trenink a interpretace je slozitejsi. Je mozne, ze pri nalezeni lepsich hyper-parametru, by mohla neuronka dosahnout stejne kvality predikci jako stromy. Aktivacni funkce vsech neuronu jsem vybral RELU.\n",
        "\n",
        "K Support Vector modelum se radsi moc nevyjadruji :D Myslim, ze by melo byt mozne je zlepsit. Jejich trenovani trvalo ale vyrazne nejdele ze vsech modelu v tomhle notebooku, takze jsem se jim moc nevenoval.\n",
        "\n",
        "### Jakou miru chyby je mozne ocekavat?\n",
        "Rekl bych, ze ocekavatelna mira chyby je rovna hodnotam zminenym vyse. Vsechny uvedene MAPE odchylky jsou pocitany out-of-sample, tedy na validacnich 20% puvodnich dat, ktere nebyly pouzity pro trenink. Diky vetsimu rozsahu dat bylo dost pozorovani pro trenink i pro testovani, a nezaznamenal jsem vyrazny over fitting."
      ],
      "metadata": {
        "id": "OWI2r6fQzKdK"
      }
    }
  ]
}