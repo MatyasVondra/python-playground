{
 "cells": [
  {
   "cell_type": "markdown",
   "id": "4ffd04ea-65c2-401c-a0d5-8d58d38b7942",
   "metadata": {},
   "source": [
    "# CPython data model a správa paměti"
   ]
  },
  {
   "cell_type": "markdown",
   "id": "d7250e82-9bb4-444b-9715-cd25b386f3c2",
   "metadata": {},
   "source": [
    "## Pod kapotou\n",
    "\n",
    "V této části si jen orientačně naznačíme, jakým způsobem jsou objekty v Pythonu vlastně implementované.\n",
    "\n",
    "Každý objekt v Pythonu je ve skutečnosti napsán, jako struktura v jazyce C. Struktury nejsou nic jiného než složený datový typ, který sdružuje více proměnných pod jedním jménem. Konkrétně jsou všechny objekty něakou variací na strukturu `PyObject`. Z pohledu OOP jsou všechny objekty v Pythonu potomkem jednoho společného předka, a sice objektu `Object`. V Pythonu 2 bylo dokonce nutné při definici vlastní třídy tento vztah explicitně zdůrazňovat (viz kapitola o dědičnosti).\n",
    "\n",
    "```python\n",
    "class MyClass(Object):\n",
    "    ...\n",
    "```\n",
    "\n",
    "V těchto C strukturách jsou uloženy všechny možné informace: informace o typu, počet referencí (uvidíme u správy paměti), seznamy s funkcemi na těchto strukturách definovanými atd. CPython intenzivně využívá pointer type casting (tj. předstírá, že pointer na strukturu v paměti ve skutečnosti ukazuje na jiný typ struktury), díky čemuž je možné implementovat takovou funkcionalitu, jako je například polymorphismus, ale za cenu toho, že výsledný kód je poměrně zdlouhavý a obsahuje velikou spoustu všelijakých kontrol. Přikládám úryvek z dokumentace\n",
    "\n",
    "> **Note** The explicit cast to destructor above is needed because we defined `Custom_dealloc` to take a `CustomObject *` argument, but the `tp_dealloc` function pointer expects to receive a `PyObject *` argument. Otherwise, the compiler will emit a warning. **This is object-oriented polymorphism, in C!**\n",
    "\n",
    "My se tímto směrem ještě jednou vydáme a ukážeme si explicitně, jak v CPythonu vypadá sčítání dvou čísel, ale prozatím nám toto stačí."
   ]
  },
  {
   "cell_type": "markdown",
   "id": "7d8400cc-7394-4058-9d7d-369713e29b4b",
   "metadata": {},
   "source": [
    "## Správa paměti\n",
    "\n",
    "V jazycích, jako je C, je nutné ručně řídit správu paměti, obzvlášť v případech, kdy např. velikost používaných polí není známa během compile time, ale až během run time. To obvykle probíhá ve dvou krocích - alokace a dealokace. Následující příklad v C alokuje paměť pro pole celých čísel.\n",
    "\n",
    "```c\n",
    "int some_function(int n) {\n",
    "    int * array = malloc(sizeof(int) * n);\n",
    "\n",
    "    if (array == NULL)\n",
    "        return SOME_ERROR_CODE;\n",
    "\n",
    "    process_array(array, n);\n",
    "    \n",
    "    free(array);\n",
    "}\n",
    "```\n",
    "Manuální správa paměti nám sice dává velkou kontrolu, ale je velmi častým zdrojem chyb. Typickou chybou bývá opomenutí `free`, což znamená, že po skončení programu nebyla všechna paměť navrácena systému, tzv. _memory leak error_. Jinou častou chybou je opomenutí kontroly, zda alokace skutečně proběhla. Snažíme-li se pak např. zapisovat do této nealokované paměti, setkáme se s nechvalně známou _segmentation fault_, která už od low level programování odradila mnoho lidí.\n",
    "\n",
    "V jazycích jako je Python, Java, JavaScript atd. se využívá naopak automatické správy paměti metodou, které říkáme garbage collection. Jako programátor se tedy od alokaci a dealokaci nestaráme a garbage collector to zajistí za nás - nevyužívané či nepřístupné objekty dekonstruuje a jim náležící paměť navrátí do poolu (Python si alokuje něco, čemu říká memory arenas, typicky po 256 KB, které dále pools po 4 KB. Tyto pools slouží pro alokaci objektů podobné velikosti, s cílem zamezit fragmentaci. V jednotlivých pools je paměť pro objekty alokována po blocích) \n",
    "\n",
    "Python implementuje garbage collection pomocí reference counting - počítání referencí. Dokud je objekt nenulový počet referencí, zůstává v paměti, jakmile počet referencí klesne na 0, tj. na náš objekt nic neukazuje, je nedosažitelný, garbage collector ho smaže a pamět uvolní. Můžeme si to vyzkoušet pomocí modulu `sys` a zcela generického objektu."
   ]
  },
  {
   "cell_type": "code",
   "execution_count": 6,
   "id": "2fc9bc5b-29ae-4cab-a78b-6866231537af",
   "metadata": {},
   "outputs": [
    {
     "name": "stdout",
     "output_type": "stream",
     "text": [
      "2\n",
      "3\n",
      "2\n"
     ]
    }
   ],
   "source": [
    "import sys\n",
    "\n",
    "x = object()\n",
    "print(sys.getrefcount(x))\n",
    "y = x\n",
    "print(sys.getrefcount(x))\n",
    "del x\n",
    "print(sys.getrefcount(y))"
   ]
  },
  {
   "cell_type": "markdown",
   "id": "efedf641-8327-4cbf-a938-903c8d99289d",
   "metadata": {},
   "source": [
    "Otázka: proč to např. pro x=1 dopadne takhle?"
   ]
  },
  {
   "cell_type": "code",
   "execution_count": 7,
   "id": "8dfa5c49-6345-48cd-bc7f-2c9e9ecf91dc",
   "metadata": {},
   "outputs": [
    {
     "data": {
      "text/plain": [
       "3529"
      ]
     },
     "execution_count": 7,
     "metadata": {},
     "output_type": "execute_result"
    }
   ],
   "source": [
    "import sys\n",
    "\n",
    "x = 1\n",
    "sys.getrefcount(x)"
   ]
  },
  {
   "cell_type": "markdown",
   "id": "518b3473-3e10-47cb-8667-3f14a6c58eb1",
   "metadata": {},
   "source": [
    "## Generace\n",
    "\n",
    "Python aplikuje něco, čemu se občas říká _Generation hypothesis_, tedy předpoklad, že většina objektů zahyne krátce po svém vzniku. Pokud náhodou nepřežije, pak se přesune do další generace. Pythoní GC udržuje 3 generace objektů - Generation 0, 1, 2, někdy nazývané young, middleaged a old.\n",
    "\n",
    "GC zahají sběr - postupně prochází všechny objekty a pokud mají 0 referencí, poznačí si je na seznam k likvidaci. Pokud mají více referencí a jsou tedy dosažitelné, přesune je do starší generace.\n",
    "\n",
    "A kdy se vlastně sběr iniciuje? to je dáno počtem objektů v každé generaci. Každá generace má definovaný threshold, který když je překročen, proběhne sběr v dané generaci. To si můžeme prohlédnout prostřednictvím modul `gc`. Funkce `get_threshold()` nám vrátí aktuální threshold pro jednotlivé generace. Hodnoty můžeme měnit pomocí funkce `set_threshold(young, mid, old)`, ale obecně platí, že na chod GC bychom spíše neměli sahat, pokud k tomu nemám opravdu dobrý důvod. Zatím jsem nikdy neměl ani špatný důvod na chod GC sahat."
   ]
  },
  {
   "cell_type": "code",
   "execution_count": 22,
   "id": "469a76ce-9a9c-483d-8685-a05901dfbaac",
   "metadata": {},
   "outputs": [
    {
     "data": {
      "text/plain": [
       "(1000, 15, 15)"
      ]
     },
     "execution_count": 22,
     "metadata": {},
     "output_type": "execute_result"
    }
   ],
   "source": [
    "import gc\n",
    "# gc.set_threshold(1000, 15, 15)\n",
    "gc.get_threshold()"
   ]
  },
  {
   "cell_type": "markdown",
   "id": "8d318c15-3b74-49c6-bdc0-d964e3fb5703",
   "metadata": {},
   "source": [
    "Aktuální počet objektů v každé generaci si můžeme zobrazit a můžeme se rozhodnout i iniciovat kolekci manuálně."
   ]
  },
  {
   "cell_type": "code",
   "execution_count": 24,
   "id": "96cc532c-40bf-4c5c-86f2-89151156e29f",
   "metadata": {},
   "outputs": [
    {
     "name": "stdout",
     "output_type": "stream",
     "text": [
      "(734, 12, 3)\n",
      "(26, 0, 0)\n"
     ]
    }
   ],
   "source": [
    "import gc\n",
    "\n",
    "print(gc.get_count())\n",
    "gc.collect()\n",
    "print(gc.get_count())"
   ]
  },
  {
   "cell_type": "markdown",
   "id": "5bdaab66-0c51-48b3-beb9-dbbf6e6e03a2",
   "metadata": {},
   "source": [
    "## Self reference a cykly\n",
    "\n",
    "Problém nastane, když se v referencí objeví cyklus. Ukažme si jednoduchý příklad:"
   ]
  },
  {
   "cell_type": "code",
   "execution_count": 18,
   "id": "4d10b537-eeb1-4ec1-8522-f4c2f845bb67",
   "metadata": {},
   "outputs": [
    {
     "name": "stdout",
     "output_type": "stream",
     "text": [
      "3\n"
     ]
    }
   ],
   "source": [
    "import sys\n",
    "\n",
    "x = []\n",
    "x.append(x)\n",
    "\n",
    "print(sys.getrefcount(x))\n",
    "del x"
   ]
  },
  {
   "cell_type": "markdown",
   "id": "43277d02-8f8b-4329-b2bb-fb44b7033ad8",
   "metadata": {},
   "source": [
    "Po vymázání proměnné x stále zůstává jedna aktivní reference - první prvek listu referuje k listu. Pokud by GC kontroloval jen počet referencí, list `x` by v paměti zůstal a nebylo by ho jak odstranit. Pythoní algoritmus na detekci cyklů je popsán zde: https://devguide.python.org/internals/garbage-collector/\n",
    "Zde to zatím rozebírat nebudu."
   ]
  }
 ],
 "metadata": {
  "kernelspec": {
   "display_name": "Python 3 (ipykernel)",
   "language": "python",
   "name": "python3"
  },
  "language_info": {
   "codemirror_mode": {
    "name": "ipython",
    "version": 3
   },
   "file_extension": ".py",
   "mimetype": "text/x-python",
   "name": "python",
   "nbconvert_exporter": "python",
   "pygments_lexer": "ipython3",
   "version": "3.10.12"
  }
 },
 "nbformat": 4,
 "nbformat_minor": 5
}
