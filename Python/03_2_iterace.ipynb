{
 "cells": [
  {
   "cell_type": "markdown",
   "id": "17351677",
   "metadata": {},
   "source": [
    "# Iterace a cykly\n",
    "\n",
    "Slovo iterace znamená opakování. V kontexu programování tím většinou myslíme jednu ze dvou věcí:\n",
    "\n",
    "1. iterativní výpočet\n",
    "2. průchod přes prvky nějaké kolekce (častější)\n",
    "\n",
    "Iterativním výpočtům se zde věnovat nebudeme, zaměříme se pouze na prochází kolekcí. Ukážeme si různé způsoby - některé budou více v duchu jazyka Python (tomu se na internetu říká pythonic), některé méně. Budeme se snažit používat spíše ty více pythonic varianty."
   ]
  },
  {
   "cell_type": "markdown",
   "id": "e1fd0f7c",
   "metadata": {},
   "source": [
    "## Tuple packing and unpacking\n",
    "\n",
    "Jako tuple packing se nazývá následující chování"
   ]
  },
  {
   "cell_type": "code",
   "execution_count": 1,
   "id": "45c2ba85",
   "metadata": {},
   "outputs": [
    {
     "name": "stdout",
     "output_type": "stream",
     "text": [
      "(1, True) <class 'tuple'>\n"
     ]
    }
   ],
   "source": [
    "t = 1, True\n",
    "\n",
    "print(t, type(t))"
   ]
  },
  {
   "cell_type": "markdown",
   "id": "a3ad4e2e",
   "metadata": {},
   "source": [
    "Přiřazením více hodnot do jedné proměnné vzniká proměnná typu `tuple`, která obsahuje všechny honoty. S tím se typicky setkáváme u funkcí, které navrací více hodnot."
   ]
  },
  {
   "cell_type": "code",
   "execution_count": 2,
   "id": "93b01fc3",
   "metadata": {},
   "outputs": [
    {
     "name": "stdout",
     "output_type": "stream",
     "text": [
      "(1, 2) <class 'tuple'>\n"
     ]
    }
   ],
   "source": [
    "def f():\n",
    "    return 1, 2\n",
    "\n",
    "t = f()\n",
    "print(t, type(t))"
   ]
  },
  {
   "cell_type": "markdown",
   "id": "5d8e248b",
   "metadata": {},
   "source": [
    "Opačný proces, nazývaný tuple unpacking (případně obecněji sequence unpacking), slouží k opačnému účelu - zpřístupnění jednotlivých prvků sekvence v oddělených proměnných."
   ]
  },
  {
   "cell_type": "code",
   "execution_count": 3,
   "id": "28b981e5",
   "metadata": {},
   "outputs": [
    {
     "name": "stdout",
     "output_type": "stream",
     "text": [
      "1 2\n"
     ]
    }
   ],
   "source": [
    "t = (1, 2)\n",
    "\n",
    "a, b = t\n",
    "\n",
    "print(a, b)"
   ]
  },
  {
   "cell_type": "markdown",
   "id": "9d9a530f",
   "metadata": {},
   "source": [
    "Pokud máme zájem pouze o některou složku, můžeme využít dummy proměnnou, pro kterou se v Pythonu používá podtřžítko."
   ]
  },
  {
   "cell_type": "code",
   "execution_count": 5,
   "id": "9a4c03c6",
   "metadata": {},
   "outputs": [
    {
     "name": "stdout",
     "output_type": "stream",
     "text": [
      "1\n"
     ]
    }
   ],
   "source": [
    "t = (1, 2)\n",
    "\n",
    "a, _ = t\n",
    "print(a)"
   ]
  },
  {
   "cell_type": "markdown",
   "id": "4c88f62c-22ce-4d3f-ab40-c84425561938",
   "metadata": {},
   "source": [
    "Vtipné je, že pod podtržítkem se ukrývá normální proměnná"
   ]
  },
  {
   "cell_type": "code",
   "execution_count": 4,
   "id": "87090c2a-5dd8-4790-9c0b-0ae5cb8dd274",
   "metadata": {},
   "outputs": [
    {
     "name": "stdout",
     "output_type": "stream",
     "text": [
      "2 <class 'int'>\n"
     ]
    }
   ],
   "source": [
    "t = (1, 2)\n",
    "\n",
    "a, _ = t\n",
    "print(_, type(_))"
   ]
  },
  {
   "cell_type": "markdown",
   "id": "277f8af9-2f70-44f1-b5d8-7122a2812a25",
   "metadata": {},
   "source": [
    "Můžeme podtržítko opakovat i kombinovat s *"
   ]
  },
  {
   "cell_type": "code",
   "execution_count": 6,
   "id": "553ff79f",
   "metadata": {
    "scrolled": true
   },
   "outputs": [
    {
     "name": "stdout",
     "output_type": "stream",
     "text": [
      "0 3 9\n"
     ]
    }
   ],
   "source": [
    "a = tuple(range(10))\n",
    "\n",
    "x, _, _, y, *_, z = a\n",
    "print(x, y, z)"
   ]
  },
  {
   "cell_type": "markdown",
   "id": "0a117d80-cdcd-4e8f-b83f-340e4318ef5b",
   "metadata": {},
   "source": [
    "## Cykly"
   ]
  },
  {
   "cell_type": "markdown",
   "id": "4c498079-3fca-4f51-a133-e4a110f68c13",
   "metadata": {},
   "source": [
    "Základní cykly v Pythonu vypadají jako v ostatních jazycích"
   ]
  },
  {
   "cell_type": "code",
   "execution_count": null,
   "id": "939964bb-8657-4a84-8702-9978855cf103",
   "metadata": {},
   "outputs": [],
   "source": [
    "for i in range(5):\n",
    "    print(i)"
   ]
  },
  {
   "cell_type": "markdown",
   "id": "6c099836-81e8-4dc4-9a77-3a196ff1f385",
   "metadata": {},
   "source": [
    "`range(start, stop, step)` je příkladem takzvaného generátoru (vysvětlíme později), který generuje postupně hodnoty od `start` po `stop` (bez) s krokem `step`. Příklad výše můžeme přepsat i jako while cyklus, který lze obecně zapsat jako\n",
    "\n",
    "```python\n",
    "while condition:\n",
    "    ...\n",
    "```\n",
    "Tedy tělo cyklu se vykonává, dokud je splněna podmínka `condition`."
   ]
  },
  {
   "cell_type": "code",
   "execution_count": 8,
   "id": "e36416f0-22cf-4efc-ab65-385999b08f28",
   "metadata": {},
   "outputs": [
    {
     "name": "stdout",
     "output_type": "stream",
     "text": [
      "0\n",
      "1\n",
      "2\n",
      "3\n",
      "4\n"
     ]
    }
   ],
   "source": [
    "i = 0\n",
    "while i<5:\n",
    "    print(i)\n",
    "    i += 1"
   ]
  },
  {
   "cell_type": "markdown",
   "id": "48807021-d3a5-42be-8758-9ed2a8325fed",
   "metadata": {},
   "source": [
    "K další kontrole nad chodem cyklu můžeme využít klíčová slova `continue` nebo `break`. `continue` přeskočí zbytek těla a přejde k další iteraci, `break` ukončí chod cyklu zcela. Srovnej následující příklady"
   ]
  },
  {
   "cell_type": "code",
   "execution_count": 11,
   "id": "e50b363f-39be-4339-bc98-b5f76fd23247",
   "metadata": {},
   "outputs": [
    {
     "name": "stdout",
     "output_type": "stream",
     "text": [
      "1\n",
      "3\n"
     ]
    }
   ],
   "source": [
    "for i in range(5):\n",
    "    if i%2 == 0:\n",
    "        continue\n",
    "    print(i)"
   ]
  },
  {
   "cell_type": "code",
   "execution_count": 10,
   "id": "ff4064c5-9144-451f-a79d-1c36c6c53d35",
   "metadata": {},
   "outputs": [
    {
     "name": "stdout",
     "output_type": "stream",
     "text": [
      "0\n",
      "1\n",
      "2\n"
     ]
    }
   ],
   "source": [
    "for i in range(5):\n",
    "    if i == 3:\n",
    "        break\n",
    "    print(i)\n",
    "        "
   ]
  },
  {
   "cell_type": "markdown",
   "id": "28451a42-982f-4bd0-9b37-c84c89357f12",
   "metadata": {},
   "source": [
    "Python nabízí i celkem neobvyklé rozšíření `while` cyklu - blok `else`, který si vykoná, jakmile podmínka nebude splněna, tedy na konci běhu. Pokud ale cyklus předčasně ukončíme pomocí `break`, blok `else`se nevykoná."
   ]
  },
  {
   "cell_type": "code",
   "execution_count": 12,
   "id": "34209f68-18f9-4451-933e-502049bb9e69",
   "metadata": {},
   "outputs": [
    {
     "name": "stdout",
     "output_type": "stream",
     "text": [
      "0\n",
      "1\n",
      "2\n",
      "3\n",
      "4\n",
      "cycle has finished\n"
     ]
    }
   ],
   "source": [
    "i = 0\n",
    "while i<5:\n",
    "    print(i)\n",
    "    i+=1\n",
    "else:\n",
    "    print(\"cycle has finished\")"
   ]
  },
  {
   "cell_type": "code",
   "execution_count": 13,
   "id": "442df74b-a16e-48d1-b0b7-b9b18256c0df",
   "metadata": {},
   "outputs": [
    {
     "name": "stdout",
     "output_type": "stream",
     "text": [
      "0\n",
      "1\n",
      "2\n"
     ]
    }
   ],
   "source": [
    "i = 0\n",
    "while i<5:\n",
    "    if i == 3:\n",
    "        break\n",
    "    print(i)\n",
    "    i+=1\n",
    "else:\n",
    "    print(\"cycle has finished\")"
   ]
  },
  {
   "cell_type": "markdown",
   "id": "9324dd71",
   "metadata": {},
   "source": [
    "## Iterace přes kolekce"
   ]
  },
  {
   "cell_type": "markdown",
   "id": "9158b943-c339-496b-b07c-1b04fbd2c11f",
   "metadata": {},
   "source": [
    "Procházení přes prvky kolekce lze realizovat i *c-style*, tedy postupným indexováním"
   ]
  },
  {
   "cell_type": "code",
   "execution_count": null,
   "id": "f681ceb9",
   "metadata": {},
   "outputs": [],
   "source": [
    "colors = [\"blue\", \"red\", \"green\"]\n",
    "\n",
    "for i in range(len(colors)):\n",
    "    print(i, colors[i])"
   ]
  },
  {
   "cell_type": "markdown",
   "id": "ba4a2c21-366d-4598-827b-fdcf8c631772",
   "metadata": {},
   "source": [
    "Ale obecně se to považuje za nepříliš *pythonic*. V Pythonu lze přes všechny kolekce iterovat *přímo*"
   ]
  },
  {
   "cell_type": "code",
   "execution_count": 14,
   "id": "97fae4b6-3932-4609-88f1-c289bf34bdd5",
   "metadata": {},
   "outputs": [
    {
     "name": "stdout",
     "output_type": "stream",
     "text": [
      "blue\n",
      "red\n",
      "green\n"
     ]
    }
   ],
   "source": [
    "colors = [\"blue\", \"red\", \"green\"]\n",
    "\n",
    "for c in colors:\n",
    "    print(c)"
   ]
  },
  {
   "cell_type": "markdown",
   "id": "48a01a9a-8cb7-472c-ba1e-e1bf682e5f5e",
   "metadata": {},
   "source": [
    "Všimněte se, že obyčejný for cyklus s `range` je vlastně úplně to samé - range lze v tomto smyslu považovat za kolekci. Pokud bychom v těle cyklu potřebovali aktuální index, používá se wrapper `enumerate`, který při iterací vrací `tuple` složený z indexu a hodnoty. Běžně se využívá v kombinaci s `tuple unpacking`"
   ]
  },
  {
   "cell_type": "code",
   "execution_count": null,
   "id": "881dc52b",
   "metadata": {},
   "outputs": [],
   "source": [
    "# pythonic\n",
    "colors = [\"blue\", \"red\", \"green\"]\n",
    "\n",
    "for i, color in enumerate(colors, start=1):\n",
    "    print(i, color)"
   ]
  },
  {
   "cell_type": "markdown",
   "id": "04d63ec0-a404-42a2-9d80-bdd6dc18d48c",
   "metadata": {},
   "source": [
    "Podobně se používá in wrapper `zip`, kterým můžeme procházet více kolekcí najednou bez nutnosti indexovat."
   ]
  },
  {
   "cell_type": "code",
   "execution_count": null,
   "id": "5471fbad",
   "metadata": {},
   "outputs": [],
   "source": [
    "a = [1, 2, 3, 4]\n",
    "b = [\"a\", \"b\", \"c\"]\n",
    "\n",
    "for num, letter in zip(a, b):\n",
    "    print(num, letter)"
   ]
  },
  {
   "cell_type": "markdown",
   "id": "95e32ab6",
   "metadata": {},
   "source": [
    "### složitější iterace - `itertools` \n",
    "\n",
    "`itertools` je jedním z modulů Python Standard Library a umožňuje nám konstruovat složetější druhy iterátorů. Možností je mnoho, ukážu jen pár příkladů."
   ]
  },
  {
   "cell_type": "code",
   "execution_count": 17,
   "id": "6012699c",
   "metadata": {},
   "outputs": [
    {
     "name": "stdout",
     "output_type": "stream",
     "text": [
      "1 a\n",
      "1 b\n",
      "1 c\n",
      "2 a\n",
      "2 b\n",
      "2 c\n",
      "1 a\n",
      "1 b\n",
      "1 c\n",
      "2 a\n",
      "2 b\n",
      "2 c\n"
     ]
    }
   ],
   "source": [
    "from itertools import product\n",
    "\n",
    "a = [1, 2]\n",
    "b = [\"a\", \"b\", \"c\"]\n",
    "\n",
    "for num in a:\n",
    "    for let in b:\n",
    "        print(num, let)\n",
    "\n",
    "for num, let in product(a, b):\n",
    "    print(num, let)"
   ]
  },
  {
   "cell_type": "code",
   "execution_count": null,
   "id": "24d5e3f4",
   "metadata": {},
   "outputs": [],
   "source": [
    "from itertools import permutations\n",
    "\n",
    "a = [1, 2, 3, 4]\n",
    "\n",
    "for x in permutations(a):\n",
    "    print(x)"
   ]
  },
  {
   "cell_type": "code",
   "execution_count": 15,
   "id": "3d0f0ffd",
   "metadata": {},
   "outputs": [
    {
     "name": "stdout",
     "output_type": "stream",
     "text": [
      "1\n",
      "3\n",
      "6\n",
      "10\n",
      "1\n",
      "3\n",
      "6\n",
      "10\n"
     ]
    }
   ],
   "source": [
    "from itertools import accumulate\n",
    "a = [1, 2, 3, 4]\n",
    "\n",
    "suma = 0\n",
    "for x in a:\n",
    "    suma += x\n",
    "    print(suma)\n",
    "\n",
    "\n",
    "for x in accumulate(a):\n",
    "    print(x)"
   ]
  },
  {
   "cell_type": "code",
   "execution_count": 21,
   "id": "c9607451-a157-4e7c-a5ca-6d0dfb4829b7",
   "metadata": {},
   "outputs": [
    {
     "name": "stdout",
     "output_type": "stream",
     "text": [
      "1 1\n",
      "2 2\n",
      "3 3\n",
      "4 4\n"
     ]
    }
   ],
   "source": [
    "from itertools import tee\n",
    "a = [1, 2, 3, 4]\n",
    "ga, gb = tee(a, 2)\n",
    "\n",
    "for x, y in zip(ga, gb):\n",
    "    print(x, y)"
   ]
  },
  {
   "cell_type": "markdown",
   "id": "9c1ec56f",
   "metadata": {},
   "source": [
    "## list/dict comprehension"
   ]
  },
  {
   "cell_type": "code",
   "execution_count": null,
   "id": "37361f1b",
   "metadata": {},
   "outputs": [],
   "source": [
    "# zkrácený zápis pro bloky typu\n",
    "src = [3, -5, 0, -3, 2]\n",
    "res = []\n",
    "for x in src:\n",
    "    if x > 0:\n",
    "        res.append(x**2)\n",
    "    else:\n",
    "        res.append(0)\n",
    "\n",
    "print(res)"
   ]
  },
  {
   "cell_type": "code",
   "execution_count": null,
   "id": "944334ae",
   "metadata": {},
   "outputs": [],
   "source": [
    "# list comprehension\n",
    "src = [3, -5, 0, -3, 2]\n",
    "\n",
    "res = [x**2 if x >= 0 else 0 for x in src]\n",
    "\n",
    "print(res)"
   ]
  },
  {
   "cell_type": "code",
   "execution_count": null,
   "id": "a969c030",
   "metadata": {},
   "outputs": [],
   "source": [
    "keys = [\"a\", \"b\", \"c\"]\n",
    "vals = [1, 2, 3]\n",
    "\n",
    "d = {}\n",
    "for k, v in zip(keys, vals):\n",
    "    d[k] = v\n",
    "    \n",
    "print(d)"
   ]
  },
  {
   "cell_type": "code",
   "execution_count": null,
   "id": "7b84b68e",
   "metadata": {},
   "outputs": [],
   "source": [
    "keys = [\"a\", \"b\", \"c\"]\n",
    "vals = [1, 2, 3]\n",
    "\n",
    "d = {k: v for k, v in zip(keys, vals)}\n",
    "\n",
    "print(d)"
   ]
  },
  {
   "cell_type": "code",
   "execution_count": null,
   "id": "004203eb",
   "metadata": {},
   "outputs": [],
   "source": [
    "opts = {\n",
    "    \"opt_a\" : 1,\n",
    "    \"opt_b\" : 2,\n",
    "    \"opt_c\" : 3\n",
    "}\n",
    "\n",
    "opts2 = {key[-1]:val for key, val in opts.items()}\n",
    "print(opts2)"
   ]
  },
  {
   "cell_type": "code",
   "execution_count": null,
   "id": "bbd3bb07",
   "metadata": {},
   "outputs": [],
   "source": [
    "# operace na vsech prvcich listu\n",
    "from random import sample\n",
    "\n",
    "ceny_s_dph = sample(range(1000),10)\n",
    "dph = 1.21\n",
    "ceny_bez_dph = []\n",
    "for x in ceny_s_dph:\n",
    "    ceny_bez_dph.append(round(x / dph,2))\n",
    "    \n",
    "print(ceny_bez_dph)\n",
    "print(ceny_s_dph)\n"
   ]
  },
  {
   "cell_type": "code",
   "execution_count": null,
   "id": "d857a4e0",
   "metadata": {
    "scrolled": true
   },
   "outputs": [],
   "source": [
    "from random import sample\n",
    "\n",
    "ceny_s_dph = sample(range(1000),10)\n",
    "dph = 1.21\n",
    "ceny_bez_dph = [x / dph for x in ceny_s_dph]\n",
    "\n",
    "print(ceny_bez_dph)\n",
    "print(ceny_s_dph)\n"
   ]
  },
  {
   "cell_type": "markdown",
   "id": "d5938c31",
   "metadata": {},
   "source": [
    "### Samohlásky\n",
    "\n",
    "Napište funkci `count_vowels(text)`, která spočítá, kolik je ve vstupním textu samohlásek.\n",
    "\n",
    "1. Využijte k tomu list comprehension\n",
    "2. Předpokládejte, že v textu jsou pouze malá písmena"
   ]
  },
  {
   "cell_type": "code",
   "execution_count": null,
   "id": "3c616d87",
   "metadata": {},
   "outputs": [],
   "source": [
    "# reseni bez list comprehension\n",
    "\n",
    "def count_vowels(text):\n",
    "    count = 0\n",
    "    for c in text:\n",
    "        if c in \"aeiyou\":\n",
    "            count += 1\n",
    "    return count\n",
    "\n",
    "count_vowels(\"hello\")"
   ]
  },
  {
   "cell_type": "code",
   "execution_count": 2,
   "id": "8de6c57b",
   "metadata": {},
   "outputs": [
    {
     "data": {
      "text/plain": [
       "2"
      ]
     },
     "execution_count": 2,
     "metadata": {},
     "output_type": "execute_result"
    }
   ],
   "source": [
    "def count_vowels(text):\n",
    "    return len([1 for c in text if c in \"aeiyou\"])\n",
    "\n",
    "count_vowels(\"hello\")"
   ]
  },
  {
   "cell_type": "markdown",
   "id": "f9e1ecde",
   "metadata": {},
   "source": [
    "## Kdy přestat?"
   ]
  },
  {
   "cell_type": "code",
   "execution_count": null,
   "id": "97b34c99",
   "metadata": {},
   "outputs": [],
   "source": [
    "def is_prime(n):\n",
    "    if n <= 1:\n",
    "        return False\n",
    "    \n",
    "    for i in range(2, n):\n",
    "        if (n % i) == 0:\n",
    "            return False\n",
    "    return True\n",
    "\n",
    "def get_primes1(numbers): # neco jako: filter(is_prime, numbers)\n",
    "    primes = []\n",
    "    for num in numbers:\n",
    "        if is_prime(num):\n",
    "            primes.append(num)\n",
    "    return primes\n",
    "\n",
    "def get_primes2(numbers):\n",
    "    return list(filter(is_prime, numbers)) # very pythonic, funkcionalni pristup (functional programming)\n",
    "\n",
    "def get_primes3(numbers):\n",
    "    return [x for x in numbers if is_prime(x)] # list comprehension, very very pythonic\n",
    "\n",
    "def get_primes4(numbers):\n",
    "    return [x for x in numbers if all([(x%i != 0) for i in range(2, x)]) and x > 1] # this is too pythonic\n",
    "\n",
    "get_primes4([1, 2, 3, 4, 5, 6, 7, 8, 9, 10, 11])"
   ]
  },
  {
   "cell_type": "markdown",
   "id": "b59f8255",
   "metadata": {},
   "source": [
    "### Generatory"
   ]
  },
  {
   "cell_type": "code",
   "execution_count": null,
   "id": "7d4b92d9",
   "metadata": {},
   "outputs": [],
   "source": [
    "gen = (2 * x for x in range(int(1e8)))\n",
    "print(\"done\")\n",
    "for x in gen:\n",
    "    if x == int(1e8):\n",
    "        print(x)\n",
    "print(\"all done\")"
   ]
  },
  {
   "cell_type": "code",
   "execution_count": null,
   "id": "26eb7069",
   "metadata": {},
   "outputs": [],
   "source": [
    "gen = [2 * x for x in range(int(1e8))]\n",
    "print(\"done\")\n",
    "for x in gen:\n",
    "    if x == int(1e8):\n",
    "        print(x)\n",
    "print(\"all done\")"
   ]
  }
 ],
 "metadata": {
  "kernelspec": {
   "display_name": "Python 3 (ipykernel)",
   "language": "python",
   "name": "python3"
  },
  "language_info": {
   "codemirror_mode": {
    "name": "ipython",
    "version": 3
   },
   "file_extension": ".py",
   "mimetype": "text/x-python",
   "name": "python",
   "nbconvert_exporter": "python",
   "pygments_lexer": "ipython3",
   "version": "3.11.6"
  }
 },
 "nbformat": 4,
 "nbformat_minor": 5
}
