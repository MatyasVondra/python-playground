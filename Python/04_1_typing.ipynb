{
 "cells": [
  {
   "cell_type": "markdown",
   "id": "480ebf61-8cd6-4dc1-9cfb-765c8d3795cd",
   "metadata": {},
   "source": [
    "# Typing"
   ]
  },
  {
   "cell_type": "markdown",
   "id": "bd2bbe4f-6c60-47dc-b8bc-08e71820a570",
   "metadata": {},
   "source": [
    "## Staticky vs. dynamicky typované\n",
    "\n",
    "Stručně: staticky typované jazyky provádí kontrolu typů předem (např. během kompilace), dynamicky typované jazyky během runtime."
   ]
  },
  {
   "cell_type": "markdown",
   "id": "778d7620-616a-4272-8f25-10724821c451",
   "metadata": {},
   "source": [
    "Ukažme si, co nám dynamicky typované jazyky typicky dovolí, ale ve staticky typovaných to může být problematické."
   ]
  },
  {
   "cell_type": "code",
   "execution_count": null,
   "id": "39dae020",
   "metadata": {},
   "outputs": [],
   "source": [
    "def add(x, y):\n",
    "    return x + y\n",
    "\n",
    "add(1, 2.0)\n",
    "add(\"A\", \"B\")"
   ]
  },
  {
   "cell_type": "markdown",
   "id": "90f394b7",
   "metadata": {},
   "source": [
    "V jazyce C je nutné definovat zvlášť funkce pro různé datové typy argumentů.\n",
    "\n",
    "```c\n",
    "int add_int(int x, int y) {\n",
    "    return x + y;\n",
    "}\n",
    "\n",
    "float add_float(float x, float y) {\n",
    "    return x + y;\n",
    "}\n",
    "\n",
    "add_?(10, 1.0)\n",
    "```\n",
    "\n",
    "Některé jazyka, jako např. C++, dovolují i tzv. function overloading (přetěžování funkcí), tj. definovat funkce se steným názvem, ale odlišnou signaturou. Obvykle se toho dosahuje formou *name mangling*, tedy komolení názvů, a správná varianta funkce se vybírá během kompilace.\n",
    "\n",
    "```cpp\n",
    "int add(int x, int y) {\n",
    "    return x + y;\n",
    "}\n",
    "\n",
    "float add(float x, float y) {\n",
    "    return x + y;\n",
    "}\n",
    "\n",
    "add(10., 1.0)\n",
    "```"
   ]
  },
  {
   "cell_type": "markdown",
   "id": "83247a53-3fb6-4956-a616-38501da8201b",
   "metadata": {},
   "source": [
    "Python je sice dynamicky typovaný jazyk, ale možnost statické analýzy kódu může usnadnit práci a pomoci předejít řadě chyb. Ke statické analýze můžeme použít nástroj *mypy*, vyvíjený mimo python samotný, ale s úzkými vazbami na standard. Počínaje verzí 3.5 se v Pythonu začínají objevovat syntatktické prvky inspirované právě mypy, které mají statickou analýzu usnadnit - nazýváme je type hints."
   ]
  },
  {
   "cell_type": "markdown",
   "id": "5577c9ea",
   "metadata": {},
   "source": [
    "## Type hints"
   ]
  },
  {
   "cell_type": "code",
   "execution_count": null,
   "id": "a76c19d7",
   "metadata": {},
   "outputs": [],
   "source": [
    "def add(x: int, y: int) -> int:\n",
    "    return x + y"
   ]
  },
  {
   "cell_type": "markdown",
   "id": "5b155922-8466-4bf9-8a4d-4a6a90f1198b",
   "metadata": {},
   "source": [
    "Tímto fakticky říkáme, že argumenty `x` a `y` očekáváme celočíselné a stejně tak návratovou hodnotu. Nutno zdůraznit, že ačkoliv je to zcela validní Python, tak tyto type hints (či type annotations) slouží pouze pro účely statické analýzy kódu, která není povinná (tedy pomocí nástrojů jako mypy) a během runtime nejsou vůbec vynucovány. Hle:"
   ]
  },
  {
   "cell_type": "code",
   "execution_count": null,
   "id": "b239993b-3d8b-45e4-9f21-ef6cd48e3cd3",
   "metadata": {},
   "outputs": [],
   "source": [
    "add(\"a\", \"b\")"
   ]
  },
  {
   "cell_type": "markdown",
   "id": "4f318002-e695-478d-82e3-dbe5007fa0d8",
   "metadata": {},
   "source": [
    "Každé slušné IDE bude v nějaké míře statickou analýzu kódu využívat a bude upozorňovat, pokud bude někde nekonzistentní. Nutno dodat, že například mypy type hints ke svému chodu nutně nepotřebuje a dokáže lecos vyčíst z kontextu."
   ]
  },
  {
   "cell_type": "markdown",
   "id": "e926f17e-6efd-439f-b8a2-41206d1d95ee",
   "metadata": {},
   "source": [
    "Type hints mohou zahrnovat i složitější konstrukce - v zásadě jakýkoliv typ (i složený) můžete pro potřeby type hints nějak reprezentovat. Hezký přehled najdete přímo na webu mipy ve formě [cheatsheetu](https://mypy.readthedocs.io/en/stable/cheat_sheet_py3.html), zde uvedu jen pár příkladů."
   ]
  },
  {
   "cell_type": "code",
   "execution_count": null,
   "id": "95e96ca8-dc20-4915-a615-d76fc07d68ed",
   "metadata": {},
   "outputs": [],
   "source": [
    "def max(list[float | int]) -> float | int:\n",
    "    ..."
   ]
  },
  {
   "cell_type": "markdown",
   "id": "6483dc8e-a65a-4159-98c5-11caf32511c1",
   "metadata": {},
   "source": [
    "### Změny v posledních verzích\n",
    "\n",
    "Do verze Pythonu 3.9 bylo nutné pro popis složených typů importovat generic z podpůrného modulu typing. Tedy např. seznam celých čísel bylo nutné anotovat takto:"
   ]
  },
  {
   "cell_type": "code",
   "execution_count": null,
   "id": "c9b6e8e1-6bc6-4b3c-aeb6-cd8b77919ac0",
   "metadata": {},
   "outputs": [],
   "source": [
    "from typing import List\n",
    "\n",
    "lst: List[int]"
   ]
  },
  {
   "cell_type": "markdown",
   "id": "859a7cdd-2f94-4b06-a8de-4780c70007e4",
   "metadata": {},
   "source": [
    "Od verze 3.9 už můžeme využívat standardní název typu"
   ]
  },
  {
   "cell_type": "code",
   "execution_count": null,
   "id": "4909e79b-d542-4f57-8b8d-c649eaf92b73",
   "metadata": {},
   "outputs": [],
   "source": [
    "lst: list[int]"
   ]
  },
  {
   "cell_type": "markdown",
   "id": "c2ad9576-4e5c-4fdb-84a4-8a3e19f014a6",
   "metadata": {},
   "source": [
    "S verzí 3.10 mizí nutnost používat `Union`, když chceme povolit více různých typů. Např. seznam floatů či intů"
   ]
  },
  {
   "cell_type": "code",
   "execution_count": null,
   "id": "5280ee9d-74f5-4da3-ae8f-562353333273",
   "metadata": {},
   "outputs": [],
   "source": [
    "lst: list[int | float]"
   ]
  },
  {
   "cell_type": "code",
   "execution_count": null,
   "id": "6354f69c-b022-4ca5-9e1d-103156d8728c",
   "metadata": {},
   "outputs": [],
   "source": [
    "zatímco dříve"
   ]
  },
  {
   "cell_type": "code",
   "execution_count": null,
   "id": "df6412fb-c8bb-45db-8d83-b6d897e4082c",
   "metadata": {},
   "outputs": [],
   "source": [
    "from typing import Union\n",
    "\n",
    "lst = list[Union[int, float]]"
   ]
  },
  {
   "cell_type": "markdown",
   "id": "0b2baa65-9349-4429-912e-f63948fa8ee6",
   "metadata": {},
   "source": [
    "### Duck typing\n",
    "\n",
    "> If it walks like a duck, and it quacks like a duck, then it must be a duck.\n",
    "\n",
    "Duck typing je přístup k typování podobný strukturnímu - objekt je považován za objekt správného typu, pokud má definovanou tu správnou sadu vlastností.\n",
    "\n",
    "Tohoto principu je vhodné v pythonu využívat a volit vhodné type hints na základně toho, jaké vlastnosti od daného objektu vlastně chceme. Např. pokud má být možné přes objekt iterovat a jinou vlastnost nevyžadujeme, zvolíme typ `Iterable`"
   ]
  },
  {
   "cell_type": "code",
   "execution_count": null,
   "id": "dcef8f64",
   "metadata": {},
   "outputs": [],
   "source": [
    "from typing import Iterable\n",
    "\n",
    "def print_items(kolekce: Iterable) -> None:\n",
    "    for i in kolekce:\n",
    "        print(i)\n",
    "        \n",
    "print_items(\"ab\")\n"
   ]
  },
  {
   "cell_type": "markdown",
   "id": "1c2a9756-bbf4-412c-8c23-3c5753c25f31",
   "metadata": {},
   "source": [
    "Řadu příkladu nalezneme např. v [mipy cheatsheet](https://mypy.readthedocs.io/en/stable/cheat_sheet_py3.html)."
   ]
  },
  {
   "cell_type": "code",
   "execution_count": null,
   "id": "e8130279-9286-4a78-bb93-34993d7317af",
   "metadata": {},
   "outputs": [],
   "source": [
    "from typing import Callable\n",
    "\n",
    "def get_primes(number: list[int], is_prime: Callable[[int], bool]) -> list[int]:\n",
    "    ..."
   ]
  },
  {
   "cell_type": "markdown",
   "id": "e939d127-19d8-4b08-8da1-bf85bd99570f",
   "metadata": {},
   "source": [
    "## Type aliasing\n",
    "\n",
    "Složené typy lze i pojmenovávat a za některých okolností je to i vhodné. Například pokud v programu často pracujeme se souřadnicemi,můžeme si vytvořit vhodný typ. Anotace funkcí pak budou trochu čitelnější"
   ]
  },
  {
   "cell_type": "code",
   "execution_count": null,
   "id": "75332fec-d38d-4f0f-bde6-5f097c43012a",
   "metadata": {},
   "outputs": [],
   "source": [
    "Coords = tuple[float, float]\n",
    "\n",
    "def distance(this: Coords, other: Coords) -> float:\n",
    "    ...\n"
   ]
  },
  {
   "cell_type": "markdown",
   "id": "0d1c6757-07ba-49a4-9275-f63021edcaef",
   "metadata": {},
   "source": [
    "V tomto případě se jedná pouze o alias a type checke nebude rozlišovat mezi `Coords` a `tuple[float, float]`. Pokud bychom chtěli nový, odlišný typ, je třeba použít `NewType`"
   ]
  },
  {
   "cell_type": "code",
   "execution_count": null,
   "id": "92a645c5-8d72-46ae-9203-3acafc55517c",
   "metadata": {},
   "outputs": [],
   "source": [
    "from typing import NewType\n",
    "Coords = NewType(\"2d coordinates\", tuple[float, float])"
   ]
  },
  {
   "cell_type": "markdown",
   "id": "145c20a2-cb30-4ca7-ba95-bf95cdefd2ee",
   "metadata": {},
   "source": [
    "## Poznámka\n",
    "\n",
    "K typování se vrátíme ještě v kapitole o OOP - naučíme se psát tzv. protokoly, které slouží jako abstraktní prototypy pro duck typing."
   ]
  }
 ],
 "metadata": {
  "kernelspec": {
   "display_name": "Python 3 (ipykernel)",
   "language": "python",
   "name": "python3"
  },
  "language_info": {
   "codemirror_mode": {
    "name": "ipython",
    "version": 3
   },
   "file_extension": ".py",
   "mimetype": "text/x-python",
   "name": "python",
   "nbconvert_exporter": "python",
   "pygments_lexer": "ipython3",
   "version": "3.8.6"
  }
 },
 "nbformat": 4,
 "nbformat_minor": 5
}
