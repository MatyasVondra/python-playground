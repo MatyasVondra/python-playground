{
 "cells": [
  {
   "cell_type": "markdown",
   "id": "76182268",
   "metadata": {},
   "source": [
    "# Match"
   ]
  },
  {
   "cell_type": "markdown",
   "id": "a3ffca08",
   "metadata": {},
   "source": [
    "Velkou novinkou od verze 3.10 je konstrukce `match`. Na první pohled bychom ji mohli vnímat jako obyčejnou analogii klasického switch, např."
   ]
  },
  {
   "cell_type": "code",
   "execution_count": null,
   "id": "1d38cc76",
   "metadata": {},
   "outputs": [],
   "source": [
    "usr_input = 2\n",
    "\n",
    "match usr_input:\n",
    "    case 1:\n",
    "        print(\"doing thing number 1\")\n",
    "    case 2:\n",
    "        print(\"doing thing number 2\")\n",
    "    case 3:\n",
    "        print(\"doing thing number 3\")\n",
    "    case _:\n",
    "        print(\"unknown input, doing the default thing\")"
   ]
  },
  {
   "cell_type": "raw",
   "id": "eeb16c09",
   "metadata": {},
   "source": [
    "Ve skutečnosti je match ale mnohem mocnější, není to pouhý přepínač (switch), ale konstrukce, která umí rozpoznávat složitější vzorce (structural pattern matching). Ukažme si to na příkladu jednoduchého command line interface:"
   ]
  },
  {
   "cell_type": "code",
   "execution_count": null,
   "id": "cadc02bf",
   "metadata": {},
   "outputs": [],
   "source": [
    "def run_command(command: str) -> None:\n",
    "    match command.split():\n",
    "        case \"start\":\n",
    "            print(\"starting my thing\")\n",
    "        case [\"quit\" | \"exit\"]:\n",
    "            print(\"quitting the program\")\n",
    "        case [\"save\", filename]:\n",
    "            print(f\"saving to {filename}\")\n",
    "        case [\"export\", (\"pdf\" | \"jpg\" | \"txt\") as output]:\n",
    "            print(f\"exporting stuff to {output}\")\n",
    "        case [\"c\" | \"complicated\", *args]:\n",
    "            print(f\"running the complicated command with many arguments: {args}\")\n",
    "        case _:\n",
    "            print(f\"unrecognized command {command}\")\n",
    "            \n",
    "run_command(\"start\")\n",
    "run_command(\"c 1 2 jogurt\")\n",
    "run_command(\"save results.json\")\n",
    "run_command(\"export pdf\")\n",
    "run_command(\"export png\")\n",
    "run_command(\"quit\")"
   ]
  },
  {
   "cell_type": "markdown",
   "id": "69ad576c",
   "metadata": {},
   "source": [
    "Toto se dá zobecnit i na složitější object matching. (Co je dataclass, class a @ se dozvíme později, zatím to prostě akceptujte)"
   ]
  },
  {
   "cell_type": "code",
   "execution_count": null,
   "id": "f18e257c",
   "metadata": {},
   "outputs": [],
   "source": [
    "from typing import NewType\n",
    "from dataclasses import dataclass\n",
    "\n",
    "@dataclass\n",
    "class Point:\n",
    "    x: int\n",
    "    y: int\n",
    "\n",
    "p1 = Point(1, 0)\n",
    "p2 = Point(1, 1)\n",
    "\n",
    "def classify_point(p: Point):\n",
    "    match p:\n",
    "        case Point(x, 0):\n",
    "            print(\"that is a point on the x axis\")\n",
    "        case Point(0, y):\n",
    "            print(\"that is a point on the y axis\")\n",
    "        case Point(x, y) if x==y:\n",
    "            print(\"that is a point on the diagonal\")\n",
    "\n",
    "classify_point(p2)"
   ]
  },
  {
   "cell_type": "markdown",
   "id": "ed4012a2",
   "metadata": {},
   "source": [
    "Případně na něco takového"
   ]
  },
  {
   "cell_type": "code",
   "execution_count": null,
   "id": "38308cb2",
   "metadata": {},
   "outputs": [],
   "source": [
    "candidates = [{\n",
    "    \"name\": \"Vaclav\",\n",
    "    \"age\": 21,\n",
    "    \"language\": [\"czech\", \"english\", \"german\"]\n",
    "},\n",
    "{\n",
    "    \"name\": \"Emmanuel\",\n",
    "    \"age\": 27,\n",
    "    \"language\": [\"french\", \"english\", \"german\"]\n",
    "},\n",
    "{\n",
    "    \"name\": \"Grzegorz\",\n",
    "    \"age\": 35,\n",
    "    \"language\": [\"polish\"]\n",
    "}\n",
    "]\n",
    "\n",
    "def accept_candidate(p: dict):\n",
    "    match p:\n",
    "        case {\"language\": languages} if \"french\" in languages:\n",
    "            return False\n",
    "        case {\"age\": int(age)} if age < 25:\n",
    "            return False\n",
    "    return True\n",
    "            \n",
    "print(list(filter(accept_candidate, candidates)))"
   ]
  },
  {
   "cell_type": "markdown",
   "id": "1a864b96",
   "metadata": {},
   "source": [
    "Skvělý tutoriál najdete v [PEP 636](https://peps.python.org/pep-0636/) a hezké video o Python match [zde](https://youtu.be/scNNi4860kk)."
   ]
  }
 ],
 "metadata": {
  "kernelspec": {
   "display_name": "Python 3 (ipykernel)",
   "language": "python",
   "name": "python3"
  },
  "language_info": {
   "codemirror_mode": {
    "name": "ipython",
    "version": 3
   },
   "file_extension": ".py",
   "mimetype": "text/x-python",
   "name": "python",
   "nbconvert_exporter": "python",
   "pygments_lexer": "ipython3",
   "version": "3.8.6"
  }
 },
 "nbformat": 4,
 "nbformat_minor": 5
}
