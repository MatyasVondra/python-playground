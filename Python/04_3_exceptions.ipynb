{
 "cells": [
  {
   "cell_type": "markdown",
   "id": "bbfca330-f89b-4ce1-9300-100532346c6d",
   "metadata": {},
   "source": [
    "# Výjimky (exceptions)"
   ]
  },
  {
   "cell_type": "markdown",
   "id": "e765e98d-0c93-42b1-b777-fc702bf34fbd",
   "metadata": {},
   "source": [
    "Python používá ke zpracování chyb výjimky. Ne každý jaChyby v programu napsaném v Pythonu jsou v zásadě dvojího druhu:\n",
    "\n",
    "1. `SyntaxError`\n",
    "2. Všechny ostatní\n",
    "\n",
    "K `SyntaxError` dochází ve fázi čtení, tj. když parser prochází zdojový kód. Je to tak jediná chyba, která se za normálních okolností nedá zachytit (někdy jo, ale o tom jindy). Všechny ostatní chyby lze zachytit a zareagovat na ně nějakým žádoucím způsobem. Začněme jednoduchým příkladem dobře čitelné chyby. Když dojde k neošetřené chybě, Pythoní interpret nám napíše, k jaké chybě došlo a vypíše její `stack trace` (někdy traceback), tedy kde k té chybě došlo"
   ]
  },
  {
   "cell_type": "code",
   "execution_count": 1,
   "id": "918000f0-46cd-497c-b09a-64eb0f17cbec",
   "metadata": {},
   "outputs": [
    {
     "ename": "ZeroDivisionError",
     "evalue": "division by zero",
     "output_type": "error",
     "traceback": [
      "\u001b[0;31m---------------------------------------------------------------------------\u001b[0m",
      "\u001b[0;31mZeroDivisionError\u001b[0m                         Traceback (most recent call last)",
      "Cell \u001b[0;32mIn[1], line 3\u001b[0m\n\u001b[1;32m      1\u001b[0m a \u001b[38;5;241m=\u001b[39m \u001b[38;5;241m1\u001b[39m\n\u001b[1;32m      2\u001b[0m b \u001b[38;5;241m=\u001b[39m \u001b[38;5;241m0\u001b[39m\n\u001b[0;32m----> 3\u001b[0m \u001b[43ma\u001b[49m\u001b[43m \u001b[49m\u001b[38;5;241;43m/\u001b[39;49m\u001b[43m \u001b[49m\u001b[43mb\u001b[49m \u001b[38;5;66;03m# raises ZeroDivisionError\u001b[39;00m\n",
      "\u001b[0;31mZeroDivisionError\u001b[0m: division by zero"
     ]
    }
   ],
   "source": [
    "a = 1\n",
    "b = 0\n",
    "a / b # raises ZeroDivisionError"
   ]
  },
  {
   "cell_type": "markdown",
   "id": "1d856c5d-346e-4bf8-a422-7719998fd6cf",
   "metadata": {},
   "source": [
    "Zde vidíme, že chyba je typu `ZeroDivisionError` a došlo k ní na řádku 3. To je celkem čitelné. Zkusme chybu zabalit do nějaké funkce. a podívat se, jak se traceback změní."
   ]
  },
  {
   "cell_type": "code",
   "execution_count": 2,
   "id": "fe691aab-c501-4b73-82a7-5cb0fe3ab881",
   "metadata": {},
   "outputs": [
    {
     "ename": "ZeroDivisionError",
     "evalue": "division by zero",
     "output_type": "error",
     "traceback": [
      "\u001b[0;31m---------------------------------------------------------------------------\u001b[0m",
      "\u001b[0;31mZeroDivisionError\u001b[0m                         Traceback (most recent call last)",
      "Cell \u001b[0;32mIn[2], line 4\u001b[0m\n\u001b[1;32m      1\u001b[0m \u001b[38;5;28;01mdef\u001b[39;00m \u001b[38;5;21mf\u001b[39m(a, b):\n\u001b[1;32m      2\u001b[0m     \u001b[38;5;28;01mreturn\u001b[39;00m a \u001b[38;5;241m/\u001b[39m b\n\u001b[0;32m----> 4\u001b[0m \u001b[43mf\u001b[49m\u001b[43m(\u001b[49m\u001b[38;5;241;43m1\u001b[39;49m\u001b[43m,\u001b[49m\u001b[43m \u001b[49m\u001b[38;5;241;43m0\u001b[39;49m\u001b[43m)\u001b[49m\n",
      "Cell \u001b[0;32mIn[2], line 2\u001b[0m, in \u001b[0;36mf\u001b[0;34m(a, b)\u001b[0m\n\u001b[1;32m      1\u001b[0m \u001b[38;5;28;01mdef\u001b[39;00m \u001b[38;5;21mf\u001b[39m(a, b):\n\u001b[0;32m----> 2\u001b[0m     \u001b[38;5;28;01mreturn\u001b[39;00m \u001b[43ma\u001b[49m\u001b[43m \u001b[49m\u001b[38;5;241;43m/\u001b[39;49m\u001b[43m \u001b[49m\u001b[43mb\u001b[49m\n",
      "\u001b[0;31mZeroDivisionError\u001b[0m: division by zero"
     ]
    }
   ],
   "source": [
    "def f(a, b):\n",
    "    return a / b\n",
    "\n",
    "f(1, 0)"
   ]
  },
  {
   "cell_type": "markdown",
   "id": "c13b95db-4468-4af5-84ba-e880bea95580",
   "metadata": {},
   "source": [
    "Traceback je teď složitější, ale stále čitelný - postupuje zvenku dovnitř a ukazuje, v jaké funkci na jaké řádku k chybě došlo. To je velmi užitečné."
   ]
  },
  {
   "cell_type": "markdown",
   "id": "5536d816-66db-4b2c-84f8-d0662c75eb2c",
   "metadata": {},
   "source": [
    "## Try / except\n",
    "\n",
    "Chyby - výjimky - takzvaně _zachytáváme_ a činíme tak pomocí dvojice bloků `try` a `except`. V bloku `try` spouštíme kód, u kterého máme podezření, že by mohl vyvolat (raise) nějakou výjimku, blokem `except` výjimku zachytáváme (v jiných jazycích se tento blok nazývá catch block)."
   ]
  },
  {
   "cell_type": "code",
   "execution_count": null,
   "id": "2701bf73-6837-4f39-a9b6-c374071606ed",
   "metadata": {},
   "outputs": [],
   "source": [
    "def f(a, b):\n",
    "    a / b\n",
    "\n",
    "try:\n",
    "    f(1, 0)\n",
    "except ZeroDivisionError:\n",
    "    print(\"oi, we do not divide by zero\")\n",
    "\n",
    "print(\"the rest of the program\")"
   ]
  },
  {
   "cell_type": "markdown",
   "id": "e7cee315-34da-4263-98e1-53218cc961f3",
   "metadata": {},
   "source": [
    "Vidíme, že přestože k chybě došlo, zachytili jsme ji a zpracovali, takže program nespadl. To je žádoucí stav, ke kterému se obvykle budeme snažit směřovat."
   ]
  },
  {
   "attachments": {
    "28910090-3410-40fa-b6f3-1f4ae5f70fdd.png": {
     "image/png": "[encoded data removed]"
    }
   },
   "cell_type": "markdown",
   "id": "0f02f87c-4617-46f3-ac05-1680d7a757f8",
   "metadata": {},
   "source": [
    "Jak zjistíme, jakou výjimku zachytit? Buď zkusíme kód spustit tak, aby selhal, a chybu najdeme na konci stack trace, nebo ji vyhledáme v dokumentaci - často potkáme fráze jako: \"raises ThatAndThatError if beans not hot enough\".\n",
    "\n",
    "Např. u typu `dict` se v dokumentaci píše:\n",
    "\n",
    "![image.png](attachment:28910090-3410-40fa-b6f3-1f4ae5f70fdd.png)\n",
    "\n",
    "Vyzkoušejme:"
   ]
  },
  {
   "cell_type": "code",
   "execution_count": null,
   "id": "a27904a7-ef28-45eb-9b34-78756ac50021",
   "metadata": {},
   "outputs": [],
   "source": [
    "d = {\n",
    "    \"a\": 1,\n",
    "    \"b\": 0\n",
    "}\n",
    "\n",
    "try:\n",
    "    d[\"c\"]\n",
    "except KeyError:\n",
    "    print(\"ejhle, ono to funguje\")\n",
    "\n",
    "print(\"zbytek programu...\")"
   ]
  },
  {
   "cell_type": "markdown",
   "id": "9f0dc74d-63b6-4cbe-b88a-f5b1bcedfc4d",
   "metadata": {},
   "source": [
    "Můžeme také zřetězit několik `except` bloků za sebou a zachytávat postupně různé výjimky, nebo zachytit více výjimek v jednom `except` bloku."
   ]
  },
  {
   "cell_type": "code",
   "execution_count": null,
   "id": "1c381e0b-e848-4841-ae86-2a76923f2f81",
   "metadata": {},
   "outputs": [],
   "source": [
    "from random import randint\n",
    "\n",
    "def faulty_function():\n",
    "    i = randint(1, 3)\n",
    "    match i:\n",
    "        case 1:\n",
    "            raise KeyError(\"fake key error\")\n",
    "        case 2:\n",
    "            raise ZeroDivisionError(\"fake zero division error\")\n",
    "        case 3:\n",
    "            raise AttributeError(\"fake attribute error\")\n",
    "\n",
    "try:\n",
    "    faulty_function()\n",
    "except (KeyError, AttributeError):\n",
    "    print(\"this is the first except block\")\n",
    "except ZeroDivisionError:\n",
    "    print(\"this is the second except block\")"
   ]
  },
  {
   "cell_type": "markdown",
   "id": "1ba130cc-4b2f-42f3-a49f-a1be9135f6df",
   "metadata": {},
   "source": [
    "## Výjimka jako objekt\n",
    "\n",
    "Každou odchycenou výjimku můžeme lapit do proměnné a získat ještě dodatečné informace. Každá výjimka obsahuje mimo jiných atributy `args` (obsahující konkrétní parametry) a `__traceback__` (obsahující stack trace). Abychom ale traceback mohli číst, potřebujeme použít modul `traceback`."
   ]
  },
  {
   "cell_type": "code",
   "execution_count": 3,
   "id": "26543592-eda5-4438-9f94-7bcbaf8af63f",
   "metadata": {},
   "outputs": [
    {
     "name": "stdout",
     "output_type": "stream",
     "text": [
      "('non-existent-key',)\n",
      "rest of the program\n"
     ]
    },
    {
     "name": "stderr",
     "output_type": "stream",
     "text": [
      "  File \"/var/folders/ph/p8b85z1j67v9t760hygssjym0000gp/T/ipykernel_22974/4267090218.py\", line 8, in <module>\n",
      "    a_funky_function()\n",
      "  File \"/var/folders/ph/p8b85z1j67v9t760hygssjym0000gp/T/ipykernel_22974/4267090218.py\", line 5, in a_funky_function\n",
      "    d[\"non-existent-key\"]\n"
     ]
    }
   ],
   "source": [
    "import traceback\n",
    "\n",
    "def a_funky_function():\n",
    "    d = {}\n",
    "    d[\"non-existent-key\"]\n",
    "\n",
    "try:\n",
    "   a_funky_function()\n",
    "except KeyError as e:\n",
    "    print(e.args)\n",
    "    traceback.print_tb(e.__traceback__)\n",
    "\n",
    "print(\"rest of the program\")"
   ]
  },
  {
   "cell_type": "markdown",
   "id": "32662862-3d44-437b-ae3c-7d1cb13d7395",
   "metadata": {},
   "source": [
    "Je možné zachytit i zcela obecnou výjimku - všechny výjimky jsou typu `Exception`:"
   ]
  },
  {
   "cell_type": "code",
   "execution_count": 4,
   "id": "ea991be8-b2af-4970-8ccd-5d05bb2231df",
   "metadata": {},
   "outputs": [
    {
     "name": "stdout",
     "output_type": "stream",
     "text": [
      "('division by zero',)\n"
     ]
    }
   ],
   "source": [
    "try:\n",
    "    1/0\n",
    "except Exception as e: # toto zachytí jakoukoliv výjimku\n",
    "    print(e.args) "
   ]
  },
  {
   "cell_type": "markdown",
   "id": "9a645db9-aac7-4718-a932-c58591724f3f",
   "metadata": {},
   "source": [
    "## Nikdy\n",
    "\n",
    "ale vážně nikdy (to znamená v žádném případě) a to tak, že za žádných okolností, neděláme toto:"
   ]
  },
  {
   "cell_type": "code",
   "execution_count": null,
   "id": "e4a297db-d693-4f6c-a2ac-2c7159e92477",
   "metadata": {},
   "outputs": [],
   "source": [
    "try:\n",
    "    1 / 0 # jakykoliv vadny kod\n",
    "except:\n",
    "    pass"
   ]
  },
  {
   "cell_type": "markdown",
   "id": "f93e4ebd-f0ae-4737-b69a-6788ab2acb79",
   "metadata": {},
   "source": [
    "Nezpracovaná, ale zachycěná výjimka znamená, že program nespadne, ale my o chybě vůbec nevíme. To znaměná, že se velmi špatně hledá."
   ]
  },
  {
   "cell_type": "markdown",
   "id": "d4e97364-bed9-441d-a7f6-bc44be5c6c0b",
   "metadata": {},
   "source": [
    "## Finally (a else)"
   ]
  },
  {
   "cell_type": "markdown",
   "id": "dab740dc-2873-4a5f-9b8c-f95edb51e290",
   "metadata": {},
   "source": [
    "Kromě bloků `try` a `except` máme ještě bloky `else` a `finally`. Blok `else` následuje bezprostředně po `except` bloku (blocích) a vykoná se pouze v případě, že k žádné výjimce nedošlo. Blok `finally` je poslední a vykoná se vždy. Jeho smyslem je uklidit, tj. uzavřít otevřená spojení, navrátit zdroj atd. Následující příklad vše ilustruje - soubor se uzavře, ať už se stance v průběhu čtení cokoliv.\n"
   ]
  },
  {
   "cell_type": "code",
   "execution_count": null,
   "id": "303d5cdc-54d3-47b9-998a-9c1b76f25821",
   "metadata": {},
   "outputs": [],
   "source": [
    "try:\n",
    "    f = open(\"file.txt\", \"r\")\n",
    "    content = f.read()\n",
    "except FileNotFoundError:\n",
    "    print(\"File not found.\")\n",
    "except Exception as e:\n",
    "    print(\"Some other error occured\")\n",
    "else:\n",
    "    print(\"File read successfully.\")\n",
    "finally:\n",
    "    if 'f' in locals(): # overi, jestli symbol f vubec existuje, tj. jestli se soubor vubec povedlo otevrit\n",
    "        f.close()\n",
    "    print(\"File closed.\")"
   ]
  },
  {
   "cell_type": "markdown",
   "id": "5bf9bc74-df78-46e0-8018-88ca9ea7f494",
   "metadata": {},
   "source": [
    "## Vyvolání výjimky\n",
    "\n",
    "Výjimku samozřejmě můžeme i vyvolat. Používá se k tomu klíčové slovo `raise`. Seznam v pythonu dostupných výjimek nalezneme v dokumentaci - [zde](https://docs.python.org/3/library/exceptions.html). S ohledem na kontext můžeme použít kteroukoliv z nich."
   ]
  },
  {
   "cell_type": "code",
   "execution_count": null,
   "id": "9bb340c6-d2a1-4422-a00a-297d17e5d3e0",
   "metadata": {},
   "outputs": [],
   "source": [
    "def my_function_raising_exceptions(x):\n",
    "    if x == 0:\n",
    "        raise ValueError(\"argument x is not supposed to be zero\")\n",
    "\n",
    "try:\n",
    "    my_function_raising_exceptions(0)\n",
    "except ValueError as e:\n",
    "    print(e.args)"
   ]
  },
  {
   "cell_type": "markdown",
   "id": "d3e15bc9",
   "metadata": {},
   "source": [
    "## Kdy zachytit?\n",
    "\n",
    "Obecně se říká, že výjimka by se měla zachytit co nejblíže svému vzniku. Důvodů je řada, mezi hlavní patří např. kontext, za kterého výjimka vznikla (je dostupný, čitelný a výjimka snadno odstranitelná), čitelnost nebo třeba rychlost - v průběhu zpracování výjimky dochází k něčemu, čemu se říká stack unwinding - odvíjení zásobníku - Python postupně prochází zásobník volaných funkcí (call stack) a hledá, zda tam není někdo, koho ta výjimka zajímá (`except` blok). Když nikoho nenajde, program selže.\n",
    "\n",
    "Následující série příkladů ilustruje, jaký vliv na celkový program má to, kde výjimku zachytíte. Můžete si k zachycení přípsat i traceback."
   ]
  },
  {
   "cell_type": "code",
   "execution_count": null,
   "id": "0aa7f50b",
   "metadata": {},
   "outputs": [],
   "source": [
    "def may_throw():\n",
    "    raise RuntimeError(\"oh no, it happened\")\n",
    "        \n",
    "def subprogram():\n",
    "    print(\"this is subprogram, doing subprogram things\")\n",
    "    may_throw()\n",
    "    print(\"subprogram finished\")\n",
    "    \n",
    "def mainprogram():\n",
    "    print(\"this is the main program, doing main program things\")\n",
    "    print(\"calling subprogram\")\n",
    "    subprogram()\n",
    "    print(\"mainprogram finished\")\n",
    "        \n",
    "mainprogram()"
   ]
  },
  {
   "cell_type": "code",
   "execution_count": null,
   "id": "a651389e",
   "metadata": {},
   "outputs": [],
   "source": [
    "def may_throw():\n",
    "    raise RuntimeError(\"oh no, it happened\")\n",
    "        \n",
    "def subprogram():\n",
    "    print(\"this is subprogram, doing subprogram things\")\n",
    "    try:\n",
    "        may_throw()\n",
    "    except:\n",
    "        print(\"oh no it failed\")\n",
    "    print(\"subprogram finished\")\n",
    "    \n",
    "def mainprogram():\n",
    "    print(\"this is the main program, doing main program things\")\n",
    "    print(\"calling subprogram\")\n",
    "    subprogram()\n",
    "    print(\"mainprogram finished\")\n",
    "        \n",
    "mainprogram()"
   ]
  },
  {
   "cell_type": "code",
   "execution_count": null,
   "id": "b2d94de6",
   "metadata": {},
   "outputs": [],
   "source": [
    "def may_throw():\n",
    "    raise RuntimeError(\"oh no, it happened\")\n",
    "        \n",
    "def subprogram():\n",
    "    print(\"this is subprogram, doing subprogram things\")\n",
    "    may_throw()\n",
    "    print(\"subprogram finished\")\n",
    "\n",
    "    \n",
    "def mainprogram():\n",
    "    print(\"this is the main program, doing main program things\")\n",
    "    print(\"calling subprogram\")\n",
    "    subprogram()\n",
    "    print(\"mainprogram finished\")\n",
    "    \n",
    "try:        \n",
    "    mainprogram()\n",
    "except:\n",
    "    print(\"oh no it failed\")"
   ]
  }
 ],
 "metadata": {
  "kernelspec": {
   "display_name": "Python 3 (ipykernel)",
   "language": "python",
   "name": "python3"
  },
  "language_info": {
   "codemirror_mode": {
    "name": "ipython",
    "version": 3
   },
   "file_extension": ".py",
   "mimetype": "text/x-python",
   "name": "python",
   "nbconvert_exporter": "python",
   "pygments_lexer": "ipython3",
   "version": "3.8.6"
  }
 },
 "nbformat": 4,
 "nbformat_minor": 5
}
