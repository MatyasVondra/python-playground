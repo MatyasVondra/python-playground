{
 "cells": [
  {
   "cell_type": "markdown",
   "id": "dcb607e8-8472-4e5a-b024-cf5ca60d029c",
   "metadata": {},
   "source": [
    "# Načítání ze souboru"
   ]
  },
  {
   "cell_type": "markdown",
   "id": "583c1501",
   "metadata": {},
   "source": [
    "## Základní operace"
   ]
  },
  {
   "cell_type": "code",
   "execution_count": null,
   "id": "57ad5396-3650-4822-9789-8e904154b7da",
   "metadata": {},
   "outputs": [],
   "source": [
    "file = open(\"../examples/config.ini\", \"r\")\n",
    "\n",
    "data = file.read()\n",
    "\n",
    "print(data)\n",
    "\n",
    "file.close()"
   ]
  },
  {
   "cell_type": "markdown",
   "id": "6af12847",
   "metadata": {},
   "source": [
    "soubor lze otevřít v několika modech:\n",
    "- 'r' pro čtení\n",
    "- 'w' pro zápis\n",
    "- 'a' pro zápis v režimu append - zápis na konec\n",
    "\n",
    "ke každému lze přidat ještě modifier 'b' pro práci v binárním režimu"
   ]
  },
  {
   "cell_type": "markdown",
   "id": "053d98fa",
   "metadata": {},
   "source": [
    "Soubor je po dokončení práce třeba vždy uzavřít. Pokud soubor ponecháme otevřený, může dojít k nečekaným výsledkům. V příkladu níže vidíme, že při načtení ze souboru pomocí handle `f3` nevidíme změny zapsané pomocí handle `f2`."
   ]
  },
  {
   "cell_type": "code",
   "execution_count": null,
   "id": "5c8f7099-6ec5-449c-aa5e-ddc09d7d3dab",
   "metadata": {},
   "outputs": [],
   "source": [
    "from os import remove\n",
    "\n",
    "filename = \"tmpfile.txt\"\n",
    "\n",
    "f1 = open(filename,'w')\n",
    "f1.write(\"content\")\n",
    "f1.close()\n",
    "\n",
    "f2 = open(filename, 'a')\n",
    "f2.write(' - incorrectly modified')\n",
    "\n",
    "f3 = open(filename,'r')\n",
    "print(f3.read())\n",
    "\n",
    "f2.close()\n",
    "f3.close()\n",
    "\n",
    "remove(filename)"
   ]
  },
  {
   "cell_type": "markdown",
   "id": "69634294",
   "metadata": {},
   "source": [
    "Zatímco pokud soubor vždy pečlivě uzavřeme, změny se zapíšou."
   ]
  },
  {
   "cell_type": "code",
   "execution_count": null,
   "id": "85827054-c5b9-43e7-a171-51af0a62c9d1",
   "metadata": {},
   "outputs": [],
   "source": [
    "from os import remove\n",
    "\n",
    "filename = \"tmpfile.txt\"\n",
    "\n",
    "f1 = open(filename,'w')\n",
    "f1.write(\"content\")\n",
    "f1.close()\n",
    "\n",
    "f2 = open(filename, 'a')\n",
    "f2.write(' - correctly modified')\n",
    "f2.close()\n",
    "\n",
    "f3 = open(filename,'r')\n",
    "print(f3.read())\n",
    "f3.close()\n",
    "\n",
    "remove(filename)"
   ]
  },
  {
   "cell_type": "markdown",
   "id": "6fa73b0b",
   "metadata": {},
   "source": [
    "- dobrým zvykem je, zavírat otevřený soubor, jakmile ho dále nepotřebujeme\n",
    "- jakmile napíšete `open`, napiště rovnou i `close`"
   ]
  },
  {
   "cell_type": "markdown",
   "id": "12a07845",
   "metadata": {},
   "source": [
    "## `with` statement a context manager"
   ]
  },
  {
   "cell_type": "markdown",
   "id": "7b7be887",
   "metadata": {},
   "source": [
    "- jednou možností, jak bezpečněji otevírat soubory, je `with` statement.\n",
    "- veškerá práce se odehrává v odsazeném bloku a po jeho skončení se soubor uzavře\n",
    "- https://peps.python.org/pep-0343/"
   ]
  },
  {
   "cell_type": "code",
   "execution_count": null,
   "id": "a7106a03-a43a-42cd-adb5-fe2a41ccb00b",
   "metadata": {},
   "outputs": [],
   "source": [
    "with open(\"../examples/config.ini\", \"r\") as f:\n",
    "    data = f.read()\n",
    "\n",
    "for line in data.splitlines():\n",
    "    print(line)"
   ]
  },
  {
   "cell_type": "markdown",
   "id": "b0131314",
   "metadata": {},
   "source": [
    "- `with` statement je ve skutečnosti operuje s něčím, co se nazývá *context manager protocol*. Context manager protocol naplňuje každý objekt, který má definované metody `__enter__` a `__exit__`\n",
    "- uzavírání zdrojů po dokončení práce se tradičně řeší pomocí bloku `finally`. A skutečně, řádky\n",
    "```python\n",
    "with EXPR as var:\n",
    "    BLOCK\n",
    "```\n",
    "  jsou zhruba ekvivalentní řádkům\n",
    "```python\n",
    "VAR = EXPR\n",
    "VAR.__enter__()\n",
    "try:\n",
    "    BLOCK\n",
    "finally:\n",
    "    VAR.__exit__()\n",
    "```\n",
    "- tedy předchozí příklad lze přepsat jako\n",
    "```python\n",
    "f = open(\"../examples/config.ini\", \"r\")\n",
    "f.__enter__()\n",
    "try:\n",
    "    data = f.read()\n",
    "finally:\n",
    "    f.__exit__()\n",
    "```"
   ]
  },
  {
   "cell_type": "code",
   "execution_count": null,
   "id": "232b22ea",
   "metadata": {},
   "outputs": [],
   "source": [
    "f = open(\"../examples/config.ini\", \"r\")\n",
    "f.__enter__()\n",
    "try:\n",
    "    data = f.read()\n",
    "finally:\n",
    "    f.__exit__()\n",
    "print(data)"
   ]
  },
  {
   "cell_type": "markdown",
   "id": "96d82ef1",
   "metadata": {},
   "source": [
    "Přidejme si typický příklad - práce s databízí:"
   ]
  },
  {
   "cell_type": "code",
   "execution_count": null,
   "id": "bd64be6a",
   "metadata": {},
   "outputs": [],
   "source": [
    "class DatabaseConnection:\n",
    "    def __init__(self, db_name):\n",
    "        self.db_name = db_name\n",
    "\n",
    "    def __enter__(self):\n",
    "        print(f\"connecting to database {self.db_name}\")\n",
    "        return self\n",
    "    \n",
    "    def execute(self, query):\n",
    "        print(f\"executing query: {query}\")\n",
    "        \n",
    "    def execute_with_exception(self, query):\n",
    "        raise Exception(f\"a generic exception for this example\")\n",
    "\n",
    "    def __exit__(self, exc_type, exc_value, traceback):\n",
    "        if exc_type is not None:\n",
    "            print(f\"Exception {exc_type} caught, rollin back changes\")\n",
    "        else:\n",
    "            print(\"committing changes\")\n",
    "        print(\"closing connection\")\n",
    "\n",
    "\n",
    "# priklad, kde se nic nepokazi\n",
    "with DatabaseConnection(\"my_db.sqlite\") as db:\n",
    "    db.execute(\"CREATE TABLE IF NOT EXISTS my_table (id INTEGER PRIMARY KEY, name TEXT);\")\n",
    "    db.execute(\"INSERT INTO my_table (name) VALUES ('Alice');\")"
   ]
  },
  {
   "cell_type": "code",
   "execution_count": null,
   "id": "e464ec71",
   "metadata": {},
   "outputs": [],
   "source": [
    "# priklad, kde dojde k vyjimce - vyjimka sice probubla ven, ale context manager stejne uzavrel pripojeni\n",
    "try:\n",
    "    with DatabaseConnection(\"my_db.sqlite\") as db:\n",
    "        db.execute(\"CREATE TABLE IF NOT EXISTS my_table (id INTEGER PRIMARY KEY, name TEXT);\")\n",
    "        db.execute_with_exception(\"INSERT INTO my_table (name) VALUES ('Alice');\")\n",
    "except Exception:\n",
    "    print(\"database query failed but database connection was safely closed\")"
   ]
  },
  {
   "cell_type": "markdown",
   "id": "278016ca",
   "metadata": {},
   "source": [
    "## Načítání známých datových typů"
   ]
  },
  {
   "cell_type": "markdown",
   "id": "fb43667c",
   "metadata": {},
   "source": [
    "### `ini`\n",
    "\n",
    "Formát `ini` je celkem známý, prostý formát konfiguračních souborů, příklad z Wiki:\n",
    "\n",
    "```ini\n",
    "; last modified 1 April 2001 by John Doe\n",
    "[owner]\n",
    "name = John Doe\n",
    "organization = Acme Widgets Inc.\n",
    "\n",
    "[database]\n",
    "; use IP address in case network name resolution is not working\n",
    "server = 192.0.2.62     \n",
    "port = 143\n",
    "file = \"payroll.dat\"\n",
    "```\n",
    "\n",
    "Problém s ini formátem je ten, že není příliš standardizování. Některé varianty nedovolují komentáře, jiné nedovolují sekce."
   ]
  },
  {
   "cell_type": "markdown",
   "id": "baaf65c6",
   "metadata": {},
   "source": [
    "V Python je k dispozici bal9k configparser, který nějaké ini-like soubory číst umí.\n",
    "\n",
    "Nevýhody:\n",
    "- nepříjemná práce\n",
    "- neidentifikuje datové typy hodnot\n",
    "- vytváří vlastní (sice iterovatelné) typy, ačkoliv by byl lepší slovník"
   ]
  },
  {
   "cell_type": "code",
   "execution_count": null,
   "id": "30df313d-5d28-4995-ba2c-e6827b2b6e14",
   "metadata": {},
   "outputs": [],
   "source": [
    "import configparser\n",
    "\n",
    "config = configparser.ConfigParser()\n",
    "config.read(\"../examples/config.ini\")\n",
    "\n",
    "for section in config.sections():\n",
    "    for key, val in config[section].items():\n",
    "        print(key, val, type(val))"
   ]
  },
  {
   "cell_type": "markdown",
   "id": "9949d6b2",
   "metadata": {},
   "source": [
    "Existuje alternativa - [toml](https://toml.io/en/) - Tom's Obvious Minimal Language\n",
    "\n",
    "- podobný ini, ale s konkrétní specifikací\n",
    "- široká podpora napříč jazyky\n",
    "- rozeznává datové typy hodnot\n",
    "- vše dává k dispozici jako slovník\n",
    "\n",
    "V Pythonu dostupný jakoe externí balík `tomli`, od verze 3.11 dokonce součástí Pythonu"
   ]
  },
  {
   "cell_type": "code",
   "execution_count": null,
   "id": "a8627f74-40f5-4dba-a5e9-1e437e675702",
   "metadata": {},
   "outputs": [],
   "source": [
    "import tomli\n",
    "\n",
    "with open(\"../examples/config.toml\", \"rb\") as file:\n",
    "    cfg = tomli.load(file)\n",
    "\n",
    "print(cfg)"
   ]
  },
  {
   "cell_type": "markdown",
   "id": "75fee1e8",
   "metadata": {},
   "source": [
    "### `json`"
   ]
  },
  {
   "cell_type": "markdown",
   "id": "834a2e63",
   "metadata": {},
   "source": [
    "JSON - JavaScript Object Notation\n",
    "\n",
    "specifikace [json.org](https://www.json.org/json-en.html)\n",
    "\n",
    "- v pythonu s pomocí knihovny [json](https://docs.python.org/3/library/json.html)\n",
    "- formát JSON je mimořádně rozšířen\n",
    "- knihovna snadná na používání\n",
    "- má zabudovaný \"pretty print\""
   ]
  },
  {
   "cell_type": "code",
   "execution_count": null,
   "id": "d9e55c25-2ef3-4e8b-a54b-5c9ecc8cc19a",
   "metadata": {},
   "outputs": [],
   "source": [
    "import json\n",
    "\n",
    "with open(\"../examples/config.json\", \"r\") as file:\n",
    "    cfg = json.load(file)\n",
    "    \n",
    "for key, val in cfg[\"section a\"].items():\n",
    "    print(key, val, type(val))\n",
    "    \n",
    "print(json.dumps(cfg, indent=4))"
   ]
  },
  {
   "cell_type": "markdown",
   "id": "fb7fb784",
   "metadata": {},
   "source": [
    "### `csv` - comma separated values\n",
    "\n",
    "- další velmi rozšířený formát s nejasnou specifikací\n",
    "- balíček na práci s `csv`: [csv](https://docs.python.org/3/library/csv.html)\n",
    "- obtížně se s ním pracuje. Lepší alternativy např. `numpy` nebo `pandas`"
   ]
  }
 ],
 "metadata": {
  "kernelspec": {
   "display_name": "Python 3 (ipykernel)",
   "language": "python",
   "name": "python3"
  },
  "language_info": {
   "codemirror_mode": {
    "name": "ipython",
    "version": 3
   },
   "file_extension": ".py",
   "mimetype": "text/x-python",
   "name": "python",
   "nbconvert_exporter": "python",
   "pygments_lexer": "ipython3",
   "version": "3.11.6"
  }
 },
 "nbformat": 4,
 "nbformat_minor": 5
}
