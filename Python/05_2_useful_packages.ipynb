{
 "cells": [
  {
   "cell_type": "markdown",
   "id": "bff0d296",
   "metadata": {},
   "source": [
    "# Užitečné balíčky"
   ]
  },
  {
   "cell_type": "markdown",
   "id": "b64dd2ad-80a0-405d-9ebe-e0b28785bcdf",
   "metadata": {},
   "source": [
    "## Práce s cestami\n",
    "\n",
    "### os.path\n",
    "\n",
    "- low-level funkcionální přístup"
   ]
  },
  {
   "cell_type": "code",
   "execution_count": null,
   "id": "71cb1b7f-be1f-484f-a1a7-199e7407e9b1",
   "metadata": {},
   "outputs": [],
   "source": [
    "import os\n",
    "\n",
    "root = \"/data/unicorn/uc-python\"\n",
    "full_path = os.path.join(root, \"22_23_zs\", \"mipy\")\n",
    "\n",
    "print(full_path)"
   ]
  },
  {
   "cell_type": "markdown",
   "id": "c77dd6c5-b16b-4713-b945-af792a860783",
   "metadata": {
    "tags": []
   },
   "source": [
    "### pathlib\n",
    "\n",
    "- high-level objektový přístup"
   ]
  },
  {
   "cell_type": "code",
   "execution_count": null,
   "id": "085ae3e4-fd3d-4ef6-b684-a85a738fbf2c",
   "metadata": {},
   "outputs": [],
   "source": [
    "from pathlib import Path\n",
    "\n",
    "root =  Path(\"/data/unicorn/uc-python\")\n",
    "\n",
    "full_path = root / \"22_23_zs\" / \"mipy\"\n",
    "print(full_path)\n",
    "for file in full_path.iterdir():\n",
    "    if not file.is_dir(): print(file)\n",
    "    \n",
    "for file in full_path.glob(\"*_live*\"):\n",
    "    print(file)"
   ]
  },
  {
   "cell_type": "markdown",
   "id": "8755654c-9457-4982-9710-23ec02eb4d73",
   "metadata": {},
   "source": [
    "### shutil\n",
    "\n",
    ">High-level file operations\n",
    "\n",
    "- kopírování\n",
    "- přesouvání\n",
    "- přístup k právům\n",
    "- atd"
   ]
  },
  {
   "cell_type": "markdown",
   "id": "c3e1e295-e561-4c8a-b20e-fbace978060a",
   "metadata": {},
   "source": [
    "## modul `os`"
   ]
  },
  {
   "cell_type": "code",
   "execution_count": null,
   "id": "737942df-c95a-42fa-9c88-90dbf4f6ec87",
   "metadata": {},
   "outputs": [],
   "source": [
    "print(os.getcwd())\n",
    "os.chdir(\"/data/codebase\")\n",
    "print(os.getcwd())"
   ]
  },
  {
   "cell_type": "code",
   "execution_count": null,
   "id": "36b66fae-173a-4017-85d2-c4da0f0adf9b",
   "metadata": {},
   "outputs": [],
   "source": [
    "os.getenv(\"PYTHONPATH\")\n",
    "os.getenv(\"PATH\")"
   ]
  },
  {
   "cell_type": "markdown",
   "id": "78c7fe72-dbd6-4f62-b43a-336dc7ddfca5",
   "metadata": {},
   "source": [
    "## modul `sys`\n",
    "\n",
    "Modul `sys` je vestavěný modul, který poskytuje jistý interface mezi systémem a pythoním interpretem. Nejčastější mezi nejčastější využití patří\n",
    "\n",
    "1. přebírání commad-line argumentů předaných skriptu."
   ]
  },
  {
   "cell_type": "code",
   "execution_count": null,
   "id": "49468ec8",
   "metadata": {},
   "outputs": [],
   "source": [
    "import sys\n",
    "\n",
    "print(sys.argv)"
   ]
  },
  {
   "cell_type": "markdown",
   "id": "7386fc06",
   "metadata": {},
   "source": [
    "Toto je mimořádně matoucí tady v prostředí Jupyter. Pro lepší pochopení uložte předchozí kód do souboru a `main.py` a z příkazové řádky jej spusťte s několik argumenty navíc. Uvidíte toto:    \n",
    "```bash\n",
    "$ python3 main.py arg1 arg2\n",
    "['main.py', 'arg1', 'arg1']\n",
    "```\n",
    "Je to běžný způsob, jakým se programům předávají dodatečné argumenty. Pro složitější sadu argumentů se vyplací použít např. vestavěný modul `argparse`.\n",
    "\n",
    "2. ukončení programu s konkrétní exit code:\n",
    "```python\n",
    "import sys\n",
    "\n",
    "sys.exit(0)\n",
    "```\n",
    "\n",
    "3. přístup k informacím o interpretu či systému"
   ]
  },
  {
   "cell_type": "code",
   "execution_count": null,
   "id": "db9bd3bc",
   "metadata": {},
   "outputs": [],
   "source": [
    "import sys\n",
    "\n",
    "print(sys.version)\n",
    "print(sys.version_info)\n",
    "print(sys.platform)"
   ]
  },
  {
   "cell_type": "markdown",
   "id": "41d5c899-59d2-4a2e-a8da-638b54f485a1",
   "metadata": {},
   "source": [
    "## modul `datetime`\n",
    "\n",
    "Vestavěný model poskytující běžné funkce pro práci s datem. Asi nejčastší operace, které budete s tímto balíkem provádět, jsou tyto:\n",
    "\n",
    "1. aktuální datum a čas"
   ]
  },
  {
   "cell_type": "code",
   "execution_count": null,
   "id": "576295d8",
   "metadata": {},
   "outputs": [],
   "source": [
    "from datetime import datetime\n",
    "\n",
    "now = datetime.now()\n",
    "print(now)"
   ]
  },
  {
   "cell_type": "markdown",
   "id": "2bf1678e",
   "metadata": {},
   "source": [
    "2. reprezentace konkrétního data"
   ]
  },
  {
   "cell_type": "code",
   "execution_count": null,
   "id": "c731f22a",
   "metadata": {},
   "outputs": [],
   "source": [
    "from datetime import datetime\n",
    "\n",
    "specific_date = datetime(year=2023, month=10, day=22, hour=5)\n",
    "print(specific_date)"
   ]
  },
  {
   "cell_type": "markdown",
   "id": "a4aabe44",
   "metadata": {},
   "source": [
    "3. formátování data "
   ]
  },
  {
   "cell_type": "code",
   "execution_count": null,
   "id": "24a6c19e",
   "metadata": {},
   "outputs": [],
   "source": [
    "from datetime import datetime\n",
    "\n",
    "specific_date = datetime(year=2023, month=10, day=22, hour=5, minute=30, second=3)\n",
    "formatted_date = specific_date.strftime(\"%Y%m%d%H%M%S\")\n",
    "print(formatted_date)"
   ]
  },
  {
   "cell_type": "markdown",
   "id": "f84921d4",
   "metadata": {},
   "source": [
    "4. parsování data"
   ]
  },
  {
   "cell_type": "code",
   "execution_count": null,
   "id": "50211d6e",
   "metadata": {},
   "outputs": [],
   "source": [
    "date_string = \"2023-10-22\"\n",
    "parsed_date = datetime.strptime(date_string, \"%Y-%m-%d\")\n",
    "print(parsed_date)"
   ]
  },
  {
   "cell_type": "markdown",
   "id": "4ffa07c4",
   "metadata": {},
   "source": [
    "5. práce s rozdíly (k tomu slouží samostatný objekt `timedelta`)"
   ]
  },
  {
   "cell_type": "code",
   "execution_count": null,
   "id": "a4b3b0c1",
   "metadata": {
    "scrolled": true
   },
   "outputs": [],
   "source": [
    "from datetime import datetime, timedelta\n",
    "\n",
    "now = datetime.now()\n",
    "future = now + timedelta(minutes=45)\n",
    "\n",
    "print(now, future)"
   ]
  },
  {
   "cell_type": "markdown",
   "id": "5dc0a2fc",
   "metadata": {},
   "source": [
    "## Logging\n",
    "\n",
    "Python poskytuje prostřednitvím modulu `logging` poměrně širokou podporu logování. V modulu existují různé úrovně logování, které určují závažnost logovacích zpráv: `DEBUG`, `INFO`, `WARNING`, `ERROR` a `CRITICAL`. Nižší úrovně (např. `DEBUG`) jsou určeny pro detailní informace, zatímco vyšší úrovně (např. `CRITICAL`) slouží pro označení vážných problémů, které vyžadují okamžitou pozornost. Obecně je lepší používat pořádný logging než sérii printů - v případě potřeby lze míru logování změnit volbou log level. Základní použití si ukažmě na příkladu"
   ]
  },
  {
   "cell_type": "code",
   "execution_count": null,
   "id": "c3e07c50",
   "metadata": {
    "scrolled": false
   },
   "outputs": [],
   "source": [
    "import logging\n",
    "\n",
    "logging.basicConfig(\n",
    "    format='%(asctime)s - %(levelname)s - %(message)s',\n",
    "    level=logging.INFO,\n",
    "    # filename='example.log'\n",
    ")\n",
    "\n",
    "logging.info(\"This is an info message\")\n",
    "logging.debug(\"This message will be ignored\")\n",
    "logging.warning(\"This is a warning\")\n",
    "\n",
    "logging.getLogger().setLevel(logging.DEBUG)\n",
    "logging.debug(\"This message will not be ignored anymore\")"
   ]
  },
  {
   "cell_type": "markdown",
   "id": "43ef4af7",
   "metadata": {},
   "source": [
    "Modul `logging` standardně vypisuje všechno do `stderr` (proto to Jupyter označuje červeně). `stdout` (standardní výstup) a `stderr` (standardní chybový výstup) jsou dva datové toky, které jsou běžně používány pro interakci mezi programem a jeho vnějším prostředím. Zatímco `stdout` se obvykle používá pro běžný výstup programu, `stderr` se používá pro výpis chybových a diagnostických zpráv.\n",
    "\n",
    "Pokud bychom chtěli logging pouze do `stdout`, musíme nastavit loggin handler. Těch je možné i více najednou. Následující příklad loguje do `stdout` a do souboru zároveň (a ukazuje alternativní cestu, jak nastavit logování)."
   ]
  },
  {
   "cell_type": "code",
   "execution_count": null,
   "id": "f1d4cc25",
   "metadata": {},
   "outputs": [],
   "source": [
    "import logging\n",
    "import sys\n",
    "\n",
    "logger = logging.getLogger('my_logger')\n",
    "logger.setLevel(logging.DEBUG)\n",
    "\n",
    "# create a StreamHandler for stdout\n",
    "stdout_handler = logging.StreamHandler(sys.stdout)\n",
    "logger.addHandler(stdout_handler)\n",
    "\n",
    "# create a FileHandler\n",
    "# file_handler = logging.FileHandler('example.log')\n",
    "# logger.addHandler(file_handler)\n",
    "\n",
    "\n",
    "# Log a message\n",
    "logger.info(\"This message will go to stdout\")"
   ]
  },
  {
   "cell_type": "markdown",
   "id": "aa508a40",
   "metadata": {},
   "source": [
    "*Poznámka*: Kniha je napsaná a kompilovaná pomocí Jupyter Book. Protože logging používá singleton a Jupyter startuje jeden kernel per notebook, je pravděpodobné, že poslední příklad se v knize stále vypíše do `stderr`. Aby to prošlo správně, je nutné v mezičase kernel restartovat."
   ]
  }
 ],
 "metadata": {
  "kernelspec": {
   "display_name": "Python 3 (ipykernel)",
   "language": "python",
   "name": "python3"
  },
  "language_info": {
   "codemirror_mode": {
    "name": "ipython",
    "version": 3
   },
   "file_extension": ".py",
   "mimetype": "text/x-python",
   "name": "python",
   "nbconvert_exporter": "python",
   "pygments_lexer": "ipython3",
   "version": "3.10.12"
  }
 },
 "nbformat": 4,
 "nbformat_minor": 5
}
