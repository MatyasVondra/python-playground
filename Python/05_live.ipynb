{
 "cells": [
  {
   "cell_type": "markdown",
   "id": "ee83904e-6e33-4eeb-88ee-5f71748e67b5",
   "metadata": {},
   "source": [
    "## Lambda funkce\n",
    "\n",
    "- malá, anonymní funkce, na jednorázové použití\n",
    "- malá: tělo může obsahovat jediný výraz\n",
    "```python\n",
    "lambda arguments: expression\n",
    "```"
   ]
  },
  {
   "cell_type": "code",
   "execution_count": null,
   "id": "771e9623-ca04-4c85-ac01-eccd2631caec",
   "metadata": {},
   "outputs": [],
   "source": [
    "add = lambda x, y: x+y\n",
    "\n",
    "add(1, 2)\n",
    "add(3, 4)"
   ]
  },
  {
   "cell_type": "code",
   "execution_count": null,
   "id": "21936850-9408-407b-8ccc-54c1e77096cd",
   "metadata": {},
   "outputs": [],
   "source": [
    "lst = [1, 2, 3, 4, 5, 6, 7]\n",
    "\n",
    "even = [x for x in lst if (x%2)==0]\n",
    "print(even)\n",
    "\n",
    "even = list(filter(lambda x: (x%2)==0, lst))\n",
    "print(even)"
   ]
  },
  {
   "cell_type": "code",
   "execution_count": null,
   "id": "c8709dc4-3e0c-42bf-8a9a-c3dde78e174a",
   "metadata": {},
   "outputs": [],
   "source": [
    "lst = ['bb', 'c', 'aaa']\n",
    "\n",
    "lst_sorted = sorted(lst)\n",
    "print(lst_sorted)\n",
    "\n",
    "lst_sorted = sorted(lst, key=lambda x: len(x), reverse=True)\n",
    "print(lst_sorted)"
   ]
  },
  {
   "cell_type": "markdown",
   "id": "bc6e0e24-3478-4a77-8859-4d942097015c",
   "metadata": {},
   "source": [
    "## Nacitani ze souboru"
   ]
  },
  {
   "cell_type": "code",
   "execution_count": null,
   "id": "21cd85ce-f03f-4397-aa5e-2f51efbca96c",
   "metadata": {},
   "outputs": [],
   "source": [
    "file = open(\"soubor.txt\", \"r\") # r - read, w - write, a - append\n",
    "\n",
    "data = file.read()\n",
    "# lines = file.readlines()\n",
    "\n",
    "print(data)\n",
    "file.close()"
   ]
  },
  {
   "cell_type": "code",
   "execution_count": null,
   "id": "8c32241c-b2c3-4e15-ac81-23e04a245f7c",
   "metadata": {},
   "outputs": [],
   "source": [
    "file = open(\"./soubor.txt\", \"r\") # r - read, w - write, a - append\n",
    "\n",
    "line = file.readline()\n",
    "while line:\n",
    "    print(line.strip())\n",
    "    line = file.readline()\n",
    "    \n",
    "file.close()"
   ]
  },
  {
   "cell_type": "code",
   "execution_count": null,
   "id": "1f6f78aa-389b-4756-b1f5-a729a77a356e",
   "metadata": {},
   "outputs": [],
   "source": [
    "file = open(\"new_file.txt\", \"w\") # r - read, w - write, a - append\n",
    "\n",
    "lines = [\n",
    "    \"line01\\n\",\n",
    "    \"line02\\n\",\n",
    "    \"line03\\n\"\n",
    "]\n",
    "file.write(\"header\\n\")\n",
    "file.writelines(lines)\n",
    "\n",
    "file.close()\n",
    "\n",
    "file = open(\"new_file.txt\", \"r\")\n",
    "print(file.read())\n",
    "file.close()"
   ]
  },
  {
   "cell_type": "code",
   "execution_count": null,
   "id": "9e34163d-a515-4f9d-87cf-1d5289d8e552",
   "metadata": {},
   "outputs": [],
   "source": [
    "with open(\"new_file.txt\", \"r\") as file: # with statement pracuje s context manager\n",
    "    print(file.read())"
   ]
  },
  {
   "cell_type": "code",
   "execution_count": null,
   "id": "27334e17-3c4b-437c-ae1a-a3dcb05b6b77",
   "metadata": {},
   "outputs": [],
   "source": [
    "with open(\"new_file.txt\", \"r\") as file, \\\n",
    "    open(\"new_file2.txt\", \"w\") as file2:\n",
    "    for line in file.readlines():\n",
    "        file2.write(line)"
   ]
  },
  {
   "cell_type": "code",
   "execution_count": null,
   "id": "880b00dc-d16e-4f3d-b788-1dcd27354f5d",
   "metadata": {},
   "outputs": [],
   "source": [
    "tup = (\n",
    "    1,\n",
    "    3,\n",
    "    4\n",
    ")\n",
    "\n",
    "longstr = (\n",
    "    \"radek1\\n\"\n",
    "    \"radek2\\n\"\n",
    ")\n",
    "print(longstr)"
   ]
  },
  {
   "cell_type": "markdown",
   "id": "7f24f7e4-7b06-4e80-bb1d-da3742050d15",
   "metadata": {},
   "source": [
    "## Nacitani souboru konretnicih typu\n",
    "\n",
    "- \"ini\" - configparser\n",
    "- od 3.11 - soucasti pythonu tomllib, v 3.10 a drive nutno nainstalovat (tomli)\n",
    "- json"
   ]
  },
  {
   "cell_type": "code",
   "execution_count": null,
   "id": "dc13099f-2e47-4cfd-822a-af8e1d73fd19",
   "metadata": {},
   "outputs": [],
   "source": [
    "import json\n",
    "\n",
    "with open(\"example.json\", \"r\") as f:\n",
    "    data = json.load(f)\n",
    "\n",
    "data[\"phone_numbers\"].append({\"type\": \"work\", \"number\": 123456789})\n",
    "\n",
    "with open(\"example_update.json\", \"w\") as f:\n",
    "    json.dump(data, f, indent=4)"
   ]
  },
  {
   "cell_type": "markdown",
   "id": "d66a46f4-2194-4d63-bf07-ff8c81caf9a8",
   "metadata": {},
   "source": [
    "- csv, xlsx, ... pouzivame balik pandas"
   ]
  },
  {
   "cell_type": "markdown",
   "id": "da9ab4d9-3d62-424e-96a6-11d0cd64a766",
   "metadata": {},
   "source": [
    "## Užitečné balíčky"
   ]
  },
  {
   "cell_type": "markdown",
   "id": "f59ba641-5e82-48fe-be19-47794fcf474c",
   "metadata": {},
   "source": [
    "### Práce s cestami"
   ]
  },
  {
   "cell_type": "code",
   "execution_count": null,
   "id": "0c22208a-9630-4be5-b23d-764208cde933",
   "metadata": {},
   "outputs": [],
   "source": [
    "pathtofile = \"files\\myfile.json\" # nebude fungovat na Mac, linux"
   ]
  },
  {
   "cell_type": "code",
   "execution_count": null,
   "id": "f07b3ba2-0d67-4bc7-b941-6ec5157cbf69",
   "metadata": {},
   "outputs": [],
   "source": [
    "import os.path\n",
    "\n",
    "pathtofile = os.path.join(\"files\", \"myfile.json\")\n",
    "print(pathtofile)"
   ]
  },
  {
   "cell_type": "markdown",
   "id": "9e323d2d-4c54-451b-b090-1be04962078b",
   "metadata": {},
   "source": [
    "alternativa"
   ]
  },
  {
   "cell_type": "code",
   "execution_count": null,
   "id": "e4fc1e90-faf8-445c-a883-eab975df0bc5",
   "metadata": {},
   "outputs": [],
   "source": [
    "from pathlib import Path\n",
    "\n",
    "root = Path(\"files\")\n",
    "\n",
    "pathtofile = root / \"myfile.json\"\n",
    "print(pathtofile.suffix)"
   ]
  },
  {
   "cell_type": "markdown",
   "id": "5faa6768-b454-4c0e-9b0a-9ec405720925",
   "metadata": {},
   "source": [
    "- shutil - high level file operations\n",
    "- sys\n",
    "  - sys.argv - obsahuje argumenty predavane pres prikazovou radku\n",
    "  - sys.exit()\n",
    "  - informace o systemu: sys.platform, sys.version, sys.version_info"
   ]
  },
  {
   "cell_type": "markdown",
   "id": "711ed65a-9233-479c-a603-01fcc03d8bf4",
   "metadata": {},
   "source": [
    "## datetime"
   ]
  },
  {
   "cell_type": "code",
   "execution_count": null,
   "id": "9dd010f3-ef11-49e2-b84e-2ec0d2e79adf",
   "metadata": {},
   "outputs": [],
   "source": [
    "from datetime import datetime\n",
    "\n",
    "now = datetime.now()\n",
    "print(now)\n",
    "prettystring = now.strftime(\"%d. %m. %Y\")\n",
    "print(prettystring)"
   ]
  },
  {
   "cell_type": "code",
   "execution_count": null,
   "id": "a26383eb-92e3-422e-b527-7898bcc101e1",
   "metadata": {},
   "outputs": [],
   "source": [
    "timestamp = \"20231023200323\"\n",
    "date = datetime.strptime(timestamp, \"%Y%m%d%H%M%S\")\n",
    "print(date)"
   ]
  },
  {
   "cell_type": "markdown",
   "id": "0f2e69d7-8ffa-4b73-8717-d3f4ca48e435",
   "metadata": {},
   "source": [
    "## logging"
   ]
  },
  {
   "cell_type": "code",
   "execution_count": null,
   "id": "f055e660-929f-4eae-8127-0ffdf92bf9bd",
   "metadata": {},
   "outputs": [],
   "source": [
    "import logging\n",
    "\n",
    "logging.basicConfig(\n",
    "    format=\"%(asctime)s - %(levelname)s - %(message)s\",\n",
    "    level=logging.ERROR,\n",
    "    # filename='example.log'\n",
    ")\n",
    "# DEBUG INFO WARNING ERROR CRITICAL\n",
    "logging.info(\"this is info level message\")\n",
    "logging.warning(\"this is a warning\")\n",
    "logging.debug(\"this is a debug message\")"
   ]
  }
 ],
 "metadata": {
  "kernelspec": {
   "display_name": "Python 3 (ipykernel)",
   "language": "python",
   "name": "python3"
  },
  "language_info": {
   "codemirror_mode": {
    "name": "ipython",
    "version": 3
   },
   "file_extension": ".py",
   "mimetype": "text/x-python",
   "name": "python",
   "nbconvert_exporter": "python",
   "pygments_lexer": "ipython3",
   "version": "3.11.6"
  }
 },
 "nbformat": 4,
 "nbformat_minor": 5
}
