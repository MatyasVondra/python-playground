{
 "cells": [
  {
   "cell_type": "markdown",
   "id": "4c651168-1c02-4647-983f-9fbe81e627d9",
   "metadata": {},
   "source": [
    "## Dekorátor\n",
    "\n",
    "Návrhový vzor, detailně popsaný např. na webu [refactoring.guru](https://refactoring.guru/design-patterns/decorator).\n",
    "\n",
    "![UML diagram dekorátoru, refactoring.guru](https://refactoring.guru/images/patterns/diagrams/decorator/structure.png)\n",
    "\n",
    "Zjednodušeně se dá říct, že dekorátor umožňuje opakovatelným způsobem rozšiřovat funkcionalitu existujícího kódu tak, že jej obalí dalším kódem (je to vlastně takový wrapper).\n",
    "\n",
    "V pythonu mají dekorátory zvláštní postavení - máme k dispozici zjednodušující syntaxi pro jejich použití (jakýsi [syntactic sugar](https://en.wikipedia.org/wiki/Syntactic_sugar)).\n",
    "\n",
    "Ukažme si to na jednoduché funkci."
   ]
  },
  {
   "cell_type": "code",
   "execution_count": null,
   "id": "4b4a2cfd",
   "metadata": {},
   "outputs": [],
   "source": [
    "def add(x, y):\n",
    "    return x + y\n",
    "\n",
    "add(1, 2)"
   ]
  },
  {
   "cell_type": "markdown",
   "id": "9da1c641",
   "metadata": {},
   "source": [
    "Zkusme tuto funkci o něco rozšířit, např. o oznámení, že byla zavolaná, ale nesahejme na její definici. Jedna možnost, jak to udělat, je napsat wrapper - novou funkci, která tu původní obalí."
   ]
  },
  {
   "cell_type": "code",
   "execution_count": null,
   "id": "d736a748",
   "metadata": {},
   "outputs": [],
   "source": [
    "def wrapper(x, y):\n",
    "    print(\"calling funcion add\")\n",
    "    return add(x, y)\n",
    "\n",
    "wrapper(1, 2)"
   ]
  },
  {
   "cell_type": "markdown",
   "id": "b825fc43",
   "metadata": {},
   "source": [
    "Napišme si trochu obecnější wrapper: napišme funkci, která dostane obalovanou funkci na vstupu, a vrátí obalený výsledek. Jméno funkce najdeme pod atributem `.__name__`."
   ]
  },
  {
   "cell_type": "code",
   "execution_count": null,
   "id": "4855f2f8",
   "metadata": {},
   "outputs": [],
   "source": [
    "def better_wrapper(func):\n",
    "    def wrapper(x, y):\n",
    "        print(f\"calling function {func.__name__}\")\n",
    "        return func(x, y)\n",
    "    return wrapper\n",
    "\n",
    "wrapped_add = better_wrapper(add)\n",
    "wrapped_add(1, 2)"
   ]
  },
  {
   "cell_type": "markdown",
   "id": "e8c3acc8",
   "metadata": {},
   "source": [
    "Teď můžeme obalit i jinou funkci."
   ]
  },
  {
   "cell_type": "code",
   "execution_count": null,
   "id": "24922159",
   "metadata": {},
   "outputs": [],
   "source": [
    "def multiply(x, y):\n",
    "    return x * y\n",
    "\n",
    "wrapped_multiply = better_wrapper(multiply)\n",
    "wrapped_multiply(1, 2)"
   ]
  },
  {
   "cell_type": "markdown",
   "id": "fb924bc3",
   "metadata": {},
   "source": [
    "Jedinou slabinou je, že náš `better_wrapper` stále předpokládá, že obalovaná funkce přijímá dva argumenty. Můžeme napsat obecný wrapper. Vzhledem k tomu, co dělá, ho pojmenujme `log`"
   ]
  },
  {
   "cell_type": "code",
   "execution_count": null,
   "id": "52bba367",
   "metadata": {},
   "outputs": [],
   "source": [
    "def log(func):\n",
    "    def wrapper(*args, **kwargs):\n",
    "        print(f\"calling function {func.__name__}\")\n",
    "        return func(*args, **kwargs)\n",
    "    return wrapper"
   ]
  },
  {
   "cell_type": "markdown",
   "id": "14da99fd",
   "metadata": {},
   "source": [
    "Takový wrapper už umí obalit úplně libovolnou funkci."
   ]
  },
  {
   "cell_type": "code",
   "execution_count": null,
   "id": "ffa888f4",
   "metadata": {},
   "outputs": [],
   "source": [
    "def some_function(arg1, **kwargs):\n",
    "    print(arg1, kwargs.keys())\n",
    "    \n",
    "logged_some_function = log(some_function)\n",
    "\n",
    "logged_some_function(True, x=3)"
   ]
  },
  {
   "cell_type": "markdown",
   "id": "832d32d6",
   "metadata": {},
   "source": [
    "Funkce, která vrácí obalenou funkci, je vlastně dekorátorem (rozšiřuje funkcionalitu existujícího objektu). Pro komfort je možné v pythonu dekorovat funkce již při definici - nemusíme zavádět nová jména pro dekorované varianty. V pythonu k tomu slouží následující syntaxe"
   ]
  },
  {
   "cell_type": "code",
   "execution_count": null,
   "id": "d8a621f0",
   "metadata": {},
   "outputs": [],
   "source": [
    "@log\n",
    "def another_function():\n",
    "    print(\"this function does not actually do anything\")\n",
    "    \n",
    "another_function()"
   ]
  },
  {
   "cell_type": "markdown",
   "id": "5c3eb04d",
   "metadata": {},
   "source": [
    "Můžeme si dovolit ještě jednu úroveň abstrakce. Chování dekorátoru může být závislé na nějakém další parametru. Potřebujeme tedy napsat funkci, která nám vrátí dekorátor. Ale dekorátor je funkce, která vrací funkci. Takže napíšeme funkci, která vrací funkci, která vrací funkci.\n",
    "\n",
    "Přidejme k našemu dekorátoru možnost logování vypnout."
   ]
  },
  {
   "cell_type": "code",
   "execution_count": null,
   "id": "0402ab95",
   "metadata": {},
   "outputs": [],
   "source": [
    "def log(do_log):\n",
    "    def dec(func):\n",
    "        def wrapper(*args, **kwargs):\n",
    "            if do_log:\n",
    "                print(f\"calling function {func.__name__}\")\n",
    "            return func(*args, **kwargs)\n",
    "        return wrapper\n",
    "    return dec\n",
    "\n",
    "@log(True)\n",
    "def add(x, y):\n",
    "    return x + y\n",
    "\n",
    "@log(False)\n",
    "def multiply(x, y):\n",
    "    return x * y\n",
    "\n",
    "add(1, 2)\n",
    "multiply(1, 2)"
   ]
  },
  {
   "cell_type": "code",
   "execution_count": null,
   "id": "0fc27c5d",
   "metadata": {},
   "outputs": [],
   "source": [
    "enable_logging = True\n",
    "\n",
    "\n",
    "@log(enable_logging)\n",
    "def add(x, y):\n",
    "    return x + y\n",
    "\n",
    "@log(enable_logging)\n",
    "def multiply(x, y):\n",
    "    return x * y\n",
    "\n",
    "add(1, 2)\n",
    "multiply(1, 2)"
   ]
  },
  {
   "cell_type": "markdown",
   "id": "cbb80dab",
   "metadata": {},
   "source": [
    "Přidávám trochu rozpracovanější příklad s logováním:"
   ]
  },
  {
   "cell_type": "code",
   "execution_count": null,
   "id": "e69ff8fb-2d4b-4844-bca1-f561dcafb00a",
   "metadata": {},
   "outputs": [],
   "source": [
    "LOG_INFO    = 0\n",
    "LOG_WARNING = 1\n",
    "LOG_DEBUG   = 2\n",
    "\n",
    "LOG_STR_LST = [\"INFO\", \"WARNING\", \"DEBUG\"]\n",
    "\n",
    "log_level = LOG_DEBUG\n",
    "\n",
    "def log(level = LOG_INFO):\n",
    "    def dec(func):\n",
    "        def wrapper(*args, **kwargs):\n",
    "            if level <= log_level:\n",
    "                print(\"{}: running function: {}\".format(LOG_STR_LST[level], func.__name__))\n",
    "                if log_level >= LOG_DEBUG:\n",
    "                    print(\"\\targs:\", args)\n",
    "                    print(\"\\tkwargs:\", kwargs)\n",
    "            return func(*args, **kwargs)\n",
    "        return wrapper\n",
    "    return dec\n",
    "\n",
    "@log(LOG_INFO)\n",
    "def add(x, y):\n",
    "    return x + y\n",
    "\n",
    "@log(LOG_WARNING)\n",
    "def do_warning_level_stuff():\n",
    "    pass\n",
    "\n",
    "@log(LOG_DEBUG)\n",
    "def do_debug_level_stuff(**kwargs):\n",
    "    pass\n",
    "\n",
    "do_debug_level_stuff(neco = True)\n",
    "add(1, 2)\n",
    "do_warning_level_stuff()"
   ]
  },
  {
   "cell_type": "markdown",
   "id": "eb17568c",
   "metadata": {},
   "source": [
    "## Měření času"
   ]
  },
  {
   "cell_type": "code",
   "execution_count": null,
   "id": "79869f8e",
   "metadata": {},
   "outputs": [],
   "source": [
    "import time\n",
    "\n",
    "def timer(func):\n",
    "    def wrapper(*args, **kwargs):\n",
    "        start = time.time()\n",
    "        result = func(*args, **kwargs)\n",
    "        end = time.time()\n",
    "        elapsed_time = end - start\n",
    "        print(f\"Elapsed time: {elapsed_time} seconds\")\n",
    "        return result\n",
    "    return wrapper\n",
    "    "
   ]
  },
  {
   "cell_type": "markdown",
   "id": "39d42a71",
   "metadata": {},
   "source": [
    "## Fibonacciho čísla a memoizace\n",
    "\n",
    "Naivní implementace výpočtu Fibonacciho čísel obvykle velmi rychle zaběhne do hluboké a široké rekurze, což je velmi pomalé."
   ]
  },
  {
   "cell_type": "code",
   "execution_count": null,
   "id": "0375c6a8",
   "metadata": {},
   "outputs": [],
   "source": [
    "def fibonacci(n):\n",
    "    if n <= 0:\n",
    "        return 0\n",
    "    elif n == 1:\n",
    "        return 1\n",
    "    else:\n",
    "        return fibonacci(n-1) + fibonacci(n-2)\n",
    "    \n",
    "timed_fibonacci = timer(fibonacci)\n",
    "\n",
    "timed_fibonacci(38)"
   ]
  },
  {
   "cell_type": "markdown",
   "id": "97683350",
   "metadata": {},
   "source": [
    "Jednou možností, jak výpočet zrychlit, je přepsání pomocí obyčejného for cyklu s využitím takzvané memoizace - tedy ukládání výsledků předchozích běhů. K výpočtu n-tého Fibonacciho čísla potřebujeme vždy dvě předchozí. Abychom je nemuseli počítat pořád znovu, můžeme si je prostě uložit."
   ]
  },
  {
   "cell_type": "code",
   "execution_count": null,
   "id": "d1f20fbf",
   "metadata": {},
   "outputs": [],
   "source": [
    "@timer\n",
    "def fibonacci_loop(n):\n",
    "    a = 0\n",
    "    b = 1\n",
    "    for _ in range(1, n):\n",
    "        a, b = b, a+b\n",
    "    return b\n",
    "\n",
    "fibonacci_loop(38)"
   ]
  },
  {
   "cell_type": "markdown",
   "id": "b47a5c39",
   "metadata": {},
   "source": [
    "V případě Fibonacciho čísel je to už takhle celkem jednoduché, ale můžeme zkusit napsat obecnější memoizaci pomocí dekorátoru. Zjednodušme si to předpokladem, že dekorovaná funkce bude přijímat jediný argument:"
   ]
  },
  {
   "cell_type": "code",
   "execution_count": null,
   "id": "6933ea3a",
   "metadata": {},
   "outputs": [],
   "source": [
    "def memoize(func):\n",
    "    cache = {}\n",
    "    def wrapper(n):\n",
    "        if n in cache:\n",
    "            return cache[n]\n",
    "        result = func(n)\n",
    "        cache[n] = result\n",
    "        return result\n",
    "    return wrapper\n",
    "\n",
    "\n",
    "@memoize\n",
    "def fibonacci(n):\n",
    "    if n <= 0:\n",
    "        return 0\n",
    "    elif n == 1:\n",
    "        return 1\n",
    "    else:\n",
    "        return fibonacci(n-1) + fibonacci(n-2)\n",
    "\n",
    "timed_cached_fibonacci = timer(fibonacci)\n",
    "timed_cached_fibonacci(38)"
   ]
  }
 ],
 "metadata": {
  "kernelspec": {
   "display_name": "Python 3 (ipykernel)",
   "language": "python",
   "name": "python3"
  },
  "language_info": {
   "codemirror_mode": {
    "name": "ipython",
    "version": 3
   },
   "file_extension": ".py",
   "mimetype": "text/x-python",
   "name": "python",
   "nbconvert_exporter": "python",
   "pygments_lexer": "ipython3",
   "version": "3.11.6"
  }
 },
 "nbformat": 4,
 "nbformat_minor": 5
}
