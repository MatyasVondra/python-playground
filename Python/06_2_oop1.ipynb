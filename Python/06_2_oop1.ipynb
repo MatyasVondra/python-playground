{
 "cells": [
  {
   "cell_type": "markdown",
   "id": "da07d863-0be1-43ba-b241-84efd66ed793",
   "metadata": {},
   "source": [
    "# Objektově orientované programování (OOP)"
   ]
  },
  {
   "cell_type": "markdown",
   "id": "3dbed93a",
   "metadata": {},
   "source": [
    "Základní idea objektově orientované programování spočívá ve sdružení dat a relevantních funkcí do ucelených objektů. Objektem obvykle názýváme právě takovouto abstrakci, např. bankovní účet - objekt sdružující informace o účtu, jeho majiteli a operace na něm (účtu, nikoliv majiteli). Různé objekty pak obvykle popisujeme pomocí třídy/class. Funkce či procedury definované v třídě se nazývají metody třídy, data/proměnné nazýváme atributy.\n",
    "\n",
    "Často se hovoří o tom, zda ten či onen jazyk podporuje OOP, čímž se obvykle myslí, zda v něm existuje právě něco jako `class`. Jsou to trochu oddělené koncepty. Třeba v jazyce C nic jako třída neexistuje, ale to neznamená, že se v něm nedá programovat objektově orientovaně. Právě naopak, obvykle se to dělá, ale některých aspektů OOP je těžší dosáhnou (např. dědičnosti).\n",
    "\n",
    "Třída (`class`) je pouze jakousi definicí či specifikací dané abstrakce - objektu. Rozličuje pak její konkrétní realizace, nazývané instance. Rozpracujme příklad s bankovním účtem."
   ]
  },
  {
   "cell_type": "code",
   "execution_count": null,
   "id": "409032b3",
   "metadata": {},
   "outputs": [],
   "source": [
    "class BankAccount:\n",
    "    pass\n",
    "\n",
    "account1 = BankAccount()\n",
    "account2 = BankAccount()"
   ]
  },
  {
   "cell_type": "markdown",
   "id": "23f0c032",
   "metadata": {},
   "source": [
    "V proměnných `account1` a `account2` jsou dvě různé instance třídy `BankAccount` (často říkáme objekty typu `BankAccount`)."
   ]
  },
  {
   "cell_type": "code",
   "execution_count": null,
   "id": "c184edab",
   "metadata": {},
   "outputs": [],
   "source": [
    "print(account1 is account2)\n",
    "print(type(account1), type(account2))"
   ]
  },
  {
   "cell_type": "markdown",
   "id": "a71ee969",
   "metadata": {},
   "source": [
    "Taková třída je víceméně k ničemu - přidejme k ní nějaká data a metody. Instance třídy se obvykle vytvářejí pomocí funkce, která se nazývá konstruktor. Konstruktor má za úkol alokovat paměť pro třídu a jej atributy a případně je inicializovat, tj. přiřadit jim nějakou hodnotu předanou například jako argument konstruktoru.\n",
    "\n",
    "V Pythonu je konstrukce instance oddělená od inicializace atributů. Na konstruktor, tedy funkci `__new__` v podstatě nikdy nesáhneme, ale budeme často psát inicializátor - funkci `__init__`. V těle inicializátor definujeme atributy třídy a inicializujeme je. Navzdory tomuto faktickému rozdílu se o funkci `__init__` běžné hovoří jako o konstruktoru."
   ]
  },
  {
   "cell_type": "code",
   "execution_count": null,
   "id": "88ef205e",
   "metadata": {},
   "outputs": [],
   "source": [
    "class BankAccount:\n",
    "    def __init__(self, name, balance, number):\n",
    "        self.name = name\n",
    "        self.balance = balance\n",
    "        self.number = number\n",
    "        \n",
    "    def withdraw(self, amount):\n",
    "        self.balance -= amount\n",
    "        \n",
    "    def deposit(self, amount):\n",
    "        self.balance += amount\n",
    "        \n",
    "    def report(self):\n",
    "        print(f\"Ucet c. {self.number}, {self.name}, zustatek: {self.balance} Kc\")\n",
    "\n",
    "ucet = BankAccount(\"Vaclav\", 127, 123456789)\n",
    "ucet.deposit(400)\n",
    "ucet.withdraw(200)\n",
    "ucet.report()\n",
    "print(ucet.balance)"
   ]
  },
  {
   "cell_type": "markdown",
   "id": "4a75dc98",
   "metadata": {},
   "source": [
    "Každá metoda potřebuje mít referenci na samotný objekt - přistupuje pomocí ní k jednotlivým atributům. Python ji automaticky vkládá jako první argument do metod. Je nutné s tím ale s v signaturách funkcí počítat. Volání metody instance fakticky vypádá takto:"
   ]
  },
  {
   "cell_type": "code",
   "execution_count": null,
   "id": "c3f8c342",
   "metadata": {},
   "outputs": [],
   "source": [
    "BankAccount.deposit(ucet, 400) # dela to same jako ucet.deposit(400)\n",
    "ucet.report()"
   ]
  },
  {
   "cell_type": "markdown",
   "id": "f1cea65e",
   "metadata": {},
   "source": [
    "V pythonu se tento první argument tradičně označuje `self` - tím tedy instance referuje sama k sobě. V jiných jazycích potkáte například označení `this`."
   ]
  },
  {
   "cell_type": "markdown",
   "id": "7becd5b7-9cb3-4e6f-aed9-2edd4012d754",
   "metadata": {},
   "source": [
    "## class vs instance attributes\n",
    "\n",
    "Atributy třídy (class attributes) jsou společné pro celou třídu a její instance. Atributy instance (instance attributes) jsou vázané na konkrétní instanci."
   ]
  },
  {
   "cell_type": "code",
   "execution_count": null,
   "id": "d894ecc1",
   "metadata": {},
   "outputs": [],
   "source": [
    "class BankAccount:\n",
    "    pa_percent = 5\n",
    "    \n",
    "    def __init__(self, name, balance, number):\n",
    "        self.name = name\n",
    "        self.balance = balance\n",
    "        self.number = number\n",
    "        \n",
    "    def withdraw(self, amount):\n",
    "        self.balance -= amount\n",
    "        \n",
    "    def deposit(self, amount):\n",
    "        self.balance += amount\n",
    "        \n",
    "    def report(self):\n",
    "        print(f\"Ucet c. {self.number}, {self.name}, zustatek: {self.balance} Kc\")\n",
    "        \n",
    "    def earn_monthly_interest(self):\n",
    "        self.balance *= (1 + (self.pa_percent / 100) ** (1/12))\n",
    "\n",
    "ucet = BankAccount(\"Vaclav\", 127, 123456789)\n",
    "ucet.deposit(400)\n",
    "ucet.withdraw(200)\n",
    "ucet.earn_monthly_interest()\n",
    "ucet.report()"
   ]
  },
  {
   "cell_type": "code",
   "execution_count": null,
   "id": "f68249e4",
   "metadata": {},
   "outputs": [],
   "source": [
    "print(BankAccount.pa_percent)\n",
    "# print(BankAccount.balance) # vyvola vyjimku"
   ]
  },
  {
   "cell_type": "markdown",
   "id": "4157c8e0-8cc1-4a50-b57a-0232ef0fc0d2",
   "metadata": {},
   "source": [
    "## Magic methods (dunder methods)\n",
    "\n",
    "*Dunder methods* jsou jsou speciální metody, ktéré můžeme implementovat ve svých třídách a dodat jim tím chování, která je v pythonu v jistém smyslu *stadardní*. Např. voláme-li v pythonu `len(x)`, interpret ve skutečnosti volá `x.__len__()`. Všechny dunder metody mají před a za názvem dvě podtržítka - odsud ostatně plyne jejich název: double underscore -> double under -> dunder. Kompletní výčet dunder metod najdeme v [dokumentaci](https://docs.python.org/3/reference/datamodel.html#special-method-names).\n",
    "\n",
    "Jiným příkladem může být dunder metoda `__add__`, která se volá při vyhodnocení výrazů se sčítáním. Tedy `x + y` znamená `x.__add__(y)`. Ukažme si implementaci obou na příkladu."
   ]
  },
  {
   "cell_type": "code",
   "execution_count": null,
   "id": "9985c5f6",
   "metadata": {},
   "outputs": [],
   "source": [
    "class Vector:\n",
    "    def __init__(self, *elements):\n",
    "        self.elements = elements\n",
    "    \n",
    "    def __len__(self):\n",
    "        return len(self.elements)\n",
    "    \n",
    "    def __add__(self, other):\n",
    "        if len(self) != len(other):\n",
    "            raise ValueError(\"Vectors do not have the same length\")\n",
    "        new_elements = [x+y for x, y in zip(self.elements, other.elements)]\n",
    "        return Vector(*new_elements)\n",
    "    \n",
    "a = Vector(1, 2)\n",
    "b = Vector(2, 3)\n",
    "\n",
    "c = a + b\n",
    "print(c.elements, len(c))"
   ]
  },
  {
   "cell_type": "markdown",
   "id": "5568e868",
   "metadata": {},
   "source": [
    "Zajímavým příkladem jsou metody `__str__` a `__repr__`. Obě se používají pro konverzi objektu na string, ale každá s jiným záměrem. Zatímco `__str__` může vést na jakoukoliv stringovou reprezentaci (evokováno voláním `str(x)`), `__repr__` má produkovat string, který je strojově zpracovatelný. Implementujme tyto metody pro bankovní účet z úvodu."
   ]
  },
  {
   "cell_type": "code",
   "execution_count": null,
   "id": "1342d40a",
   "metadata": {
    "scrolled": true
   },
   "outputs": [],
   "source": [
    "class BankAccount:\n",
    "    def __init__(self, name, balance, number):\n",
    "        self.name = name\n",
    "        self.balance = balance\n",
    "        self.number = number\n",
    "        \n",
    "    def withdraw(self, amount):\n",
    "        self.balance -= amount\n",
    "        \n",
    "    def deposit(self, amount):\n",
    "        self.balance += amount\n",
    "        \n",
    "    def report(self):\n",
    "        print(str(self))\n",
    "        \n",
    "    def __str__(self):\n",
    "        return f\"Ucet c. {self.number}, {self.name}, zustatek: {self.balance} Kc\"\n",
    "    \n",
    "    def __repr__(self):\n",
    "        return f\"{self.__class__.__name__}('{self.name}', {self.balance}, {self.number})\"\n",
    "    \n",
    "ucet = BankAccount(\"Vaclav\", 200, 123456789)\n",
    "ucet.deposit(50)\n",
    "repstring = repr(ucet)\n",
    "print(repstring)\n",
    "\n",
    "ucet2 = eval(repstring)\n",
    "print(ucet2)"
   ]
  },
  {
   "cell_type": "markdown",
   "id": "9424dfce",
   "metadata": {},
   "source": [
    "Posledním příkladem může být třeba dunder `__call__`, který definuje na objektu operaci kulatá závorka. Udělejme z polynom z kapitoly o funkcích objekt."
   ]
  },
  {
   "cell_type": "code",
   "execution_count": null,
   "id": "75178ae1-438c-4e70-99a8-4d5edd2f4cf8",
   "metadata": {},
   "outputs": [],
   "source": [
    "class Polynomial:\n",
    "    \"\"\"Returns a callable Polynomial object.\"\"\"\n",
    "    def __init__(self, *coefs):\n",
    "        self.coefs = coefs\n",
    "        \n",
    "    def __call__(self, x):\n",
    "        val = self.coefs[-1]\n",
    "        for c in reversed(self.coefs[:-1]):\n",
    "            val = val * x + c\n",
    "        return val\n",
    "    \n",
    "    def order(self):\n",
    "        return len(self.coefs - 1)\n"
   ]
  },
  {
   "cell_type": "code",
   "execution_count": null,
   "id": "c0a2bf8a-99bd-4f50-8b47-d9bf9d6b1a72",
   "metadata": {},
   "outputs": [],
   "source": [
    "import matplotlib.pyplot as plt\n",
    "import numpy as np\n",
    "\n",
    "x = np.linspace(-3, 1, 201)\n",
    "p = Polynomial(1, 2, 1)\n",
    "y = p(x)\n",
    "\n",
    "plt.plot(x, y)\n",
    "plt.show()"
   ]
  },
  {
   "cell_type": "markdown",
   "id": "76d31f76-5442-479c-9c99-479dcb9ed613",
   "metadata": {},
   "source": [
    "## `public` vs. `private`\n",
    "\n",
    "Např. v C++ rozlišujeme privátní a veřejné atributy (případně protected).\n",
    "\n",
    "```cpp\n",
    "class BankAccount {\n",
    "    public:\n",
    "        int get_balance() { return balance; }\n",
    "    private:\n",
    "        int deposit;\n",
    "};\n",
    "\n",
    "BankAccount ucet = BankAccount();\n",
    "\n",
    "printf(\"%d\\n\", ucet.get_balance()); // ok\n",
    "printf(\"%s\\n\", ucet.balance); // big no no ~ Cannot access private member\n",
    "```\n",
    "\n",
    "V pythonu se `private` a `public` vůbec nerozlišuje:\n",
    "\n",
    "> *We are all consenting adults. (Anyone can touch your privates.)*\n",
    "\n",
    "Občas se o tom vedou spory, ale dokumentace o tom hovoří celkem přímočaře:\n",
    "\n",
    "![](docs_private.png)"
   ]
  },
  {
   "cell_type": "code",
   "execution_count": null,
   "id": "924c234f",
   "metadata": {},
   "outputs": [],
   "source": [
    "class BankAccount:\n",
    "    def __init__(self, balance):\n",
    "        self.balance = balance\n",
    "        \n",
    "ucet = BankAccount(200)\n",
    "ucet.balance = 100000 # tohle nechceme\n",
    "print(ucet.balance)"
   ]
  },
  {
   "cell_type": "markdown",
   "id": "c2d5f1d4",
   "metadata": {},
   "source": [
    "Konvence říká, že atributy s prefixem jednoho podtržíka se považuje za privátní. Ale python nic takového samozřejmě nevynucuje. Vývojová prostředí na to ale typicky upozorňují."
   ]
  },
  {
   "cell_type": "code",
   "execution_count": null,
   "id": "9179aa8b",
   "metadata": {},
   "outputs": [],
   "source": [
    "class BankAccount:\n",
    "    def __init__(self, balance):\n",
    "        self._balance = balance\n",
    "        \n",
    "ucet = BankAccount(200)\n",
    "ucet._balance = 100000 # tohle nechceme\n",
    "print(ucet._balance)"
   ]
  },
  {
   "cell_type": "markdown",
   "id": "473c0a36",
   "metadata": {},
   "source": [
    "Dokumentace zmiňuje dvojité podtržítko jako možnost, jak dosáhnout private chování, ale ve skutečnosti je zatím jiný mechanismus (name mangling) s jinou motivací (name clashes u dědičnosti)."
   ]
  },
  {
   "cell_type": "code",
   "execution_count": null,
   "id": "b31f1260",
   "metadata": {},
   "outputs": [],
   "source": [
    "class BankAccount:\n",
    "    def __init__(self, balance):\n",
    "        self.__balance = balance\n",
    "        \n",
    "ucet = BankAccount(200)\n",
    "# ucet.__balance = 100000 # tohle nefunguje\n",
    "ucet._BankAccount__balance = 100000 # tohle ale ano\n",
    "print(ucet._BankAccount__balance)"
   ]
  },
  {
   "cell_type": "markdown",
   "id": "33a25fec",
   "metadata": {},
   "source": [
    "**Osobní názor**: python nemá mechanismus pro rozlišování public/private a proto bychom neměli takové chování vynucovat. Atributy míněné jako private označme jedním podtržítkem. Pokud potřebujete normální public/private chování, použijte jiný jazyk."
   ]
  },
  {
   "cell_type": "markdown",
   "id": "77417108",
   "metadata": {},
   "source": [
    "## Getter a setter\n",
    "\n",
    "Pomocí zabudovaných dekorátorů můžeme třídu doplnit o getter a setter - umožňující kontrolu nad přiřazováním a navracením (private) hodnot."
   ]
  },
  {
   "cell_type": "code",
   "execution_count": null,
   "id": "b9e66397-7247-4808-ab0f-4aa1a75e0cb7",
   "metadata": {},
   "outputs": [],
   "source": [
    "class Person:\n",
    "    def __init__(self, name):\n",
    "        self.name = name\n",
    "        self._rc = None\n",
    "    \n",
    "    @property\n",
    "    def rc(self):\n",
    "        return self._rc\n",
    "    \n",
    "    @rc.setter\n",
    "    def rc(self, cislo):\n",
    "        if (cislo % 11) != 0:\n",
    "            raise ValueError(\"Please enter a valid rodne cislo\")\n",
    "        self._rc = cislo\n",
    "        \n",
    "person = Person(\"Vaclav\")\n",
    "person.rc = 9904100129\n",
    "print(person.rc)"
   ]
  },
  {
   "cell_type": "markdown",
   "id": "c27d28ee-d7a3-4c53-927d-9344de79d3dc",
   "metadata": {},
   "source": [
    "## Statické metody, metody třídy a metody instance\n",
    "\n",
    "Metody, které jsme dosud viděli, jsou *metody instance*, tj. potřebují vazbu na konkrétní instanci (první argument je reference na instanci).\n",
    "\n",
    "Kromě toho můžeme definovat *metody třídy*, které mají reference pouze na třídu (nikoliv instanci).\n",
    "\n",
    "*Statické metody* fungují bez vazby na třídu či instanci. Necháváme je ve třídě, protože např. tematicky souvisí, ale ke své funkci fakticky referenci na třídu nepotřebují.\n",
    "\n",
    "*Statické metody* či *metody třídy* se často používají třeba pro implimentaci více \"konstruktorů\", protože v pythonu nemáme přetěžování funkcí."
   ]
  },
  {
   "cell_type": "code",
   "execution_count": null,
   "id": "411c9ae1",
   "metadata": {
    "scrolled": true
   },
   "outputs": [],
   "source": [
    "import math\n",
    "\n",
    "class Circle:\n",
    "    def __init__(self, radius):\n",
    "        self.radius = radius\n",
    "\n",
    "    def area(self):\n",
    "        return math.pi * self.radius ** 2\n",
    "\n",
    "    @classmethod\n",
    "    def from_diameter(cls, diameter):\n",
    "        radius = diameter / 2\n",
    "        return cls(radius)\n",
    "    \n",
    "    @classmethod\n",
    "    def from_area(cls, area):\n",
    "        radius = math.sqrt(area / math.pi)\n",
    "\n",
    "    @staticmethod\n",
    "    def is_valid(radius):\n",
    "        return radius > 0\n",
    "    \n",
    "Circle.is_valid(-3)"
   ]
  },
  {
   "cell_type": "markdown",
   "id": "473bd71a",
   "metadata": {},
   "source": [
    "## Dataclass"
   ]
  },
  {
   "cell_type": "code",
   "execution_count": null,
   "id": "bdaf00bf",
   "metadata": {},
   "outputs": [],
   "source": [
    "import json\n",
    "\n",
    "class Config:\n",
    "    def __init__(self, logfile, check_updates):\n",
    "        self.logfile = logfile\n",
    "        self.check_updates = check_updates\n",
    "        \n",
    "    def save_to_file(self, filename):\n",
    "        d = {\n",
    "            \"logfile\": self.logfile,\n",
    "            \"check_updates\": self.check_updates\n",
    "        }\n",
    "        with open(filename, \"w\") as file:\n",
    "            json.dump(d, file)\n",
    "            \n",
    "    @staticmethod\n",
    "    def load_from_file(filename):\n",
    "        with open(filename, \"r\") as file:\n",
    "            data = json.load(file)\n",
    "        return Config(**data)\n",
    "        \n",
    "        \n",
    "cfg1 = Config(\"file.log\", True)\n",
    "cfg1.save_to_file(\"pokus.json\")\n",
    "\n",
    "cfg2 = Config.load_from_file(\"pokus.json\")\n",
    "print(cfg2.logfile)"
   ]
  },
  {
   "cell_type": "code",
   "execution_count": null,
   "id": "9356b399",
   "metadata": {},
   "outputs": [],
   "source": [
    "from dataclasses import dataclass, asdict\n",
    "import json\n",
    "\n",
    "\n",
    "@dataclass\n",
    "class Config:\n",
    "    logfile: str\n",
    "    check_updates: bool\n",
    "    \n",
    "    def save_to_file(self, filename):\n",
    "        with open(filename, \"w\") as file:\n",
    "            json.dump(asdict(self), file)\n",
    "    \n",
    "    @staticmethod\n",
    "    def load_from_file(filename):\n",
    "        with open(filename, \"r\") as file:\n",
    "            data = json.load(file)\n",
    "        return Config(**data)\n",
    "    \n",
    "        \n",
    "cfg1 = Config(\"file.log\", True)\n",
    "cfg1.save_to_file(\"pokus.json\")\n",
    "\n",
    "cfg2 = Config.load_from_file(\"pokus.json\")\n",
    "print(cfg2)"
   ]
  },
  {
   "cell_type": "markdown",
   "id": "ca577264-fedb-476f-9daf-1fe0666c678e",
   "metadata": {},
   "source": [
    "## Iterátory a generátory"
   ]
  },
  {
   "cell_type": "markdown",
   "id": "4d9b1695",
   "metadata": {},
   "source": [
    "Když iterujeme přes kolekci"
   ]
  },
  {
   "cell_type": "code",
   "execution_count": null,
   "id": "5d2ded03",
   "metadata": {},
   "outputs": [],
   "source": [
    "lst = [1, 2, 3]\n",
    "\n",
    "for x in lst:\n",
    "    print(x)"
   ]
  },
  {
   "cell_type": "markdown",
   "id": "0ec67501",
   "metadata": {},
   "source": [
    "python ve skutečnosti provádí něco takového:"
   ]
  },
  {
   "cell_type": "code",
   "execution_count": null,
   "id": "d887b208",
   "metadata": {},
   "outputs": [],
   "source": [
    "lst = [1, 2, 3]\n",
    "\n",
    "iter_obj = iter(lst)\n",
    "\n",
    "while True:\n",
    "    try:\n",
    "        x = next(iter_obj)\n",
    "        print(x)\n",
    "    except StopIteration:\n",
    "        break"
   ]
  },
  {
   "cell_type": "markdown",
   "id": "ecf069ca",
   "metadata": {},
   "source": [
    "Tedy v duchu Duck typing, iterátor je něco, co dostaneme, když zavoláme funkci `iter`, a můžeme na tom volat funkci `next`, dokud to nevyhodí výjimku `StopIteration`.\n",
    "\n",
    "Když si ještě řekneme, že `iter(obj)` ve skutečnosti volá `obj.__iter__()` a `next(obj)` ve skutečnosti volá `obj.__next__()`, můžeme si napsat vlastní iterátor."
   ]
  },
  {
   "cell_type": "code",
   "execution_count": null,
   "id": "57c32099-76eb-4ac7-afa3-17ec55844dbb",
   "metadata": {},
   "outputs": [],
   "source": [
    "# vlastni iterator\n",
    "class Iterator:\n",
    "    def __init__(self, data):\n",
    "        self.data = data\n",
    "        self.index = 0\n",
    "        \n",
    "    def __iter__(self):\n",
    "        return self\n",
    "    \n",
    "    def __next__(self):\n",
    "        if self.index == len(self.data):\n",
    "            raise StopIteration\n",
    "        self.index += 1\n",
    "        return self.data[self.index - 1]\n",
    "    \n",
    "test = Iterator([1,2,3,5,6])\n",
    "\n",
    "for i in test:\n",
    "    print(i)"
   ]
  },
  {
   "cell_type": "code",
   "execution_count": null,
   "id": "985d7f5f-7478-4895-ad6b-543209eb5556",
   "metadata": {},
   "outputs": [],
   "source": [
    "class Fibonacci:\n",
    "    def __init__(self, n=10):\n",
    "        self.curr = 1\n",
    "        self.last = 0\n",
    "        self.it = 1\n",
    "        self.n = n\n",
    "        \n",
    "    def __iter__(self):\n",
    "        return self\n",
    "    \n",
    "    def __next__(self):\n",
    "        if self.it > self.n:\n",
    "            raise StopIteration\n",
    "        self.it += 1\n",
    "        \n",
    "        ret = self.last\n",
    "        self.last, self.curr = self.curr, self.curr + self.last\n",
    "        return ret\n",
    "\n",
    "for fib in Fibonacci(6):\n",
    "    print(fib)\n",
    "    "
   ]
  },
  {
   "cell_type": "code",
   "execution_count": null,
   "id": "9a505d87-a25f-492e-a7df-b502fc71db05",
   "metadata": {},
   "outputs": [],
   "source": [
    "def fib(n):\n",
    "    a, b = 0, 1\n",
    "    for _ in range(n):\n",
    "        yield a\n",
    "        a, b = b, a + b\n",
    "\n",
    "print(type(fib(10)))\n",
    "for i in fib(10):\n",
    "    print(i)"
   ]
  }
 ],
 "metadata": {
  "kernelspec": {
   "display_name": "Python 3 (ipykernel)",
   "language": "python",
   "name": "python3"
  },
  "language_info": {
   "codemirror_mode": {
    "name": "ipython",
    "version": 3
   },
   "file_extension": ".py",
   "mimetype": "text/x-python",
   "name": "python",
   "nbconvert_exporter": "python",
   "pygments_lexer": "ipython3",
   "version": "3.11.6"
  }
 },
 "nbformat": 4,
 "nbformat_minor": 5
}
