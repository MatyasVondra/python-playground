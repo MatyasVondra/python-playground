{
 "cells": [
  {
   "cell_type": "markdown",
   "id": "86ddfff9-4364-4fff-8be8-0347503dd205",
   "metadata": {},
   "source": [
    "# Dekorátor"
   ]
  },
  {
   "cell_type": "code",
   "execution_count": null,
   "id": "aef6183c-fe06-4cae-a826-f361b355f149",
   "metadata": {},
   "outputs": [],
   "source": [
    "def add(x, y):\n",
    "    return x + y\n",
    "\n",
    "add(1, 2)"
   ]
  },
  {
   "cell_type": "code",
   "execution_count": null,
   "id": "fbc72e1e-954a-4874-8f47-14b15f718b52",
   "metadata": {},
   "outputs": [],
   "source": [
    "\n",
    "def wrapper(x, y):\n",
    "    print(\"calling function add\")\n",
    "    return add(x, y)\n",
    "\n",
    "wrapper(1, 2)"
   ]
  },
  {
   "cell_type": "code",
   "execution_count": null,
   "id": "5402dcbf-de6f-42fa-aed3-4d66579c9f55",
   "metadata": {},
   "outputs": [],
   "source": [
    "def better_wrapper(func):\n",
    "    def wrapper(x, y):\n",
    "        print(f\"calling function {func.__name__}\")\n",
    "        return func(x, y)\n",
    "    return wrapper\n",
    "\n",
    "def subtract(x, y):\n",
    "    return x - y\n",
    "\n",
    "wrapped_subtract = better_wrapper(subtract)\n",
    "wrapped_subtract(2, 1)"
   ]
  },
  {
   "cell_type": "code",
   "execution_count": null,
   "id": "acc16f27-3835-4d4e-b41a-29c6791cf6b7",
   "metadata": {},
   "outputs": [],
   "source": [
    "def print_dec(func):\n",
    "    def wrapper(x, y):\n",
    "        print(f\"calling function {func.__name__}\")\n",
    "        return func(x, y)\n",
    "    return wrapper\n",
    "\n",
    "@print_dec\n",
    "def subtract(x, y):\n",
    "    return x - y\n",
    "\n",
    "subtract(8, 5)"
   ]
  },
  {
   "cell_type": "code",
   "execution_count": null,
   "id": "bd30974b-a73a-47b4-bbec-d85959e20d7a",
   "metadata": {},
   "outputs": [],
   "source": [
    "def print_dec(func):\n",
    "    def wrapper(*args, **kwargs):\n",
    "        print(f\"calling function {func.__name__}\")\n",
    "        return func(*args, **kwargs)\n",
    "    return wrapper\n",
    "\n",
    "@print_dec\n",
    "def complicated_function(arg1=True, arg2=1):\n",
    "    print(arg1, arg2)\n",
    "\n",
    "complicated_function(arg2=5)"
   ]
  },
  {
   "cell_type": "code",
   "execution_count": null,
   "id": "cdd8fb15-3b60-4276-8ac6-39eaf5928f9e",
   "metadata": {},
   "outputs": [],
   "source": [
    "DO_LOG = True\n",
    "\n",
    "def log(do_log=True):\n",
    "    def dec(func):\n",
    "        def wrapper(*args, **kwargs):\n",
    "            if do_log:\n",
    "                print(f\"calling function {func.__name__}\")\n",
    "            return func(*args, **kwargs)\n",
    "        return wrapper\n",
    "    return dec\n",
    "\n",
    "@log()\n",
    "def add(x, y):\n",
    "    return x+y\n",
    "\n",
    "@log(True)\n",
    "def subtract(x, y):\n",
    "    return x+y\n",
    "\n",
    "add(1, 2)\n",
    "subtract(1, 2)"
   ]
  },
  {
   "cell_type": "markdown",
   "id": "4f047b4a-b174-4269-b1d2-e4c6c50af579",
   "metadata": {},
   "source": [
    "# OOP"
   ]
  },
  {
   "cell_type": "code",
   "execution_count": null,
   "id": "79aaa128-693f-4861-b55c-27133bc9f748",
   "metadata": {},
   "outputs": [],
   "source": [
    "class BankAccount:\n",
    "    pass\n",
    "\n",
    "acc1 = BankAccount()\n",
    "acc2 = BankAccount()\n",
    "\n",
    "type(acc1)"
   ]
  },
  {
   "cell_type": "code",
   "execution_count": null,
   "id": "9a67ce46-0486-490d-bf24-633aecb1f0ab",
   "metadata": {},
   "outputs": [],
   "source": [
    "class BankAccount:\n",
    "    def __init__(self, name, balance, number):\n",
    "        self.name = name\n",
    "        self.balance = balance\n",
    "        self.number = number\n",
    "\n",
    "    def deposit(self, amount):\n",
    "        self.balance += amount\n",
    "\n",
    "\n",
    "acc1 = BankAccount(\"Vaclav\", 1200, 1234567890)\n",
    "\n",
    "print(acc1.balance)\n",
    "acc1.deposit(200) # BankAccount.deposit(acc1, 200)\n",
    "print(acc1.balance)\n",
    "acc1.bank = \"KB\"\n"
   ]
  },
  {
   "cell_type": "markdown",
   "id": "6ea12858-b11c-4a45-8b7c-9a92c28447d6",
   "metadata": {},
   "source": [
    "## class vs instance attributes"
   ]
  },
  {
   "cell_type": "code",
   "execution_count": null,
   "id": "82001ba4-b0ff-441c-8e9a-42e927c0f87e",
   "metadata": {},
   "outputs": [],
   "source": [
    "class BankAccount:\n",
    "    pa_percent = 5 # atribut tridy, class attribute\n",
    "    \n",
    "    def __init__(self, name, balance, number):\n",
    "        self.name = name\n",
    "        self.balance = balance\n",
    "        self.number = number\n",
    "\n",
    "    def deposit(self, amount):\n",
    "        self.balance += amount\n",
    "\n",
    "\n",
    "acc1 = BankAccount(\"vaclav\", 123, 12412435)\n",
    "acc2 = BankAccount(\"karel\", 123, 12412435)\n",
    "\n",
    "BankAccount.pa_percent = 8\n",
    "acc2.pa_percent"
   ]
  },
  {
   "cell_type": "markdown",
   "id": "f60be04d-be8c-44b9-ac4c-f1a3bf4b0931",
   "metadata": {},
   "source": [
    "## public vs private\n",
    "\n",
    "> We are all consenting adults (Anyone can touch your privates)"
   ]
  },
  {
   "cell_type": "code",
   "execution_count": null,
   "id": "b442b2d7-2329-41a9-bb5d-3f2d881e048b",
   "metadata": {},
   "outputs": [],
   "source": [
    "class BankAccount:\n",
    "    pa_percent = 5 # atribut tridy, class attribute\n",
    "    \n",
    "    def __init__(self, name, balance, number):\n",
    "        self.name = name\n",
    "        self._balance = balance\n",
    "        self.number = number\n",
    "\n",
    "    def deposit(self, amount):\n",
    "        self._balance += amount\n",
    "\n",
    "    def _calc_something_private(self):\n",
    "        ...\n",
    "\n",
    "acc1 = BankAccount(\"vaclav\", 123, 12412435)\n",
    "acc1._balance"
   ]
  },
  {
   "cell_type": "code",
   "execution_count": null,
   "id": "f69380c9-2dd4-438c-b68b-e3e13f0e580b",
   "metadata": {},
   "outputs": [],
   "source": [
    "class BankAccount:\n",
    "    def __init__(self, name, balance, number):\n",
    "        self.name = name\n",
    "        self.__balance = balance\n",
    "        self.number = number\n",
    "\n",
    "\n",
    "acc1 = BankAccount(\"vaclav\", 123, 12412435)\n",
    "acc1._BankAccount__balance # name mangling, osetreni pripadnych kolizi nazvu u dedicnost"
   ]
  },
  {
   "cell_type": "code",
   "execution_count": null,
   "id": "8de8cb11-bd3f-4c7d-b41a-daa526fcea91",
   "metadata": {},
   "outputs": [],
   "source": [
    "class BankAccount:\n",
    "    def __init__(self, name, balance, number):\n",
    "        self.name = name\n",
    "        self._balance = balance\n",
    "        self.number = number\n",
    "        self._rc = 1234567890\n",
    "\n",
    "    @property\n",
    "    def rc(self):\n",
    "        return self._rc\n",
    "\n",
    "    @rc.setter\n",
    "    def rc(self, cislo):\n",
    "        if (cislo % 11) != 0:\n",
    "            raise ValueError(\"invalid rc\")\n",
    "        self._rc = cislo\n",
    "\n",
    "acc1 = BankAccount(\"vaclav\", 123, 12412435)\n",
    "acc1.rc = 121"
   ]
  },
  {
   "cell_type": "markdown",
   "id": "9d27c489-904e-4d57-bd2e-6a09046bfb31",
   "metadata": {},
   "source": [
    "## Staticke metody, metody tridy a metody instance"
   ]
  },
  {
   "cell_type": "code",
   "execution_count": null,
   "id": "b2b73290-bc66-4414-8cf4-9f91e1af26be",
   "metadata": {},
   "outputs": [],
   "source": [
    "import math\n",
    "\n",
    "class Circle:\n",
    "    def __init__(self, radius):\n",
    "        self.radius = radius\n",
    "\n",
    "    def area(self):\n",
    "        return math.pi * self.radius**2\n",
    "\n",
    "    @classmethod\n",
    "    def from_diameter(cls, diameter):\n",
    "        return cls(diameter / 2)\n",
    "\n",
    "    # @staticmethod\n",
    "    def is_valid(radius):\n",
    "        return radius > 0\n",
    "\n",
    "circle = Circle.from_diameter(2)\n",
    "circle.area()\n",
    "\n",
    "Circle.is_valid(-5)"
   ]
  },
  {
   "cell_type": "code",
   "execution_count": null,
   "id": "02811d1f-b730-4aeb-9d6e-6098f2251730",
   "metadata": {},
   "outputs": [],
   "source": []
  },
  {
   "cell_type": "markdown",
   "id": "44ad328f-2a5f-41df-939d-9f4abe0c21a1",
   "metadata": {},
   "source": [
    "## Magic methods (dunder methods)\n",
    "\n",
    "dunder = double underscore"
   ]
  },
  {
   "cell_type": "code",
   "execution_count": null,
   "id": "df6546d9-0625-4f9c-9264-3d3ab43464dd",
   "metadata": {},
   "outputs": [],
   "source": [
    "class Vector:\n",
    "    def __init__(self, *elements):\n",
    "        self.elements = elements\n",
    "\n",
    "    def __len__(self):\n",
    "        return len(self.elements)\n",
    "\n",
    "    def __add__(self, other):\n",
    "        if len(self) != len(other):\n",
    "            raise ValueError(\"size mismatch\")\n",
    "            \n",
    "        new_elements = [x + y for x, y in zip(self.elements, other.elements)]\n",
    "        return Vector(*new_elements)\n",
    "\n",
    "v = Vector(1, 2, 3)\n",
    "w = Vector(-1, 2, -3)\n",
    "len(v) # v.__len__()\n",
    "\n",
    "x = v + w\n",
    "print(x.elements)"
   ]
  },
  {
   "cell_type": "code",
   "execution_count": null,
   "id": "c9cd05b6-1295-493c-9766-355a53f22ece",
   "metadata": {},
   "outputs": [],
   "source": [
    "class BankAccount:\n",
    "    def __init__(self, name, balance, number):\n",
    "        self.name = name\n",
    "        self._balance = balance\n",
    "        self.number = number\n",
    "\n",
    "    def __str__(self) -> str:\n",
    "        return f\"bankovni ucet na jmeno {self.name} se zustatkem {self._balance}\"\n",
    "\n",
    "    def __repr__(self) -> str:\n",
    "        # return f\"{self.__class__.__name__}('{self.name}', {self._balance}, {self.number})\"\n",
    "        return f\"'{self.name}',{self._balance},{self.number}\"\n",
    "\n",
    "acc1 = BankAccount(\"vaclav\", 123, 2134567)\n",
    "repstring = repr(acc1)\n",
    "print(repstring)\n",
    "print(acc1) # print(str(acc1))\n",
    "\n",
    "# acc2 = eval(repstring) ## nebezpecne, nedelejte\n",
    "# print(acc2)"
   ]
  },
  {
   "cell_type": "markdown",
   "id": "168fdd10-3fbe-4ad7-9292-ff7feb3154d8",
   "metadata": {},
   "source": [
    "## Dataclass"
   ]
  },
  {
   "cell_type": "code",
   "execution_count": null,
   "id": "d297240a-13d8-4206-8545-3d6df1c4b1bf",
   "metadata": {},
   "outputs": [],
   "source": [
    "class Config:\n",
    "    def __init__(self, logfile, user, wd):\n",
    "        self.logfile = logfile\n",
    "        self.user = user\n",
    "        self.wd = wd"
   ]
  },
  {
   "cell_type": "code",
   "execution_count": null,
   "id": "f3b1d970-b543-4362-bf43-ea7fea78e789",
   "metadata": {},
   "outputs": [],
   "source": [
    "from dataclasses import dataclass, asdict\n",
    "import json\n",
    "\n",
    "@dataclass\n",
    "class Config:\n",
    "    logfile: str\n",
    "    user: str\n",
    "    wd: str\n",
    "\n",
    "    def save_to_file(self, filename):\n",
    "        with open(filename, \"w\") as f:\n",
    "            json.dump(asdict(self), f, indent=4)\n",
    "\n",
    "cfg = Config(\"file.log\", \"vaclav\", \".\")\n",
    "cfg.logfile\n",
    "print(cfg, repr(cfg))\n",
    "cfg.save_to_file(\"config.json\")"
   ]
  },
  {
   "cell_type": "markdown",
   "id": "368bbd26-8487-4bef-8645-d27d3a0537b4",
   "metadata": {},
   "source": [
    "## Seminar"
   ]
  },
  {
   "cell_type": "code",
   "execution_count": null,
   "id": "ba3b384a-421d-42a7-b4af-6ef6f55d4f24",
   "metadata": {},
   "outputs": [],
   "source": [
    "import time\n",
    "\n",
    "start = time.time()\n",
    "time.sleep(5)\n",
    "end = time.time()\n",
    "\n",
    "print(end-start)"
   ]
  },
  {
   "cell_type": "code",
   "execution_count": null,
   "id": "20df84ff-9103-40d7-ac0d-91f3e0e5db72",
   "metadata": {},
   "outputs": [],
   "source": [
    "import time\n",
    "\n",
    "def timer(func):\n",
    "    def wrapper(*args, **kwargs):\n",
    "        start = time.time()\n",
    "        result = func(*args, **kwargs)\n",
    "        end = time.time()\n",
    "\n",
    "        elapsed_time = end - start\n",
    "        print(f\"Elapsed time: {elapsed_time} s\")\n",
    "        return result\n",
    "    return wrapper\n",
    "\n",
    "@timer\n",
    "def expensive_fuction():\n",
    "    time.sleep(3)\n",
    "    print(\"done\")\n",
    "\n",
    "expensive_fuction()"
   ]
  },
  {
   "cell_type": "markdown",
   "id": "5b0648d3-5f1b-48b1-a0bf-71acb464641c",
   "metadata": {},
   "source": [
    "## Fibonacciho cisla\n",
    "\n",
    "\\begin{align}\n",
    "f_n &= f_{n-1} + f_{n-2} \\\\\n",
    "f_0 &= 0 \\\\\n",
    "f_1 &= 1\n",
    "\\end{align}"
   ]
  },
  {
   "cell_type": "code",
   "execution_count": null,
   "id": "611090a5-2931-46dd-a27c-76cb1e0ef33f",
   "metadata": {},
   "outputs": [],
   "source": [
    "# @timer sem ne, to udela neplechu\n",
    "def fibonacci(n):\n",
    "    if n <= 0:\n",
    "        return 0\n",
    "    elif n == 1:\n",
    "        return 1\n",
    "    else:\n",
    "        return fibonacci(n-1) + fibonacci(n-2)\n",
    "\n",
    "timed_fibonacci = timer(fibonacci)\n",
    "timed_fibonacci(38)"
   ]
  },
  {
   "cell_type": "code",
   "execution_count": null,
   "id": "ccd67935-1907-4394-a1f1-b12fc5535ca7",
   "metadata": {},
   "outputs": [],
   "source": [
    "@timer\n",
    "def fibonacci_loop(n):\n",
    "    a = 0\n",
    "    b = 1\n",
    "    for _ in range(1, n):\n",
    "        a, b = b, a+b\n",
    "    return b\n",
    "\n",
    "fibonacci_loop(38)"
   ]
  },
  {
   "cell_type": "code",
   "execution_count": null,
   "id": "73a0668c-b014-4023-a898-4c7001d6943a",
   "metadata": {},
   "outputs": [],
   "source": [
    "def memoize(func):\n",
    "    cache = {}\n",
    "\n",
    "    def wrapper(n):\n",
    "        if n in cache:\n",
    "            return cache[n]\n",
    "        result = func(n)\n",
    "        cache[n] = result\n",
    "        return result\n",
    "\n",
    "    return wrapper\n",
    "\n",
    "@memoize\n",
    "def fibonacci(n):\n",
    "    if n <= 0:\n",
    "        return 0\n",
    "    elif n == 1:\n",
    "        return 1\n",
    "    else:\n",
    "        return fibonacci(n-1) + fibonacci(n-2)\n",
    "\n",
    "timed_fibonacci = timer(fibonacci)\n",
    "timed_fibonacci(38)"
   ]
  },
  {
   "cell_type": "code",
   "execution_count": null,
   "id": "5da03466-702b-4e45-b56b-061b063c73a5",
   "metadata": {},
   "outputs": [],
   "source": [
    "from functools import cache\n",
    "\n",
    "@cache\n",
    "def fibonacci(n):\n",
    "    if n <= 0:\n",
    "        return 0\n",
    "    elif n == 1:\n",
    "        return 1\n",
    "    else:\n",
    "        return fibonacci(n-1) + fibonacci(n-2)\n",
    "\n",
    "timed_fibonacci = timer(fibonacci)\n",
    "timed_fibonacci(38)"
   ]
  },
  {
   "cell_type": "markdown",
   "id": "499d75b7-846f-4e03-827e-29b49e11b7a7",
   "metadata": {},
   "source": [
    "## OOP"
   ]
  },
  {
   "cell_type": "code",
   "execution_count": null,
   "id": "826a987a-9b9a-4ffb-b4b7-4c3b8b1dd310",
   "metadata": {},
   "outputs": [],
   "source": [
    "from datetime import datetime\n",
    "\n",
    "class Person:\n",
    "    def __init__(self, name: str, date_of_birth: datetime):\n",
    "        self.name = name\n",
    "        self.date_of_birth = date_of_birth\n",
    "\n",
    "    @property\n",
    "    def age(self):\n",
    "        now = datetime.now()\n",
    "        delta = now - self.date_of_birth\n",
    "        return delta.days // 365\n",
    "\n",
    "dob = datetime(day=15, month=11, year=1976)\n",
    "karel = Person(\"Karel\", dob)\n",
    "karel.age"
   ]
  },
  {
   "cell_type": "markdown",
   "id": "0a0270ab-ae33-4bcd-bc86-7afa6e8f41e9",
   "metadata": {},
   "source": [
    "### Iterator"
   ]
  },
  {
   "cell_type": "code",
   "execution_count": null,
   "id": "3361ff02-eb1d-4739-a558-fbe893939b59",
   "metadata": {},
   "outputs": [],
   "source": [
    "lst = [1, 2, 3]\n",
    "\n",
    "for x in lst:\n",
    "    print(x)"
   ]
  },
  {
   "cell_type": "code",
   "execution_count": null,
   "id": "07617374-1e2c-4a70-8b35-424d171d42bb",
   "metadata": {},
   "outputs": [],
   "source": [
    "lst = [1, 2, 3]\n",
    "\n",
    "iter_obj = iter(lst) # iter(lst): lst.__iter__()\n",
    "\n",
    "x = next(iter_obj) # next(iter_obj): iter_obj.__next__()\n",
    "print(x)\n",
    "x = next(iter_obj)\n",
    "print(x)\n",
    "x = next(iter_obj)\n",
    "print(x)\n",
    "x = next(iter_obj) # next-> raise StopIteration\n",
    "print(x)"
   ]
  },
  {
   "cell_type": "code",
   "execution_count": null,
   "id": "20ce5ffb-ccdb-41b3-9fdf-8bb295045858",
   "metadata": {},
   "outputs": [],
   "source": [
    "lst = [1, 2, 3]\n",
    "\n",
    "iter_obj = iter(lst) # iter(lst): lst.__iter__()\n",
    "while True:\n",
    "    try:\n",
    "        x = next(iter_obj) # next(iter_obj): iter_obj.__next__()\n",
    "        print(x)\n",
    "    except StopIteration:\n",
    "        break\n"
   ]
  },
  {
   "cell_type": "code",
   "execution_count": null,
   "id": "7739d507-2612-4a8f-bee1-f5adfa376ebd",
   "metadata": {},
   "outputs": [],
   "source": [
    "class IterableContainer:\n",
    "    def __init__(self, data):\n",
    "        self.data = data\n",
    "        self.index = 0\n",
    "\n",
    "    def __iter__(self):\n",
    "        self.index = 0\n",
    "        return self\n",
    "\n",
    "    def __next__(self):\n",
    "        if self.index == len(self.data):\n",
    "            raise StopIteration\n",
    "        val = self.data[self.index]\n",
    "        self.index += 1\n",
    "        return val\n",
    "\n",
    "cont = IterableContainer([1, 2, 3, 4])\n",
    "for x in cont:\n",
    "    print(x)\n",
    "\n",
    "for x in cont:\n",
    "    print(x)"
   ]
  },
  {
   "cell_type": "code",
   "execution_count": null,
   "id": "8673df2b-e333-406d-8dbe-eb5974fd88a4",
   "metadata": {},
   "outputs": [],
   "source": [
    "class Fibonacci:\n",
    "    def __init__(self, n):\n",
    "        self.a = 0\n",
    "        self.b = 1\n",
    "        self.it = 1\n",
    "        self.n = n\n",
    "\n",
    "    def __iter__(self):\n",
    "        return self\n",
    "\n",
    "    def __next__(self):\n",
    "        if self.it > self.n:\n",
    "            raise StopIteration\n",
    "\n",
    "        self.it += 1\n",
    "        val = self.b\n",
    "        self.a, self.b = self.b, self.a+self.b\n",
    "        return val\n",
    "\n",
    "# for x in Fibonacci(10):\n",
    "#     print(x)\n",
    "fib_numbers = list(Fibonacci(100))\n",
    "print(fib_numbers)"
   ]
  },
  {
   "cell_type": "markdown",
   "id": "c14870bd-a7da-4f6b-ace9-6bfaf47c0170",
   "metadata": {},
   "source": [
    "## Context manager"
   ]
  },
  {
   "cell_type": "code",
   "execution_count": null,
   "id": "a7f9b372-8072-44dc-b9ad-0eb9185b8d62",
   "metadata": {},
   "outputs": [],
   "source": [
    "file = open(\"filename\", \"w\")\n",
    "file.close()"
   ]
  },
  {
   "cell_type": "code",
   "execution_count": null,
   "id": "cad70785-6516-4dbc-bf88-a277cb19235a",
   "metadata": {},
   "outputs": [],
   "source": [
    "with open(\"filename\", \"w\") as file: # with statement - ocekava Context manager\n",
    "    pass"
   ]
  },
  {
   "cell_type": "markdown",
   "id": "f3276c66-d12f-41bc-8f2b-abf9d07a44f5",
   "metadata": {},
   "source": [
    "Context Manager je objekt, ktery umi `__enter__` a `__exit__`"
   ]
  },
  {
   "cell_type": "markdown",
   "id": "19ddbefa-fc34-4556-ab2a-2635d18e5e93",
   "metadata": {},
   "source": [
    "```python\n",
    "with EXPR as var:\n",
    "    BLOCK\n",
    "```"
   ]
  },
  {
   "cell_type": "markdown",
   "id": "1d293fb5-3563-4468-9ea6-f7dbd6583765",
   "metadata": {},
   "source": [
    "```python\n",
    "var = EXPR # context manager\n",
    "var.__enter__()\n",
    "try:\n",
    "    BLOCK\n",
    "finally:\n",
    "    var.__exit__()\n",
    "```"
   ]
  },
  {
   "cell_type": "code",
   "execution_count": null,
   "id": "11e33c15-2a1e-473a-b569-a242f8ffef3a",
   "metadata": {
    "scrolled": true
   },
   "outputs": [],
   "source": [
    "cm = open(\"filename\", \"r\")\n",
    "cm.__enter__()\n",
    "try:\n",
    "    data = cm.read()\n",
    "finally:\n",
    "    cm.__exit__()\n",
    "\n",
    "print(data)"
   ]
  },
  {
   "cell_type": "code",
   "execution_count": null,
   "id": "4f303052-67c6-4cc0-8ae4-d5f79e9582b1",
   "metadata": {},
   "outputs": [],
   "source": [
    "class DatabaseConnection:\n",
    "    def __init__(self, db_name):\n",
    "        self.db_name = db_name\n",
    "\n",
    "    def execute(self, query):\n",
    "        print(f\"executing query {query}\")\n",
    "\n",
    "    def execute_with_exception(self, query):\n",
    "        raise Exception(\"a generic exception for this example\")\n",
    "\n",
    "    def __enter__(self):\n",
    "        print(f\"connecting to database {self.db_name}\")\n",
    "        return self\n",
    "\n",
    "    def __exit__(self, exc_type, exc_value, traceback):\n",
    "        if exc_type is not None:\n",
    "            print(f\"Exception {exc_type} caught, rolling back changes\")\n",
    "        else:\n",
    "            print(\"commit changes\")\n",
    "        print(\"closing database connection\")\n",
    "\n",
    "with DatabaseConnection(\"mydb.sqlite\") as db:\n",
    "    db.execute(\"create table ...\")"
   ]
  },
  {
   "cell_type": "code",
   "execution_count": null,
   "id": "89bf394b-e77a-4e3e-8cf3-0258a1b62025",
   "metadata": {},
   "outputs": [],
   "source": [
    "with DatabaseConnection(\"mydb.sqlite\") as db:\n",
    "    db.execute_with_exception(\"create table ...\")"
   ]
  },
  {
   "cell_type": "code",
   "execution_count": null,
   "id": "1d88712f-86c1-4661-a023-338b79e4fa24",
   "metadata": {},
   "outputs": [],
   "source": [
    "import time\n",
    "\n",
    "class Timer:\n",
    "    def __enter__(self):\n",
    "        self.start_time = time.time()\n",
    "        return self\n",
    "\n",
    "    def __exit__(self, exc_type, exc_value, traceback):\n",
    "        self.end_time = time.time()\n",
    "        elapsed_time = self.end_time - self.start_time\n",
    "        print(f\"elapsed time: {elapsed_time} s\")\n",
    "\n",
    "with Timer():\n",
    "    time.sleep(5)"
   ]
  }
 ],
 "metadata": {
  "kernelspec": {
   "display_name": "Python 3 (ipykernel)",
   "language": "python",
   "name": "python3"
  },
  "language_info": {
   "codemirror_mode": {
    "name": "ipython",
    "version": 3
   },
   "file_extension": ".py",
   "mimetype": "text/x-python",
   "name": "python",
   "nbconvert_exporter": "python",
   "pygments_lexer": "ipython3",
   "version": "3.10.12"
  }
 },
 "nbformat": 4,
 "nbformat_minor": 5
}
