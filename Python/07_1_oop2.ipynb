{
 "cells": [
  {
   "cell_type": "markdown",
   "id": "9599c02c",
   "metadata": {},
   "source": [
    "## Dědičnost"
   ]
  },
  {
   "cell_type": "markdown",
   "id": "82df315a",
   "metadata": {},
   "source": [
    "Dědičnost v objektově orientovaném programování umožňuje novým třídám převzít vlastnosti a chování od již existujících tříd. Hlavním účelem dědičnosti je zvýšení znovupoužitelnosti kódu a vytváření vztahů mezi třídami. Díky dědičnosti můžeme vytvářet sofistikovanější a organizovanější systémy bez zbytečné duplikace kódu, což vede k lepší správě a udržitelnosti softwarových projektů."
   ]
  },
  {
   "cell_type": "code",
   "execution_count": null,
   "id": "25e81d00",
   "metadata": {},
   "outputs": [],
   "source": [
    "class Person:\n",
    "    def __init__(self, name, age):\n",
    "        self.name = name\n",
    "        self.age = age\n",
    "\n",
    "    def __str__(self):\n",
    "        return f\"Name: {self.name}, Age: {self.age}\"\n",
    "\n",
    "class Employee(Person):\n",
    "    def __init__(self, name, age, job_title, salary):\n",
    "        super().__init__(name, age)\n",
    "        self.job_title = job_title\n",
    "        self.salary = salary\n",
    "        \n",
    "    def payout(self):\n",
    "        print(f\"paying {self.salary} to {self.name}\")\n",
    "\n",
    "\n",
    "class GoodEmployee(Employee):\n",
    "    def payout(self):\n",
    "        print(f\"paying {self.salary + 10000} to {self.name}\")        \n",
    "        \n",
    "person = Person(\"Václav Alt\", 31)\n",
    "employee = Employee(\"Jindřich Sádlo\", 28, \"instalatér\", 45000)\n",
    "good_employee = GoodEmployee(\"Viktor Hroutil\", 29, \"lepší instalatér\", 45000)\n",
    "\n",
    "# person.payout()\n",
    "employee.payout()\n",
    "print(person)\n",
    "print(employee)\n",
    "print(good_employee)"
   ]
  },
  {
   "cell_type": "code",
   "execution_count": null,
   "id": "91db73ab",
   "metadata": {},
   "outputs": [],
   "source": [
    "def payout_employess(employees: list[Employee]):\n",
    "    for employee in employees:\n",
    "        employee.payout()\n",
    "        \n",
    "def send_annoying_mail(persons: list[Person]):\n",
    "    for person in persons:\n",
    "        print(f\"sending annoying mail to {person.name}\")\n",
    "        \n",
    "send_annoying_mail([person, employee])\n",
    "payout_employess([person, employee])"
   ]
  },
  {
   "cell_type": "code",
   "execution_count": null,
   "id": "26acdfff",
   "metadata": {},
   "outputs": [],
   "source": [
    "def payout_employess(employees: list[Employee]):\n",
    "    for employee in employees:\n",
    "        if type(employee) == Employee:\n",
    "            employee.payout()\n",
    "        \n",
    "def send_annoying_mail(persons: list[Person]):\n",
    "    for person in persons:\n",
    "        print(f\"sending annoying mail to {person.name}\")\n",
    "        \n",
    "send_annoying_mail([person, employee])\n",
    "payout_employess([person, employee, good_employee])"
   ]
  },
  {
   "cell_type": "code",
   "execution_count": null,
   "id": "accd498e",
   "metadata": {},
   "outputs": [],
   "source": [
    "def payout_employess(employees: list[Employee]):\n",
    "    for employee in employees:\n",
    "        if isinstance(employee, Employee):\n",
    "            employee.payout()\n",
    "        \n",
    "def send_annoying_mail(persons: list[Person]):\n",
    "    for person in persons:\n",
    "        print(f\"sending annoying mail to {person.name}\")\n",
    "        \n",
    "send_annoying_mail([person, employee])\n",
    "payout_employess([person, employee, good_employee])"
   ]
  },
  {
   "cell_type": "markdown",
   "id": "44353240",
   "metadata": {},
   "source": [
    "### Method overriding (překrývání metod)\n",
    "\n",
    "Překrýváním se označuje to, když potomek třídy definuje vlastní implementaci některé metody předka. Může buď původní implementaci volat (např. přes konstrukci `super()`) a vykonat něco navíc, nebo může předchozí implementaci zcela nahradit. Např. v C++ je nutné metody označit klíčovým slovem `virtual`, aby bylo možné je překrýt, v Pythonu takový mechanismus není."
   ]
  },
  {
   "cell_type": "code",
   "execution_count": null,
   "id": "4c2fdc81",
   "metadata": {},
   "outputs": [],
   "source": [
    "class Person:\n",
    "    def __init__(self, name, age):\n",
    "        self.name = name\n",
    "        self.age = age\n",
    "\n",
    "    def __str__(self):\n",
    "        return f\"Name: {self.name}, Age: {self.age}\"\n",
    "\n",
    "class Employee(Person):\n",
    "    def __init__(self, name, age, job_title, salary):\n",
    "        super().__init__(name, age)\n",
    "        self.job_title = job_title\n",
    "        self.salary = salary\n",
    "        \n",
    "    def payout(self):\n",
    "        print(f\"paying {self.salary} to {self.name}\")\n",
    "\n",
    "    def __str__(self):\n",
    "        person_info = super().__str__()\n",
    "        return f\"{person_info}, Job Title: {self.job_title}, Salary: {self.salary}\"\n",
    "\n",
    "person = Person(\"Václav Alt\", 31)\n",
    "print(person)\n",
    "\n",
    "employee = Employee(\"Jindřich Sádlo\", 28, \"instalatér\", 45000)\n",
    "print(employee)\n"
   ]
  },
  {
   "cell_type": "markdown",
   "id": "3a5259f3",
   "metadata": {},
   "source": [
    "### Vícenásobná dědičnost\n",
    "\n",
    "Python dovoluje vícenásobnou dědičnost dvojího druhu:\n",
    "\n",
    "1. do šířky (potomek má více rodičů)\n",
    "2. do hloubky (potomek může mít potomka)\n",
    "\n",
    "Potomek podědí metody všech svých předků a může k nim přidat i nějaké vlastní."
   ]
  },
  {
   "cell_type": "code",
   "execution_count": null,
   "id": "dc7dc121",
   "metadata": {},
   "outputs": [],
   "source": [
    "class BatteryDevice:\n",
    "    def __init__(self, capacity):\n",
    "        self.capacity = capacity\n",
    "        self.status = 100\n",
    "    \n",
    "    def get_status():\n",
    "        return self.status\n",
    "    \n",
    "class TouchscreenDevice:\n",
    "    def __init__(self, size):\n",
    "        self.size = size\n",
    "        \n",
    "    def show_mesage(self, message):\n",
    "        print(f\"message on screen: {message}\")\n",
    "        \n",
    "\n",
    "class Smartphone(BatteryDevice, TouchscreenDevice):\n",
    "    def __init__(self, brand, capacity, size):\n",
    "        BatteryDevice.__init__(self, capacity)\n",
    "        TouchscreenDevice.__init__(self, size)\n",
    "        self.brand = brand\n",
    "        \n",
    "    def check_battery_status(self):\n",
    "        if self.status < 20:\n",
    "            self.show_mesage(\"Warning: battery low\")\n",
    "    \n",
    "phone = Smartphone(\"Samsung\", 6000, 6.5)\n",
    "phone.check_battery_status()\n",
    "phone.status = 19\n",
    "phone.check_battery_status()"
   ]
  },
  {
   "cell_type": "markdown",
   "id": "8824353e",
   "metadata": {},
   "source": [
    "U více násobné dědičnosti je třeba dávat pozor na případy, kdy více rodičů implementuje tu samou metodu. Která varianta se pak zavolá?"
   ]
  },
  {
   "cell_type": "code",
   "execution_count": null,
   "id": "58cc43f0",
   "metadata": {},
   "outputs": [],
   "source": [
    "class A:\n",
    "    def do_something(self):\n",
    "        print(\"this is A\")\n",
    "        \n",
    "class B:\n",
    "    def do_something(self):\n",
    "        print(\"this is B\")\n",
    "\n",
    "class C(A, B):\n",
    "    pass\n",
    "\n",
    "c = C()\n",
    "c.do_something()"
   ]
  },
  {
   "cell_type": "markdown",
   "id": "695fdcde",
   "metadata": {},
   "source": [
    "Python volá tu metodu, která je první nařadě podle seznamu, kterému říká MRO - Method Resolution Order, který získává pomocí tzv. C3 linearizace, což je algoritmus, který je zcela mimo rozsah tohoto předmětu (zjednodušeně: zleva doprava, zdola nahoru). Důležité je, že na pořádí se můžeme podívat, MRO se spočítá během definice třídy a najdeme ho pod atributem `__mro__`"
   ]
  },
  {
   "cell_type": "code",
   "execution_count": null,
   "id": "89259fd0",
   "metadata": {},
   "outputs": [],
   "source": [
    "C.__mro__"
   ]
  },
  {
   "cell_type": "markdown",
   "id": "38dc77d4",
   "metadata": {},
   "source": [
    "Celá věc je poněkud matoucí. Následuje série podobných příkladů pouze s drobnými komentáři. Nejsnažší je si v konkrétních případech ověřit, že se třída chová, jak má, než se spoléhat na nějaký odhad.\n",
    "\n",
    "Potřeba MRO je trochu patrnější, když přesuneme do konstruktoru. Následující příklad se chová stejně jako předchozí."
   ]
  },
  {
   "cell_type": "code",
   "execution_count": null,
   "id": "831213f0",
   "metadata": {},
   "outputs": [],
   "source": [
    "class A:\n",
    "    def __init__(self):\n",
    "        print(\"this is A\")\n",
    "        \n",
    "class B:\n",
    "    def __init__(self):\n",
    "        print(\"this is B\")\n",
    "\n",
    "class C(A, B):\n",
    "    pass\n",
    "\n",
    "c = C()"
   ]
  },
  {
   "cell_type": "markdown",
   "id": "5844a81b",
   "metadata": {},
   "source": [
    "Ale to znamená, že rodič `B` není inicializovaný, což je nežádoucí. Můžeme zavolat konstruktory explicitně, ale to taky není žádoucí, neboť mimo to zhoršuje udržitelnost kódu (hard-coded názvy) a může narušit Liskov substitution principle (to L v SOLID, o tom jindy)."
   ]
  },
  {
   "cell_type": "code",
   "execution_count": null,
   "id": "6cb59fb4",
   "metadata": {},
   "outputs": [],
   "source": [
    "class A:\n",
    "    def __init__(self):\n",
    "        print(\"this is A\")\n",
    "        \n",
    "class B:\n",
    "    def __init__(self):\n",
    "        print(\"this is B\")\n",
    "\n",
    "class C(A, B):\n",
    "    def __init__(self):\n",
    "        A.__init__(self)\n",
    "        B.__init__(self)\n",
    "    \n",
    "c = C()"
   ]
  },
  {
   "cell_type": "markdown",
   "id": "b2866315",
   "metadata": {},
   "source": [
    "Trochu lepší varianta je používat konstrukci `super().__init__()`. `super()` pracuje s MRO a zajišťuje, aby všechno bylo voláno jak má a aby nic nebylo voláno dvakrát, musíme ale `super()` volat ve všech zúčastněných třídách. (Všimněte si, že volání konstruktorů postupuje proti směru MRO - není moc těžké rozmyslet si proč)."
   ]
  },
  {
   "cell_type": "code",
   "execution_count": null,
   "id": "0023e17c",
   "metadata": {},
   "outputs": [],
   "source": [
    "class A:\n",
    "    def __init__(self):\n",
    "        super().__init__()\n",
    "        print(\"this is A\")\n",
    "        \n",
    "class B:\n",
    "    def __init__(self):\n",
    "        super().__init__()\n",
    "        print(\"this is B\")\n",
    "\n",
    "class C(A, B):\n",
    "    def __init__(self):\n",
    "        super().__init__()\n",
    "    \n",
    "c = C()"
   ]
  },
  {
   "cell_type": "markdown",
   "id": "e5b93c9d",
   "metadata": {},
   "source": [
    "Prevence vícenásobného volání se projeví zejména do diamond dědičnosti (někdy diamond of death, příčina zhouby v mnoha inheritance based projektech). Přestože třídy `B` a `C` dědí z `A`, konstruktor `A` se správně zavolá jen jednou."
   ]
  },
  {
   "cell_type": "code",
   "execution_count": null,
   "id": "b480f6dc",
   "metadata": {},
   "outputs": [],
   "source": [
    "class A:\n",
    "    def __init__(self):\n",
    "        print(\"this is A\")\n",
    "        \n",
    "class B(A):\n",
    "    def __init__(self):\n",
    "        super().__init__()\n",
    "        print(\"this is B\")\n",
    "\n",
    "class C(A):\n",
    "    def __init__(self):\n",
    "        super().__init__()\n",
    "        print(\"this is C\")\n",
    "\n",
    "class D(B, C):\n",
    "    def __init__(self):\n",
    "        super().__init__()\n",
    "        print(\"this is D\")\n",
    "        \n",
    "d = D()\n",
    "D.__mro__"
   ]
  },
  {
   "cell_type": "markdown",
   "id": "99e9e062",
   "metadata": {},
   "source": [
    "Vidíme, že při explicitním volání se konstruktor `A` zavolá dvakrát."
   ]
  },
  {
   "cell_type": "code",
   "execution_count": null,
   "id": "acb6cd67",
   "metadata": {},
   "outputs": [],
   "source": [
    "class A:\n",
    "    def __init__(self):\n",
    "        print(\"this is A\")\n",
    "        \n",
    "class B(A):\n",
    "    def __init__(self):\n",
    "        A.__init__(self)\n",
    "        print(\"this is B\")\n",
    "\n",
    "class C(A):\n",
    "    def __init__(self):\n",
    "        A.__init__(self)\n",
    "        print(\"this is C\")\n",
    "\n",
    "class D(B, C):\n",
    "    def __init__(self):\n",
    "        B.__init__(self)\n",
    "        C.__init__(self)\n",
    "        print(\"this is D\")\n",
    "        \n",
    "d = D()\n",
    "D.__mro__"
   ]
  },
  {
   "cell_type": "markdown",
   "id": "660fdbe3",
   "metadata": {},
   "source": [
    "Ohledně rozsáhlého využívání dědičnosti se vedou spory. Jsou tábory, které dědičnost zavrhují zcela, tábory které tvrdí, že bez dědičnosti nelze psát software a potom v podstatě všechny možné kombinace.\n",
    "\n",
    "Osobně se příkláním k postoji, že trocha dědičnosti je dobrá, ale pokud začnete řešit problémy spojené s Method Resolution Order, zašli jste příliš daleko a Váš program je špatně navržený."
   ]
  },
  {
   "cell_type": "markdown",
   "id": "d7b132a7",
   "metadata": {},
   "source": [
    "### Abstraktní třídy\n",
    "\n",
    "Smysl abstraktní třídy je definovat jakýsi společný interface pro tématicky spřízněné třídy. K abstraktní třídě není možné stvořit instanci, neboť nic neimplementuje (nebo alespoň ne všechno)."
   ]
  },
  {
   "cell_type": "code",
   "execution_count": null,
   "id": "13ad3080",
   "metadata": {},
   "outputs": [],
   "source": [
    "from abc import ABC, abstractmethod\n",
    "\n",
    "class Shape(ABC):\n",
    "    @abstractmethod\n",
    "    def area(self):\n",
    "        pass\n",
    "    \n",
    "    @abstractmethod\n",
    "    def perimeter(self):\n",
    "        pass\n",
    "    \n",
    "    \n",
    "class Rectangle(Shape):\n",
    "    def __init__(self, a, b):\n",
    "        self.a = a\n",
    "        self.b = b\n",
    "    \n",
    "    def area(self):\n",
    "        return self.a * self.b\n",
    "    \n",
    "    def perimeter(self):\n",
    "        return 2 * (self.a + self.b)\n",
    "    \n",
    "    \n",
    "# shape = Shape() # nelze\n",
    "rect = Rectangle(2, 3)\n",
    "print(rect.area())"
   ]
  },
  {
   "cell_type": "markdown",
   "id": "257b64c4",
   "metadata": {},
   "source": [
    "Python dovoluje dědění z více abstraktních tříd najednou."
   ]
  },
  {
   "cell_type": "code",
   "execution_count": null,
   "id": "70ed810c",
   "metadata": {},
   "outputs": [],
   "source": [
    "class Building(ABC):\n",
    "    @abstractmethod\n",
    "    def can_i_get_in():\n",
    "        pass\n",
    "    \n",
    "class Pentagon(Shape, Building):\n",
    "    def __init__(self, a):\n",
    "        self.a = a\n",
    "        \n",
    "    def area(self):\n",
    "        return 4 # nechtelo se mi to hledat\n",
    "    \n",
    "    def perimeter(self):\n",
    "        return 5 * self.a\n",
    "    \n",
    "    def can_i_get_in(self):\n",
    "        return False\n",
    "    \n",
    "the_pentagon = Pentagon(3)\n",
    "the_pentagon.can_i_get_in()"
   ]
  },
  {
   "cell_type": "markdown",
   "id": "9e7655a8",
   "metadata": {},
   "source": [
    "### Porovnávání typů v kontextu dědičnosti\n",
    "\n",
    "Dosud jsme typy porovnávali pomocí zabudované funkce `type`, ale ta může být v kontextu potomků neodstatečná. Ukažme si dvě nové metody:\n",
    "\n",
    "1. `isinstance(object, classinfo)` ověří, zda `object` je instancí třídy `classinfo` **nebo nějakého jejího potomka**\n",
    "2. `issubclass(class, classinfo)` ověří, zda třída `class` je potomkem třídy `classinfo`\n",
    "\n",
    "Následující příklad ilustruje, co to znamená oproti porovnávání `type`."
   ]
  },
  {
   "cell_type": "code",
   "execution_count": 1,
   "id": "efb7439d",
   "metadata": {},
   "outputs": [
    {
     "data": {
      "text/plain": [
       "(True, True, True, True, False)"
      ]
     },
     "execution_count": 1,
     "metadata": {},
     "output_type": "execute_result"
    }
   ],
   "source": [
    "class A:\n",
    "    pass\n",
    "\n",
    "class B(A):\n",
    "    pass\n",
    "\n",
    "a = A()\n",
    "b = B()\n",
    "isinstance(b, B), issubclass(B, A), isinstance(b, A), type(b) == B, type(b) == A"
   ]
  },
  {
   "cell_type": "markdown",
   "id": "cdf1777e",
   "metadata": {},
   "source": [
    "### Protocol (interface)\n",
    "\n",
    "Některé jazyky (např. Java) zavádějí rozhraní (interface) - jakýsi kontrakt (sadu metod) pro třídy, které jej implementují. Zároveň interface nemusí tuto implementaci poskytovat.\n",
    "\n",
    "```java\n",
    "interface Drawable {\n",
    "    void draw();\n",
    "}\n",
    "\n",
    "// Implement the interface in a class\n",
    "class Circle implements Drawable {\n",
    "    @Override\n",
    "    public void draw() {\n",
    "        System.out.println(\"Drawing a circle.\");\n",
    "    }\n",
    "}\n",
    "```\n",
    "\n",
    "Jazyk C++ rozhraní nepodporuje a celou věc řeší pomocí abstraktních tříd.\n",
    "\n",
    "```cpp\n",
    "#include <iostream>\n",
    "\n",
    "// Define the interface\n",
    "class Drawable {\n",
    "public:\n",
    "    virtual void draw() = 0;\n",
    "};\n",
    "\n",
    "// Implement the interface in a class\n",
    "class Circle : public Drawable {\n",
    "public:\n",
    "    void draw() override {\n",
    "        std::cout << \"Drawing a circle.\" << std::endl;\n",
    "    }\n",
    "};\n",
    "\n",
    "```\n",
    "\n",
    "V Pythonu můžeme použít abstraktní třídy podobně jako C++, ale obvyklejší je použít `Protocol`. Python je dynamicky typovaný, takže můžeme využívat *duck typing*.\n",
    "\n",
    "> \"If it looks like a duck and quacks like a duck, it's a duck\"\n",
    "\n",
    "V následujícím příkladu třída `Cabbage` není potomkem třídy `Drawable`, ale pouze implementuje její metody."
   ]
  },
  {
   "cell_type": "code",
   "execution_count": null,
   "id": "4db6da55",
   "metadata": {},
   "outputs": [],
   "source": [
    "from typing import Protocol\n",
    "\n",
    "class Drawable(Protocol):\n",
    "    def draw(self):\n",
    "        ...\n",
    "        \n",
    "def draw_drawables(drawables: list[Drawable]):\n",
    "    for d in drawables:\n",
    "        d.draw()\n",
    "        \n",
    "class Cabbage:\n",
    "    def draw(self):\n",
    "        print(f\"drawing {self.__class__.__name__}\")\n",
    "        \n",
    "cabbage = Cabbage()\n",
    "\n",
    "draw_drawables([cabbage])"
   ]
  },
  {
   "cell_type": "markdown",
   "id": "9962f77a",
   "metadata": {},
   "source": [
    "Vzpomeňte si např. na context manager nebo iterátor. Context manager je cokoliv, co implementuje metody `__enter__` a `__exit__`, a iterátor cokoliv, co implementuje `__iter__` a `__next__`."
   ]
  },
  {
   "cell_type": "markdown",
   "id": "6a78bc8c",
   "metadata": {},
   "source": [
    "### Vlastní výjimky\n",
    "\n",
    "Běžnou praxí je implementace vlastních výjimek ušitých na míru problému. Aby výjimka fungovala jako výjimka, musí být potomkem třídy `Exception`. Do výjimek obvykle v konstruktoru předáváme informace důležité k interpretaci a identifikaci chyby, případně implementujeme ještě nějaké pomocné metody."
   ]
  },
  {
   "cell_type": "code",
   "execution_count": null,
   "id": "39f61c28",
   "metadata": {},
   "outputs": [],
   "source": [
    "class MyException(Exception):\n",
    "    def __init__(self, message, details):\n",
    "        super().__init__(message)\n",
    "        self.details = details\n",
    "        \n",
    "try:\n",
    "    raise MyException(\"oh no\", \"here are the details of the `oh no` problem\")\n",
    "except MyException as e:\n",
    "    print(e)\n",
    "    print(e.details)"
   ]
  },
  {
   "cell_type": "markdown",
   "id": "e84d3087",
   "metadata": {},
   "source": [
    "Trochu smysluplnější příklad:"
   ]
  },
  {
   "cell_type": "code",
   "execution_count": null,
   "id": "257c1b45",
   "metadata": {},
   "outputs": [],
   "source": [
    "class InvalidConfigurationError(Exception):\n",
    "    def __init__(self, config_key, value, reason):\n",
    "        super().__init__(f\"Configuration key {config_key} has an unacceptable value {value}: {reason}\")\n",
    "        self.config_key = config_key\n",
    "        self.value = value\n",
    "        self.reason = reason\n",
    "        \n",
    "cfg = {\n",
    "    \"url\": \"www.mamradjogurt.cz\"\n",
    "}\n",
    "\n",
    "def app(**cfg):\n",
    "    raise InvalidConfigurationError(\"url\", cfg[\"url\"], \"url does not exist\")\n",
    "    \n",
    "try:\n",
    "    app(**cfg)\n",
    "except Exception as e:\n",
    "    print(e)"
   ]
  },
  {
   "cell_type": "markdown",
   "id": "672dfc79",
   "metadata": {},
   "source": [
    "## Mixin\n",
    "\n",
    "Mixin je příkladem, jak lze elegantně využít vícenásobnou dědičnost. Mixin je třída, která poskytuje metody pro použití v jiných třídách, ale není určena k samostatnému použití.\n",
    "\n",
    "Výhody:\n",
    "- jednoduché\n",
    "- separuje zodpovědnost\n",
    "- celkem flexibilní\n",
    "\n",
    "Nevýhody:\n",
    "- kolize názvů a komplikace spojené s vícenásobnou dědičností (lze vyřešit kompozicí)\n",
    "- větší coupling mezi oddělenými třídami"
   ]
  },
  {
   "cell_type": "code",
   "execution_count": null,
   "id": "ee39348d",
   "metadata": {},
   "outputs": [],
   "source": [
    "class LoggerMixin:\n",
    "    def log(self, message):\n",
    "        print(f\"logging: {message}\")\n",
    "        \n",
    "class Database:\n",
    "    def connect(self):\n",
    "        pass\n",
    "    \n",
    "    def close(self):\n",
    "        pass\n",
    "    \n",
    "class LoggedDatabase(LoggerMixin, Database):\n",
    "    def connect(self):\n",
    "        self.log(\"connecting to database\")\n",
    "        Database.connect(self)\n",
    "    \n",
    "    def close(self):\n",
    "        self.log(\"closing database\")\n",
    "        Database.close(self)\n",
    "        \n",
    "dlb = LoggedDatabase()\n",
    "dlb.connect()\n",
    "dlb.close()"
   ]
  },
  {
   "cell_type": "markdown",
   "id": "0459ac7c",
   "metadata": {},
   "source": [
    "### Composition vs. inheritance\n",
    "\n",
    "Osobně se mi vícenásobná dědičnost příčí a snažím se jí vyhnout, jak to jen jde. Oblíbený způsob je nahrazovat dědičnost kompozicí. Tedy místo toho, aby třída podědila vlastnosti několika jiných tříd, udržuje si referenci na instance, které potřebuje. Například:"
   ]
  },
  {
   "cell_type": "code",
   "execution_count": null,
   "id": "e0e303c8",
   "metadata": {},
   "outputs": [],
   "source": [
    "class Logger:\n",
    "    def __init__(self, log_strategies):\n",
    "        self.log_strategies = log_strategies\n",
    "\n",
    "    def log(self, message):\n",
    "        for strategy in self.log_strategies:\n",
    "            strategy.log(message)\n",
    "\n",
    "class LogStrategy:\n",
    "    def log(self, message):\n",
    "        pass\n",
    "\n",
    "class ConsoleLogStrategy(LogStrategy):\n",
    "    def log(self, message):\n",
    "        print(f\"Console: {message}\")\n",
    "\n",
    "class FileLogStrategy(LogStrategy):\n",
    "    def __init__(self, file_path):\n",
    "        self.file_path = file_path\n",
    "\n",
    "    def log(self, message):\n",
    "        with open(self.file_path, \"a\") as log_file:\n",
    "            log_file.write(f\"File: {message}\\n\")\n",
    "\n",
    "class DatabaseLogStrategy(LogStrategy):\n",
    "    def log(self, message):\n",
    "        # Code to connect and log message to a database\n",
    "        pass\n",
    "\n",
    "console_logger = Logger([ConsoleLogStrategy()])\n",
    "console_and_file_logger = Logger([ConsoleLogStrategy(), FileLogStrategy(\"logfile.txt\")])\n",
    "\n",
    "console_logger.log(\"This is a console log message\")\n",
    "console_and_file_logger.log(\"This is a console and file log message\")"
   ]
  },
  {
   "cell_type": "markdown",
   "id": "795c7a29",
   "metadata": {},
   "source": [
    "Zvrácená dědičná implementace by mohl vypadat nějak takto:"
   ]
  },
  {
   "cell_type": "code",
   "execution_count": null,
   "id": "91b96554",
   "metadata": {},
   "outputs": [],
   "source": [
    "class Logger:\n",
    "    pass\n",
    "\n",
    "class FileLogger(Logger):\n",
    "    pass\n",
    "\n",
    "class ConsoleLogger(Logger):\n",
    "    pass\n",
    "\n",
    "class FileAndConsoleLogger(FileLogger, ConsoleLogger):\n",
    "    pass"
   ]
  }
 ],
 "metadata": {
  "kernelspec": {
   "display_name": "Python 3 (ipykernel)",
   "language": "python",
   "name": "python3"
  },
  "language_info": {
   "codemirror_mode": {
    "name": "ipython",
    "version": 3
   },
   "file_extension": ".py",
   "mimetype": "text/x-python",
   "name": "python",
   "nbconvert_exporter": "python",
   "pygments_lexer": "ipython3",
   "version": "3.11.6"
  }
 },
 "nbformat": 4,
 "nbformat_minor": 5
}
