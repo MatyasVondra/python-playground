{
 "cells": [
  {
   "cell_type": "markdown",
   "id": "3280874d-e887-43bb-96cc-971bf8dd2fa1",
   "metadata": {},
   "source": [
    "## Scope (kontext)"
   ]
  },
  {
   "cell_type": "code",
   "execution_count": null,
   "id": "571480e2-9949-438c-bf89-5aae7fa0af56",
   "metadata": {},
   "outputs": [],
   "source": [
    "def fun():\n",
    "    x = 1\n",
    "    print(\"neco\")\n",
    "\n",
    "fun()\n",
    "print(x)"
   ]
  },
  {
   "cell_type": "code",
   "execution_count": null,
   "id": "d3f168fe-ebfb-4e19-a15b-c552a142a540",
   "metadata": {},
   "outputs": [],
   "source": [
    "x = 1\n",
    "\n",
    "def fun():\n",
    "    print(f\"neco {x}\")\n",
    "\n",
    "fun()\n",
    "print(x)"
   ]
  },
  {
   "cell_type": "code",
   "execution_count": null,
   "id": "f5ad29b3-3170-4530-b525-35742613a21b",
   "metadata": {},
   "outputs": [],
   "source": [
    "x = 1\n",
    "\n",
    "def fun():\n",
    "    global x\n",
    "    x = 2\n",
    "    print(\"neco\")\n",
    "\n",
    "fun()\n",
    "print(x)"
   ]
  },
  {
   "cell_type": "code",
   "execution_count": null,
   "id": "4d07c547-fd66-4fba-aa0a-b198d01e1a2f",
   "metadata": {},
   "outputs": [],
   "source": [
    "def g():\n",
    "    s = \"g-level\"\n",
    "\n",
    "    def f():\n",
    "        # nonlocal s\n",
    "        global s\n",
    "        s = \"f-level\"\n",
    "        print(f\"f: {s}\")\n",
    "\n",
    "    print(f\"g: {s}\") f-level\n",
    "    f()\n",
    "    print(f\"g: {s}\")\n",
    "\n",
    "g()"
   ]
  },
  {
   "cell_type": "code",
   "execution_count": null,
   "id": "1604de78-6023-49c4-ace2-83660cb666ce",
   "metadata": {},
   "outputs": [],
   "source": [
    "def process_data():\n",
    "    running_total = 0.0\n",
    "    data1\n",
    "    data2\n",
    "    data3\n",
    "\n",
    "    def filter_and_running_total(x):\n",
    "        nonlocal running_total\n",
    "        pass\n",
    "        \n",
    "    def sort_key(x):\n",
    "        pass\n",
    "\n",
    "    data1.sorted(key=sort_key(x))\n",
    "    data2.sorted(key=sort_key(x))\n",
    "    "
   ]
  },
  {
   "cell_type": "markdown",
   "id": "1be48ce8-47fa-4aaa-9bd3-2a3234fa9fb7",
   "metadata": {},
   "source": [
    "## Modul\n",
    "\n",
    "- jeden zdrojovy soubor, ktery lze importovat."
   ]
  },
  {
   "cell_type": "code",
   "execution_count": null,
   "id": "22d78143-ae3b-4c18-a50b-c7ca060adfc2",
   "metadata": {},
   "outputs": [],
   "source": [
    "import mymod\n",
    "\n",
    "mymod.add(1, 2)"
   ]
  },
  {
   "cell_type": "code",
   "execution_count": null,
   "id": "bdbc1d34-b893-4307-8bd0-cef9389ad6cf",
   "metadata": {},
   "outputs": [],
   "source": [
    "from mymod import add\n",
    "\n",
    "add(1, 2)"
   ]
  },
  {
   "cell_type": "code",
   "execution_count": null,
   "id": "279b0cf6-3d53-4c95-8093-87aa62d7bf76",
   "metadata": {},
   "outputs": [],
   "source": [
    "import mymod\n",
    "import sys\n",
    "import math\n",
    "\n",
    "dir(mymod)\n",
    "math.__name__, math.__spec__"
   ]
  },
  {
   "cell_type": "code",
   "execution_count": null,
   "id": "35b51e36-4fa6-42a0-8f18-4153a6b34190",
   "metadata": {},
   "outputs": [],
   "source": [
    "import mymod\n",
    "\n",
    "dir(mymod)"
   ]
  },
  {
   "cell_type": "code",
   "execution_count": null,
   "id": "e9e17a73-82e8-4395-98c6-576ff579290a",
   "metadata": {},
   "outputs": [],
   "source": [
    "import mymod\n",
    "\n",
    "mymod.say_my_name()"
   ]
  },
  {
   "cell_type": "markdown",
   "id": "6ab2f48f-b660-40d5-8a98-e6defe6cebaf",
   "metadata": {},
   "source": []
  },
  {
   "cell_type": "markdown",
   "id": "1124ff9b-1528-4cb7-8261-7b4c8351469f",
   "metadata": {},
   "source": [
    "## Generovani dokumentace\n",
    "\n",
    "- sphinx\n",
    "- `pip3 install sphinx`\n",
    "- cd path/to/package\n",
    "- `sphinx-apidoc -F -o docs --ext-autodoc <package>`\n",
    "  - `-F` vygeneruje vsechno\n",
    "  - `-o docs` - vystupni adresa\n",
    "  - `--ext-autodoc`\n",
    "  - `<package>`- nazev vaseho balicku\n",
    "- `sphinx-build -b hmtl <src-dir> <output-dir>`\n",
    "  - `-b` voli builder\n",
    "  - `<src-dir>` - cesta k materialum z predchoziho kroku\n",
    "  - `<output-dir>` - vystupni cesta (docs/_build)\n"
   ]
  },
  {
   "cell_type": "markdown",
   "id": "dc3b049f-0d24-4ddf-ba1c-d560e55f7268",
   "metadata": {},
   "source": [
    "## Vlastni vyjimky"
   ]
  },
  {
   "cell_type": "code",
   "execution_count": null,
   "id": "ac927897-c28d-4c16-b110-c69d8bc174ad",
   "metadata": {},
   "outputs": [],
   "source": [
    "try:\n",
    "    1 / 0\n",
    "except ZeroDivisionError as e:\n",
    "    print(e)"
   ]
  },
  {
   "cell_type": "code",
   "execution_count": null,
   "id": "426dec31-abec-4c39-96cf-5c578cd5d9de",
   "metadata": {},
   "outputs": [],
   "source": [
    "class MyException(Exception):\n",
    "    def __init__(self, message, details):\n",
    "        super().__init__(message)\n",
    "        self.details = details\n",
    "\n",
    "class ABitMoreSeriousException(MyException):\n",
    "    pass\n",
    "\n",
    "def myfunction():\n",
    "    raise ABitMoreSeriousException(\"raising my exception\", \"these are some details\")\n",
    "\n",
    "try:\n",
    "    myfunction()\n",
    "except MyException as e:\n",
    "    print(e, type(e))"
   ]
  },
  {
   "cell_type": "code",
   "execution_count": null,
   "id": "602f0a35-e82c-4bc1-bdaf-a71f328dc82f",
   "metadata": {},
   "outputs": [],
   "source": [
    "class InvalidConfigurationError(Exception):\n",
    "    def __init__(self, key):\n",
    "        super().__init__(\"message\")\n",
    "        self.key = key\n",
    "\n",
    "cfg = {\n",
    "    \"uri\": \"www.mamradjogurt.cz\"\n",
    "}\n",
    "\n",
    "def app(**cfg):\n",
    "    if \"url\" not in cfg:\n",
    "        raise InvalidConfigurationError(\"url\")\n",
    "    print(f\"web scraping data from {cfg['url']}\")\n",
    "\n",
    "app(**cfg)"
   ]
  },
  {
   "cell_type": "markdown",
   "id": "a09a6004-d56c-420f-9308-88f67459b3ce",
   "metadata": {},
   "source": [
    "## Eshop\n",
    "\n",
    "- shopping list, polozky s cenou\n",
    "- shrnout - celkova cenu\n",
    "- zaplatit - Paypal, bankovni prevod"
   ]
  },
  {
   "cell_type": "code",
   "execution_count": null,
   "id": "9b880992-2dc9-46a2-a14c-5c1f7f80c493",
   "metadata": {},
   "outputs": [],
   "source": [
    "from abc import ABC, abstractmethod\n",
    "\n",
    "shopping_list = [\n",
    "    (\"apple usb-c\", 3700),\n",
    "    (\"golden plated HDMI\", 739)\n",
    "]\n",
    "\n",
    "class EshopOrder(ABC):\n",
    "    def __init__(self):\n",
    "        self.shopping_list = []\n",
    "\n",
    "    @abstractmethod\n",
    "    def pay(self):\n",
    "        pass\n",
    "\n",
    "    @property\n",
    "    def total(self):\n",
    "        return sum(p for _, p in self.shopping_list)\n",
    "\n",
    "\n",
    "class PayPalEshopOrder(EshopOrder):\n",
    "    def pay(self):\n",
    "        print(f\"paying {self.total} using PayPal\")\n",
    "\n",
    "class BankTransferEshopOrder(EshopOrder):\n",
    "    def pay(self):\n",
    "        print(f\"paying {self.total} using bank transfer\")\n",
    "\n",
    "\n",
    "order = BankTransferEshopOrder()\n",
    "order.shopping_list = shopping_list\n",
    "order.pay()"
   ]
  },
  {
   "cell_type": "code",
   "execution_count": null,
   "id": "b656bcdf-55c3-4a5e-81ac-3c85ada29267",
   "metadata": {},
   "outputs": [],
   "source": [
    "# problem nastane,kdyz budu rozsirovat napr. ruzne druhy objednavek\n",
    "\n",
    "class PersonalOrder(EshopOrder):\n",
    "    pass\n",
    "\n",
    "class CompanyOder(EshopOrder):\n",
    "    pass\n",
    "\n",
    "class PaypalPersonalEshopOrder(PersonalOrder):\n",
    "    def pay(self):\n",
    "        print(f\"paying {self.total} using PayPal\")"
   ]
  },
  {
   "cell_type": "code",
   "execution_count": null,
   "id": "06697e49-cabe-41cb-9324-67db633d8a7c",
   "metadata": {},
   "outputs": [],
   "source": [
    "from abc import ABC, abstractmethod\n",
    "\n",
    "shopping_list = [\n",
    "    (\"apple usb-c\", 3700),\n",
    "    (\"golden plated HDMI\", 739)\n",
    "]\n",
    "\n",
    "class PaymentMethod(ABC):\n",
    "    @abstractmethod\n",
    "    def pay(self, total):\n",
    "        pass\n",
    "\n",
    "class PayPalPayment(PaymentMethod):\n",
    "    def pay(self, total):\n",
    "        print(f\"paying {total} using PayPal\")\n",
    "\n",
    "class BankTransferPayment(PaymentMethod):\n",
    "    def pay(self, total):\n",
    "        print(f\"paying {total} using bank transfer\")\n",
    "\n",
    "\n",
    "class EshopOrder:\n",
    "    def __init__(self):\n",
    "        self.shopping_list = []\n",
    "\n",
    "    def pay(self, method=\"transfer\"):\n",
    "        if method == \"transfer\":\n",
    "            BankTransferPayment().pay(self.total)\n",
    "        elif method == \"paypal\":\n",
    "            PayPalPayment().pay(self.total)\n",
    "        else:\n",
    "            raise ValueError(\"unknown payment method\")\n",
    "\n",
    "    @property\n",
    "    def total(self):\n",
    "        return sum(p for _, p in self.shopping_list)\n",
    "\n",
    "\n",
    "\n",
    "\n",
    "order = EshopOrder()\n",
    "order.shopping_list = shopping_list\n",
    "order.pay(method=\"paypal\")"
   ]
  },
  {
   "cell_type": "code",
   "execution_count": null,
   "id": "24b133c3-ccc5-4608-803b-42979981d8a6",
   "metadata": {},
   "outputs": [],
   "source": [
    "from abc import ABC, abstractmethod\n",
    "\n",
    "shopping_list = [\n",
    "    (\"apple usb-c\", 3700),\n",
    "    (\"golden plated HDMI\", 739)\n",
    "]\n",
    "\n",
    "class PaymentMethod(ABC):\n",
    "    @abstractmethod\n",
    "    def pay(self, total):\n",
    "        pass\n",
    "\n",
    "class PayPalPayment(PaymentMethod):\n",
    "    def pay(self, total):\n",
    "        print(f\"paying {total} using PayPal\")\n",
    "\n",
    "class BankTransferPayment(PaymentMethod):\n",
    "    def pay(self, total):\n",
    "        print(f\"paying {total} using bank transfer\")\n",
    "\n",
    "\n",
    "class EshopOrder:\n",
    "    def __init__(self):\n",
    "        self.shopping_list = []\n",
    "\n",
    "    def pay(self, payment: PaymentMethod):\n",
    "        payment.pay(self.total)\n",
    "\n",
    "    @property\n",
    "    def total(self):\n",
    "        return sum(p for _, p in self.shopping_list)\n",
    "\n",
    "\n",
    "order = EshopOrder()\n",
    "order.shopping_list = shopping_list\n",
    "paymentmethod = BankTransferPayment()\n",
    "order.pay(paymentmethod)"
   ]
  },
  {
   "cell_type": "code",
   "execution_count": null,
   "id": "d301bf25-d418-475f-88b9-b04388d0207a",
   "metadata": {},
   "outputs": [],
   "source": [
    "from typing import Protocol\n",
    "\n",
    "shopping_list = [\n",
    "    (\"apple usb-c\", 3700),\n",
    "    (\"golden plated HDMI\", 739)\n",
    "]\n",
    "\n",
    "class PaymentMethod(Protocol):\n",
    "    def pay(self, total: int) -> None:\n",
    "        ...\n",
    "\n",
    "class PayPalPayment:\n",
    "    def pay(self, total):\n",
    "        print(f\"paying {total} using PayPal\")\n",
    "\n",
    "class BankTransferPayment:\n",
    "    def pay(self, total):\n",
    "        print(f\"paying {total} using bank transfer\")\n",
    "\n",
    "\n",
    "class EshopOrder:\n",
    "    def __init__(self):\n",
    "        self.shopping_list = []\n",
    "\n",
    "    def pay(self, payment: PaymentMethod):\n",
    "        payment.pay(self.total)\n",
    "\n",
    "    @property\n",
    "    def total(self):\n",
    "        return sum(p for _, p in self.shopping_list)\n",
    "\n",
    "\n",
    "order = EshopOrder()\n",
    "order.shopping_list = shopping_list\n",
    "paymentmethod = PayPalPayment()\n",
    "order.pay(paymentmethod)"
   ]
  },
  {
   "cell_type": "code",
   "execution_count": null,
   "id": "76410768-9c84-404d-9672-47845f23aa8a",
   "metadata": {},
   "outputs": [],
   "source": [
    "from typing import Protocol\n",
    "\n",
    "shopping_list = [\n",
    "    (\"apple usb-c\", 3700),\n",
    "    (\"golden plated HDMI\", 739)\n",
    "]\n",
    "\n",
    "class PaymentMethod(Protocol):\n",
    "    def pay(self, total: int) -> None:\n",
    "        ...\n",
    "\n",
    "class PayPalPayment:\n",
    "    def pay(self, total):\n",
    "        print(f\"paying {total} using PayPal\")\n",
    "\n",
    "class BankTransferPayment:\n",
    "    def pay(self, total):\n",
    "        print(f\"paying {total} using bank transfer\")\n",
    "\n",
    "\n",
    "def process_order(shopping_list, method: PaymentMethod):\n",
    "    total = sum(p for _, p in shopping_list)\n",
    "    method.pay(total)\n",
    "\n",
    "\n",
    "paymentmethod = PayPalPayment()\n",
    "process_order(shopping_list, paymentmethod)"
   ]
  }
 ],
 "metadata": {
  "kernelspec": {
   "display_name": "Python 3 (ipykernel)",
   "language": "python",
   "name": "python3"
  },
  "language_info": {
   "codemirror_mode": {
    "name": "ipython",
    "version": 3
   },
   "file_extension": ".py",
   "mimetype": "text/x-python",
   "name": "python",
   "nbconvert_exporter": "python",
   "pygments_lexer": "ipython3",
   "version": "3.10.12"
  }
 },
 "nbformat": 4,
 "nbformat_minor": 5
}
