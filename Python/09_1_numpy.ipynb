{
 "cells": [
  {
   "cell_type": "markdown",
   "id": "42e3d9f2",
   "metadata": {},
   "source": [
    "# `numpy` - numerical python \n",
    "\n",
    "https://numpy.org/"
   ]
  },
  {
   "cell_type": "markdown",
   "id": "31aa02dc",
   "metadata": {},
   "source": [
    "Co o sobě říká `numpy`:\n",
    "\n",
    "> **POWERFUL N-DIMENSIONAL ARRAYS** Fast and versatile, the NumPy vectorization, indexing, and broadcasting concepts are the de-facto standards of array computing today.\n",
    "\n",
    "> **NUMERICAL COMPUTING TOOLS** NumPy offers comprehensive mathematical functions, random number generators, linear algebra routines, Fourier transforms, and more.\n",
    "\n",
    "> **OPEN SOURCE** Distributed under a liberal BSD license, NumPy is developed and maintained publicly on GitHub by a vibrant, responsive, and diverse community.\n",
    "\n",
    "> **INTEROPERABLE** NumPy supports a wide range of hardware and computing platforms, and plays well with distributed, GPU, and sparse array libraries.\n",
    "\n",
    "> **PERFORMANT** The core of NumPy is well-optimized C code. Enjoy the flexibility of Python with the speed of compiled code.\n",
    "\n",
    "> **EASY TO USE** NumPy’s high level syntax makes it accessible and productive for programmers from any background or experience level."
   ]
  },
  {
   "cell_type": "markdown",
   "id": "c010add4",
   "metadata": {},
   "source": [
    "## `numpy` arrays\n",
    "\n",
    "Základním stavebním kamenem jsou vícerozměrná pole. Oproti např. typu `list` mají pevnou velikost a mohou obsahovat prvky pouze jednoho typu. Vytváříme je pomocí zabudovaných funkci, jako je třeba celkem univerzální `numpy.array` nebo specializovaných, např. `numpy.zeros`, `numpy.ones`, `numpy.linspace`.\n",
    "\n",
    "Pole mají řadu atributů. Mezi ty základní patří `.shape`, `.size`, `.dtype`. Jejich význam by mohl být zřejmá z následujících příkladů."
   ]
  },
  {
   "cell_type": "code",
   "execution_count": null,
   "id": "246230f4",
   "metadata": {},
   "outputs": [],
   "source": [
    "import numpy as np\n",
    "\n",
    "a = np.array([1, 2, 3], dtype=np.double)\n",
    "print(a)\n",
    "\n",
    "a = np.zeros(shape=(3, 2), dtype=np.complex128)\n",
    "print(a)\n",
    "\n",
    "a = np.linspace(0, 1, 11)\n",
    "print(a)\n",
    "\n",
    "a = np.array(range(18), dtype=int).reshape(3, 6)\n",
    "print(a)\n",
    "\n",
    "a = np.array(range(8), dtype=int).reshape(2, 2, 2)\n",
    "print(a)"
   ]
  },
  {
   "cell_type": "markdown",
   "id": "989ba1f1",
   "metadata": {},
   "source": [
    "Mezi `numpy` poli jsou definovány všechny rozumné operace, včetně řady algebraických (násobení matic, skalární a vektorový součin, atd.). Řada z nich má asociovaný i nějaký operátor."
   ]
  },
  {
   "cell_type": "code",
   "execution_count": null,
   "id": "a7ed58b5",
   "metadata": {},
   "outputs": [],
   "source": [
    "a = np.array([1, 2, 3])\n",
    "b = np.array([1, 1, 1])\n",
    "\n",
    "np.matmul(a, b) # a @ b # skalární součin / maticové násobení"
   ]
  },
  {
   "cell_type": "code",
   "execution_count": null,
   "id": "570da5bc-ff6d-4145-9591-7ba1c5b0e514",
   "metadata": {},
   "outputs": [],
   "source": [
    "c = 2 * a + b**2\n",
    "print(c)"
   ]
  },
  {
   "cell_type": "code",
   "execution_count": null,
   "id": "c83d6ae6-9c63-437a-ad03-fa24dcc8f46b",
   "metadata": {},
   "outputs": [],
   "source": [
    "a * b # element-wise multiplication"
   ]
  },
  {
   "cell_type": "markdown",
   "id": "06d57b5f",
   "metadata": {},
   "source": [
    "## Broadcasting\n",
    "\n",
    "Broadcasting je způsob, jakým `numpy` řeší operace s poli různých velikostí. Nejsnáze se to ilustruje na násobení pole skalárem (číslem)"
   ]
  },
  {
   "cell_type": "code",
   "execution_count": null,
   "id": "db2428f2",
   "metadata": {},
   "outputs": [],
   "source": [
    "import numpy as np\n",
    "\n",
    "a = np.array(range(10))\n",
    "b = 2\n",
    "\n",
    "c = a * b\n",
    "print(c.shape, c)"
   ]
  },
  {
   "cell_type": "markdown",
   "id": "e8e97b0e",
   "metadata": {},
   "source": [
    "`numpy` 'natáhne' číslo v proměnné `b` na velikost pole `a` a pak provede element-wise násobení.\n",
    "\n",
    "Broadcasting se řídí dvěma jednoduchými pravidly. Porovnávájí se jednotlivé rozměry v `.shape` zprava doleva. Rozměry jsou kompatibilní, pokud:\n",
    "\n",
    "1. jsou shodné\n",
    "2. jeden z nich je 1.\n",
    "\n",
    "Ukažme si to na několika příkladech."
   ]
  },
  {
   "cell_type": "code",
   "execution_count": null,
   "id": "5c03bbfc",
   "metadata": {},
   "outputs": [],
   "source": [
    "import numpy as np\n",
    "\n",
    "a = np.array(range(5)).reshape((5, 1))\n",
    "b = a.transpose()\n",
    "\n",
    "print(a.shape, b.shape)\n",
    "\n",
    "a * b"
   ]
  },
  {
   "cell_type": "code",
   "execution_count": null,
   "id": "3adcf103",
   "metadata": {},
   "outputs": [],
   "source": [
    "# barevny obrazek velikosti IMG_SIZExIMG_SIZE. Kazdy barevny kanal chceme naskalovat zvlast\n",
    "\n",
    "import numpy as np\n",
    "\n",
    "IMG_SIZE = 4\n",
    "im = np.array([1] * IMG_SIZE * IMG_SIZE * 3, dtype=int).reshape((IMG_SIZE, IMG_SIZE, 3))\n",
    "scale = np.array([1, 2, 3])\n",
    "scaled = im * scale\n",
    "scaled"
   ]
  },
  {
   "cell_type": "markdown",
   "id": "c5fda44c-148d-4bf2-a737-61506821c04f",
   "metadata": {},
   "source": [
    "Pokud pole nemají _brodcastable_ rozměry, `numpy` vyvolá výjimku:"
   ]
  },
  {
   "cell_type": "markdown",
   "id": "8e2a7f1c-6722-4d1c-af74-79ac28ca9ce4",
   "metadata": {},
   "source": [
    "```{tip}\n",
    "Broadcasting je zpočátku trochu matoucí. Asi nejsnazší je vyzkoušet si pár jednoduchých příkladů. Brzy se Vám to dostane pod kůži.\n",
    "```"
   ]
  },
  {
   "cell_type": "markdown",
   "id": "03e2bfcd",
   "metadata": {},
   "source": [
    "## Vektorizace\n",
    "\n",
    "Velkým přínosem jsou vektorizované operace. Vektorizací se rozumí konverze algoritmu z opakovaných aplikací operace na prvky kolekce po jednom do podoby, ve které se operace provede pro všechny prvky najednou (nebo alespoň pro více najednou). Samotná realizace vektorizace se může velmi lišit v závislosti na kontextu. Cílem je především vyšší efektivita.\n",
    "\n",
    "`numpy` právě se svými poli umožňuje provádět mnoho operací vektorizovaně, což je zpravidla významně rychlejší."
   ]
  },
  {
   "cell_type": "markdown",
   "id": "2bb2f7aa",
   "metadata": {},
   "source": [
    "### Příklad\n",
    "\n",
    "vezměme seznam 10001 čísel a spočítejme jejich odmocninu a přičteme číslo 1, 4 různými způsoby:\n",
    "\n",
    "1. obyčejný for cyklus\n",
    "2. numpy-vektorizovaná operace\n",
    "3. hloupé nevyužití numpy pole\n",
    "4. dodatečná vektorizace původně nevektorizované operace\n",
    "\n",
    "Čas změříme pomocí magic metod balíčku timeit."
   ]
  },
  {
   "cell_type": "code",
   "execution_count": null,
   "id": "45512601-2b59-4ed1-a706-98fdd5ccd020",
   "metadata": {},
   "outputs": [],
   "source": [
    "import timeit\n",
    "import numpy as np\n",
    "\n",
    "def time_func(fun, number=1000, repeat=5):\n",
    "    measurements = timeit.repeat(fun, number=number, repeat=repeat)\n",
    "    mean = np.mean(measurements) * 1000 / number\n",
    "    stdev = np.std(measurements) * 1000 / number\n",
    "    print(f\"function {fun.__name__} took ({mean:.3f}+-{stdev:.3f}) ms\")"
   ]
  },
  {
   "cell_type": "code",
   "execution_count": null,
   "id": "4d9a37ff",
   "metadata": {},
   "outputs": [],
   "source": [
    "from math import sqrt\n",
    "import numpy as np\n",
    "\n",
    "N = 10001\n",
    "\n",
    "def basic_op():\n",
    "    xs = [(0.0 + i *0.01) for i in range(N)]\n",
    "    ys = [sqrt(x) + 1 for x in xs]\n",
    "\n",
    "def np_op():\n",
    "    x = np.linspace(0., 1., N)\n",
    "    y = np.sqrt(x) + 1\n",
    "\n",
    "def np_dumb_op():\n",
    "    x = np.linspace(0., 1., N)\n",
    "    y = np.zeros(x.shape, dtype=np.double)\n",
    "    for i, xi in enumerate(x):\n",
    "        y[i] = sqrt(xi) + 1\n",
    "\n",
    "\n",
    "def on_el_op(x):\n",
    "    return sqrt(x) + 1\n",
    "\n",
    "vectorized_op = np.vectorize(op)\n",
    "\n",
    "def vectorized_basic_op():\n",
    "    x = np.linspace(0., 1., N)\n",
    "    y = vectorized_op(x)\n",
    "\n",
    "\n",
    "time_func(basic_op)\n",
    "time_func(np_op)\n",
    "time_func(np_dumb_op)\n",
    "time_func(vectorized_basic_op)"
   ]
  }
 ],
 "metadata": {
  "kernelspec": {
   "display_name": "Python 3 (ipykernel)",
   "language": "python",
   "name": "python3"
  },
  "language_info": {
   "codemirror_mode": {
    "name": "ipython",
    "version": 3
   },
   "file_extension": ".py",
   "mimetype": "text/x-python",
   "name": "python",
   "nbconvert_exporter": "python",
   "pygments_lexer": "ipython3",
   "version": "3.11.6"
  }
 },
 "nbformat": 4,
 "nbformat_minor": 5
}
