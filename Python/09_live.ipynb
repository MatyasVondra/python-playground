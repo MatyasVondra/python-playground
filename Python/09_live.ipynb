{
 "cells": [
  {
   "cell_type": "markdown",
   "id": "24a0ad00-f803-4530-a976-863f5b641cc1",
   "metadata": {},
   "source": [
    "## NUMPY + MATPLOTLIB"
   ]
  },
  {
   "cell_type": "markdown",
   "id": "4c9e9f21-60dd-43c2-b551-304e2c401596",
   "metadata": {},
   "source": [
    "```\n",
    "pip3 install numpy\n",
    "pip3 install matplotlib\n",
    "```"
   ]
  },
  {
   "cell_type": "code",
   "execution_count": null,
   "id": "a5b1eaaa-83a1-46af-846c-42f81d27dccd",
   "metadata": {},
   "outputs": [],
   "source": [
    "import numpy as np\n",
    "\n",
    "a = np.array([1, 2, 3])\n",
    "a, type(a)"
   ]
  },
  {
   "cell_type": "code",
   "execution_count": null,
   "id": "847ab074-447c-48fa-ac8e-a56385484639",
   "metadata": {},
   "outputs": [],
   "source": [
    "a = [1, \"string\", True]"
   ]
  },
  {
   "cell_type": "code",
   "execution_count": null,
   "id": "e186fea4-c6ab-4591-bd90-d80c9c3b29ef",
   "metadata": {},
   "outputs": [],
   "source": [
    "a = np.array([1, 2, 3])\n",
    "a.size, a.shape, a.dtype"
   ]
  },
  {
   "cell_type": "code",
   "execution_count": null,
   "id": "a3071982-4954-4a13-a9e3-f3ab76c9a29b",
   "metadata": {},
   "outputs": [],
   "source": [
    "a = np.empty(shape=(3, 2), dtype=float)\n",
    "print(a)\n",
    "b = np.empty(shape=(3, 2), dtype=float)\n",
    "print(b)"
   ]
  },
  {
   "cell_type": "code",
   "execution_count": null,
   "id": "648c8813-e9b6-4036-bf14-6b8b6303f0d3",
   "metadata": {},
   "outputs": [],
   "source": [
    "a = np.array(range(16), dtype=complex).reshape(4, 4)\n",
    "print(a)"
   ]
  },
  {
   "cell_type": "code",
   "execution_count": null,
   "id": "6a948bb9-9f35-46be-a9a5-8befac699675",
   "metadata": {},
   "outputs": [],
   "source": [
    "x = np.linspace(0, 1, 11) # start, stop, count\n",
    "print(x)\n",
    "x = np.arange(0, 1.1, 0.1) # start, stop, step\n",
    "print(x)"
   ]
  },
  {
   "cell_type": "code",
   "execution_count": null,
   "id": "e163451f-f94c-4e35-a826-5baa4e9e03ba",
   "metadata": {},
   "outputs": [],
   "source": [
    "a = np.array(range(16), dtype=int).reshape(4, 4)\n",
    "print(a[0,0:2])\n",
    "a[0, 0] = 10\n",
    "print(a)"
   ]
  },
  {
   "cell_type": "code",
   "execution_count": null,
   "id": "79d22f22-e66d-421f-abb1-dbd69573c120",
   "metadata": {},
   "outputs": [],
   "source": [
    "a = np.array([1, 2, 3])\n",
    "b = np.array([2, 3, 4])\n",
    "\n",
    "a- 5*b\n",
    "a*b # element-wise multiplication\n",
    "a@b # maticove nasobeni, v tomto pripade skalarni soucin\n",
    "np.matmul(a, b)"
   ]
  },
  {
   "cell_type": "code",
   "execution_count": null,
   "id": "94f64496-82d1-4b5a-be82-c1de7e3d5641",
   "metadata": {},
   "outputs": [],
   "source": [
    "a + 2"
   ]
  },
  {
   "cell_type": "markdown",
   "id": "e1e0f413-5527-4d47-a87c-de0e6bee28fb",
   "metadata": {},
   "source": [
    "## Broadcasting"
   ]
  },
  {
   "cell_type": "code",
   "execution_count": null,
   "id": "c03da987-169e-48c6-83c4-c43d097327af",
   "metadata": {},
   "outputs": [],
   "source": [
    "a = np.array(range(9)).reshape(3, 3)\n",
    "b = np.array([2])\n",
    "a+b\n",
    "a.shape, b.shape"
   ]
  },
  {
   "cell_type": "code",
   "execution_count": null,
   "id": "a017ecd6-1df8-4b07-866f-b91fcba71d3e",
   "metadata": {},
   "outputs": [],
   "source": [
    "import numpy as np\n",
    "a = np.array(range(5)).reshape(5, 1)\n",
    "b = a.transpose()\n",
    "\n",
    "print(a.shape)\n",
    "print(b.shape)\n",
    "a * b"
   ]
  },
  {
   "cell_type": "code",
   "execution_count": null,
   "id": "d41b2c36-c393-4168-8cd3-92d8759856b4",
   "metadata": {},
   "outputs": [],
   "source": [
    "import numpy as np\n",
    "a = np.array(range(5)).reshape(5, 1)\n",
    "b = np.array(range(9)).reshape(3, 3)\n",
    "\n",
    "print(a.shape)\n",
    "print(b.shape)\n",
    "a * b"
   ]
  },
  {
   "cell_type": "markdown",
   "id": "e2b5358b-53de-4ecc-aaab-983be6387e40",
   "metadata": {},
   "source": [
    "## Vektorizace"
   ]
  },
  {
   "cell_type": "code",
   "execution_count": null,
   "id": "71736e40-1be3-4b60-92b6-6eec06f29923",
   "metadata": {},
   "outputs": [],
   "source": [
    "xs = [1, 2, 3, \"string\"]\n",
    "\n",
    "ys = [2*x for x in xs]\n",
    "ys"
   ]
  },
  {
   "cell_type": "code",
   "execution_count": null,
   "id": "b6eb203e-721f-4592-be2f-a1b9a031078d",
   "metadata": {},
   "outputs": [],
   "source": [
    "import timeit\n",
    "import numpy as np\n",
    "from time import sleep\n",
    "\n",
    "def test():\n",
    "    sleep(0.0005)\n",
    "\n",
    "def time_func(fun, number=1000, repeat=5):\n",
    "    measurements = timeit.repeat(fun, number=number, repeat=repeat)\n",
    "    mean = np.mean(measurements) * 1000 / number\n",
    "    stdev = np.std(measurements) * 1000 / number\n",
    "    print(f\"function {fun.__name__} took ({mean:.3f}+-{stdev:.3f}) ms\")\n",
    "\n",
    "time_func(test)"
   ]
  },
  {
   "cell_type": "code",
   "execution_count": null,
   "id": "4972f94f-701a-4825-987d-5cc39c55a0a7",
   "metadata": {},
   "outputs": [],
   "source": [
    "from math import sqrt\n",
    "N = 10001\n",
    "\n",
    "def basic_op():\n",
    "    xs = [(0.0 + i * 0.01) for i in range(N)]\n",
    "    ys = [sqrt(x) + 1 for x in xs]\n",
    "\n",
    "\n",
    "def np_op():\n",
    "    x = np.linspace(0.0, 100, N)\n",
    "    y = np.sqrt(x) + 1\n",
    "\n",
    "time_func(basic_op)\n",
    "time_func(np_op)"
   ]
  },
  {
   "cell_type": "markdown",
   "id": "58f1905d-9ba2-407c-9e56-17349081f518",
   "metadata": {},
   "source": [
    "## Matplotlib"
   ]
  },
  {
   "cell_type": "code",
   "execution_count": null,
   "id": "cbc2e33f-8163-4558-9213-68af4c781c90",
   "metadata": {},
   "outputs": [],
   "source": [
    "import numpy as np\n",
    "import matplotlib.pyplot as plt\n",
    "\n",
    "x = np.linspace(0.0, 2*np.pi, 100)\n",
    "y = np.sin(x)\n",
    "\n",
    "plt.plot(x, y, color=\"red\", linestyle=\":\", linewidth=2.7, label=\"sin(x)\")\n",
    "plt.xlabel(\"x\")\n",
    "plt.ylabel(\"y\")\n",
    "plt.title(\"title\")\n",
    "plt.legend()\n",
    "plt.show()"
   ]
  },
  {
   "cell_type": "code",
   "execution_count": null,
   "id": "94f28e07-ffec-4195-95e7-8f160b2acc6b",
   "metadata": {
    "scrolled": true
   },
   "outputs": [],
   "source": [
    "import numpy as np\n",
    "import matplotlib.pyplot as plt\n",
    "\n",
    "x = np.linspace(0.0, 2*np.pi, 100)\n",
    "y = np.sin(x)\n",
    "\n",
    "fig = plt.figure(figsize=(6, 3))\n",
    "ax = fig.add_subplot(121) # 121 1 radek, 2 sloupce, 1. z moznych grafu\n",
    "ax.plot(x, y, color=\"red\", label=\"$\\sin(x)$\")\n",
    "ax.plot(x, -0.5*y, color=\"black\", label=\"$-0.5\\sin(x)$\")\n",
    "ax.legend()\n",
    "ax.set_xlabel(\"x\")\n",
    "ax.set_title(\"sin\")\n",
    "\n",
    "ax = fig.add_subplot(122)\n",
    "\n",
    "N = 256\n",
    "cmap = plt.get_cmap(\"plasma\")\n",
    "colors = cmap(np.linspace(0, 1, N))\n",
    "\n",
    "for i in range(N):\n",
    "    ax.plot(x, (i+1) * np.sin(x), color=colors[i])\n",
    "ax.set_xlabel(\"x2\")\n",
    "\n",
    "plt.tight_layout() # casto opravi problemy s layout (nekdy je vyznamne zhorsi)\n",
    "\n",
    "fig.savefig(\"graph.jpg\", dpi=300)\n",
    "\n",
    "plt.show()"
   ]
  },
  {
   "cell_type": "code",
   "execution_count": null,
   "id": "549dbb86-d46e-4378-baee-5ee51bcbcf6e",
   "metadata": {},
   "outputs": [],
   "source": [
    "import numpy as np\n",
    "import matplotlib.pyplot as plt\n",
    "from matplotlib.ticker import MultipleLocator\n",
    "\n",
    "x = np.linspace(0.0, 2, 100)\n",
    "y = np.sin(np.pi * x)\n",
    "\n",
    "fig = plt.figure()\n",
    "ax = fig.add_subplot(111)\n",
    "ax.xaxis.set_major_locator(MultipleLocator(1))\n",
    "ax.xaxis.set_major_formatter('{x:.0f} $\\pi$')\n",
    "\n",
    "ax.plot(x, y)\n",
    "\n",
    "plt.show()"
   ]
  }
 ],
 "metadata": {
  "kernelspec": {
   "display_name": "Python 3 (ipykernel)",
   "language": "python",
   "name": "python3"
  },
  "language_info": {
   "codemirror_mode": {
    "name": "ipython",
    "version": 3
   },
   "file_extension": ".py",
   "mimetype": "text/x-python",
   "name": "python",
   "nbconvert_exporter": "python",
   "pygments_lexer": "ipython3",
   "version": "3.10.12"
  }
 },
 "nbformat": 4,
 "nbformat_minor": 5
}
