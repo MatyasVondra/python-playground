{
 "cells": [
  {
   "cell_type": "markdown",
   "id": "5b209a8d-f801-409e-b6dd-5a363457957e",
   "metadata": {},
   "source": [
    "## Mocniny komplexních čísel\n",
    "Uvažujme posloupnost $x^{n+1} = x_n^2$.\n",
    "Vezmeme-li nějaké reálné číslo $-1<x_0<1$, bude posloupnost kovergovat k nule, tj.\n",
    "$$\n",
    "\\lim_{n\\to\\infty} x_n = 0\n",
    "$$\n",
    "Naopak pokud $|x_0| > 1$, posloupnost bude narůstat nade všechny meze\n",
    "$$\n",
    "\\lim_{n\\to\\infty} x_n = \\pm\\infty\n",
    "$$\n",
    "\n",
    "Komplexní číslo $z$ má reálnou a imaginární složku\n",
    "$$\n",
    "z = a + bi,\n",
    "$$\n",
    "kde $i$ je tzv. imaginární jednotka definovaná vztahem $i^2 = -1$. Můžeme jej ovšem zapsat i v \"polárních souřadnicích\", tj. pomocí vzdálenosti od počátku $|z|$ a úhlu $\\phi$\n",
    "$$\n",
    "z = a + bi = |z|e^{i\\phi} = |z|(\\cos\\phi + i \\sin\\phi).\n",
    "$$\n",
    "Mocnina komplexního čísla se chová takto (tzv. Moivreova věta):\n",
    "$$\n",
    "z^n = (a + bi)^n = |z|^n e^{i\\phi\\cdot n} = |z|^n[\\cos(\\phi\\cdot n) + i \\sin(\\phi \\cdot n)].\n",
    "$$\n",
    "\n",
    "Pokud do posloupnosti $x_n$ místo reálného čísla dosadíme komplexní, bude se to chovat podobně, tj. pro $|z_0|<1$ bude posloupnost s každou další mocninou blíže nule a pro $|z_0|>1$ se bude od nuly vzdalovat.\n",
    "\n",
    "Složitější chování ovšem vykazuje posloupnost daná předpisem\n",
    "$$\n",
    "z_{n+1} = z_n^2 + c\n",
    "$$\n",
    "kde $c$ je nějaké obecně komplexní číslo. Některá čísla utečou do nekonečna, některá do nuly a některá se nebudou chtít rozhodnout.\n",
    "\n",
    "**Napište program, který:**\n",
    "\n",
    "- sestaví pole `grid` komplexních čísel v oblasti mezi -1.5 až 0.5 (reálná část) a -1 až 1 (imaginární část) (tj. obdelník od -1.5-i do 0.5+i). Velikost pole, tedy i počet čísel v dané oblasti, nechte jako jeden z parametrů programu.\n",
    "- napočítá prvních `N` iterací posloupnosti každé číslo v poli `grid`.\n",
    "- nakreslí obrázek, ve kterém každý pixel bude odpovídat jednomu číslu z pole `grid`. Pixely odpovídající číslům, jejichž velikost po `N` iteracích překročila jistou mez `d0` obarvěte jednou barvou, jinou barvou ta zbylá.\n",
    "\n",
    "Bonus:\n",
    "\n",
    "- Ukládejte průběžně, při které iteraci jednotlivá čísla v poli `grid` překročí mezní vdálenost od počátku. V obrázku je pak obarvěte různě.\n",
    "\n",
    "Doporučení\n",
    "\n",
    "- použijte numpy\n",
    "- v numpy lze komplexní pole vyrobit např. pomocí\n",
    "    ```python\n",
    "        a = np.zeros(shape, dtype = np.complex128)\n",
    "    ```\n",
    "- pro vykreslení použijte balík `matplotlib.pyplot`. Funkce `imshow` umí nakreslit pole jako jednotlivé pixely.\n",
    "- velikost `d` počítejte jako velikost komplexního čísla, tj. funkce `np.abs`\n",
    "- `N` stačí vzít zhruba 25\n"
   ]
  },
  {
   "cell_type": "markdown",
   "id": "8c03aa62-863b-431c-acdf-69ac33c405e5",
   "metadata": {},
   "source": [
    "1. priprava gridu - pole komplexnich hodnot v danem rozsahu - realna slozka bude od -2 do 2, imaginarni od -2i do 2i\n",
    "2. spocitame posloupnost z_n+1 = z_n^2 + c, pro nejake c, bude pocitat, pro jake n prekroci absolutni hodnota velikost d\n",
    "3. nakreslime obrazek"
   ]
  },
  {
   "cell_type": "code",
   "execution_count": null,
   "id": "49340359-223f-4142-9167-aceeaa3444f2",
   "metadata": {},
   "outputs": [],
   "source": [
    "import numpy as np\n",
    "\n",
    "real = np.linspace(-2, 2, 3)\n",
    "imag = np.linspace(-2, 2, 3) * 1j\n",
    "print(real)\n",
    "print(imag)"
   ]
  },
  {
   "cell_type": "code",
   "execution_count": null,
   "id": "8735a9cd-4caf-4c11-a535-bb384d87137e",
   "metadata": {},
   "outputs": [],
   "source": [
    "x = np.array(range(3))\n",
    "y = np.array(range(4))\n",
    "\n",
    "xx, yy = np.meshgrid(x, y)\n",
    "xx, yy"
   ]
  },
  {
   "cell_type": "code",
   "execution_count": null,
   "id": "327b2feb-4227-4e86-9fee-2a6a6ab6ac65",
   "metadata": {},
   "outputs": [],
   "source": [
    "import numpy as np\n",
    "\n",
    "real = np.linspace(-2, 2, 3)\n",
    "imag = np.linspace(-2, 2, 3) * 1j\n",
    "\n",
    "rr, ii = np.meshgrid(real, imag)\n",
    "rr + ii"
   ]
  },
  {
   "cell_type": "code",
   "execution_count": null,
   "id": "14c96b08-5721-4913-973e-f40894cd02eb",
   "metadata": {},
   "outputs": [],
   "source": [
    "import numpy as np\n",
    "\n",
    "def make_grid(size=(1000, 1000), real_range=(-2, 2), imag_range=(-2, 2)):\n",
    "    real = np.linspace(*real_range, size[0])\n",
    "    imag = np.linspace(*imag_range, size[1]) * 1j\n",
    "    \n",
    "    rr, ii = np.meshgrid(real, imag)\n",
    "    return rr + ii\n",
    "\n",
    "grid = make_grid(size=(5, 3), real_range=(-2, 2), imag_range=(-1, 1))\n",
    "print(grid)"
   ]
  },
  {
   "cell_type": "code",
   "execution_count": null,
   "id": "43cb65fc-0959-4173-843b-4310db3b56d5",
   "metadata": {},
   "outputs": [],
   "source": [
    "def sequence(grid, c, maxit=20, escape=2.0):\n",
    "    narray = np.zeros(grid.shape, dtype=int)\n",
    "    for it in range(maxit):\n",
    "        grid = grid**2 + c\n",
    "        narray = np.where(np.abs(grid) > escape, it, narray)\n",
    "    return narray / np.max(narray)\n",
    "    "
   ]
  },
  {
   "cell_type": "code",
   "execution_count": null,
   "id": "5f454fba-792c-4597-83c8-cbafcebb57fd",
   "metadata": {},
   "outputs": [],
   "source": [
    "x = np.array([1, 2, 3, 4, 5])\n",
    "# nahradme vsechna cisla vetsi nez 3 nulou\n",
    "np.where(x > 3, 0, x) # np.where(condition, succes, otherwise)"
   ]
  },
  {
   "cell_type": "code",
   "execution_count": null,
   "id": "2d90f0f2-1141-4d52-b1eb-38b5662de26a",
   "metadata": {},
   "outputs": [],
   "source": [
    "grid = make_grid()\n",
    "result = sequence(grid, c=-1)"
   ]
  },
  {
   "cell_type": "code",
   "execution_count": null,
   "id": "83d5bb2b-52d4-4859-b0c6-5a2cda9cf9e0",
   "metadata": {},
   "outputs": [],
   "source": [
    "import matplotlib.pyplot as plt\n",
    "\n",
    "def plot(result, cmap=\"gray\"):\n",
    "    fig = plt.figure()\n",
    "    ax = fig.add_subplot(111)\n",
    "    ax.imshow(result, cmap=cmap)\n",
    "    ax.set_axis_off()\n",
    "    plt.show()"
   ]
  },
  {
   "cell_type": "code",
   "execution_count": null,
   "id": "a4cef73a-fdd3-4773-913b-a94af0395638",
   "metadata": {},
   "outputs": [],
   "source": [
    "grid = make_grid()\n",
    "result = sequence(grid, c=-1, maxit=60, escape=0.)\n",
    "plot(result, cmap='plasma')"
   ]
  },
  {
   "cell_type": "code",
   "execution_count": null,
   "id": "10be3c6c-797a-4a70-91ac-543e3bb8d545",
   "metadata": {},
   "outputs": [],
   "source": []
  },
  {
   "cell_type": "code",
   "execution_count": null,
   "id": "6939f341-8551-4dec-b6d9-34a80e6258eb",
   "metadata": {},
   "outputs": [],
   "source": [
    "c=np.pi/10\n",
    "c=-0.75+0.4j, cmap=\"Greens_r\" # romanesco\n",
    "# ulozit do obrazku - nazev, ext, dpi"
   ]
  },
  {
   "cell_type": "code",
   "execution_count": null,
   "id": "f8dd8df6-56ca-4343-8cd5-9a3ae09ff7a1",
   "metadata": {},
   "outputs": [],
   "source": [
    "import numpy as np\n",
    "import matplotlib.pyplot as plt\n",
    "\n",
    "def make_grid(size=(1000, 1000), real_range=(-2, 2), imag_range=(-2, 2)):\n",
    "    real = np.linspace(*real_range, size[0])\n",
    "    imag = np.linspace(*imag_range, size[1]) * 1j\n",
    "    \n",
    "    rr, ii = np.meshgrid(real, imag)\n",
    "    return rr + ii\n",
    "\n",
    "def sequence(grid, c, maxit=20, escape=2.0):\n",
    "    narray = np.zeros(grid.shape, dtype=int)\n",
    "    for it in range(maxit):\n",
    "        grid = grid**2 + c\n",
    "        narray = np.where(np.abs(grid) > escape, it, narray)\n",
    "    return narray / np.max(narray)\n",
    "\n",
    "def plot(result, cmap=\"gray\"):\n",
    "    fig = plt.figure()\n",
    "    ax = fig.add_subplot(111)\n",
    "    ax.imshow(result, cmap=cmap)\n",
    "    ax.set_axis_off()\n",
    "    plt.show()"
   ]
  },
  {
   "cell_type": "code",
   "execution_count": null,
   "id": "d801be25-90a2-499d-b9a7-a733e10c71a8",
   "metadata": {},
   "outputs": [],
   "source": [
    "grid = make_grid(real_range=(-.3, .3), imag_range=(0.1,0.5))\n",
    "result = sequence(grid, c=-1, maxit=60, escape=0.)\n",
    "plot(result, cmap='plasma')"
   ]
  },
  {
   "cell_type": "code",
   "execution_count": null,
   "id": "3bdc369f-44ca-45dd-b244-521e3e70f628",
   "metadata": {},
   "outputs": [],
   "source": [
    "import numpy as np\n",
    "import matplotlib.pyplot as plt\n",
    "\n",
    "def make_grid(size=(1000, 1000), real_range=(-2, 2), imag_range=(-2, 2)):\n",
    "    real = np.linspace(*real_range, size[0])\n",
    "    imag = np.linspace(*imag_range, size[1]) * 1j\n",
    "    \n",
    "    rr, ii = np.meshgrid(real, imag)\n",
    "    return rr + ii\n",
    "\n",
    "def sequence(grid, c, maxit=20, escape=2.0):\n",
    "    narray = np.zeros(grid.shape, dtype=int)\n",
    "    for it in range(maxit):\n",
    "        grid = grid**2 + c\n",
    "        narray = np.where(np.abs(grid) > escape, it, narray)\n",
    "    return narray / np.max(narray)\n",
    "\n",
    "def plot(filename, result, cmap=\"gray\", dpi=100, figsize=(5, 5)):\n",
    "    fig = plt.figure(figsize=figsize, dpi=dpi)\n",
    "    ax = fig.add_subplot(111)\n",
    "    ax.imshow(result, cmap=cmap)\n",
    "    ax.set_axis_off()\n",
    "    fig.savefig(filename, dpi=dpi)\n",
    "    # plt.show()"
   ]
  },
  {
   "cell_type": "code",
   "execution_count": null,
   "id": "8f6be8d7-d423-4e42-a5a1-c4947334167b",
   "metadata": {},
   "outputs": [],
   "source": [
    "grid = make_grid(size=(2250, 2250))\n",
    "img = sequence(grid, c=-0.75+0.4j, maxit=100, escape=2.0)\n",
    "plot(\"romanesco.png\", img, \"Greens_r\", dpi=450)"
   ]
  },
  {
   "cell_type": "code",
   "execution_count": null,
   "id": "84c84da4-e64f-4300-b5d4-396aec181d00",
   "metadata": {},
   "outputs": [],
   "source": [
    "Nakreslete graf funkci y = x^2- 3, y=cos(x), carovy graf, cerna cara, s legendou.\n",
    "dva grafy pod sebou v jednom obrazku (dva radky a jeden sloupec)\n",
    "popiste osu x i osu y a pojmenujte graf (fig.suptitle(\"title\"))"
   ]
  },
  {
   "cell_type": "code",
   "execution_count": null,
   "id": "c9aa1e04-0915-4953-95a5-842152aca551",
   "metadata": {},
   "outputs": [],
   "source": [
    "import numpy as np\n",
    "import matplotlib.pyplot as plt\n",
    "\n",
    "x1 = np.linspace(-4, 4, 100)\n",
    "f1 = x1**2 - 3\n",
    "\n",
    "x2 = np.linspace(-np.pi, np.pi, 200)\n",
    "f2 = np.cos(x2)"
   ]
  },
  {
   "cell_type": "code",
   "execution_count": null,
   "id": "fbcc6c81-679c-4982-b840-9327ebcd56ff",
   "metadata": {},
   "outputs": [],
   "source": [
    "fig = plt.figure(figsize=(3, 5))\n",
    "ax1 = fig.add_subplot(211)\n",
    "ax2 = fig.add_subplot(212)\n",
    "\n",
    "ax1.plot(x1, f1, color=\"black\", label=\"$x^2 - 3$\")\n",
    "ax1.set_xlabel(\"x\")\n",
    "ax1.set_ylabel(\"y\")\n",
    "ax1.set_title(\"parabola\")\n",
    "ax1.legend()\n",
    "\n",
    "ax2.plot(x2, f2, color=\"black\", label=\"$\\cos(x)$\")\n",
    "ax2.set_xlabel(\"x\")\n",
    "ax2.set_ylabel(\"y\")\n",
    "ax2.set_title(\"goniometricka funkce\")\n",
    "ax2.legend(loc=\"upper right\")\n",
    "\n",
    "plt.tight_layout()\n",
    "\n",
    "plt.show()"
   ]
  }
 ],
 "metadata": {
  "kernelspec": {
   "display_name": "Python 3 (ipykernel)",
   "language": "python",
   "name": "python3"
  },
  "language_info": {
   "codemirror_mode": {
    "name": "ipython",
    "version": 3
   },
   "file_extension": ".py",
   "mimetype": "text/x-python",
   "name": "python",
   "nbconvert_exporter": "python",
   "pygments_lexer": "ipython3",
   "version": "3.10.12"
  }
 },
 "nbformat": 4,
 "nbformat_minor": 5
}
