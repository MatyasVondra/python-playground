{
 "cells": [
  {
   "cell_type": "markdown",
   "id": "1410498a-7ec8-46f4-b555-d0ce20ec85ba",
   "metadata": {},
   "source": [
    "# Markdown"
   ]
  },
  {
   "cell_type": "code",
   "execution_count": 1,
   "id": "e5d42626-2db9-4c9c-88ef-70ba3daa3039",
   "metadata": {},
   "outputs": [
    {
     "name": "stdout",
     "output_type": "stream",
     "text": [
      "Requirement already satisfied: bs4 in /Library/Frameworks/Python.framework/Versions/3.11/lib/python3.11/site-packages (0.0.1)\n",
      "Requirement already satisfied: beautifulsoup4 in /Library/Frameworks/Python.framework/Versions/3.11/lib/python3.11/site-packages (from bs4) (4.12.2)\n",
      "Requirement already satisfied: soupsieve>1.2 in /Library/Frameworks/Python.framework/Versions/3.11/lib/python3.11/site-packages (from beautifulsoup4->bs4) (2.5)\n",
      "\n",
      "\u001b[1m[\u001b[0m\u001b[34;49mnotice\u001b[0m\u001b[1;39;49m]\u001b[0m\u001b[39;49m A new release of pip is available: \u001b[0m\u001b[31;49m23.3.1\u001b[0m\u001b[39;49m -> \u001b[0m\u001b[32;49m23.3.2\u001b[0m\n",
      "\u001b[1m[\u001b[0m\u001b[34;49mnotice\u001b[0m\u001b[1;39;49m]\u001b[0m\u001b[39;49m To update, run: \u001b[0m\u001b[32;49mpip install --upgrade pip\u001b[0m\n"
     ]
    }
   ],
   "source": [
    "!pip3 install bs4"
   ]
  },
  {
   "cell_type": "code",
   "execution_count": 2,
   "id": "f8750234-1da4-42ec-ab0d-dd286e87a0a0",
   "metadata": {},
   "outputs": [
    {
     "name": "stdout",
     "output_type": "stream",
     "text": [
      "Requirement already satisfied: lxml in /Library/Frameworks/Python.framework/Versions/3.11/lib/python3.11/site-packages (5.0.1)\n",
      "\n",
      "\u001b[1m[\u001b[0m\u001b[34;49mnotice\u001b[0m\u001b[1;39;49m]\u001b[0m\u001b[39;49m A new release of pip is available: \u001b[0m\u001b[31;49m23.3.1\u001b[0m\u001b[39;49m -> \u001b[0m\u001b[32;49m23.3.2\u001b[0m\n",
      "\u001b[1m[\u001b[0m\u001b[34;49mnotice\u001b[0m\u001b[1;39;49m]\u001b[0m\u001b[39;49m To update, run: \u001b[0m\u001b[32;49mpip install --upgrade pip\u001b[0m\n"
     ]
    }
   ],
   "source": [
    "!pip3 install lxml"
   ]
  },
  {
   "cell_type": "code",
   "execution_count": 3,
   "id": "9ca56773-d0fc-4e00-b3ea-23067666e22d",
   "metadata": {},
   "outputs": [],
   "source": [
    "from bs4 import BeautifulSoup\n",
    "import requests\n",
    "import lxml"
   ]
  },
  {
   "cell_type": "code",
   "execution_count": 4,
   "id": "ec5f1d99-4e89-48dd-b044-8fb7687dce9e",
   "metadata": {},
   "outputs": [],
   "source": [
    "url = \"https://vaclav-alt.github.io/data/index.html\""
   ]
  },
  {
   "cell_type": "code",
   "execution_count": 5,
   "id": "972fff88-406d-4600-ba6a-f24e1c6daad0",
   "metadata": {},
   "outputs": [
    {
     "name": "stdout",
     "output_type": "stream",
     "text": [
      "OK\n"
     ]
    }
   ],
   "source": [
    "res = requests.get(url)\n",
    "if res.status_code == 200:\n",
    "    webpage = res.content\n",
    "    print(\"OK\")"
   ]
  },
  {
   "cell_type": "code",
   "execution_count": 6,
   "id": "b23ef61b-090e-40e1-b72e-fced42ad0a7f",
   "metadata": {},
   "outputs": [
    {
     "name": "stdout",
     "output_type": "stream",
     "text": [
      "2020-10-01\n",
      "2020-10-02\n",
      "2020-10-03\n",
      "2020-10-04\n",
      "2020-10-05\n",
      "2020-10-06\n",
      "2020-10-07\n",
      "2020-10-08\n",
      "2020-10-09\n",
      "2020-10-10\n",
      "2020-10-11\n",
      "2020-10-12\n",
      "2020-10-13\n",
      "2020-10-14\n",
      "2020-10-15\n",
      "2020-10-16\n",
      "2020-10-17\n",
      "2020-10-18\n",
      "2020-10-19\n",
      "2020-10-20\n",
      "2020-10-21\n",
      "2020-10-22\n",
      "2020-10-23\n",
      "2020-10-24\n",
      "2020-10-25\n",
      "2020-10-26\n",
      "2020-10-27\n",
      "2020-10-28\n",
      "2020-10-29\n",
      "2020-10-30\n",
      "2020-10-31\n"
     ]
    }
   ],
   "source": [
    "soup = BeautifulSoup(webpage, 'lxml')\n",
    "\n",
    "for table in soup.find_all(\"table\"):\n",
    "    print(table.caption.string)"
   ]
  },
  {
   "cell_type": "code",
   "execution_count": null,
   "id": "5c8a3c0f-d7c6-4d7f-aa5b-f20a8d219fb7",
   "metadata": {},
   "outputs": [],
   "source": []
  }
 ],
 "metadata": {
  "kernelspec": {
   "display_name": "Python 3 (ipykernel)",
   "language": "python",
   "name": "python3"
  },
  "language_info": {
   "codemirror_mode": {
    "name": "ipython",
    "version": 3
   },
   "file_extension": ".py",
   "mimetype": "text/x-python",
   "name": "python",
   "nbconvert_exporter": "python",
   "pygments_lexer": "ipython3",
   "version": "3.11.6"
  }
 },
 "nbformat": 4,
 "nbformat_minor": 5
}
