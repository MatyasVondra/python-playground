{
 "cells": [
  {
   "cell_type": "code",
   "execution_count": 91,
   "id": "d732ed40-6f0a-4b29-9897-696a6798f7b1",
   "metadata": {},
   "outputs": [],
   "source": [
    "operator1 = Operator()\n",
    "karel = Telefon(\"4044\", operator1)\n",
    "pavla = Telefon(\"3022\", operator1)\n",
    "karel.posli_sms(\"3022\", \"Ahoj, jak se mas?\")\n",
    "pavla.posli_sms(\"4044\", \"Ahoj, dobre a ty?\")\n",
    "pavla.posli_sms(\"4046\", \"Vse ok?\")"
   ]
  },
  {
   "cell_type": "code",
   "execution_count": 92,
   "id": "64dbfb7b-18ea-4ba7-8fbd-52db872c6d4d",
   "metadata": {},
   "outputs": [
    {
     "name": "stdout",
     "output_type": "stream",
     "text": [
      "--------------\n",
      " Odeslane SMS\n",
      "***\n",
      " CISLO: 3022\n",
      " Ahoj, jak se mas?\n"
     ]
    }
   ],
   "source": [
    "print(karel.odeslane_SMS())"
   ]
  },
  {
   "cell_type": "code",
   "execution_count": 94,
   "id": "8b52a4ea-b3c4-40a7-b1c7-a8472f198292",
   "metadata": {},
   "outputs": [
    {
     "name": "stdout",
     "output_type": "stream",
     "text": [
      "--------------\n",
      " Prijate SMS\n",
      "***\n",
      " CISLO: 3022\n",
      " Ahoj, dobre a ty?\n"
     ]
    }
   ],
   "source": [
    "print(karel.prijate_SMS())"
   ]
  },
  {
   "cell_type": "code",
   "execution_count": 89,
   "id": "55b7b06d-a31e-44e2-b03f-afbee88f7f13",
   "metadata": {},
   "outputs": [
    {
     "name": "stdout",
     "output_type": "stream",
     "text": [
      "--------------\n",
      " Odeslane SMS\n",
      "***\n",
      " CISLO: 4044\n",
      " Ahoj, dobre a ty?\n",
      "***\n",
      " CISLO: 4046\n",
      " Vse ok?\n"
     ]
    }
   ],
   "source": [
    "print(pavla.odeslane_SMS())"
   ]
  },
  {
   "cell_type": "code",
   "execution_count": 95,
   "id": "4af70593-8044-4c9e-a588-35ebda88e093",
   "metadata": {},
   "outputs": [
    {
     "name": "stdout",
     "output_type": "stream",
     "text": [
      "--------------\n",
      " Prijate SMS\n",
      "***\n",
      " CISLO: 4044\n",
      " Ahoj, jak se mas?\n",
      "***\n",
      " CISLO: Operator\n",
      " Zprava na číslo 4046 nebyla dorucena\n"
     ]
    }
   ],
   "source": [
    "print(pavla.prijate_SMS())"
   ]
  },
  {
   "cell_type": "code",
   "execution_count": 90,
   "id": "4c091dc2-b024-40ad-84e7-b1315a6e308e",
   "metadata": {},
   "outputs": [],
   "source": [
    "class Telefon:    \n",
    "    def __init__(self, cislo: str, operator: Operator):\n",
    "        self.cislo = cislo\n",
    "        self.operator = operator\n",
    "        self.operator.telefony[cislo] = self\n",
    "        self._odeslane_sms = []\n",
    "        self._prijate_sms = []\n",
    "\n",
    "    def me_cislo(self):\n",
    "        return self.cislo\n",
    "\n",
    "    def posli_sms(self, recipient:str, message:str):\n",
    "        self._odeslane_sms.append({'number': recipient, 'message': message})\n",
    "        self.operator.send_message(self.cislo, recipient, message)\n",
    "        \n",
    "    def prijmi_sms(self, sender:str, message:str):\n",
    "        self._prijate_sms.append({'number': sender, 'message': message})\n",
    "\n",
    "    def odeslane_SMS(self):\n",
    "        header = f\"--------------\\n Odeslane SMS\"\n",
    "        for item in self._odeslane_sms:\n",
    "            header += self.format_message(item)\n",
    "        return header\n",
    "\n",
    "    def prijate_SMS(self):\n",
    "        header = f\"--------------\\n Prijate SMS\"\n",
    "        for item in self._prijate_sms:\n",
    "            header += self.format_message(item)\n",
    "        return header\n",
    "\n",
    "    def format_message(self, message_dict: dict):\n",
    "        return f\"\\n***\\n CISLO: {message_dict['number']}\\n {message_dict['message']}\""
   ]
  },
  {
   "cell_type": "code",
   "execution_count": 47,
   "id": "1fb5abfd-30ca-401a-aa47-8249864fb280",
   "metadata": {},
   "outputs": [],
   "source": [
    "class Operator:\n",
    "    def __init__(self):\n",
    "        self.telefony = {}\n",
    "        self.operator_telefon = Telefon(\"Operator\", self)\n",
    "        self.telefony['Operator'] = self.operator_telefon\n",
    "    \n",
    "    def send_message(self, sender: str, recipient: str, message: str):\n",
    "        if recipient in self.telefony.keys():\n",
    "            recipient_object = self.telefony[recipient]\n",
    "            recipient_object.prijmi_sms(sender, message)\n",
    "        else:\n",
    "            not_delivered = f\"Zprava na číslo {recipient} nebyla dorucena\"\n",
    "            self.operator_telefon.posli_sms(sender, not_delivered)\n"
   ]
  }
 ],
 "metadata": {
  "kernelspec": {
   "display_name": "Python 3 (ipykernel)",
   "language": "python",
   "name": "python3"
  },
  "language_info": {
   "codemirror_mode": {
    "name": "ipython",
    "version": 3
   },
   "file_extension": ".py",
   "mimetype": "text/x-python",
   "name": "python",
   "nbconvert_exporter": "python",
   "pygments_lexer": "ipython3",
   "version": "3.11.6"
  }
 },
 "nbformat": 4,
 "nbformat_minor": 5
}
