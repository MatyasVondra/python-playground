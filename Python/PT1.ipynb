{
 "cells": [
  {
   "cell_type": "markdown",
   "id": "66dcdee3-81ce-4046-a9a8-0abcfa859c0c",
   "metadata": {},
   "source": [
    "## 1 Protivirova ochrana"
   ]
  },
  {
   "cell_type": "code",
   "execution_count": 139,
   "id": "17d20457-eeb8-4662-8f8a-10531b0194d3",
   "metadata": {},
   "outputs": [],
   "source": [
    "bad_keywords = [\"virus\", \"malware\"]\n",
    "good_keywords = [\"antivirus\", \"antimalware\"]\n",
    "\n",
    "def is_file_safe(file:str) -> bool:\n",
    "    is_there_malware = any([ (bk in file) for bk in bad_keywords ])\n",
    "    is_there_anti = any([ (gk in file) for gk in good_keywords ])\n",
    "\n",
    "    if is_there_anti:\n",
    "        return True\n",
    "    elif is_there_malware:\n",
    "        return False\n",
    "    else:\n",
    "        return True\n",
    "    \n",
    "\n",
    "def remove_virus(files: str) -> str:\n",
    "    prefix = files[:10]\n",
    "    if prefix != \"PC Files: \":\n",
    "        raise ValueError(\"Incorrect format\")\n",
    "\n",
    "    raw_input = files[len(prefix):]\n",
    "    files_list = raw_input.split(\",\")\n",
    "    keep_indexes = [ is_file_safe(file) for file in files_list ]\n",
    "\n",
    "    return \"PC Files: \" + \", \".join([file for file, is_safe in zip(files_list, keep_indexes) if is_safe ])"
   ]
  },
  {
   "cell_type": "code",
   "execution_count": 140,
   "id": "ba0990ff-6dc8-4623-908a-f0cca6f66dfa",
   "metadata": {},
   "outputs": [
    {
     "data": {
      "text/plain": [
       "'PC Files: antivirus.exe,  teamssetup.exe'"
      ]
     },
     "execution_count": 140,
     "metadata": {},
     "output_type": "execute_result"
    }
   ],
   "source": [
    "remove_virus(\n",
    "\"PC Files: antivirus.exe, teamssetup.exe, virus.exe, some_sketchy_malware_stuff.msi\"\n",
    ")"
   ]
  },
  {
   "cell_type": "markdown",
   "id": "2dbc7e64-efcb-4ac0-ab93-2649c4487717",
   "metadata": {},
   "source": [
    "## Knizka"
   ]
  },
  {
   "cell_type": "code",
   "execution_count": 109,
   "id": "242921f9-7c22-4e2e-8d3e-5345ee1dad97",
   "metadata": {},
   "outputs": [],
   "source": [
    "import numpy\n",
    "\n",
    "def nearest_chapter(book: dict, page: int) -> str:\n",
    "    dist_dict = {}\n",
    "    for key, val in book.items():\n",
    "        dist_dict[key] = numpy.absolute(val-page)\n",
    "\n",
    "    # Pardon, ale funguje to :) \n",
    "    for key1, val1 in dist_dict.items():\n",
    "        for key2, val2 in dist_dict.items():\n",
    "            if val1 == val2 and key1 != key2:\n",
    "                dist_dict[key1] = dist_dict[key1] + 1\n",
    "\n",
    "    return(min(dist_dict, key=dist_dict.get))"
   ]
  },
  {
   "cell_type": "code",
   "execution_count": 110,
   "id": "5bba14de-cfb9-4158-9d0b-9d5d1dae3e46",
   "metadata": {},
   "outputs": [
    {
     "name": "stdout",
     "output_type": "stream",
     "text": [
      "Roast Mutton\n",
      "A Short Rest\n",
      "Riddles in the Dark\n"
     ]
    }
   ],
   "source": [
    "the_hobbit = {\n",
    "\"An Unexpected Party\": 1,\n",
    "\"Roast Mutton\": 31,\n",
    "\"A Short Rest\": 45,\n",
    "\"Over Hill and Under Hill\": 69,\n",
    "\"Riddles in the Dark\": 88\n",
    "}\n",
    "print(nearest_chapter(the_hobbit, 16))\n",
    "print(nearest_chapter(the_hobbit, 46))\n",
    "print(nearest_chapter(the_hobbit, 100))"
   ]
  },
  {
   "cell_type": "markdown",
   "id": "6aaa827d-db13-4327-ac5f-31af5178fcec",
   "metadata": {},
   "source": [
    "# 3 Razeni dat"
   ]
  },
  {
   "cell_type": "code",
   "execution_count": 102,
   "id": "71d7a479-2baa-441c-b1d4-53ea9158ee38",
   "metadata": {},
   "outputs": [],
   "source": [
    "from datetime import datetime\n",
    "\n",
    "def sort_dates(dates: list[str], ascending: bool=True) -> list[str]:\n",
    "    parsed_dates = [ datetime.strptime(date, \"%d-%m-%Y_%H:%M\") for date in dates ]\n",
    "\n",
    "    output = []\n",
    "    if ascending:\n",
    "        sorted_list = sorted(parsed_dates)\n",
    "        output.extend( [ date.strftime(\"%d-%m-%Y_%H:%M\") for date in sorted_list ] )\n",
    "    else:\n",
    "        reversed_list = sorted(parsed_dates)[::-1]\n",
    "        output.extend( [ date.strftime(\"%d-%m-%Y_%H:%M\") for date in reversed_list ] )\n",
    "    return output        "
   ]
  },
  {
   "cell_type": "code",
   "execution_count": 103,
   "id": "f8e01593-8326-4687-a49e-abdcbd0498a7",
   "metadata": {},
   "outputs": [
    {
     "data": {
      "text/plain": [
       "['10-02-2016_12:30', '10-02-2018_12:15', '10-02-2018_12:30']"
      ]
     },
     "execution_count": 103,
     "metadata": {},
     "output_type": "execute_result"
    }
   ],
   "source": [
    "sort_dates([\"10-02-2018_12:30\", \"10-02-2016_12:30\", \"10-02-2018_12:15\"])"
   ]
  },
  {
   "cell_type": "code",
   "execution_count": 104,
   "id": "a57a2bb0-bc8f-4d69-9577-e1f208dcae8a",
   "metadata": {},
   "outputs": [
    {
     "data": {
      "text/plain": [
       "['10-02-2018_12:30', '10-02-2018_12:15', '10-02-2016_12:30']"
      ]
     },
     "execution_count": 104,
     "metadata": {},
     "output_type": "execute_result"
    }
   ],
   "source": [
    "sort_dates([\"10-02-2018_12:30\", \"10-02-2016_12:30\", \"10-02-2018_12:15\"], ascending=False)"
   ]
  },
  {
   "cell_type": "code",
   "execution_count": 105,
   "id": "ec237240-d87c-400e-913f-1131d9813cf8",
   "metadata": {},
   "outputs": [
    {
     "data": {
      "text/plain": [
       "['01-01-1999_00:55', '09-02-2000_10:03', '10-02-2000_18:29']"
      ]
     },
     "execution_count": 105,
     "metadata": {},
     "output_type": "execute_result"
    }
   ],
   "source": [
    "sort_dates([\"09-02-2000_10:03\", \"10-02-2000_18:29\", \"01-01-1999_00:55\"], ascending=True)"
   ]
  },
  {
   "cell_type": "markdown",
   "id": "c06bd7bd-43a2-41c1-a516-7583a99d5d32",
   "metadata": {},
   "source": [
    "# 4 Hamming distance"
   ]
  },
  {
   "cell_type": "code",
   "execution_count": 98,
   "id": "bd6dd65b-e7b6-4c1c-a5fa-0535b0c9298a",
   "metadata": {},
   "outputs": [],
   "source": [
    "def hamming_distance(str1: str, str2: str) -> int:\n",
    "    if len(str1) != len(str2):\n",
    "        raise ValueError(\"Inputs are not of same length\")\n",
    "\n",
    "    dist = 0\n",
    "    for val1, val2 in zip(str1, str2):\n",
    "        if val1 != val2:\n",
    "            dist += 1\n",
    "\n",
    "    return dist"
   ]
  },
  {
   "cell_type": "code",
   "execution_count": 99,
   "id": "09b67641-f9b2-4bf9-bf12-050b64a2654c",
   "metadata": {},
   "outputs": [
    {
     "data": {
      "text/plain": [
       "1"
      ]
     },
     "execution_count": 99,
     "metadata": {},
     "output_type": "execute_result"
    }
   ],
   "source": [
    "hamming_distance(\"abcde\", \"bbcde\")"
   ]
  },
  {
   "cell_type": "code",
   "execution_count": 100,
   "id": "4c288da0-fdf7-441a-b2c4-575446133ff3",
   "metadata": {},
   "outputs": [
    {
     "data": {
      "text/plain": [
       "0"
      ]
     },
     "execution_count": 100,
     "metadata": {},
     "output_type": "execute_result"
    }
   ],
   "source": [
    "hamming_distance(\"abcde\", \"abcde\")"
   ]
  },
  {
   "cell_type": "code",
   "execution_count": 101,
   "id": "7a2d1213-a31a-4271-b26d-09913558c002",
   "metadata": {},
   "outputs": [
    {
     "data": {
      "text/plain": [
       "5"
      ]
     },
     "execution_count": 101,
     "metadata": {},
     "output_type": "execute_result"
    }
   ],
   "source": [
    "hamming_distance(\"abcde\", \"bcdef\")"
   ]
  },
  {
   "cell_type": "code",
   "execution_count": null,
   "id": "4acddcd9-e94a-4f70-811d-163f95354e86",
   "metadata": {},
   "outputs": [],
   "source": []
  }
 ],
 "metadata": {
  "kernelspec": {
   "display_name": "Python 3 (ipykernel)",
   "language": "python",
   "name": "python3"
  },
  "language_info": {
   "codemirror_mode": {
    "name": "ipython",
    "version": 3
   },
   "file_extension": ".py",
   "mimetype": "text/x-python",
   "name": "python",
   "nbconvert_exporter": "python",
   "pygments_lexer": "ipython3",
   "version": "3.11.6"
  }
 },
 "nbformat": 4,
 "nbformat_minor": 5
}
