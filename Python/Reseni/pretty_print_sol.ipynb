{
 "cells": [
  {
   "cell_type": "markdown",
   "id": "19778622",
   "metadata": {},
   "source": [
    "# Pretty print slovniku"
   ]
  },
  {
   "cell_type": "code",
   "execution_count": null,
   "id": "2ab9fc48",
   "metadata": {},
   "outputs": [],
   "source": [
    "def pretty_print(d, indent = 0, c = \"\\t\"):\n",
    "    white = indent * c\n",
    "    for key, val in d.items():\n",
    "        if type(val) == dict:\n",
    "            print(white + \"{}: {{\".format(key))\n",
    "            pretty_print(val, indent + 1, c)\n",
    "            print(white + \"}\")\n",
    "        else:\n",
    "            print(white + \"{}: {}\".format(key, val))\n",
    "        \n",
    "d = dict(\n",
    "    jmeno = \"Vaclav\",\n",
    "    prijmeni = \"Alt\",\n",
    "    adresa = dict(\n",
    "        ulice = \"Na Konci\",\n",
    "        cislo = \"1\",\n",
    "        mesto = \"Ricany\"\n",
    "    )\n",
    ")\n",
    "pretty_print(d, 0, \"  \")"
   ]
  }
 ],
 "metadata": {
  "kernelspec": {
   "display_name": "Python 3 (ipykernel)",
   "language": "python",
   "name": "python3"
  },
  "language_info": {
   "codemirror_mode": {
    "name": "ipython",
    "version": 3
   },
   "file_extension": ".py",
   "mimetype": "text/x-python",
   "name": "python",
   "nbconvert_exporter": "python",
   "pygments_lexer": "ipython3",
   "version": "3.10.12"
  }
 },
 "nbformat": 4,
 "nbformat_minor": 5
}
