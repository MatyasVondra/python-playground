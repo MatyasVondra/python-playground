{
 "cells": [
  {
   "cell_type": "markdown",
   "id": "c854293d-7cff-4852-8853-f0cd460c9d78",
   "metadata": {},
   "source": [
    "# Tisk účtenky\n",
    "\n",
    "Napište funkci\n",
    "```python\n",
    "def get_receipt(nakup: dict, width=50) -> str:\n",
    "    ...\n",
    "```\n",
    "která ze slovníku s nákupem vytvoří řetězec s `width` znaků širokou účtenkou následujícího formátu:\n",
    "\n",
    "```python\n",
    "nakup = {\n",
    "    rohliky: 40,\n",
    "    pivo: 1200\n",
    "}\n",
    "\n",
    "receipt = get_receipt(nakup)\n",
    "print(receipt)\n",
    "```\n",
    "```\n",
    "==================== ÚČTENKA =====================\n",
    "rohliky......................................40.00\n",
    "pivo.......................................1200.00\n",
    "--------------------------------------------------\n",
    "Celkem (Kc)\n",
    "                                           1240.00\n",
    "```\n",
    "\n"
   ]
  },
  {
   "cell_type": "code",
   "execution_count": 2,
   "id": "9e53fe42-c14c-41bf-8e97-55b95a6b45d9",
   "metadata": {},
   "outputs": [
    {
     "name": "stdout",
     "output_type": "stream",
     "text": [
      "===== ÚČTENKA ======\n",
      "rohliky........20.00\n",
      "salam..........23.90\n",
      "maslo..........62.50\n",
      "tuřín........1348.00\n",
      "--------------------\n",
      "Celkem (Kč)\n",
      "             1454.40\n"
     ]
    }
   ],
   "source": [
    "def get_receipt(nakup, width=20):\n",
    "    out_str = \" ÚČTENKA \".center(width, \"=\") + \"\\n\"\n",
    "\n",
    "    for key, val in nakup.items():\n",
    "        fill_width = width - len(key)\n",
    "        out_str += f\"{key}{val:.>{fill_width}.2f}\\n\"\n",
    "\n",
    "    out_str += (\n",
    "        f\"{'-':->{width}s}\\n\"\n",
    "        f\"Celkem (Kč)\\n\"\n",
    "        f\"{sum(nakup.values()): >{width}.2f}\"\n",
    "    )\n",
    "    return out_str\n",
    "\n",
    "\n",
    "def main():\n",
    "    nakup = {\n",
    "        \"rohliky\": 20,\n",
    "        \"salam\": 23.9,\n",
    "        \"maslo\": 62.5,\n",
    "        \"tuřín\": 1348\n",
    "    }\n",
    "\n",
    "    print(get_receipt(nakup, 20))\n",
    "\n",
    "\n",
    "if __name__ == \"__main__\":\n",
    "    main()\n"
   ]
  }
 ],
 "metadata": {
  "kernelspec": {
   "display_name": "Python 3 (ipykernel)",
   "language": "python",
   "name": "python3"
  },
  "language_info": {
   "codemirror_mode": {
    "name": "ipython",
    "version": 3
   },
   "file_extension": ".py",
   "mimetype": "text/x-python",
   "name": "python",
   "nbconvert_exporter": "python",
   "pygments_lexer": "ipython3",
   "version": "3.11.6"
  }
 },
 "nbformat": 4,
 "nbformat_minor": 5
}
