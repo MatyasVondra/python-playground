{
 "cells": [
  {
   "cell_type": "markdown",
   "metadata": {},
   "source": [
    "# Valid string - řešení"
   ]
  },
  {
   "cell_type": "code",
   "execution_count": null,
   "metadata": {},
   "outputs": [],
   "source": [
    "def is_valid(instr):\n",
    "    for x in instr:\n",
    "        for f in \"!@#$%^&*()\":\n",
    "            if x == f:\n",
    "                return False\n",
    "    return True\n",
    "\n",
    "is_valid(\"ab$c\")"
   ]
  },
  {
   "cell_type": "code",
   "execution_count": null,
   "metadata": {},
   "outputs": [],
   "source": [
    "def is_valid(instr, forbidden=\"!@#$%^&*()\"):\n",
    "    for f in forbidden:\n",
    "        if f in instr:\n",
    "            return False\n",
    "    return True\n",
    "\n",
    "is_valid(\"abc\", forbidden=\"c\")"
   ]
  }
 ],
 "metadata": {
  "kernelspec": {
   "display_name": "Python 3 (ipykernel)",
   "language": "python",
   "name": "python3"
  },
  "language_info": {
   "codemirror_mode": {
    "name": "ipython",
    "version": 3
   },
   "file_extension": ".py",
   "mimetype": "text/x-python",
   "name": "python",
   "nbconvert_exporter": "python",
   "pygments_lexer": "ipython3",
   "version": "3.10.12"
  }
 },
 "nbformat": 4,
 "nbformat_minor": 4
}
