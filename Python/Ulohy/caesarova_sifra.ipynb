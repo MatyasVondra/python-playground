{
 "cells": [
  {
   "cell_type": "markdown",
   "id": "0e2795cd",
   "metadata": {},
   "source": [
    "# Casesarova šifra\n",
    "\n",
    "Implementujte Caesarovu šifru, která funguje tak, že každý znak nahradí znakem, který je vůči němu v abecedě posunutý o několik míst (budeme tomu říkat `shift`). Implementace by měla mít podobu dvojice funkcí `encode(msg: str, shift: int) -> str` a `decode(msg: str, shift: int) -> str`. Jejich složením byste měli získat původní zprávu. Pro implementaci můžete použít i další funkce, bude-li vám to vyhovovat.\n",
    "\n",
    "Poznámky:\n",
    "\n",
    "1. Zatím předpokládejte, že v kódované zprávě nejsou mezery.\n",
    "2. Omezte se na začátek na malé ascii znaky. Najdete je připravené v modulu `string` v proměnné `ascii_lowercase`, tj. např. `from string import ascii_lowercase`\n",
    "3. Posuny přes okraje abecedy přesmerujte na druhý okraj, tj. při `shift=3` nastane `z -> c`.\n",
    "4. Nezdržujte se ověřováním, zda jsou v původní zprávě pouze ascii znaky a tak podobně, soustřeďte se na jádro problému.\n",
    "\n",
    "## Bonus\n",
    "\n",
    "Implementujte Vigenerovu šifru. Ta je velmi podobná Caesarově šifře, jen každý znak kódované zprávy se posouvá různě. Posun konkrétního znaku je dán polohou znaku v klíči. Příklad\n",
    "\n",
    "```python\n",
    "# příklad z Wiki, ať to nemusíte opisovat\n",
    ">>> vigenere_encode(\"attackatdawn\", key=\"lemon\")\n",
    "lxfopvefrnhr\n",
    "```\n",
    "Znak `a` se posunul o 11 na `l`, protože `l` v klíči je 11 písmenem (počítáno od 0). Znak `t` se posunul o 4 na `x`, protože `e` v klíči je 4. písmenem. Je-li zpráva delší než klíč, používá se klíč pořád dokola.\n",
    "\n",
    "Nápověda: mrkněte do modulu `itertools`, jestli tam náhodou není funkce, která by pomohla s opakování klíče."
   ]
  },
  {
   "cell_type": "code",
   "execution_count": 1,
   "id": "89a335df-143f-4ebd-aa2f-f3ee8dfa25fd",
   "metadata": {},
   "outputs": [],
   "source": [
    "from string import ascii_lowercase"
   ]
  },
  {
   "cell_type": "code",
   "execution_count": 5,
   "id": "112a683b-f9b5-42cc-b990-783538c7100d",
   "metadata": {},
   "outputs": [
    {
     "name": "stdout",
     "output_type": "stream",
     "text": [
      "['a', 'b', 'c', 'd', 'e', 'f', 'g', 'h', 'i', 'j', 'k', 'l', 'm', 'n', 'o', 'p', 'q', 'r', 's', 't', 'u', 'v', 'w', 'x', 'y', 'z']\n"
     ]
    }
   ],
   "source": [
    "print(list(ascii_lowercase))"
   ]
  },
  {
   "cell_type": "code",
   "execution_count": 9,
   "id": "d06e4d78-92f1-4d95-ace4-ad62a4bf33b9",
   "metadata": {},
   "outputs": [],
   "source": [
    "alphabet = list(ascii_lowercase)"
   ]
  },
  {
   "cell_type": "code",
   "execution_count": 27,
   "id": "a97aabc6-920d-4756-a641-4a664235a513",
   "metadata": {},
   "outputs": [],
   "source": [
    "def encode(msg: str, shift: int) -> str:\n",
    "    output = \"\"\n",
    "    for char in list(msg):\n",
    "        new_char_index = alphabet.index(char) + shift\n",
    "        if new_char_index >= len(alphabet):\n",
    "            new_char_index = new_char_index - len(alphabet)\n",
    "        output += alphabet[new_char_index]\n",
    "    return output"
   ]
  },
  {
   "cell_type": "code",
   "execution_count": 40,
   "id": "d2d427aa-08d0-4629-807b-8ab791b4b647",
   "metadata": {},
   "outputs": [],
   "source": [
    "def decode(msg: str, shift: int) -> str:\n",
    "    output = \"\"\n",
    "    for char in list(msg):\n",
    "        new_char_index = alphabet.index(char) - shift\n",
    "        if new_char_index < 0:\n",
    "            new_char_index = len(alphabet) + new_char_index \n",
    "        output += alphabet[new_char_index]\n",
    "    return output"
   ]
  },
  {
   "cell_type": "code",
   "execution_count": 37,
   "id": "140b2527-8a51-42ee-8225-9b0cc84c24ed",
   "metadata": {},
   "outputs": [
    {
     "data": {
      "text/plain": [
       "'ff'"
      ]
     },
     "execution_count": 37,
     "metadata": {},
     "output_type": "execute_result"
    }
   ],
   "source": [
    "encode(\"zz\", 6)"
   ]
  },
  {
   "cell_type": "code",
   "execution_count": 42,
   "id": "25f5ef5f-3205-424e-b8c5-a24c6d9cfedc",
   "metadata": {},
   "outputs": [
    {
     "data": {
      "text/plain": [
       "'zz'"
      ]
     },
     "execution_count": 42,
     "metadata": {},
     "output_type": "execute_result"
    }
   ],
   "source": [
    "decode(\"ff\", 6)"
   ]
  },
  {
   "cell_type": "code",
   "execution_count": null,
   "id": "f8e46826-36c4-4880-b14d-1eadca28c4db",
   "metadata": {},
   "outputs": [],
   "source": []
  }
 ],
 "metadata": {
  "kernelspec": {
   "display_name": "Python 3 (ipykernel)",
   "language": "python",
   "name": "python3"
  },
  "language_info": {
   "codemirror_mode": {
    "name": "ipython",
    "version": 3
   },
   "file_extension": ".py",
   "mimetype": "text/x-python",
   "name": "python",
   "nbconvert_exporter": "python",
   "pygments_lexer": "ipython3",
   "version": "3.11.6"
  }
 },
 "nbformat": 4,
 "nbformat_minor": 5
}
