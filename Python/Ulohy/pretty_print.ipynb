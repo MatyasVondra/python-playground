{
 "cells": [
  {
   "cell_type": "markdown",
   "id": "19778622",
   "metadata": {},
   "source": [
    "# Pretty print slovniku\n",
    "\n",
    "Napište funkci `pretty_print(d)`, která zadaný slovník vytiskne hezky. Tedy například takto:\n",
    "\n",
    "```python\n",
    ">>> d = dict(\n",
    "    jmeno = \"Vaclav\",\n",
    "    prijmeni = \"Alt\",\n",
    "    adresa = dict(\n",
    "        ulice = \"Na Konci\",\n",
    "        cislo = \"1\",\n",
    "        mesto = \"Ricany\"\n",
    "    )\n",
    ")\n",
    "\n",
    ">>> pretty_print(d)\n",
    "jmeno: Vaclav\n",
    "prijmeni: Alt\n",
    "adresa: {\n",
    "  ulice: Na Konci\n",
    "  cislo: 1\n",
    "  mesto: Ricany\n",
    "}\n",
    "```"
   ]
  },
  {
   "cell_type": "code",
   "execution_count": 6,
   "id": "026d8af5",
   "metadata": {},
   "outputs": [],
   "source": [
    "d = dict(\n",
    "    jmeno = \"Vaclav\",\n",
    "    prijmeni = \"Alt\",\n",
    "    adresa = dict(\n",
    "        ulice = \"Na Konci\",\n",
    "        cislo = \"1\",\n",
    "        mesto = \"Ricany\"\n",
    "    )\n",
    ")"
   ]
  },
  {
   "cell_type": "code",
   "execution_count": 16,
   "id": "b74175f2",
   "metadata": {},
   "outputs": [],
   "source": [
    "def pretty_print(d):\n",
    "    {print(f\"{key}: {val}\") for key,val in d.items()}"
   ]
  },
  {
   "cell_type": "code",
   "execution_count": 17,
   "id": "ac0b4b6f",
   "metadata": {},
   "outputs": [
    {
     "name": "stdout",
     "output_type": "stream",
     "text": [
      "jmeno: Vaclav\n",
      "prijmeni: Alt\n",
      "adresa: {'ulice': 'Na Konci', 'cislo': '1', 'mesto': 'Ricany'}\n"
     ]
    }
   ],
   "source": [
    "pretty_print(d)"
   ]
  },
  {
   "cell_type": "code",
   "execution_count": null,
   "id": "797229d4",
   "metadata": {},
   "outputs": [],
   "source": []
  }
 ],
 "metadata": {
  "kernelspec": {
   "display_name": "Python 3 (ipykernel)",
   "language": "python",
   "name": "python3"
  },
  "language_info": {
   "codemirror_mode": {
    "name": "ipython",
    "version": 3
   },
   "file_extension": ".py",
   "mimetype": "text/x-python",
   "name": "python",
   "nbconvert_exporter": "python",
   "pygments_lexer": "ipython3",
   "version": "3.8.6"
  }
 },
 "nbformat": 4,
 "nbformat_minor": 5
}
