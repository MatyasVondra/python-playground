{
 "cells": [
  {
   "cell_type": "markdown",
   "id": "2e319842",
   "metadata": {},
   "source": [
    "# Třídění stažených souborů\n",
    "\n",
    "Napište program, který roztřídí stažené soubory do jednotlivý složek, podle klíče ve slovníku. Uživatel si definuje, jaké typy souborů se přesouvají do jakých složek:\n",
    "```python\n",
    "dirmap = {\n",
    "    \"images\": [\"jpg\", \"jpeg\"],\n",
    "    \"video\": [\"mp4\", \"mkv\"]\n",
    "}\n",
    "```\n",
    "Program tyto složky vytvoří a stažené soubory do nich umístí.\n",
    "\n",
    "Pokyny a tipy:\n",
    "- implementujte *dry run* režim - program ve skutečnosti nic nepřesune\n",
    "- použijte logging\n",
    "- k práci s cestami použijte modul `pathlib`\n",
    "- k přesouvání souborů použijte funkci `shutil.move`\n",
    "- je-li to vhodné, zachyťte případné výjimky\n",
    "- u funkcí používejte type hints a docstrings"
   ]
  }
 ],
 "metadata": {
  "kernelspec": {
   "display_name": "Python 3 (ipykernel)",
   "language": "python",
   "name": "python3"
  },
  "language_info": {
   "codemirror_mode": {
    "name": "ipython",
    "version": 3
   },
   "file_extension": ".py",
   "mimetype": "text/x-python",
   "name": "python",
   "nbconvert_exporter": "python",
   "pygments_lexer": "ipython3",
   "version": "3.10.12"
  }
 },
 "nbformat": 4,
 "nbformat_minor": 5
}
