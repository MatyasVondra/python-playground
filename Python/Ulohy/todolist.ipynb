{
 "cells": [
  {
   "cell_type": "markdown",
   "id": "0e05efb1",
   "metadata": {},
   "source": [
    "# TODO list\n",
    "\n",
    "Napište program, který bude spravovat TODO list. Program bude udržovat seznam ukončených a neukončených úkolů, ale nebude je nikam ukládat (po skončení programu oba seznamy zaniknou). Uživatel bude s programem interagovat pomocí následujících jednopísmenných příkazů, které bude zadávat do příkazové řádky:\n",
    "\n",
    "- c: vytvořit úkol\n",
    "- r: odstranit úkol\n",
    "- f: ukončit úkol\n",
    "- l: vypsat seznam úkolů\n",
    "- h:  zobrazit nápovědu\n",
    "- q: ukončit program\n",
    "\n",
    "Příkazy c, r a f budou vyžadovat ještě argument - obsah úkolu, případně index úkolu, který se má odstranit nebo ukončit. Argument bude uživatel zadávat až po volbě příkazu (viz ukázka použití na konci). Nápověda:\n",
    "\n",
    "- pro čtení uživatelského vstupu použijte funkci `input(prompt)`\n",
    "- program můžete ukončit pomocí `sys.exit(message)` (nutno importovat `sys`). Není to hezké, ale je to snadné. \n",
    "\n",
    "\n",
    "```\n",
    "> c\n",
    "Zadejte nový úkol: vyprat\n",
    "> c\n",
    "Zadejte nový úkol: vynést odpad\n",
    "> l\n",
    "\n",
    "ÚKOLY\n",
    "=====\n",
    "1. vyprat\n",
    "2. vynést odpad\n",
    "\n",
    "> f\n",
    "Zadejte číslo úkolu k ukončení: 1\n",
    "\n",
    "> l \n",
    "\n",
    "ÚKOLY\n",
    "=====\n",
    "1. vynést odpad\n",
    "\n",
    "HOTOVÉ\n",
    "======\n",
    "1. vyprat\n",
    "\n",
    "> r\n",
    "Zadejte číslo úkolu k odstranění: 1\n",
    "\n",
    "> l\n",
    "\n",
    "Žádné úkoly ke splnění\n",
    "\n",
    "HOTOVÉ\n",
    "======\n",
    "1. vyprat\n",
    "\n",
    ">\n",
    "```"
   ]
  },
  {
   "cell_type": "code",
   "execution_count": 2,
   "id": "e9ad4fe9-1bd3-4694-8c48-b74901e9dd87",
   "metadata": {},
   "outputs": [
    {
     "name": "stdin",
     "output_type": "stream",
     "text": [
      "zadej neco:  4\n"
     ]
    },
    {
     "name": "stdout",
     "output_type": "stream",
     "text": [
      "4 <class 'str'>\n"
     ]
    }
   ],
   "source": [
    "a  = input(\"zadej neco: \")\n",
    "print(a, type(a))"
   ]
  },
  {
   "cell_type": "code",
   "execution_count": 3,
   "id": "f8e58580-c1b5-4680-b611-e7a7238ac41b",
   "metadata": {},
   "outputs": [
    {
     "ename": "SystemExit",
     "evalue": "konec",
     "output_type": "error",
     "traceback": [
      "An exception has occurred, use %tb to see the full traceback.\n",
      "\u001b[0;31mSystemExit\u001b[0m\u001b[0;31m:\u001b[0m konec\n"
     ]
    },
    {
     "name": "stderr",
     "output_type": "stream",
     "text": [
      "/data/unicorn/pythonbook/venv/lib/python3.10/site-packages/IPython/core/interactiveshell.py:3534: UserWarning: To exit: use 'exit', 'quit', or Ctrl-D.\n",
      "  warn(\"To exit: use 'exit', 'quit', or Ctrl-D.\", stacklevel=1)\n"
     ]
    }
   ],
   "source": [
    "import sys\n",
    "\n",
    "sys.exit(\"konec\")"
   ]
  },
  {
   "cell_type": "code",
   "execution_count": 2,
   "id": "26b0926f",
   "metadata": {},
   "outputs": [],
   "source": [
    "import sys\n",
    "\n",
    "def todo():\n",
    "    unfinished_tasks = []\n",
    "    finished_tasks = []\n",
    "    \n",
    "    command = input(\"Insert command: \")\n",
    "    \n",
    "    match command.split():\n",
    "        case [\"c\", arg]:\n",
    "            unfinished_tasks.append(arg)\n",
    "        case [\"r\", arg]:\n",
    "            unfinished_tasks.pop(arg)\n",
    "        case [\"f\", arg]:\n",
    "            finished_tasks.append(unfinished_tasks[arg])\n",
    "            unfinished_tasks.pop(arg)\n",
    "        case \"l\":\n",
    "            print(\"Unfinished tasks:\")\n",
    "            {print(ind + task) for ind, task in enumerate(unfinished_tasks)}\n",
    "            print(\"Finished tasks:\")\n",
    "            {print(ind + task) for ind, task in enumerate(finished_tasks)}\n",
    "        case \"h\":\n",
    "            print(\"Help\")\n",
    "        case \"q\":\n",
    "            sys.exit(\"konec\")\n",
    "        case _:\n",
    "            print(f\"unrecognized command {command}\")"
   ]
  },
  {
   "cell_type": "code",
   "execution_count": 3,
   "id": "918e9c44",
   "metadata": {},
   "outputs": [
    {
     "name": "stdin",
     "output_type": "stream",
     "text": [
      "Insert command:  c blabla\n"
     ]
    }
   ],
   "source": [
    "todo()"
   ]
  },
  {
   "cell_type": "code",
   "execution_count": 4,
   "id": "ac3988a4-f2d9-4e15-9a08-8fea5b0318c1",
   "metadata": {},
   "outputs": [
    {
     "name": "stdin",
     "output_type": "stream",
     "text": [
      "Insert command:  l\n"
     ]
    },
    {
     "name": "stdout",
     "output_type": "stream",
     "text": [
      "unrecognized command l\n"
     ]
    }
   ],
   "source": [
    "todo()"
   ]
  },
  {
   "cell_type": "code",
   "execution_count": null,
   "id": "d188f6b5-864b-490b-8b6b-eb6db15886ee",
   "metadata": {},
   "outputs": [],
   "source": []
  }
 ],
 "metadata": {
  "kernelspec": {
   "display_name": "Python 3 (ipykernel)",
   "language": "python",
   "name": "python3"
  },
  "language_info": {
   "codemirror_mode": {
    "name": "ipython",
    "version": 3
   },
   "file_extension": ".py",
   "mimetype": "text/x-python",
   "name": "python",
   "nbconvert_exporter": "python",
   "pygments_lexer": "ipython3",
   "version": "3.11.6"
  }
 },
 "nbformat": 4,
 "nbformat_minor": 5
}
