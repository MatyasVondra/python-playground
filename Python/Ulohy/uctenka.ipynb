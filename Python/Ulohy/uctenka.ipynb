{
 "cells": [
  {
   "cell_type": "markdown",
   "id": "c854293d-7cff-4852-8853-f0cd460c9d78",
   "metadata": {},
   "source": [
    "# Tisk účtenky\n",
    "\n",
    "Napište funkci\n",
    "```python\n",
    "def get_receipt(nakup: dict, width=50) -> str:\n",
    "    ...\n",
    "```\n",
    "která ze slovníku s nákupem vytvoří řetězec s `width` znaků širokou účtenkou následujícího formátu:\n",
    "\n",
    "```python\n",
    "nakup = {\n",
    "    rohliky: 40,\n",
    "    pivo: 1200\n",
    "}\n",
    "\n",
    "receipt = get_receipt(nakup)\n",
    "print(receipt)\n",
    "```\n",
    "```\n",
    "==================== ÚČTENKA =====================\n",
    "rohliky......................................40.00\n",
    "pivo.......................................1200.00\n",
    "--------------------------------------------------\n",
    "Celkem (Kc)\n",
    "                                           1240.00\n",
    "```\n",
    "\n"
   ]
  },
  {
   "cell_type": "code",
   "execution_count": 17,
   "id": "1be134d4-7e8d-483e-a9b3-934014560fec",
   "metadata": {},
   "outputs": [],
   "source": [
    "nakup = {\n",
    "    \"rohliky\": 40,\n",
    "    \"pivo\": 1200\n",
    "}"
   ]
  },
  {
   "cell_type": "code",
   "execution_count": 44,
   "id": "ff3aadfa-ee41-471c-81d6-35dd5ee0fdc9",
   "metadata": {},
   "outputs": [],
   "source": [
    "def get_receipt(nakup: dict, width=50) -> str:\n",
    "    uctenka_const = \"UCTENKA\"\n",
    "    title_buffer = [(\"=\") for i in range(int((50 - len(uctenka_const))/2))]\n",
    "    print((\"\".join(title_buffer)) + uctenka_const + (\"\".join(title_buffer)) + \"=\")\n",
    "    \n",
    "    for key, val in nakup.items():\n",
    "        buffer_len = width - (len(key) + len(str(val)) + 3)\n",
    "        item_buffer = [(\".\") for i in range(buffer_len)]\n",
    "        print(key + (\"\".join(item_buffer)) + str(val) + \".00\")\n",
    "\n",
    "    print(\"\".join([(\"-\") for i in range(width)]))"
   ]
  },
  {
   "cell_type": "code",
   "execution_count": 45,
   "id": "6a7b88a2-483b-4e4e-b97a-825819f56185",
   "metadata": {},
   "outputs": [
    {
     "name": "stdout",
     "output_type": "stream",
     "text": [
      "=====================UCTENKA======================\n",
      "rohliky......................................40.00\n",
      "pivo.......................................1200.00\n",
      "--------------------------------------------------\n"
     ]
    }
   ],
   "source": [
    "get_receipt(nakup)"
   ]
  },
  {
   "cell_type": "code",
   "execution_count": 43,
   "id": "4883a2f9-870e-4b7b-b472-bef9d9c4657e",
   "metadata": {},
   "outputs": [
    {
     "data": {
      "text/plain": [
       "49"
      ]
     },
     "execution_count": 43,
     "metadata": {},
     "output_type": "execute_result"
    }
   ],
   "source": [
    "len(\"=====================UCTENKA=====================\")"
   ]
  },
  {
   "cell_type": "code",
   "execution_count": null,
   "id": "ed8844a3-a3ec-4e62-8700-6af7c42cb7e3",
   "metadata": {},
   "outputs": [],
   "source": []
  }
 ],
 "metadata": {
  "kernelspec": {
   "display_name": "Python 3 (ipykernel)",
   "language": "python",
   "name": "python3"
  },
  "language_info": {
   "codemirror_mode": {
    "name": "ipython",
    "version": 3
   },
   "file_extension": ".py",
   "mimetype": "text/x-python",
   "name": "python",
   "nbconvert_exporter": "python",
   "pygments_lexer": "ipython3",
   "version": "3.11.6"
  }
 },
 "nbformat": 4,
 "nbformat_minor": 5
}
