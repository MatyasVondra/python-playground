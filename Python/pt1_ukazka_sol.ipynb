{
 "cells": [
  {
   "cell_type": "markdown",
   "id": "20b27c43-8e10-415c-a43c-646fef1bb6d8",
   "metadata": {},
   "source": [
    "# MIPY test - ukázka\n",
    "\n",
    "Vytvořte čtyři funkce: `sse`, `lin_model`, `kombinace`, `odhad`\n",
    "\n",
    "1. Funkce `sse` bude počítat sumu čtverců rozdílu (SSE = Sum of Squares Error) mezi prvky dvou kolekcí `x`, `y` délky `n` podle následujícího vzorce:\n",
    "\n",
    "    $$\n",
    "    \\sum_{i=1}^n (x_i-y_i)^2\n",
    "    $$\n",
    "\n",
    "    Tedy `sse(x = [1, 1, 0, 5], y = [2, 3, 1, 6])` navrátí hodnotu `7`.\n",
    "\n",
    "    Tuto funkci implementujte pomocí _list comprehension_.\n",
    "2. Funkce `lin_model` vyčíslí přímku danou parametry `c`, `beta` pro každé číslo v kolekci `x`, tj.\n",
    "\n",
    "    $$\n",
    "    c + \\beta \\cdot x_i,\\ \\textrm{pro }i=1,\\ldots n,\n",
    "    $$\n",
    "\n",
    "   Tedy `lin_model(c=2, beta=-1.2, x=[1, 0, 4, 5, 10])` navrátí kolekci `[0.8, 2.0, -2.8, -4.0, -10.0]`\n",
    "\n",
    "3. Funkce `kombinace` sestaví všechny kombinace konstant $c$ a parametrů $\\beta$ ze zadaných kolekcí. Na vstupu bude pouze kolekce konstant `constants` a kolekce parametrů $\\beta$ `betas`, výstupem bude list listů všech kombinací.\n",
    "\n",
    "    Tedy `kombinace(constants=[1,2,3], betas=[2,5,7])` navrátí `[[1, 2], [1, 5], [1, 7], [2, 2], [2, 5], [2, 7], [3, 2], [3, 5], [3, 7]]`\n",
    "\n",
    "4. Funkce `odhad` pro zadané kolekce `x` a `y` otestuje všechny kombinace parametrů $\\beta$ a konstant $c$, které sestaví funkce `kombinace`, a navrátí takovou kombinaci `[c, beta]`, která lineárním modelem `lin_model` na kolekci na datech v `x` nejlépe zreprodukuje data v `y`, měřeno funkcí `sse` (tj. hodnota `sse(y_lin_model, y)` bude nejmenší). Funkce tedy přijímá čtyři argumenty: `constants`, `betas`, `x`, `y`.\n",
    "\n",
    "    Kromě toho funkce `odhad` ověří, že vstupní kolekce dat `x` a `y` jsou stejné délky a v opačném případě vyvolá vhodnou výjimku.\n",
    "\n",
    "    Funkce `odhad` v bodech:\n",
    "    - Zkontroluje vstupní data.\n",
    "    - Sestaví všechny kombinace bet a konstant pomocí funkce `kombinace`.\n",
    "    - Vloží do funkce `lin_model` každou kombinaci bet a konstant vždy při stejné kolekci `x` a tím získá `y_lin_model`.\n",
    "    - Výsledek získaný z funkce `lin_model` vloží do funkce `sse` spolu s kolekcí y: `sse(y_lin_model, y)`.\n",
    "    - Tiskne průběžně do konzole zpracovávanou kombinaci parametrů a hodnotu SSE. Výstup bude formátovaný do třech bloků, z nichž každý blok bude mít 20 znaků + jeden znak pro ohraničení. V každém bloku bude vlevo popisek a vpravo hodnota zaokrouhlená vždy na 2 desetinná místa.\n",
    "    - Pro zjednodušení neřešte situace, kdy vícero kombinací bude mít stejnou hodnotu `sse`.\n",
    "    - Výstup z funkce `odhad` formátujte jako slovník, v němž budou výstupní parametry a hodnota sse pod příslušnými názvy - viz. ukázkový výstup.\n",
    "\n",
    "Ukázka výstupu z konzole, pro možný vstup `odhad(c = [0,1], beta = [1,2,3], x = [1,1,2,3], y = [1,2,1,12])`:\n",
    "\n",
    "```       \n",
    "| c:            0.00 | beta:         1.00 | sse:         83.00 |\n",
    "| c:            0.00 | beta:         2.00 | sse:         46.00 |\n",
    "| c:            0.00 | beta:         3.00 | sse:         39.00 |\n",
    "| c:            1.00 | beta:         1.00 | sse:         69.00 |\n",
    "| c:            1.00 | beta:         2.00 | sse:         46.00 |\n",
    "| c:            1.00 | beta:         3.00 | sse:         53.00 |\n",
    "{'c': 0, 'beta': 3, 'sse': 39}\n",
    "```"
   ]
  },
  {
   "cell_type": "markdown",
   "id": "6795d097-e73b-42f6-8765-d6a980734672",
   "metadata": {},
   "source": [
    "## 1"
   ]
  },
  {
   "cell_type": "code",
   "execution_count": 19,
   "id": "2970e18e-ed94-403a-b8d6-3e9484c9823e",
   "metadata": {},
   "outputs": [],
   "source": [
    "def sse(x_list : list, y_list: list) -> float:\n",
    "    if len(x_list) != len(y_list):\n",
    "        return 0\n",
    "    return sum([ (x-y)**2 for x, y in zip(x_list, y_list)])"
   ]
  },
  {
   "cell_type": "code",
   "execution_count": 20,
   "id": "e064a187-f137-4827-89b8-9a6b23cb7c8c",
   "metadata": {},
   "outputs": [
    {
     "data": {
      "text/plain": [
       "7"
      ]
     },
     "execution_count": 20,
     "metadata": {},
     "output_type": "execute_result"
    }
   ],
   "source": [
    "sse([1, 1, 0, 5], [2, 3, 1, 6])"
   ]
  },
  {
   "cell_type": "markdown",
   "id": "1ba18a4d-7393-4c94-a4f1-4b3a958c1ff2",
   "metadata": {},
   "source": [
    "## 2"
   ]
  },
  {
   "cell_type": "code",
   "execution_count": 23,
   "id": "a929b996-9bf7-43a7-9ccd-f0ce1dd53b69",
   "metadata": {},
   "outputs": [],
   "source": [
    "def lin_model(c: float, beta: float, x: list) -> list:\n",
    "    output = []\n",
    "    for item in x:\n",
    "        output.append(c + beta * item)\n",
    "    return output"
   ]
  },
  {
   "cell_type": "code",
   "execution_count": 24,
   "id": "1b6d33ab-4bec-4c3b-bf35-837aab5bacc7",
   "metadata": {},
   "outputs": [
    {
     "data": {
      "text/plain": [
       "[0.8, 2.0, -2.8, -4.0, -10.0]"
      ]
     },
     "execution_count": 24,
     "metadata": {},
     "output_type": "execute_result"
    }
   ],
   "source": [
    "lin_model(c=2, beta=-1.2, x=[1, 0, 4, 5, 10])"
   ]
  },
  {
   "cell_type": "markdown",
   "id": "641cb5c1-0525-4949-b34f-3d26f1318b49",
   "metadata": {},
   "source": [
    "## 3"
   ]
  },
  {
   "cell_type": "code",
   "execution_count": 25,
   "id": "72826669-0095-42b4-a53e-7e003c195a4f",
   "metadata": {},
   "outputs": [],
   "source": [
    "def kombinace(constants: list, betas: list) -> list:\n",
    "    output = []\n",
    "    for const in constants:\n",
    "        for beta in betas:\n",
    "            output.append( (const, beta) )\n",
    "\n",
    "    return output"
   ]
  },
  {
   "cell_type": "code",
   "execution_count": 26,
   "id": "b2eee74e-a118-4b1d-a912-43997cc3680d",
   "metadata": {},
   "outputs": [
    {
     "data": {
      "text/plain": [
       "[(1, 2), (1, 5), (1, 7), (2, 2), (2, 5), (2, 7), (3, 2), (3, 5), (3, 7)]"
      ]
     },
     "execution_count": 26,
     "metadata": {},
     "output_type": "execute_result"
    }
   ],
   "source": [
    "kombinace(constants=[1,2,3], betas=[2,5,7])"
   ]
  },
  {
   "cell_type": "markdown",
   "id": "0ba5fcb8-2f59-46dc-b3d8-e61c038c32b0",
   "metadata": {},
   "source": [
    "## 4"
   ]
  },
  {
   "cell_type": "code",
   "execution_count": 42,
   "id": "4c26f6bb-9506-4656-b105-0d3adbcf4a9d",
   "metadata": {},
   "outputs": [],
   "source": [
    "def odhad(c: list, beta: list, x: list, y: list) -> dict:\n",
    "    if len(x) != len(y):\n",
    "        raise ValueError\n",
    "\n",
    "    combos = kombinace(c, beta)\n",
    "    lowest_sse = float('inf') \n",
    "    output = {}\n",
    "    \n",
    "    for combo in combos:\n",
    "        y_lin_model = lin_model(combo[0], combo[1], x)\n",
    "        error = sse(y_lin_model, y)\n",
    "        if error < lowest_sse:\n",
    "            lowest_sse = error\n",
    "            output = {\n",
    "                'c': combo[0],\n",
    "                'beta': combo[1],\n",
    "                'sse': error\n",
    "            }\n",
    "        print( f\"| c:{combo[0]: >{20}.2f} | beta:{combo[1]: >{20}.2f} | sse:{error: >{20}.2f} |\" )\n",
    "\n",
    "    return output"
   ]
  },
  {
   "cell_type": "code",
   "execution_count": 43,
   "id": "1be463d0-d559-4d48-bc56-9dbee8a01d64",
   "metadata": {},
   "outputs": [
    {
     "name": "stdout",
     "output_type": "stream",
     "text": [
      "| c:                0.00 | beta:                1.00 | sse:               83.00 |\n",
      "| c:                0.00 | beta:                2.00 | sse:               46.00 |\n",
      "| c:                0.00 | beta:                3.00 | sse:               39.00 |\n",
      "| c:                1.00 | beta:                1.00 | sse:               69.00 |\n",
      "| c:                1.00 | beta:                2.00 | sse:               46.00 |\n",
      "| c:                1.00 | beta:                3.00 | sse:               53.00 |\n"
     ]
    },
    {
     "data": {
      "text/plain": [
       "{'c': 0, 'beta': 3, 'sse': 39}"
      ]
     },
     "execution_count": 43,
     "metadata": {},
     "output_type": "execute_result"
    }
   ],
   "source": [
    "odhad(c = [0,1], beta = [1,2,3], x = [1,1,2,3], y = [1,2,1,12])"
   ]
  }
 ],
 "metadata": {
  "kernelspec": {
   "display_name": "Python 3 (ipykernel)",
   "language": "python",
   "name": "python3"
  },
  "language_info": {
   "codemirror_mode": {
    "name": "ipython",
    "version": 3
   },
   "file_extension": ".py",
   "mimetype": "text/x-python",
   "name": "python",
   "nbconvert_exporter": "python",
   "pygments_lexer": "ipython3",
   "version": "3.11.6"
  }
 },
 "nbformat": 4,
 "nbformat_minor": 5
}
